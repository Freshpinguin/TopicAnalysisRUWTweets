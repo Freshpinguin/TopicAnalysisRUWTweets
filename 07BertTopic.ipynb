{
 "cells": [
  {
   "cell_type": "code",
   "execution_count": 5,
   "metadata": {},
   "outputs": [],
   "source": [
    "from src.SampleTranslation05.translation_01 import load_samples\n",
    "\n",
    "df = load_samples()"
   ]
  },
  {
   "cell_type": "code",
   "execution_count": 7,
   "metadata": {},
   "outputs": [
    {
     "data": {
      "text/plain": [
       "Index(['Unnamed: 0', 'text', 'translated', 'tweetcreatedts', 'tweetid', 'week',\n",
       "       'cleaned_text_translated', 'cleaned_text', 'lemmas', 'adjs_verbs',\n",
       "       'nouns', 'entities', 'emojis', 'translated_lemmas',\n",
       "       'translated_adjs_verbs', 'translated_nouns', 'translated_entities',\n",
       "       'translated_emojis', 'lang'],\n",
       "      dtype='object')"
      ]
     },
     "execution_count": 7,
     "metadata": {},
     "output_type": "execute_result"
    }
   ],
   "source": [
    "df.columns"
   ]
  },
  {
   "cell_type": "code",
   "execution_count": 47,
   "metadata": {},
   "outputs": [
    {
     "data": {
      "text/plain": [
       "False"
      ]
     },
     "execution_count": 47,
     "metadata": {},
     "output_type": "execute_result"
    }
   ],
   "source": [
    "(df['cleaned_text_translated'].str.len()==0).any()"
   ]
  },
  {
   "cell_type": "code",
   "execution_count": 52,
   "metadata": {},
   "outputs": [],
   "source": [
    "from spacy.lang.de import stop_words as de_stop_words\n",
    "from spacy.lang.ru import stop_words as ru_stop_words\n",
    "from spacy.lang.en import stop_words as en_stop_words\n",
    "from spacy.lang.uk import stop_words as uk_stop_words\n",
    "from spacy.lang.es import stop_words as es_stop_words\n",
    "from spacy.lang.fr import stop_words as fr_stop_words\n",
    "from spacy.lang.it import stop_words as it_stop_words\n",
    "\n",
    "stop_words_list = [de_stop_words, ru_stop_words, es_stop_words, fr_stop_words, it_stop_words, en_stop_words, uk_stop_words]\n",
    "\n",
    "\n",
    "all_stop_words = [words for stop_words in stop_words_list for words in stop_words.STOP_WORDS ]"
   ]
  },
  {
   "cell_type": "code",
   "execution_count": null,
   "metadata": {},
   "outputs": [],
   "source": [
    "from spacy.lang.en import stop_words\n"
   ]
  },
  {
   "cell_type": "code",
   "execution_count": 48,
   "metadata": {},
   "outputs": [
    {
     "name": "stderr",
     "output_type": "stream",
     "text": [
      "2023-12-19 01:25:02,369 - BERTopic - Embedding - Transforming documents to embeddings.\n"
     ]
    },
    {
     "data": {
      "application/vnd.jupyter.widget-view+json": {
       "model_id": "1479debaf0614426b5ac03487dd3b3fb",
       "version_major": 2,
       "version_minor": 0
      },
      "text/plain": [
       "Batches:   0%|          | 0/1532 [00:00<?, ?it/s]"
      ]
     },
     "metadata": {},
     "output_type": "display_data"
    },
    {
     "name": "stderr",
     "output_type": "stream",
     "text": [
      "2023-12-19 01:37:08,298 - BERTopic - Embedding - Completed ✓\n",
      "2023-12-19 01:37:08,299 - BERTopic - Dimensionality - Fitting the dimensionality reduction algorithm\n",
      "2023-12-19 01:37:35,489 - BERTopic - Dimensionality - Completed ✓\n",
      "2023-12-19 01:37:35,493 - BERTopic - Cluster - Start clustering the reduced embeddings\n",
      "huggingface/tokenizers: The current process just got forked, after parallelism has already been used. Disabling parallelism to avoid deadlocks...\n",
      "To disable this warning, you can either:\n",
      "\t- Avoid using `tokenizers` before the fork if possible\n",
      "\t- Explicitly set the environment variable TOKENIZERS_PARALLELISM=(true | false)\n",
      "huggingface/tokenizers: The current process just got forked, after parallelism has already been used. Disabling parallelism to avoid deadlocks...\n",
      "To disable this warning, you can either:\n",
      "\t- Avoid using `tokenizers` before the fork if possible\n",
      "\t- Explicitly set the environment variable TOKENIZERS_PARALLELISM=(true | false)\n",
      "huggingface/tokenizers: The current process just got forked, after parallelism has already been used. Disabling parallelism to avoid deadlocks...\n",
      "To disable this warning, you can either:\n",
      "\t- Avoid using `tokenizers` before the fork if possible\n",
      "\t- Explicitly set the environment variable TOKENIZERS_PARALLELISM=(true | false)\n",
      "huggingface/tokenizers: The current process just got forked, after parallelism has already been used. Disabling parallelism to avoid deadlocks...\n",
      "To disable this warning, you can either:\n",
      "\t- Avoid using `tokenizers` before the fork if possible\n",
      "\t- Explicitly set the environment variable TOKENIZERS_PARALLELISM=(true | false)\n",
      "2023-12-19 01:37:40,435 - BERTopic - Cluster - Completed ✓\n",
      "2023-12-19 01:37:40,449 - BERTopic - Representation - Extracting topics from clusters using representation models.\n",
      "2023-12-19 01:37:42,498 - BERTopic - Representation - Completed ✓\n"
     ]
    }
   ],
   "source": [
    "from bertopic import BERTopic\n",
    "\n",
    "\n",
    "from sklearn.feature_extraction.text import CountVectorizer\n",
    "\n",
    "vectorizer_model = CountVectorizer(stop_words=\"english\")\n",
    "topic_model = BERTopic(verbose=True)\n",
    "topics, probs = topic_model.fit_transform(df['cleaned_text_translated'].astype(str))\n"
   ]
  },
  {
   "cell_type": "code",
   "execution_count": 50,
   "metadata": {},
   "outputs": [
    {
     "data": {
      "text/plain": [
       "{'Main': [('putin', 0.019500043540729917),\n",
       "  ('he', 0.008980597475936197),\n",
       "  ('his', 0.007770230272836407),\n",
       "  ('putins', 0.0057986719141733395),\n",
       "  ('him', 0.005679798605661863),\n",
       "  ('who', 0.00434150467791352),\n",
       "  ('you', 0.004338951888069316),\n",
       "  ('hes', 0.004292080510764549),\n",
       "  ('criminal', 0.004097796129611272),\n",
       "  ('like', 0.004041186011642369)]}"
      ]
     },
     "execution_count": 50,
     "metadata": {},
     "output_type": "execute_result"
    }
   ],
   "source": [
    "topic_model.get_topic(0,full=True)"
   ]
  },
  {
   "cell_type": "code",
   "execution_count": 49,
   "metadata": {},
   "outputs": [
    {
     "data": {
      "text/html": [
       "<div>\n",
       "<style scoped>\n",
       "    .dataframe tbody tr th:only-of-type {\n",
       "        vertical-align: middle;\n",
       "    }\n",
       "\n",
       "    .dataframe tbody tr th {\n",
       "        vertical-align: top;\n",
       "    }\n",
       "\n",
       "    .dataframe thead th {\n",
       "        text-align: right;\n",
       "    }\n",
       "</style>\n",
       "<table border=\"1\" class=\"dataframe\">\n",
       "  <thead>\n",
       "    <tr style=\"text-align: right;\">\n",
       "      <th></th>\n",
       "      <th>Topic</th>\n",
       "      <th>Count</th>\n",
       "      <th>Name</th>\n",
       "      <th>Representation</th>\n",
       "      <th>Representative_Docs</th>\n",
       "    </tr>\n",
       "  </thead>\n",
       "  <tbody>\n",
       "    <tr>\n",
       "      <th>1</th>\n",
       "      <td>0</td>\n",
       "      <td>641</td>\n",
       "      <td>0_putin_he_his_putins</td>\n",
       "      <td>[putin, he, his, putins, him, who, you, hes, c...</td>\n",
       "      <td>[there was no  putin, russian president vladim...</td>\n",
       "    </tr>\n",
       "    <tr>\n",
       "      <th>2</th>\n",
       "      <td>1</td>\n",
       "      <td>553</td>\n",
       "      <td>1_glory_heroes_standwithukraine_win</td>\n",
       "      <td>[glory, heroes, standwithukraine, win, ukraine...</td>\n",
       "      <td>[glory to ukraine!  standwithukraine 🇺🇦 👉, 🇺🇦 ...</td>\n",
       "    </tr>\n",
       "    <tr>\n",
       "      <th>3</th>\n",
       "      <td>2</td>\n",
       "      <td>502</td>\n",
       "      <td>2_fifaworldcup_qatar2022_argentina_cup</td>\n",
       "      <td>[fifaworldcup, qatar2022, argentina, cup, mess...</td>\n",
       "      <td>[argentina 🇦🇷🇦🇷, messi = 🏆🙌🙌  fifaworldcup  fi...</td>\n",
       "    </tr>\n",
       "    <tr>\n",
       "      <th>4</th>\n",
       "      <td>3</td>\n",
       "      <td>486</td>\n",
       "      <td>3_mariupol_azovstal_azov_defenders</td>\n",
       "      <td>[mariupol, azovstal, azov, defenders, city, ci...</td>\n",
       "      <td>[also  mariupol..., mariupol  mariupol before ...</td>\n",
       "    </tr>\n",
       "    <tr>\n",
       "      <th>5</th>\n",
       "      <td>4</td>\n",
       "      <td>474</td>\n",
       "      <td>4_bakhmut_city_battle_forces</td>\n",
       "      <td>[bakhmut, city, battle, forces, artemovsk, nea...</td>\n",
       "      <td>[ukraine, the armed forces of ukraine are figh...</td>\n",
       "    </tr>\n",
       "    <tr>\n",
       "      <th>6</th>\n",
       "      <td>5</td>\n",
       "      <td>462</td>\n",
       "      <td>5_billion_aid_money_million</td>\n",
       "      <td>[billion, aid, money, million, euros, package,...</td>\n",
       "      <td>[(   war in  ukraine washington plans to provi...</td>\n",
       "    </tr>\n",
       "    <tr>\n",
       "      <th>7</th>\n",
       "      <td>6</td>\n",
       "      <td>387</td>\n",
       "      <td>6_injured_shelling_donetsk_shelled</td>\n",
       "      <td>[injured, shelling, donetsk, shelled, region, ...</td>\n",
       "      <td>[one person was killed, six were injured in th...</td>\n",
       "    </tr>\n",
       "    <tr>\n",
       "      <th>8</th>\n",
       "      <td>7</td>\n",
       "      <td>356</td>\n",
       "      <td>7_sanctions_package_eu_against</td>\n",
       "      <td>[sanctions, package, eu, against, economy, rus...</td>\n",
       "      <td>[with  against  it is very important to keep t...</td>\n",
       "    </tr>\n",
       "    <tr>\n",
       "      <th>9</th>\n",
       "      <td>8</td>\n",
       "      <td>324</td>\n",
       "      <td>8_grain_wheat_food_agreement</td>\n",
       "      <td>[grain, wheat, food, agreement, exports, expor...</td>\n",
       "      <td>[after weeks of  blockade,  russia and  ukrain...</td>\n",
       "    </tr>\n",
       "    <tr>\n",
       "      <th>10</th>\n",
       "      <td>9</td>\n",
       "      <td>323</td>\n",
       "      <td>9_macron_france_french_emmanuel</td>\n",
       "      <td>[macron, france, french, emmanuel, macrons, he...</td>\n",
       "      <td>[before  macron declared war in the name of th...</td>\n",
       "    </tr>\n",
       "  </tbody>\n",
       "</table>\n",
       "</div>"
      ],
      "text/plain": [
       "    Topic  Count                                    Name  \\\n",
       "1       0    641                   0_putin_he_his_putins   \n",
       "2       1    553     1_glory_heroes_standwithukraine_win   \n",
       "3       2    502  2_fifaworldcup_qatar2022_argentina_cup   \n",
       "4       3    486      3_mariupol_azovstal_azov_defenders   \n",
       "5       4    474            4_bakhmut_city_battle_forces   \n",
       "6       5    462             5_billion_aid_money_million   \n",
       "7       6    387      6_injured_shelling_donetsk_shelled   \n",
       "8       7    356          7_sanctions_package_eu_against   \n",
       "9       8    324            8_grain_wheat_food_agreement   \n",
       "10      9    323         9_macron_france_french_emmanuel   \n",
       "\n",
       "                                       Representation  \\\n",
       "1   [putin, he, his, putins, him, who, you, hes, c...   \n",
       "2   [glory, heroes, standwithukraine, win, ukraine...   \n",
       "3   [fifaworldcup, qatar2022, argentina, cup, mess...   \n",
       "4   [mariupol, azovstal, azov, defenders, city, ci...   \n",
       "5   [bakhmut, city, battle, forces, artemovsk, nea...   \n",
       "6   [billion, aid, money, million, euros, package,...   \n",
       "7   [injured, shelling, donetsk, shelled, region, ...   \n",
       "8   [sanctions, package, eu, against, economy, rus...   \n",
       "9   [grain, wheat, food, agreement, exports, expor...   \n",
       "10  [macron, france, french, emmanuel, macrons, he...   \n",
       "\n",
       "                                  Representative_Docs  \n",
       "1   [there was no  putin, russian president vladim...  \n",
       "2   [glory to ukraine!  standwithukraine 🇺🇦 👉, 🇺🇦 ...  \n",
       "3   [argentina 🇦🇷🇦🇷, messi = 🏆🙌🙌  fifaworldcup  fi...  \n",
       "4   [also  mariupol..., mariupol  mariupol before ...  \n",
       "5   [ukraine, the armed forces of ukraine are figh...  \n",
       "6   [(   war in  ukraine washington plans to provi...  \n",
       "7   [one person was killed, six were injured in th...  \n",
       "8   [with  against  it is very important to keep t...  \n",
       "9   [after weeks of  blockade,  russia and  ukrain...  \n",
       "10  [before  macron declared war in the name of th...  "
      ]
     },
     "execution_count": 49,
     "metadata": {},
     "output_type": "execute_result"
    }
   ],
   "source": [
    "topic_model.get_topic_info().iloc[1:11]"
   ]
  },
  {
   "cell_type": "code",
   "execution_count": 61,
   "metadata": {},
   "outputs": [
    {
     "data": {
      "text/plain": [
       "[('gas', 0.058507626371844354),\n",
       " ('oil', 0.028304190987634453),\n",
       " ('gaz', 0.017127293877006206),\n",
       " ('petróleo', 0.013449279652634717),\n",
       " ('gazprom', 0.010958672309554215),\n",
       " ('europa', 0.009588205323811782),\n",
       " ('pétrole', 0.008621488367200345),\n",
       " ('petrolio', 0.008241998054945063),\n",
       " ('opec', 0.008080873191647285),\n",
       " ('precio', 0.007911194440799369)]"
      ]
     },
     "execution_count": 61,
     "metadata": {},
     "output_type": "execute_result"
    }
   ],
   "source": [
    "topic_model_multi.get_topic(3)"
   ]
  },
  {
   "cell_type": "code",
   "execution_count": 64,
   "metadata": {},
   "outputs": [
    {
     "data": {
      "text/html": [
       "<div>\n",
       "<style scoped>\n",
       "    .dataframe tbody tr th:only-of-type {\n",
       "        vertical-align: middle;\n",
       "    }\n",
       "\n",
       "    .dataframe tbody tr th {\n",
       "        vertical-align: top;\n",
       "    }\n",
       "\n",
       "    .dataframe thead th {\n",
       "        text-align: right;\n",
       "    }\n",
       "</style>\n",
       "<table border=\"1\" class=\"dataframe\">\n",
       "  <thead>\n",
       "    <tr style=\"text-align: right;\">\n",
       "      <th></th>\n",
       "      <th>Topic</th>\n",
       "      <th>Count</th>\n",
       "      <th>Name</th>\n",
       "      <th>Representation</th>\n",
       "      <th>Representative_Docs</th>\n",
       "    </tr>\n",
       "  </thead>\n",
       "  <tbody>\n",
       "    <tr>\n",
       "      <th>0</th>\n",
       "      <td>-1</td>\n",
       "      <td>28308</td>\n",
       "      <td>-1_ukraine_russia_putin_ucrania</td>\n",
       "      <td>[ukraine, russia, putin, ucrania, ucraina, rus...</td>\n",
       "      <td>[wagner chief prigozhin says russian army 'fle...</td>\n",
       "    </tr>\n",
       "    <tr>\n",
       "      <th>1</th>\n",
       "      <td>0</td>\n",
       "      <td>1125</td>\n",
       "      <td>0_україна_украина_україні_слава</td>\n",
       "      <td>[україна, украина, україні, слава, россия, sto...</td>\n",
       "      <td>[🇺🇦🇺🇦🇺🇦🇺🇦🇺🇦🇺🇦🇺🇦🇺🇦🇺🇦🇺🇦🇺🇦🇺🇦🇺🇦 🇺🇦🇺🇦🇺🇦🇺🇦🇺🇦🇺🇦🇺🇦🇺🇦🇺🇦...</td>\n",
       "    </tr>\n",
       "    <tr>\n",
       "      <th>2</th>\n",
       "      <td>1</td>\n",
       "      <td>999</td>\n",
       "      <td>1_putin_путин_путина_wladimir</td>\n",
       "      <td>[putin, путин, путина, wladimir, trump, vladim...</td>\n",
       "      <td>[putin needs to keep his cool and let  nato pl...</td>\n",
       "    </tr>\n",
       "    <tr>\n",
       "      <th>3</th>\n",
       "      <td>2</td>\n",
       "      <td>556</td>\n",
       "      <td>2_china_taiwan_pelosi_xi</td>\n",
       "      <td>[china, taiwan, pelosi, xi, chinese, taiwán, x...</td>\n",
       "      <td>[y los  chinos se 💩💩  china  pelosi  taiwan  e...</td>\n",
       "    </tr>\n",
       "    <tr>\n",
       "      <th>4</th>\n",
       "      <td>3</td>\n",
       "      <td>470</td>\n",
       "      <td>3_gas_oil_gaz_petróleo</td>\n",
       "      <td>[gas, oil, gaz, petróleo, gazprom, europa, pét...</td>\n",
       "      <td>[ucrania  rusia  gas fuga de gas, europa sospe...</td>\n",
       "    </tr>\n",
       "    <tr>\n",
       "      <th>5</th>\n",
       "      <td>4</td>\n",
       "      <td>434</td>\n",
       "      <td>4_russia_русня_rusia_russie</td>\n",
       "      <td>[russia, русня, rusia, russie, putin, россия, ...</td>\n",
       "      <td>[в  россии хотят переименовать  курилы на \"рус...</td>\n",
       "    </tr>\n",
       "    <tr>\n",
       "      <th>6</th>\n",
       "      <td>5</td>\n",
       "      <td>361</td>\n",
       "      <td>5_drones_drone_droni_kamikaze</td>\n",
       "      <td>[drones, drone, droni, kamikaze, dron, дрон, д...</td>\n",
       "      <td>[rusia responderá a envío de drones a ucrania ...</td>\n",
       "    </tr>\n",
       "    <tr>\n",
       "      <th>7</th>\n",
       "      <td>6</td>\n",
       "      <td>328</td>\n",
       "      <td>6_italia_meloni_italiani_italiano</td>\n",
       "      <td>[italia, meloni, italiani, italiano, berluscon...</td>\n",
       "      <td>[la visita di  zelensky in  italia è un insult...</td>\n",
       "    </tr>\n",
       "    <tr>\n",
       "      <th>8</th>\n",
       "      <td>7</td>\n",
       "      <td>317</td>\n",
       "      <td>7_video_vidéo_видео_footage</td>\n",
       "      <td>[video, vidéo, видео, footage, відео, videos, ...</td>\n",
       "      <td>[quite an interesting video.  russia, russland...</td>\n",
       "    </tr>\n",
       "    <tr>\n",
       "      <th>9</th>\n",
       "      <td>8</td>\n",
       "      <td>317</td>\n",
       "      <td>8_sanctions_sanktionen_sanzioni_sanciones</td>\n",
       "      <td>[sanctions, sanktionen, sanzioni, sanciones, с...</td>\n",
       "      <td>[anti-sanctions.  russia, tutto bene con le sa...</td>\n",
       "    </tr>\n",
       "    <tr>\n",
       "      <th>10</th>\n",
       "      <td>9</td>\n",
       "      <td>303</td>\n",
       "      <td>9_серий_новых_between1and2_talkthattalk</td>\n",
       "      <td>[серий, новых, between1and2, talkthattalk, mit...</td>\n",
       "      <td>[que, mita y mita para pagarle un viajecillo e...</td>\n",
       "    </tr>\n",
       "    <tr>\n",
       "      <th>11</th>\n",
       "      <td>10</td>\n",
       "      <td>275</td>\n",
       "      <td>10_canada_canadá_toronto_vancouver</td>\n",
       "      <td>[canada, canadá, toronto, vancouver, ontario, ...</td>\n",
       "      <td>[esos santafereños en canadá escríbanme para a...</td>\n",
       "    </tr>\n",
       "    <tr>\n",
       "      <th>12</th>\n",
       "      <td>11</td>\n",
       "      <td>267</td>\n",
       "      <td>11_russiaisaterroriststate_russiaisaterrorisst...</td>\n",
       "      <td>[russiaisaterroriststate, russiaisaterrorissta...</td>\n",
       "      <td>[russiaisaterroriststate, ага.  russiaisaterro...</td>\n",
       "    </tr>\n",
       "    <tr>\n",
       "      <th>13</th>\n",
       "      <td>12</td>\n",
       "      <td>257</td>\n",
       "      <td>12_guerra_krieg_russland_guerre</td>\n",
       "      <td>[guerra, krieg, russland, guerre, ucraina, rus...</td>\n",
       "      <td>[министр обороны польши блащак заявил, что вой...</td>\n",
       "    </tr>\n",
       "    <tr>\n",
       "      <th>14</th>\n",
       "      <td>13</td>\n",
       "      <td>244</td>\n",
       "      <td>13_nazis_nazi_nazisti_nazista</td>\n",
       "      <td>[nazis, nazi, nazisti, nazista, nazismo, neona...</td>\n",
       "      <td>[les nazis n'auraient pas fait mieux...  ukrai...</td>\n",
       "    </tr>\n",
       "    <tr>\n",
       "      <th>15</th>\n",
       "      <td>14</td>\n",
       "      <td>233</td>\n",
       "      <td>14_nuclear_nucléaire_nucleare_nucleares</td>\n",
       "      <td>[nuclear, nucléaire, nucleare, nucleares, cent...</td>\n",
       "      <td>[como actuarían las potencias occidentales, si...</td>\n",
       "    </tr>\n",
       "    <tr>\n",
       "      <th>16</th>\n",
       "      <td>15</td>\n",
       "      <td>229</td>\n",
       "      <td>15_zelensky_zelenskywarcriminal_oui_sanremo</td>\n",
       "      <td>[zelensky, zelenskywarcriminal, oui, sanremo, ...</td>\n",
       "      <td>[zelensky... certo, he's fine..  zelensky, zel...</td>\n",
       "    </tr>\n",
       "    <tr>\n",
       "      <th>17</th>\n",
       "      <td>16</td>\n",
       "      <td>229</td>\n",
       "      <td>16_grain_grano_céréales_cereales</td>\n",
       "      <td>[grain, grano, céréales, cereales, alimentaire...</td>\n",
       "      <td>[russian president vladimir putin says that mo...</td>\n",
       "    </tr>\n",
       "    <tr>\n",
       "      <th>18</th>\n",
       "      <td>17</td>\n",
       "      <td>174</td>\n",
       "      <td>17_destroyed_tank_танк_72b3</td>\n",
       "      <td>[destroyed, tank, танк, 72b3, уничтожили, всу,...</td>\n",
       "      <td>[украинские военные уничтожили танк т-80бв рос...</td>\n",
       "    </tr>\n",
       "    <tr>\n",
       "      <th>19</th>\n",
       "      <td>18</td>\n",
       "      <td>168</td>\n",
       "      <td>18_зеленский_kalmoukie_rusia_ucrania</td>\n",
       "      <td>[зеленский, kalmoukie, rusia, ucrania, fédérat...</td>\n",
       "      <td>[guerra ucrania rusia, última hora en directo ...</td>\n",
       "    </tr>\n",
       "  </tbody>\n",
       "</table>\n",
       "</div>"
      ],
      "text/plain": [
       "    Topic  Count                                               Name  \\\n",
       "0      -1  28308                    -1_ukraine_russia_putin_ucrania   \n",
       "1       0   1125                    0_україна_украина_україні_слава   \n",
       "2       1    999                      1_putin_путин_путина_wladimir   \n",
       "3       2    556                           2_china_taiwan_pelosi_xi   \n",
       "4       3    470                             3_gas_oil_gaz_petróleo   \n",
       "5       4    434                        4_russia_русня_rusia_russie   \n",
       "6       5    361                      5_drones_drone_droni_kamikaze   \n",
       "7       6    328                  6_italia_meloni_italiani_italiano   \n",
       "8       7    317                        7_video_vidéo_видео_footage   \n",
       "9       8    317          8_sanctions_sanktionen_sanzioni_sanciones   \n",
       "10      9    303            9_серий_новых_between1and2_talkthattalk   \n",
       "11     10    275                 10_canada_canadá_toronto_vancouver   \n",
       "12     11    267  11_russiaisaterroriststate_russiaisaterrorisst...   \n",
       "13     12    257                    12_guerra_krieg_russland_guerre   \n",
       "14     13    244                      13_nazis_nazi_nazisti_nazista   \n",
       "15     14    233            14_nuclear_nucléaire_nucleare_nucleares   \n",
       "16     15    229        15_zelensky_zelenskywarcriminal_oui_sanremo   \n",
       "17     16    229                   16_grain_grano_céréales_cereales   \n",
       "18     17    174                        17_destroyed_tank_танк_72b3   \n",
       "19     18    168               18_зеленский_kalmoukie_rusia_ucrania   \n",
       "\n",
       "                                       Representation  \\\n",
       "0   [ukraine, russia, putin, ucrania, ucraina, rus...   \n",
       "1   [україна, украина, україні, слава, россия, sto...   \n",
       "2   [putin, путин, путина, wladimir, trump, vladim...   \n",
       "3   [china, taiwan, pelosi, xi, chinese, taiwán, x...   \n",
       "4   [gas, oil, gaz, petróleo, gazprom, europa, pét...   \n",
       "5   [russia, русня, rusia, russie, putin, россия, ...   \n",
       "6   [drones, drone, droni, kamikaze, dron, дрон, д...   \n",
       "7   [italia, meloni, italiani, italiano, berluscon...   \n",
       "8   [video, vidéo, видео, footage, відео, videos, ...   \n",
       "9   [sanctions, sanktionen, sanzioni, sanciones, с...   \n",
       "10  [серий, новых, between1and2, talkthattalk, mit...   \n",
       "11  [canada, canadá, toronto, vancouver, ontario, ...   \n",
       "12  [russiaisaterroriststate, russiaisaterrorissta...   \n",
       "13  [guerra, krieg, russland, guerre, ucraina, rus...   \n",
       "14  [nazis, nazi, nazisti, nazista, nazismo, neona...   \n",
       "15  [nuclear, nucléaire, nucleare, nucleares, cent...   \n",
       "16  [zelensky, zelenskywarcriminal, oui, sanremo, ...   \n",
       "17  [grain, grano, céréales, cereales, alimentaire...   \n",
       "18  [destroyed, tank, танк, 72b3, уничтожили, всу,...   \n",
       "19  [зеленский, kalmoukie, rusia, ucrania, fédérat...   \n",
       "\n",
       "                                  Representative_Docs  \n",
       "0   [wagner chief prigozhin says russian army 'fle...  \n",
       "1   [🇺🇦🇺🇦🇺🇦🇺🇦🇺🇦🇺🇦🇺🇦🇺🇦🇺🇦🇺🇦🇺🇦🇺🇦🇺🇦 🇺🇦🇺🇦🇺🇦🇺🇦🇺🇦🇺🇦🇺🇦🇺🇦🇺🇦...  \n",
       "2   [putin needs to keep his cool and let  nato pl...  \n",
       "3   [y los  chinos se 💩💩  china  pelosi  taiwan  e...  \n",
       "4   [ucrania  rusia  gas fuga de gas, europa sospe...  \n",
       "5   [в  россии хотят переименовать  курилы на \"рус...  \n",
       "6   [rusia responderá a envío de drones a ucrania ...  \n",
       "7   [la visita di  zelensky in  italia è un insult...  \n",
       "8   [quite an interesting video.  russia, russland...  \n",
       "9   [anti-sanctions.  russia, tutto bene con le sa...  \n",
       "10  [que, mita y mita para pagarle un viajecillo e...  \n",
       "11  [esos santafereños en canadá escríbanme para a...  \n",
       "12  [russiaisaterroriststate, ага.  russiaisaterro...  \n",
       "13  [министр обороны польши блащак заявил, что вой...  \n",
       "14  [les nazis n'auraient pas fait mieux...  ukrai...  \n",
       "15  [como actuarían las potencias occidentales, si...  \n",
       "16  [zelensky... certo, he's fine..  zelensky, zel...  \n",
       "17  [russian president vladimir putin says that mo...  \n",
       "18  [украинские военные уничтожили танк т-80бв рос...  \n",
       "19  [guerra ucrania rusia, última hora en directo ...  "
      ]
     },
     "execution_count": 64,
     "metadata": {},
     "output_type": "execute_result"
    }
   ],
   "source": [
    "topic_model_multi.get_topic_info().iloc[0:20]"
   ]
  },
  {
   "cell_type": "code",
   "execution_count": 58,
   "metadata": {},
   "outputs": [
    {
     "name": "stderr",
     "output_type": "stream",
     "text": [
      "2023-12-19 02:15:42,327 - BERTopic - Embedding - Transforming documents to embeddings.\n"
     ]
    },
    {
     "data": {
      "application/vnd.jupyter.widget-view+json": {
       "model_id": "85aa20028bfa45db8c2dbfb0adb993e5",
       "version_major": 2,
       "version_minor": 0
      },
      "text/plain": [
       "Batches:   0%|          | 0/1532 [00:00<?, ?it/s]"
      ]
     },
     "metadata": {},
     "output_type": "display_data"
    },
    {
     "name": "stderr",
     "output_type": "stream",
     "text": [
      "2023-12-19 02:42:30,388 - BERTopic - Embedding - Completed ✓\n",
      "2023-12-19 02:42:30,388 - BERTopic - Dimensionality - Fitting the dimensionality reduction algorithm\n",
      "2023-12-19 02:42:58,739 - BERTopic - Dimensionality - Completed ✓\n",
      "2023-12-19 02:42:58,742 - BERTopic - Cluster - Start clustering the reduced embeddings\n",
      "huggingface/tokenizers: The current process just got forked, after parallelism has already been used. Disabling parallelism to avoid deadlocks...\n",
      "To disable this warning, you can either:\n",
      "\t- Avoid using `tokenizers` before the fork if possible\n",
      "\t- Explicitly set the environment variable TOKENIZERS_PARALLELISM=(true | false)\n",
      "huggingface/tokenizers: The current process just got forked, after parallelism has already been used. Disabling parallelism to avoid deadlocks...\n",
      "To disable this warning, you can either:\n",
      "\t- Avoid using `tokenizers` before the fork if possible\n",
      "\t- Explicitly set the environment variable TOKENIZERS_PARALLELISM=(true | false)\n",
      "huggingface/tokenizers: The current process just got forked, after parallelism has already been used. Disabling parallelism to avoid deadlocks...\n",
      "To disable this warning, you can either:\n",
      "\t- Avoid using `tokenizers` before the fork if possible\n",
      "\t- Explicitly set the environment variable TOKENIZERS_PARALLELISM=(true | false)\n",
      "huggingface/tokenizers: The current process just got forked, after parallelism has already been used. Disabling parallelism to avoid deadlocks...\n",
      "To disable this warning, you can either:\n",
      "\t- Avoid using `tokenizers` before the fork if possible\n",
      "\t- Explicitly set the environment variable TOKENIZERS_PARALLELISM=(true | false)\n",
      "2023-12-19 02:43:04,091 - BERTopic - Cluster - Completed ✓\n",
      "2023-12-19 02:43:04,105 - BERTopic - Representation - Extracting topics from clusters using representation models.\n",
      "2023-12-19 02:43:06,826 - BERTopic - Representation - Completed ✓\n"
     ]
    }
   ],
   "source": [
    "\n",
    "from sklearn.feature_extraction.text import CountVectorizer\n",
    "vectorizer_model = CountVectorizer(stop_words=all_stop_words)\n",
    "topic_model_multi = BERTopic(language=\"multilingual\", verbose=True, vectorizer_model=vectorizer_model)\n",
    "# paraphrase-multilingual-MiniLM-L12-v2\n",
    "topics, probs = topic_model_multi.fit_transform(df['cleaned_text'])\n"
   ]
  },
  {
   "cell_type": "code",
   "execution_count": 65,
   "metadata": {},
   "outputs": [
    {
     "data": {
      "text/plain": [
       "[('russiaisaterroriststate', 0.07796298034183534),\n",
       " ('russiaisaterrorisstate', 0.03683410521531943),\n",
       " ('terrorist', 0.023132317530043578),\n",
       " ('terrorists', 0.01524708952258508),\n",
       " ('терористи', 0.013920464563505179),\n",
       " ('terrorista', 0.013213065891229024),\n",
       " ('russiaisanazistate', 0.012363004752328786),\n",
       " ('terroristas', 0.011976732494158534),\n",
       " ('terrorism', 0.009396888740598823),\n",
       " ('meta', 0.009150943157664506)]"
      ]
     },
     "execution_count": 65,
     "metadata": {},
     "output_type": "execute_result"
    }
   ],
   "source": [
    "topic_model_multi.get_topic(11,)"
   ]
  },
  {
   "cell_type": "code",
   "execution_count": 33,
   "metadata": {},
   "outputs": [],
   "source": [
    "from src.text_preparation_07 import clean"
   ]
  },
  {
   "cell_type": "code",
   "execution_count": 34,
   "metadata": {},
   "outputs": [
    {
     "data": {
      "text/plain": [
       "0                   was ein bild.  ukraine  putin  stopwar\n",
       "1        wegschauen kann auch eine form falschen handel...\n",
       "2        die stinknormale  anektierung der krim und plö...\n",
       "3        deshalb halten ich das wort \" putinversteher\" ...\n",
       "4        absolute solidarität mit den menschen in der u...\n",
       "                               ...                        \n",
       "48995    entre temps l'amérique a placée ces gens là po...\n",
       "48996    ukraine: frappes russes dans plusieurs régions...\n",
       "48997    je sens qu'on va se fendre la gueule !! ça va ...\n",
       "48998    si cela est vrai, pénurie de go dans un mois !...\n",
       "48999    armageddon de sheytanyahu les missiles russes ...\n",
       "Name: cleaned_text, Length: 49000, dtype: object"
      ]
     },
     "execution_count": 34,
     "metadata": {},
     "output_type": "execute_result"
    }
   ],
   "source": [
    "df['cleaned_text']"
   ]
  },
  {
   "cell_type": "code",
   "execution_count": 24,
   "metadata": {},
   "outputs": [],
   "source": [
    "import regex as re"
   ]
  },
  {
   "cell_type": "code",
   "execution_count": 25,
   "metadata": {},
   "outputs": [],
   "source": [
    "a = '@JPrawo #Selenskyj hatte sich in einigen Tweets für die weltweite Hilfe bedankt, als ob es das letzte ist was er tun könnte.\\nSeine Danksagungen an Deutschland hielten sich dem Verhalten unserer Politiker entsprechend in Grenzen.😭\\n#Ukraine #Kiew #SupportUkraine'"
   ]
  },
  {
   "cell_type": "code",
   "execution_count": 26,
   "metadata": {},
   "outputs": [
    {
     "data": {
      "text/plain": [
       "'JPrawo #Selenskyj hatte sich in einigen Tweets für die weltweite Hilfe bedankt, als ob es das letzte ist was er tun könnte.\\nSeine Danksagungen an Deutschland hielten sich dem Verhalten unserer Politiker entsprechend in Grenzen.😭\\n#Ukraine #Kiew #SupportUkraine'"
      ]
     },
     "execution_count": 26,
     "metadata": {},
     "output_type": "execute_result"
    }
   ],
   "source": [
    "re.sub(r'@[a-bA-B]*' ,'', a)"
   ]
  },
  {
   "cell_type": "code",
   "execution_count": 30,
   "metadata": {},
   "outputs": [
    {
     "data": {
      "text/plain": [
       "'  hatte sich in einigen Tweets für die weltweite Hilfe bedankt, als ob es das letzte ist was er tun könnte.\\nSeine Danksagungen an Deutschland hielten sich dem Verhalten unserer Politiker entsprechend in Grenzen.😭\\n  '"
      ]
     },
     "execution_count": 30,
     "metadata": {},
     "output_type": "execute_result"
    }
   ],
   "source": [
    "re.sub(r'#[^ ]+|@[^ ]+', '', a)break"
   ]
  },
  {
   "cell_type": "code",
   "execution_count": null,
   "metadata": {},
   "outputs": [],
   "source": []
  },
  {
   "cell_type": "code",
   "execution_count": 114,
   "metadata": {},
   "outputs": [],
   "source": [
    "import json\n",
    "from src.SampleTranslation05.translation_01 import translate_text_multiple\n",
    "\n",
    "class TranslateDict:\n",
    "\n",
    "    def __init__(self, json_path:str=\"/Users/robinfeldmann/TopicAnalysisRUWTweets/src/BertTopic07/translated.json\"):\n",
    "        self.to_translate: list[str] = []\n",
    "        self.dict = {}\n",
    "        self.json_path = json_path\n",
    "\n",
    "        self.load_from_json()\n",
    "\n",
    "\n",
    "    def load_from_json(self):\n",
    "\n",
    "        with open(self.json_path, 'r') as this:\n",
    "            self.dict = json.loads(this.read())\n",
    "\n",
    "    def look_up(self, word: str):\n",
    "        if word in self.dict:\n",
    "            return\n",
    "        \n",
    "        if word in self.to_translate:\n",
    "            return\n",
    "        self.to_translate.append(word)\n",
    "\n",
    "    def translate_api(self):\n",
    "        if not self.to_translate:\n",
    "            return\n",
    "        \n",
    "        for i in range(0, len(self.to_translate), 1000):\n",
    "            translated = translate_text_multiple(self.to_translate[i:i+1000],source_language=\"\")\n",
    "            for word, trans in zip(self.to_translate[i:i+1000], translated):\n",
    "                self.dict[word] = trans\n",
    "\n",
    "        with open(self.json_path, 'w') as this:\n",
    "            this.write(json.dumps(self.dict))\n",
    "\n",
    "    def batch_translate(self, words:list[str]) -> list[str]:\n",
    "        for word in words:\n",
    "            self.look_up(word)\n",
    "\n",
    "        self.translate_api()\n",
    "\n",
    "        return [self.dict[word] for word in words]\n",
    "\n",
    "    "
   ]
  },
  {
   "cell_type": "code",
   "execution_count": 115,
   "metadata": {},
   "outputs": [
    {
     "name": "stdout",
     "output_type": "stream",
     "text": [
      "['haslo']\n"
     ]
    },
    {
     "name": "stderr",
     "output_type": "stream",
     "text": [
      "huggingface/tokenizers: The current process just got forked, after parallelism has already been used. Disabling parallelism to avoid deadlocks...\n",
      "To disable this warning, you can either:\n",
      "\t- Avoid using `tokenizers` before the fork if possible\n",
      "\t- Explicitly set the environment variable TOKENIZERS_PARALLELISM=(true | false)\n"
     ]
    }
   ],
   "source": [
    "k = TranslateDict()\n",
    "k.look_up(\"haslo\")\n",
    "print(k.to_translate)\n",
    "k.translate_api()"
   ]
  },
  {
   "cell_type": "code",
   "execution_count": 116,
   "metadata": {},
   "outputs": [],
   "source": [
    "text = \"Lorem ipsum dolor sit amet, consetetur sadipscing elitr, sed diam nonumy eirmod tempor invidunt ut labore et dolore magna aliquyam erat, sed diam voluptua. At vero eos et accusam et justo duo dolores et ea rebum. Stet clita kasd gubergren, no sea takimata sanctus est Lorem ipsum dolor sit amet. Lorem ipsum dolor sit amet, consetetur sadipscing elitr, sed diam nonumy eirmod tempor invidunt ut labore et dolore magna aliquyam erat, sed diam voluptua. At vero eos et accusam et justo duo dolores et ea rebum. Stet clita kasd gubergren, no sea takimata sanctus est Lorem ipsum dolor sit amet.\"\n",
    "\n",
    "texts = text.split(\" \")"
   ]
  },
  {
   "cell_type": "code",
   "execution_count": 117,
   "metadata": {},
   "outputs": [
    {
     "name": "stderr",
     "output_type": "stream",
     "text": [
      "huggingface/tokenizers: The current process just got forked, after parallelism has already been used. Disabling parallelism to avoid deadlocks...\n",
      "To disable this warning, you can either:\n",
      "\t- Avoid using `tokenizers` before the fork if possible\n",
      "\t- Explicitly set the environment variable TOKENIZERS_PARALLELISM=(true | false)\n"
     ]
    },
    {
     "data": {
      "text/plain": [
       "['Welcome',\n",
       " 'very',\n",
       " 'pain',\n",
       " 'sit',\n",
       " 'love',\n",
       " 'settled',\n",
       " 'sadipscing',\n",
       " 'elit',\n",
       " 'but',\n",
       " 'silent',\n",
       " 'ninety',\n",
       " 'just like that',\n",
       " 'time',\n",
       " 'they envy',\n",
       " 'out',\n",
       " 'with hard work',\n",
       " 'And',\n",
       " 'ache',\n",
       " 'magna',\n",
       " 'any',\n",
       " 'was,',\n",
       " 'but',\n",
       " 'silent',\n",
       " 'satisfaction',\n",
       " 'At',\n",
       " 'True',\n",
       " 'eos',\n",
       " 'And',\n",
       " 'accuse',\n",
       " 'And',\n",
       " 'fair',\n",
       " 'duo',\n",
       " 'dolores',\n",
       " 'And',\n",
       " 'of',\n",
       " 'rebum',\n",
       " 'He stood',\n",
       " 'clita',\n",
       " 'kasd',\n",
       " 'gubergren',\n",
       " 'no',\n",
       " 'sea',\n",
       " 'takimata',\n",
       " 'holy',\n",
       " 'East',\n",
       " 'Welcome',\n",
       " 'very',\n",
       " 'pain',\n",
       " 'sit',\n",
       " 'a lot',\n",
       " 'Welcome',\n",
       " 'very',\n",
       " 'pain',\n",
       " 'sit',\n",
       " 'love',\n",
       " 'settled',\n",
       " 'sadipscing',\n",
       " 'elit',\n",
       " 'but',\n",
       " 'silent',\n",
       " 'ninety',\n",
       " 'just like that',\n",
       " 'time',\n",
       " 'they envy',\n",
       " 'out',\n",
       " 'with hard work',\n",
       " 'And',\n",
       " 'ache',\n",
       " 'magna',\n",
       " 'any',\n",
       " 'was,',\n",
       " 'but',\n",
       " 'silent',\n",
       " 'satisfaction',\n",
       " 'At',\n",
       " 'True',\n",
       " 'eos',\n",
       " 'And',\n",
       " 'accuse',\n",
       " 'And',\n",
       " 'fair',\n",
       " 'duo',\n",
       " 'dolores',\n",
       " 'And',\n",
       " 'of',\n",
       " 'rebum',\n",
       " 'He stood',\n",
       " 'clita',\n",
       " 'kasd',\n",
       " 'gubergren',\n",
       " 'no',\n",
       " 'sea',\n",
       " 'takimata',\n",
       " 'holy',\n",
       " 'East',\n",
       " 'Welcome',\n",
       " 'very',\n",
       " 'pain',\n",
       " 'sit',\n",
       " 'a lot']"
      ]
     },
     "execution_count": 117,
     "metadata": {},
     "output_type": "execute_result"
    }
   ],
   "source": [
    "k.batch_translate(texts)"
   ]
  },
  {
   "cell_type": "code",
   "execution_count": 95,
   "metadata": {},
   "outputs": [
    {
     "data": {
      "text/plain": [
       "['haslo']"
      ]
     },
     "execution_count": 95,
     "metadata": {},
     "output_type": "execute_result"
    }
   ],
   "source": [
    "k.to_translate"
   ]
  },
  {
   "cell_type": "code",
   "execution_count": 96,
   "metadata": {},
   "outputs": [
    {
     "ename": "TypeError",
     "evalue": "list indices must be integers or slices, not tuple",
     "output_type": "error",
     "traceback": [
      "\u001b[0;31m---------------------------------------------------------------------------\u001b[0m",
      "\u001b[0;31mTypeError\u001b[0m                                 Traceback (most recent call last)",
      "\u001b[1;32m/Users/robinfeldmann/TopicAnalysisRUWTweets/07BertTopic.ipynb Cell 25\u001b[0m line \u001b[0;36m1\n\u001b[0;32m----> <a href='vscode-notebook-cell:/Users/robinfeldmann/TopicAnalysisRUWTweets/07BertTopic.ipynb#X34sZmlsZQ%3D%3D?line=0'>1</a>\u001b[0m k\u001b[39m.\u001b[39;49mtranslate_api()\n",
      "\u001b[1;32m/Users/robinfeldmann/TopicAnalysisRUWTweets/07BertTopic.ipynb Cell 25\u001b[0m line \u001b[0;36m2\n\u001b[1;32m     <a href='vscode-notebook-cell:/Users/robinfeldmann/TopicAnalysisRUWTweets/07BertTopic.ipynb#X34sZmlsZQ%3D%3D?line=25'>26</a>\u001b[0m     \u001b[39mreturn\u001b[39;00m\n\u001b[1;32m     <a href='vscode-notebook-cell:/Users/robinfeldmann/TopicAnalysisRUWTweets/07BertTopic.ipynb#X34sZmlsZQ%3D%3D?line=27'>28</a>\u001b[0m \u001b[39mfor\u001b[39;00m i \u001b[39min\u001b[39;00m \u001b[39mrange\u001b[39m(\u001b[39m0\u001b[39m, \u001b[39mlen\u001b[39m(\u001b[39mself\u001b[39m\u001b[39m.\u001b[39mto_translate), \u001b[39m100\u001b[39m):\n\u001b[0;32m---> <a href='vscode-notebook-cell:/Users/robinfeldmann/TopicAnalysisRUWTweets/07BertTopic.ipynb#X34sZmlsZQ%3D%3D?line=28'>29</a>\u001b[0m     \u001b[39mprint\u001b[39m(\u001b[39mself\u001b[39;49m\u001b[39m.\u001b[39;49mto_translate[i,i\u001b[39m+\u001b[39;49m\u001b[39m100\u001b[39;49m])\n",
      "\u001b[0;31mTypeError\u001b[0m: list indices must be integers or slices, not tuple"
     ]
    }
   ],
   "source": [
    "k.translate_api()"
   ]
  }
 ],
 "metadata": {
  "kernelspec": {
   "display_name": "Python 3",
   "language": "python",
   "name": "python3"
  },
  "language_info": {
   "codemirror_mode": {
    "name": "ipython",
    "version": 3
   },
   "file_extension": ".py",
   "mimetype": "text/x-python",
   "name": "python",
   "nbconvert_exporter": "python",
   "pygments_lexer": "ipython3",
   "version": "3.11.6"
  }
 },
 "nbformat": 4,
 "nbformat_minor": 2
}
