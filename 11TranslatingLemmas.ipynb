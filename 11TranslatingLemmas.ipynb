{
 "cells": [
  {
   "cell_type": "code",
   "execution_count": 1,
   "metadata": {},
   "outputs": [
    {
     "name": "stderr",
     "output_type": "stream",
     "text": [
      "/opt/homebrew/lib/python3.11/site-packages/tqdm/auto.py:21: TqdmWarning: IProgress not found. Please update jupyter and ipywidgets. See https://ipywidgets.readthedocs.io/en/stable/user_install.html\n",
      "  from .autonotebook import tqdm as notebook_tqdm\n"
     ]
    }
   ],
   "source": [
    "from src.translate_dict import TranslateDict\n",
    "translator = TranslateDict(json_path=\"/Users/robinfeldmann/TopicAnalysisRUWTweets/test_trans.json\")"
   ]
  },
  {
   "cell_type": "code",
   "execution_count": 30,
   "metadata": {},
   "outputs": [],
   "source": [
    "translator.to_translate = {\"de\":[], \"it\":[], \"es\":[], \"fr\":[],\"ru\":[],\"uk\":[] }"
   ]
  },
  {
   "cell_type": "code",
   "execution_count": 25,
   "metadata": {},
   "outputs": [
    {
     "data": {
      "text/plain": [
       "'Hello'"
      ]
     },
     "execution_count": 25,
     "metadata": {},
     "output_type": "execute_result"
    }
   ],
   "source": [
    "translator.dict['de']['Hallo']"
   ]
  },
  {
   "cell_type": "code",
   "execution_count": 26,
   "metadata": {},
   "outputs": [
    {
     "data": {
      "text/plain": [
       "['Liver sausage roll']"
      ]
     },
     "execution_count": 26,
     "metadata": {},
     "output_type": "execute_result"
    }
   ],
   "source": [
    "translator.batch_translate(['Leberwurstsemmel'], \"de\")"
   ]
  },
  {
   "cell_type": "code",
   "execution_count": 37,
   "metadata": {},
   "outputs": [
    {
     "name": "stderr",
     "output_type": "stream",
     "text": [
      "100%|██████████| 899934/899934 [00:25<00:00, 35077.68it/s] \n"
     ]
    }
   ],
   "source": [
    "import pandas as pd\n",
    "from src.data_schemas import LemmaDataSchema\n",
    "from src.explorativ_analysis_05 import split_strings_to_list\n",
    "from tqdm import tqdm\n",
    "\n",
    "df_uk = pd.read_csv('/Users/robinfeldmann/TopicAnalysisRUWTweets/Data/Lemmas/uk.csv')\n",
    "df_uk[LemmaDataSchema.LEMMAS] = df_uk[LemmaDataSchema.LEMMAS].progress_apply(lambda row: split_strings_to_list(row))\n",
    "lemmas = [x for y in df_uk[LemmaDataSchema.LEMMAS].to_list() for x in y]\n",
    "unique_lemmas = list(set(lemmas))\n",
    "\n",
    "\n",
    "\n"
   ]
  },
  {
   "cell_type": "code",
   "execution_count": 38,
   "metadata": {},
   "outputs": [
    {
     "data": {
      "text/plain": [
       "[]"
      ]
     },
     "execution_count": 38,
     "metadata": {},
     "output_type": "execute_result"
    }
   ],
   "source": [
    "translator.to_translate['de']"
   ]
  },
  {
   "cell_type": "code",
   "execution_count": 39,
   "metadata": {},
   "outputs": [],
   "source": [
    "translator.to_translate = {\"de\":[], \"it\":[], \"es\":[], \"fr\":[],\"ru\":[],\"uk\":[] }"
   ]
  },
  {
   "cell_type": "code",
   "execution_count": 41,
   "metadata": {},
   "outputs": [
    {
     "name": "stderr",
     "output_type": "stream",
     "text": [
      "  0%|          | 0/88 [00:00<?, ?it/s]"
     ]
    },
    {
     "name": "stderr",
     "output_type": "stream",
     "text": [
      "100%|██████████| 88/88 [29:36<00:00, 20.19s/it]\n"
     ]
    }
   ],
   "source": [
    "for i in tqdm(range(275*1000, len(unique_lemmas), 1000)):\n",
    "    translator.batch_translate(unique_lemmas[i:i+1000],\"uk\")"
   ]
  }
 ],
 "metadata": {
  "kernelspec": {
   "display_name": "Python 3",
   "language": "python",
   "name": "python3"
  },
  "language_info": {
   "codemirror_mode": {
    "name": "ipython",
    "version": 3
   },
   "file_extension": ".py",
   "mimetype": "text/x-python",
   "name": "python",
   "nbconvert_exporter": "python",
   "pygments_lexer": "ipython3",
   "version": "3.11.7"
  }
 },
 "nbformat": 4,
 "nbformat_minor": 2
}
