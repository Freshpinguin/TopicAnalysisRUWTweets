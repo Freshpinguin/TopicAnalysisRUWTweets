{
 "cells": [
  {
   "cell_type": "code",
   "execution_count": 1,
   "metadata": {},
   "outputs": [
    {
     "name": "stderr",
     "output_type": "stream",
     "text": [
      "/opt/homebrew/lib/python3.11/site-packages/tqdm/auto.py:21: TqdmWarning: IProgress not found. Please update jupyter and ipywidgets. See https://ipywidgets.readthedocs.io/en/stable/user_install.html\n",
      "  from .autonotebook import tqdm as notebook_tqdm\n",
      "/Users/robinfeldmann/Library/Python/3.11/lib/python/site-packages/transformers/utils/generic.py:441: UserWarning: torch.utils._pytree._register_pytree_node is deprecated. Please use torch.utils._pytree.register_pytree_node instead.\n",
      "  _torch_pytree._register_pytree_node(\n",
      "/Users/robinfeldmann/Library/Python/3.11/lib/python/site-packages/transformers/utils/generic.py:309: UserWarning: torch.utils._pytree._register_pytree_node is deprecated. Please use torch.utils._pytree.register_pytree_node instead.\n",
      "  _torch_pytree._register_pytree_node(\n"
     ]
    }
   ],
   "source": [
    "from src.text_preparation_04 import clean\n",
    "from tqdm.auto import tqdm\n",
    "\n",
    "tqdm.pandas()\n",
    "\n",
    "from sentence_transformers import SentenceTransformer\n",
    "\n",
    "model_parahprase_min = SentenceTransformer(\"paraphrase-multilingual-MiniLM-L12-v2\")"
   ]
  },
  {
   "cell_type": "code",
   "execution_count": 8,
   "metadata": {},
   "outputs": [
    {
     "name": "stderr",
     "output_type": "stream",
     "text": [
      "100%|██████████| 12116412/12116412 [18:14<00:00, 11073.02it/s]\n"
     ]
    }
   ],
   "source": [
    "import pandas as pd\n",
    "\n",
    "df_en = pd.read_csv(\"/Users/robinfeldmann/TopicAnalysisRUWTweets/Data/en.csv\")\n",
    "df_en[\"cleaned_text\"] = df_en[\"text\"].progress_apply(clean)"
   ]
  },
  {
   "cell_type": "code",
   "execution_count": 5,
   "metadata": {},
   "outputs": [],
   "source": [
    "import os"
   ]
  },
  {
   "cell_type": "code",
   "execution_count": 9,
   "metadata": {},
   "outputs": [
    {
     "name": "stderr",
     "output_type": "stream",
     "text": [
      "  0%|          | 0/11 [00:00<?, ?it/s]"
     ]
    },
    {
     "name": "stdout",
     "output_type": "stream",
     "text": [
      "skip 0\n",
      "skip 1\n",
      "skip 2\n",
      "skip 3\n",
      "skip 4\n",
      "skip 5\n",
      "calc: 6\n"
     ]
    },
    {
     "name": "stderr",
     "output_type": "stream",
     "text": [
      "100%|██████████| 1211641/1211641 [7:32:40<00:00, 44.61it/s]\n",
      " 64%|██████▎   | 7/11 [7:32:52<4:18:47, 3881.85s/it]"
     ]
    },
    {
     "name": "stdout",
     "output_type": "stream",
     "text": [
      "calc: 7\n"
     ]
    },
    {
     "name": "stderr",
     "output_type": "stream",
     "text": [
      "100%|██████████| 1211641/1211641 [6:09:25<00:00, 54.66it/s]\n",
      " 73%|███████▎  | 8/11 [13:42:33<5:49:09, 6983.24s/it]"
     ]
    },
    {
     "name": "stdout",
     "output_type": "stream",
     "text": [
      "calc: 8\n"
     ]
    },
    {
     "name": "stderr",
     "output_type": "stream",
     "text": [
      "100%|██████████| 1211641/1211641 [6:33:49<00:00, 51.28it/s]\n",
      " 82%|████████▏ | 9/11 [20:16:37<5:41:02, 10231.07s/it]"
     ]
    },
    {
     "name": "stdout",
     "output_type": "stream",
     "text": [
      "calc: 9\n"
     ]
    },
    {
     "name": "stderr",
     "output_type": "stream",
     "text": [
      "100%|██████████| 1211641/1211641 [6:05:35<00:00, 55.24it/s]\n",
      " 91%|█████████ | 10/11 [26:22:28<3:33:03, 12783.95s/it]"
     ]
    },
    {
     "name": "stdout",
     "output_type": "stream",
     "text": [
      "calc: 10\n"
     ]
    },
    {
     "name": "stderr",
     "output_type": "stream",
     "text": [
      "100%|██████████| 2/2 [00:00<00:00, 34.79it/s]\n",
      "100%|██████████| 11/11 [26:22:30<00:00, 8631.82s/it]   \n"
     ]
    }
   ],
   "source": [
    "from src.utility import (\n",
    "    save_csv_with_embeddings,\n",
    "    load_samples_with_numpy,\n",
    "    series_numpy_equals,\n",
    ")\n",
    "\n",
    "import os\n",
    "\n",
    "for index, i in enumerate(tqdm(range(0, df_en.shape[0], int(df_en.shape[0] / 10)))):\n",
    "    if f\"en_{index}\" in os.listdir(\n",
    "        \"/Users/robinfeldmann/TopicAnalysisRUWTweets/Data/Embeddings\"\n",
    "    ):\n",
    "        print(\"skip\", index)\n",
    "        continue\n",
    "    print(\"calc:\", index)\n",
    "\n",
    "    df_cur = df_en.iloc[i : i + int(df_en.shape[0] / 10)].copy()\n",
    "    df_cur[\"cleaned_text_embeddings\"] = df_cur[\"cleaned_text\"].progress_apply(\n",
    "        model_parahprase_min.encode\n",
    "    )\n",
    "\n",
    "    save_csv_with_embeddings(\n",
    "        f\"/Users/robinfeldmann/TopicAnalysisRUWTweets/Data/Embeddings/en_{index}\",\n",
    "        df_cur,\n",
    "        embeddings_columns=[\n",
    "            \"cleaned_text_embeddings\",\n",
    "        ],\n",
    "        file_name=f\"en_{index}.csv\",\n",
    "    )"
   ]
  },
  {
   "cell_type": "code",
   "execution_count": 10,
   "metadata": {},
   "outputs": [],
   "source": [
    "# Test\n",
    "\n",
    "df_0 = pd.read_csv(\n",
    "    \"/Users/robinfeldmann/TopicAnalysisRUWTweets/Data/Embeddings/en_0/en_0.csv\"\n",
    ")\n",
    "\n",
    "df_1 = pd.read_csv(\n",
    "    \"/Users/robinfeldmann/TopicAnalysisRUWTweets/Data/Embeddings/en_1/en_1.csv\"\n",
    ")\n",
    "\n",
    "df_2 = pd.read_csv(\n",
    "    \"/Users/robinfeldmann/TopicAnalysisRUWTweets/Data/Embeddings/en_2/en_2.csv\"\n",
    ")\n",
    "\n",
    "df_3 = pd.read_csv(\n",
    "    \"/Users/robinfeldmann/TopicAnalysisRUWTweets/Data/Embeddings/en_3/en_3.csv\"\n",
    ")\n",
    "df_4 = pd.read_csv(\n",
    "    \"/Users/robinfeldmann/TopicAnalysisRUWTweets/Data/Embeddings/en_4/en_4.csv\"\n",
    ")\n",
    "df_5 = pd.read_csv(\n",
    "    \"/Users/robinfeldmann/TopicAnalysisRUWTweets/Data/Embeddings/en_5/en_5.csv\"\n",
    ")\n",
    "df_6 = pd.read_csv(\n",
    "    \"/Users/robinfeldmann/TopicAnalysisRUWTweets/Data/Embeddings/en_6/en_6.csv\"\n",
    ")\n",
    "df_7 = pd.read_csv(\n",
    "    \"/Users/robinfeldmann/TopicAnalysisRUWTweets/Data/Embeddings/en_7/en_7.csv\"\n",
    ")\n",
    "df_8 = pd.read_csv(\n",
    "    \"/Users/robinfeldmann/TopicAnalysisRUWTweets/Data/Embeddings/en_8/en_8.csv\"\n",
    ")\n",
    "df_9 = pd.read_csv(\n",
    "    \"/Users/robinfeldmann/TopicAnalysisRUWTweets/Data/Embeddings/en_9/en_9.csv\"\n",
    ")\n",
    "df_10 = pd.read_csv(\n",
    "    \"/Users/robinfeldmann/TopicAnalysisRUWTweets/Data/Embeddings/en_10/en_10.csv\"\n",
    ")"
   ]
  },
  {
   "cell_type": "code",
   "execution_count": 11,
   "metadata": {},
   "outputs": [
    {
     "data": {
      "text/plain": [
       "True"
      ]
     },
     "execution_count": 11,
     "metadata": {},
     "output_type": "execute_result"
    }
   ],
   "source": [
    "df = pd.concat([df_0, df_1, df_2, df_3, df_4, df_5, df_6, df_7, df_8, df_9, df_10])\n",
    "df.duplicated(\"tweetid\").any()"
   ]
  },
  {
   "cell_type": "code",
   "execution_count": 12,
   "metadata": {},
   "outputs": [
    {
     "data": {
      "text/plain": [
       "False    12116409\n",
       "True            3\n",
       "Name: count, dtype: int64"
      ]
     },
     "execution_count": 12,
     "metadata": {},
     "output_type": "execute_result"
    }
   ],
   "source": [
    "df.duplicated(\"tweetid\").value_counts()"
   ]
  }
 ],
 "metadata": {
  "kernelspec": {
   "display_name": "Python 3",
   "language": "python",
   "name": "python3"
  },
  "language_info": {
   "codemirror_mode": {
    "name": "ipython",
    "version": 3
   },
   "file_extension": ".py",
   "mimetype": "text/x-python",
   "name": "python",
   "nbconvert_exporter": "python",
   "pygments_lexer": "ipython3",
   "version": "3.11.7"
  }
 },
 "nbformat": 4,
 "nbformat_minor": 2
}
