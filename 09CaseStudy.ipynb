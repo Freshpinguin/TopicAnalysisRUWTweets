{
 "cells": [
  {
   "cell_type": "markdown",
   "metadata": {},
   "source": [
    "# 09 Case Study"
   ]
  },
  {
   "cell_type": "markdown",
   "metadata": {},
   "source": [
    "0. Introduction\n",
    "1. Selecting Topics\n",
    "    1. Choosing four Topics\n",
    "    2. Process of Selecting Tweets \n",
    "    3. Presenting overview\n",
    "    4. Topic 1\n",
    "    5. Topic 2\n",
    "    6. Topic 3\n",
    "    7. Topic 4\n",
    "2. LDA\n",
    "3. BerTopic"
   ]
  },
  {
   "cell_type": "code",
   "execution_count": 10,
   "metadata": {},
   "outputs": [],
   "source": [
    "from src.SampleTranslation05.translation_01 import load_samples\n",
    "import pandas as pd\n",
    "pd.options.display.max_columns = 30 # default 20\n",
    "pd.options.display.max_rows = 60 # default 60\n",
    "pd.options.display.float_format = '{:.2f}'.format\n",
    "# pd.options.display.precision = 2"
   ]
  },
  {
   "cell_type": "code",
   "execution_count": 12,
   "metadata": {},
   "outputs": [
    {
     "data": {
      "application/javascript": "IPython.OutputArea.auto_scroll_threshold = 9999;\n",
      "text/plain": [
       "<IPython.core.display.Javascript object>"
      ]
     },
     "metadata": {},
     "output_type": "display_data"
    }
   ],
   "source": [
    "%%javascript\n",
    "IPython.OutputArea.auto_scroll_threshold = 9999;"
   ]
  },
  {
   "cell_type": "code",
   "execution_count": 92,
   "metadata": {},
   "outputs": [],
   "source": [
    "df_1 = pd.read_excel(\"samples.xlsx\")"
   ]
  },
  {
   "cell_type": "code",
   "execution_count": 89,
   "metadata": {},
   "outputs": [],
   "source": [
    "df_1 = df_1[~df_1['cleaned_text_translated'].isna()]"
   ]
  },
  {
   "cell_type": "code",
   "execution_count": 91,
   "metadata": {},
   "outputs": [
    {
     "data": {
      "text/plain": [
       "115      there can actually only be one comprehensible ...\n",
       "156      the interior ministry of  ukraine reported on ...\n",
       "274      according to the mayor of  mariupol, more than...\n",
       "665      🇺🇦  ukraine  update 🔹ukrainian railway reports...\n",
       "790      in the kiev region, residents shot a family: t...\n",
       "                               ...                        \n",
       "48609    euronews 🔵  ukraine: a little girl killed and ...\n",
       "48666    ❗️5 civilians, residents of the belgorod regio...\n",
       "48806    🇺🇦🇷🇺 a russian ural-4320 transport truck was c...\n",
       "48856    ukraine at least three people killed in russia...\n",
       "48871    (the   war in  ukraine, live: 487 children hav...\n",
       "Name: cleaned_text_translated, Length: 504, dtype: object"
      ]
     },
     "execution_count": 91,
     "metadata": {},
     "output_type": "execute_result"
    }
   ],
   "source": [
    "df_1[df_1['cleaned_text_translated'].str.contains('killed')]['cleaned_text_translated']"
   ]
  },
  {
   "cell_type": "code",
   "execution_count": 51,
   "metadata": {},
   "outputs": [
    {
     "data": {
      "text/plain": [
       "array([nan, 'sanctions', 'unjustified_war', 'arms_delivery',\n",
       "       'people_killed'], dtype=object)"
      ]
     },
     "execution_count": 51,
     "metadata": {},
     "output_type": "execute_result"
    }
   ],
   "source": [
    "df_1['topics'].unique()"
   ]
  },
  {
   "cell_type": "code",
   "execution_count": 93,
   "metadata": {},
   "outputs": [
    {
     "data": {
      "text/plain": [
       "topics\n",
       "sanctions             26\n",
       "unjustified_war       26\n",
       "arms_delivery         26\n",
       "people_killed         25\n",
       "kriegsbeschreibung     3\n",
       "santioncs              1\n",
       "Name: count, dtype: int64"
      ]
     },
     "execution_count": 93,
     "metadata": {},
     "output_type": "execute_result"
    }
   ],
   "source": [
    "df_1['topics'].value_counts()"
   ]
  },
  {
   "cell_type": "code",
   "execution_count": 94,
   "metadata": {},
   "outputs": [],
   "source": [
    "df = df_1[~df_1['topics'].isna()]"
   ]
  },
  {
   "cell_type": "markdown",
   "metadata": {},
   "source": [
    "In this case study, i will hand select 100 tweets and divide them into three topics. Then i will run LDA, BertTopic and BertTopic Multilingual on them and evaluate them against my handpicked topics."
   ]
  },
  {
   "cell_type": "code",
   "execution_count": 96,
   "metadata": {},
   "outputs": [],
   "source": [
    "df.to_csv('/Users/robinfeldmann/TopicAnalysisRUWTweets/src/CaseStudy09/case_study.csv')"
   ]
  }
 ],
 "metadata": {
  "kernelspec": {
   "display_name": "Python 3",
   "language": "python",
   "name": "python3"
  },
  "language_info": {
   "codemirror_mode": {
    "name": "ipython",
    "version": 3
   },
   "file_extension": ".py",
   "mimetype": "text/x-python",
   "name": "python",
   "nbconvert_exporter": "python",
   "pygments_lexer": "ipython3",
   "version": "3.11.6"
  }
 },
 "nbformat": 4,
 "nbformat_minor": 2
}
