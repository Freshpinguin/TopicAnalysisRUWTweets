{
 "cells": [
  {
   "cell_type": "markdown",
   "metadata": {},
   "source": [
    "# 09 Case Study"
   ]
  },
  {
   "cell_type": "markdown",
   "metadata": {},
   "source": [
    "0. Introduction\n",
    "1. Selecting Topics\n",
    "    1. Choosing four Topics\n",
    "    2. Process of Selecting Tweets \n",
    "    3. Presenting overview\n",
    "    4. Topic 1\n",
    "    5. Topic 2\n",
    "    6. Topic 3\n",
    "    7. Topic 4\n",
    "2. LDA\n",
    "3. BerTopic"
   ]
  },
  {
   "cell_type": "code",
   "execution_count": 146,
   "metadata": {},
   "outputs": [],
   "source": [
    "from src.SampleTranslation05.translation_01 import load_samples\n",
    "import pandas as pd\n",
    "pd.options.display.max_columns = 30 # default 20\n",
    "pd.options.display.max_rows = 60 # default 60\n",
    "pd.options.display.float_format = '{:.2f}'.format\n",
    "# pd.options.display.precision = 2\n",
    "from src.explorativ_analysis_05 import split_strings_to_list"
   ]
  },
  {
   "cell_type": "code",
   "execution_count": 50,
   "metadata": {},
   "outputs": [],
   "source": [
    "df_1 = pd.read_excel(\"samples_cleaned.xlsx\")\n",
    "df_1 = df_1.assign(\n",
    "    translated_lemmas = df_1['translated_lemmas'].apply(split_strings_to_list),\n",
    "    lemmas = df_1['lemmas'].apply(split_strings_to_list)\n",
    ")\n",
    "df_test = df_1[~df_1['topics'].isna()]\n",
    "df_test = df_test[df_test['topics'].isin(['sanctions', 'unjustified_war', 'arms_delivery', 'people_killed'])]\n"
   ]
  },
  {
   "cell_type": "code",
   "execution_count": 49,
   "metadata": {},
   "outputs": [
    {
     "data": {
      "text/plain": [
       "Index(['Unnamed: 0.2', 'Unnamed: 0.1', 'Unnamed: 0', 'text', 'translated',\n",
       "       'tweetcreatedts', 'tweetid', 'week', 'cleaned_text_translated',\n",
       "       'cleaned_text', 'lemmas', 'adjs_verbs', 'nouns', 'entities', 'emojis',\n",
       "       'translated_lemmas', 'translated_adjs_verbs', 'translated_nouns',\n",
       "       'translated_entities', 'translated_emojis', 'lang', 'topics',\n",
       "       'Unnamed: 21', 'topics_robin'],\n",
       "      dtype='object')"
      ]
     },
     "execution_count": 49,
     "metadata": {},
     "output_type": "execute_result"
    }
   ],
   "source": [
    "df_test.columns"
   ]
  },
  {
   "cell_type": "markdown",
   "metadata": {},
   "source": [
    "In this case study, i will hand select 100 tweets and divide them into three topics. Then i will run LDA, BertTopic and BertTopic Multilingual on them and evaluate them against my handpicked topics."
   ]
  },
  {
   "cell_type": "code",
   "execution_count": 4,
   "metadata": {},
   "outputs": [
    {
     "name": "stderr",
     "output_type": "stream",
     "text": [
      "/Users/robinfeldmann/Library/Python/3.11/lib/python/site-packages/transformers/utils/generic.py:441: UserWarning: torch.utils._pytree._register_pytree_node is deprecated. Please use torch.utils._pytree.register_pytree_node instead.\n",
      "  _torch_pytree._register_pytree_node(\n",
      "/Users/robinfeldmann/Library/Python/3.11/lib/python/site-packages/transformers/utils/generic.py:309: UserWarning: torch.utils._pytree._register_pytree_node is deprecated. Please use torch.utils._pytree.register_pytree_node instead.\n",
      "  _torch_pytree._register_pytree_node(\n"
     ]
    }
   ],
   "source": [
    "from sentence_transformers import SentenceTransformer\n",
    "model_labse = SentenceTransformer('sentence-transformers/LaBSE')"
   ]
  },
  {
   "cell_type": "code",
   "execution_count": 5,
   "metadata": {},
   "outputs": [],
   "source": [
    "from src.TextEmbeddings08.text_embeddings import visualise_with_dimensional_reduction\n",
    "from sklearn.decomposition import PCA\n",
    "pca = PCA(n_components=2)"
   ]
  },
  {
   "cell_type": "code",
   "execution_count": 65,
   "metadata": {},
   "outputs": [
    {
     "name": "stderr",
     "output_type": "stream",
     "text": [
      "100%|██████████| 100/100 [00:05<00:00, 18.61it/s]\n"
     ]
    }
   ],
   "source": [
    "#df_test['embeddings_translated'] = df_test['cleaned_text_translated'].progress_apply(model_labse.encode)\n",
    "#df_test['embeddings'] = df_test['cleaned_text'].progress_apply(model_labse.encode)\n",
    "df_test['embeddings_lemmas'] = df_test['lemmas'].str.join(\" \").progress_apply(model_labse.encode)"
   ]
  },
  {
   "cell_type": "code",
   "execution_count": 66,
   "metadata": {},
   "outputs": [
    {
     "data": {
      "application/vnd.plotly.v1+json": {
       "config": {
        "plotlyServerURL": "https://plot.ly"
       },
       "data": [
        {
         "customdata": [
          [
           "sanctions",
           "ukrainewar: the  eu  sanctions against  russia at a glance  ukrainerussiawar  ukrainerussiacrisis",
           "de"
          ],
          [
           "sanctions",
           "chancellor stop imports from russia immediately, whether gas or coal! it cannot be the case that germany is complicit in war crimes.  stopputinnow",
           "de"
          ],
          [
           "sanctions",
           "ukraine everyone complains about high gas prices the eu is financing putin's war an imbargo would make sense for a short period of time putin is financing the war from oil and gas exports!!!",
           "de"
          ],
          [
           "sanctions",
           "ukraine️ we should give up  gas and  oil from  russia. it is  unbearable that people are  slaughtered with our  money.",
           "de"
          ],
          [
           "sanctions",
           "thank you to everyone in the  cdu, the  csu and the  spd for sticking to fossil fuels and for the wonderful  putin cuddling in the  merkel era. so to speak, it's the hard-working  memory gas price.",
           "de"
          ],
          [
           "sanctions",
           "since we don't have an oil embargo against russia, the government is helping people finance the  ukraine war. it's so wrong on so many levels, i really don't have any words for it anymore.",
           "de"
          ],
          [
           "sanctions",
           "analysis: europe will close the cap on russian oil at $60 but it will not serve to harm russia  europe  russia  petroleoruso  oilbarrel  oilproduction ⬇️⬇️⬇️",
           "es"
          ],
          [
           "sanctions",
           "breaking although the european union tries to blame  putin for the energy shortage in  europe this winter, it was his own decision to suspend the import of russian gas and oil in the spring, bowing to the demands of the us and  nato.  ukrainerussianwar  russiaukrainewar",
           "es"
          ],
          [
           "sanctions",
           "the  eu is concerned that  turkey has expanded trade with  russia instead of imposing sanctions since the start of the conflict in  ukraine, said eu high representative for foreign affairs josep borrell.  la580",
           "es"
          ],
          [
           "sanctions",
           "the european commission emphasizes that the import from russia and the transit of some oil products should be allowed to ensure food and energy security in the world. first of all, poland and the baltic states oppose such a decision  stoprussia  stopputin",
           "uk"
          ],
          [
           "sanctions",
           "europe is slowly losing their standard of living. the sanction is damaging the economy. blowback russian sanction. shutdown . eurobasket . nato . russia .",
           "en"
          ],
          [
           "sanctions",
           "twenty-two individuals and two entities are subject to new anti-russian sanctions by the u.s. treasury department's office of foreign assets control (ofac).  usa  russia  sanctions",
           "en"
          ],
          [
           "sanctions",
           "russia finances hit by cheaper oil and costs of ukraine war cnn business  ukraine🇺🇦  freedom🇺🇲  keepkyivfree✊🏽  zelenskyy  fuckputin   from",
           "en"
          ],
          [
           "sanctions",
           "asks that you sign this petition   for a full western embargo on russian oil and gas and that you push big western players, including blackrock, to get the heck out of the 40 giant \"carbon bomb\" projects planned for russia  standwithukraine",
           "en"
          ],
          [
           "sanctions",
           "europe  eu  ukraine  russia the european union is set to ban sputnik, a russian government information channel, from operating on its territory.",
           "it"
          ],
          [
           "sanctions",
           "attention: germany and italy are receiving immense pressure to disconnect  russia from the  swift transaction circuit. obviously: they are the countries that have the most relations with moscow and that would take it there.",
           "it"
          ],
          [
           "sanctions",
           "apple, eni, ford and more: large companies have taken action against  russia. the list of companies that have decided to take concrete action against the russian invasion of  ukraine is dense and constantly updated  wwe2k22",
           "it"
          ],
          [
           "sanctions",
           "sanctions against  russia also affect cats. the international feline federation has announced it has banned russian cats from its competitions around the world until at least the end of may, saying it is \"horrified\" by the invasion of  ukraine.",
           "it"
          ],
          [
           "sanctions",
           "rolex stops exporting goods to  russia,  bloomberg reports.",
           "it"
          ],
          [
           "sanctions",
           "petrol  gas  wheat  fuel  bills etc other than  sanctions on  russia, this is italy's  assisted suicide  ukrainewar  draghileavenow let's give up and hand over  zelensky to him with apologies.",
           "it"
          ],
          [
           "sanctions",
           "🔴 the united states officially sanctions vladimir  putin, mae sergei  lavrov, the russian minister of defense, the deputy minister of defense and the chief of staff of the russian army.  ukrainerussia  ukrainewar  russiaukrainewar  ukrainerussiaconflict",
           "fr"
          ],
          [
           "sanctions",
           "war in ukraine: new round of american sanctions against russia and vladimir putin's daughters  ukraine  warinukraine",
           "fr"
          ],
          [
           "sanctions",
           "the boomerang effect has already been triggered. sanctions against russia generate global economic risks, which are major, particularly for the 🇫🇷. and bruno lemaire who thought he would bring  russia to its knees.  ukraine",
           "fr"
          ],
          [
           "sanctions",
           "zelensky calls on  europe to \"retaliate\" to the \"gas war\" by strengthening sanctions against  russia",
           "fr"
          ],
          [
           "sanctions",
           "the  eu visa ban on russian citizens 🇷🇺 is something that clearly hurts the  kremlin since many russians will then blame the russian dictator for losing their vacation. this is exactly why we need to do it.  russia  russian  eu",
           "fr"
          ]
         ],
         "hovertemplate": "topics=%{customdata[0]}<br>x=%{x}<br>y=%{y}<br>cleaned_text_translated=%{customdata[1]}<br>lang=%{customdata[2]}<extra></extra>",
         "legendgroup": "sanctions",
         "marker": {
          "color": "#636efa",
          "size": 10,
          "symbol": "circle"
         },
         "mode": "markers",
         "name": "sanctions",
         "orientation": "v",
         "showlegend": true,
         "type": "scatter",
         "x": [
          0.00885703507810831,
          -0.22945378720760345,
          -0.26617226004600525,
          -0.23076647520065308,
          -0.28826645016670227,
          -0.24647769331932068,
          -0.3070721924304962,
          -0.28064608573913574,
          -0.3391519784927368,
          -0.43868860602378845,
          -0.1498844027519226,
          -0.1505754292011261,
          -0.04579378664493561,
          -0.28865617513656616,
          -0.2496584951877594,
          -0.39888763427734375,
          -0.30328720808029175,
          -0.11987467110157013,
          -0.3198021948337555,
          -0.04046942666172981,
          0.036134425550699234,
          0.09354446083307266,
          -0.24792525172233582,
          -0.24277779459953308,
          -0.07642210274934769
         ],
         "xaxis": "x",
         "y": [
          -0.35057786107063293,
          -0.002794506261125207,
          -0.1051047071814537,
          0.032573167234659195,
          0.32671576738357544,
          -0.040242478251457214,
          -0.01019870862364769,
          -0.1390235722064972,
          -0.2732408046722412,
          0.12974373996257782,
          0.006795173045247793,
          -0.0756726935505867,
          -0.11741615831851959,
          0.03525110334157944,
          -0.08623763918876648,
          0.091698557138443,
          -0.1296977400779724,
          -0.09905015677213669,
          0.10332565754652023,
          0.11337140202522278,
          -0.22332456707954407,
          -0.33409035205841064,
          -0.13407668471336365,
          -0.07794393599033356,
          -0.13863985240459442
         ],
         "yaxis": "y"
        },
        {
         "customdata": [
          [
           "unjustified_war",
           "vogt-wuchter: \"we are shocked by the war in ukraine in the middle of europe which russia launched against its neighboring country in violation of international law.\" civilians are victims of the conflict. hundreds of thousands are fleeing. statement:    ukraine",
           "de"
          ],
          [
           "unjustified_war",
           "oh, a special conversation situation.  putin wages war and commits war crimes. you can save yourself that crap.",
           "de"
          ],
          [
           "unjustified_war",
           "the federal attorney general is investigating... possible  warcrimes  russia in  ukraine but not against president  putin personally. the international criminal court (icc) is also already investigating. after .../2",
           "de"
          ],
          [
           "unjustified_war",
           "the targeted bomb attack on the  children's clinic in  mariupol is despicably unscrupulous and shows the full inhumanity of  putin. it is a barbaric, brutal  warcrime inexcusably inhumane.  stopputinnow  standwithukraine  putinisawarcriminal",
           "de"
          ],
          [
           "unjustified_war",
           "i watched carefully, and it seemed to me that he wanted to repeat the georgia 2008 option by making ukraine the aggressor. and here ukraine did not fall into any traps, all the fakes were exposed instantly, and as a result, nothing limited international support. saakashvili's lesson has been learned.",
           "ru"
          ],
          [
           "unjustified_war",
           "there is not a single generation of the ukrainian people that has not suffered at the hands of the russians. the realization of this hurts so much that it often seems as if this hell will never end. as if this hell is life itself.",
           "uk"
          ],
          [
           "unjustified_war",
           "the terrorist organization \"russia\" fired a volley of s-300 missiles at a convoy of people heading to the occupied territory to visit their relatives, killing dozens of civilians. when will a special tribunal be created to criminalize the regime of these scum?  russiaisaterroriststate  russia  ukraine",
           "uk"
          ],
          [
           "unjustified_war",
           "more and more evidence of  russian war crimes uncovered on a near daily basis in  ukraine️. all being documented and sent to the  hague.",
           "en"
          ],
          [
           "unjustified_war",
           "allies do not and will never recognize russia's illegal and illegitimate annexation of crimea. sham referenda in the donetsk, luhansk, zaporizhzhia, and kherson regions of ukraine have no legitimacy and will be a blatant violation of the un charter  standwithukraine",
           "en"
          ],
          [
           "unjustified_war",
           "anyone who deliberately attacks hospitals and civilian homes is a criminal and should be punished immediately, but even those who tolerate it, by refusing to back down from their positions, are contributing to the mass slaughter of their people. russiaukraineconflict  ukrainewar",
           "it"
          ],
          [
           "unjustified_war",
           "lavrov  putin and all those who carried out the massacre in  ukraine will have to pay for their crimes with the death penalty, let's hope they don't go unpunished as happened with the bastards who exterminated vietnamese children with napalm.",
           "it"
          ],
          [
           "unjustified_war",
           "let's be clear:  putin ordered to attack, bomb and hit  ukraine. the initiative of the  war is his, the invasion is criminal, the  ukrainians have every  right and  duty to offer  resistance to the invaders. demanding their surrender is an embarrassing infamy.",
           "it"
          ],
          [
           "unjustified_war",
           "three weeks after the start of the war, people still have to understand that there is an invader and an invaded. let's do well.  sbetti  ukraine️  nowar  ukrainewar  whitezone",
           "it"
          ],
          [
           "unjustified_war",
           "so  putin asks nato not to let ukraine in, ergo it invades and destroys ukraine and ukraine must not defend itself. it's a reasoning worthy of hitler",
           "it"
          ],
          [
           "unjustified_war",
           "warrussiaukraine  putinwarcriminal  putin it's very clear ! and very simple! just say it loud and clear! putin is an invading aggressor war criminal!",
           "fr"
          ],
          [
           "unjustified_war",
           "🔴 \" putin is a war criminal\": \"this is the first time that joe  biden has said it this term has weight, meaning, especially today, especially after v's speech.  zelensky\", reports  our correspondent  in  ruthelkrief2022",
           "fr"
          ],
          [
           "unjustified_war",
           "pentagon accused the russian military of committing war crimes in ukraine and said it will help gather evidence.    ukraineunderattack  russianwarcrimes  russianukrainianwar  stoprussia  putinswar  putinhitler  russiakills",
           "fr"
          ],
          [
           "unjustified_war",
           "carla del ponte: \"putin is a war criminal\"  putinwarcrimes",
           "fr"
          ],
          [
           "unjustified_war",
           "via  \"mr. putin was wrong about almost everything. this war has been an error of interpretation from the start.\"  ukraine on franceinfo, this former general, now professor of strategy at sciences po and hec, looks back on…",
           "fr"
          ],
          [
           "unjustified_war",
           "putin's criminal and corrupt  russia tortures prisoners of war!!!!  ukraine",
           "fr"
          ],
          [
           "unjustified_war",
           "here is proof of another russian war crime. in this phone call, a russian commander orders his subordinate to kill ukrainian prisoners of war in the town of popasna in eastern  ukraine.  ukrainerussiawar",
           "fr"
          ],
          [
           "unjustified_war",
           "if you say \"war\" to him he won't respond..  operationspecial: the ukrainians refuse to be \"liberated\" by putin; so by \"attacking\" the russians the war becomes automatic due to  zelensky (must follow!)",
           "fr"
          ],
          [
           "unjustified_war",
           "alert the international criminal court issues an arrest warrant against russian president vladimir  putin for war crimes in ukraine.",
           "fr"
          ],
          [
           "unjustified_war",
           "🔴  ukrainerussianwar urgent‼️ the international criminal court issued an arrest warrant for russian president vladimir putin on friday, charging him with war crimes for the illegal deportation of children from ukraine to russia.  civ225  mali  burkina  niger  senegal",
           "fr"
          ],
          [
           "unjustified_war",
           "war in  ukraine:  russia committed wide range of war crimes, says un commission of inquiry report",
           "fr"
          ]
         ],
         "hovertemplate": "topics=%{customdata[0]}<br>x=%{x}<br>y=%{y}<br>cleaned_text_translated=%{customdata[1]}<br>lang=%{customdata[2]}<extra></extra>",
         "legendgroup": "unjustified_war",
         "marker": {
          "color": "#EF553B",
          "size": 10,
          "symbol": "circle"
         },
         "mode": "markers",
         "name": "unjustified_war",
         "orientation": "v",
         "showlegend": true,
         "type": "scatter",
         "x": [
          0.1587306708097458,
          -0.07211942225694656,
          -0.0031736085657030344,
          0.11209511756896973,
          -0.091159388422966,
          0.046118758618831635,
          0.2058311402797699,
          0.08131518214941025,
          -0.06569433212280273,
          0.14998936653137207,
          0.09825679659843445,
          0.020259317010641098,
          0.17142996191978455,
          -0.1529630571603775,
          0.14086510241031647,
          0.07916846126317978,
          0.05774743854999542,
          0.06642685830593109,
          -0.06609674543142319,
          0.2559961676597595,
          0.26025834679603577,
          -0.09728637337684631,
          -0.014132000505924225,
          0.004526699427515268,
          0.07486220449209213
         ],
         "xaxis": "x",
         "y": [
          -0.210305854678154,
          -0.06033311411738396,
          -0.2618148624897003,
          -0.03490273281931877,
          -0.05999409034848213,
          0.09555766731500626,
          0.14585860073566437,
          0.019073275849223137,
          -0.10928919911384583,
          -0.04698369279503822,
          -0.1012338325381279,
          -0.2871142029762268,
          0.018260397017002106,
          -0.15804368257522583,
          -0.12678031623363495,
          -0.04332928732037544,
          -0.2263317108154297,
          0.13035458326339722,
          -0.027642641216516495,
          -0.16478542983531952,
          -0.12759441137313843,
          -0.1475999504327774,
          -0.3825792670249939,
          -0.3157164454460144,
          -0.1917928010225296
         ],
         "yaxis": "y"
        },
        {
         "customdata": [
          [
           "people_killed",
           "the interior ministry of  ukraine reported on sunday evening 352 civilians killed since russia's attack on ukraine, including 14 children. a further 1,684 wounded people were counted, including 116 children.  fckptn  weapons  ukrainewar  putinswar  belarus  putin",
           "de"
          ],
          [
           "people_killed",
           "🛑🛑🇷🇺🇺🇦 russia attacked the settlement in the svyatoshinsky district of kiev! mayor; \"5 people were injured, 2 were hospitalized\"  ukrainerussiawar  ukraine  russia  kiev  kyiv",
           "de"
          ],
          [
           "people_killed",
           "people are being slaughtered, kidnapped, raped and thrown into mass graves by the russians in  mariupol. but of course, ukraine should capitulate and insist on peace. do you notice anything else?",
           "de"
          ],
          [
           "people_killed",
           "russia: 2,500 dead seals found on the coast of the caspian sea, in russia.",
           "es"
          ],
          [
           "people_killed",
           "three people died in the crash of a mi-8 helicopter in russia's buryatia.  ukraine  ukraine  russian  war",
           "es"
          ],
          [
           "people_killed",
           "the burial of an entire family was found in izyum. we are talking about the stolpakov family: 31-year-old elena and 33-year-old dmytro, as well as their daughters 5-year-old lesya and 8-year-old sasha, as well as their grandmother (according to other data, the grandfather also died)  russiaisaterrorisstate  izium  ukraine️  stoprussianaggression",
           "uk"
          ],
          [
           "people_killed",
           "a total of 447 dead were found. among them are 425 civilians and 22 soldiers of the armed forces of ukraine.  stoprussia",
           "uk"
          ],
          [
           "people_killed",
           "fragments of a child's body were found at the site of a rocket attack in dnipro    ukraine  dnipro",
           "uk"
          ],
          [
           "people_killed",
           "breaking! two killed and three injured in donetsk more details of overnight attacks are emerging from ukraine today.  theshadepill  stoprussia  russiakillscivilians  emergency  trending",
           "en"
          ],
          [
           "people_killed",
           "20 reportedly killed as russian forces shelled civilian convoy in kupiansky district, kharkiv oblast  russia  ukraine  war",
           "en"
          ],
          [
           "people_killed",
           "they bombed hospitals, universities, homes of ordinary citizens, they bombed kindergartens, schools... they killed children, women and men... only an infamous person could do something like that.  russianukrainianwar  putin  ucrania",
           "it"
          ],
          [
           "people_killed",
           "unity  crisis  international ; 5 dead after the air attack on the  ukraine television headquarters. reports of violence from students and women are increasing.  noallaguerra  siallavita  russiaukraineconflict  russiaukrainewar  negotiations.",
           "it"
          ],
          [
           "people_killed",
           "russia without dignity or shame: the children's hospital in  mariupol bombed. deaths and injuries among doctors, nurses and young patients",
           "it"
          ],
          [
           "people_killed",
           "hell in  mariupol! here is the strategic city flown over by a drone the view is atrocious, heartbreaking  putin brought back hell on earth after 77 years: 2500 deaths, no electricity, water, food, heating i no longer have doubts: putin must be stopped. and you?   turkey",
           "it"
          ],
          [
           "people_killed",
           "because the victims of this filthy war have a name, a face... tetyana is a young mother living on the outskirts of kyiv. in this video, she says: \"parents of russia, your children are on our land and they are killing us.\"  ukraine  ukraineinvasion  russiaukraine",
           "fr"
          ],
          [
           "people_killed",
           "newsflash at least 22 civilians killed in  russian strike on  ukrainian city of chernihiv, rescuers search for more debris  russianukrainianwar",
           "fr"
          ],
          [
           "people_killed",
           "invasion of ukraine: three journalists killed, more than 30 injured since the russian invasion  ukraine  warinukraine",
           "fr"
          ],
          [
           "people_killed",
           "ukraine 🇺🇦: as a result of today's explosion in  donetsk, 20 civilians were killed, another 28 people were injured. a rally against the russian occupation was planned for today in the city center.",
           "fr"
          ],
          [
           "people_killed",
           "another  artist has gone to the  stars. death of  oksanashvets, famous  actress in  ukraine, killed in a bombing in  kiev.",
           "fr"
          ],
          [
           "people_killed",
           "the latest photo of a happy couple anton hannah. the russians shot at them as they tried to evacuate the kyiv suburb  bucha. anton was killed. their unborn baby also did not survive the attack. in an instant a woman lost everything: her home and her family",
           "fr"
          ],
          [
           "people_killed",
           "🇺🇦 ukraine: this photo was posted by little sacha's mother. after weeks of searching, the lifeless body of the 4-year-old boy was found. he was trying to escape the arrival of the russians with his grandmother, who was found dead on march 11.",
           "fr"
          ],
          [
           "people_killed",
           "rescuers say human bodies belong to local residents killed by invaders... another  war crime of the russian army...  ukraine",
           "fr"
          ],
          [
           "people_killed",
           "🔴 6 people shot dead found in a basement in the suburbs of kyiv.  russianukrainianwar  ukraine  ukraineunderattack",
           "fr"
          ],
          [
           "people_killed",
           "ukraine after the missile strikes which left at least six dead and eight injured in lviv, residents of this western city, relatively untouched by the fighting, fled.   via",
           "fr"
          ],
          [
           "people_killed",
           "ukraine: at least two civilians killed and 10 injured after russian strikes in kramatorsk    ukraine  war  russia",
           "fr"
          ]
         ],
         "hovertemplate": "topics=%{customdata[0]}<br>x=%{x}<br>y=%{y}<br>cleaned_text_translated=%{customdata[1]}<br>lang=%{customdata[2]}<extra></extra>",
         "legendgroup": "people_killed",
         "marker": {
          "color": "#00cc96",
          "size": 10,
          "symbol": "circle"
         },
         "mode": "markers",
         "name": "people_killed",
         "orientation": "v",
         "showlegend": true,
         "type": "scatter",
         "x": [
          0.3162740170955658,
          0.35857832431793213,
          0.26793017983436584,
          0.11276022344827652,
          0.2655697166919708,
          0.04638940840959549,
          0.27314937114715576,
          0.20860394835472107,
          0.3363545536994934,
          0.35450121760368347,
          0.26579248905181885,
          0.23939765989780426,
          0.1871185600757599,
          -0.006154204253107309,
          0.33674758672714233,
          0.40974292159080505,
          0.2835807204246521,
          0.3071194589138031,
          0.3033120334148407,
          0.09538669884204865,
          0.17131724953651428,
          0.3417516052722931,
          0.4570806324481964,
          0.29346224665641785,
          0.3489542603492737
         ],
         "xaxis": "x",
         "y": [
          -0.16496412456035614,
          -0.040198493748903275,
          0.08018024265766144,
          0.31085625290870667,
          0.04612141475081444,
          0.46945586800575256,
          0.3812553584575653,
          0.4919946491718292,
          -0.0484694242477417,
          -0.03747933730483055,
          0.024376321583986282,
          -0.15419897437095642,
          0.12197025120258331,
          0.10241449624300003,
          0.0032929012086242437,
          0.09377367794513702,
          -0.1716729700565338,
          -0.02625024877488613,
          0.12285645306110382,
          0.23925168812274933,
          0.23779313266277313,
          0.13261163234710693,
          0.05045543238520622,
          0.10769177973270416,
          -0.12960481643676758
         ],
         "yaxis": "y"
        },
        {
         "customdata": [
          [
           "arms_delivery",
           "we germans in particular should be ashamed that we don't help  ukraine much more, especially not with many more and stronger weapons....",
           "de"
          ],
          [
           "arms_delivery",
           "\" ukraine needs heavy weapons,\" says ex-civil service worker, nikolas busse! 🤦😂",
           "de"
          ],
          [
           "arms_delivery",
           "just deliver a few long-range nuclear missiles to  ukraine,  putin will get out of ukraine faster than fler will get out of hoe. 😆",
           "de"
          ],
          [
           "arms_delivery",
           "dear friends, our  cheetah tanks are used in  ukraine, for example, to protect infrastructure such as the port of  odessa. anyone who does not supply ammunition to an invaded state for national defense can no longer be a reliable supplier of ammunition for us",
           "de"
          ],
          [
           "arms_delivery",
           "🇷🇺🔥🇺🇦  russia vs  ukraine day 287 according to this, the  usa would be pressuring  germany to deliver leopard 2 battle tanks (we understand 2a4) to ukraine.",
           "es"
          ],
          [
           "arms_delivery",
           "cnn: biden is finalizing sending patriot to ukraine  ukraina  russia  war",
           "es"
          ],
          [
           "arms_delivery",
           "large-scale supplies of weapons are vital for ukraine to defend itself from crazy russia, which has become obsessed with russian fascism and started an unjust, genocidal, illegal war. if russia were attacked, it would also receive help for self-defense.",
           "ru"
          ],
          [
           "arms_delivery",
           "an american strategic reconnaissance drone rq-4 global hawk is circling off the coast of crimea. 😅🔥👌🏻  ukrainerussianwar  ukrainecounteroffensive  war on ukraine  ukraine️  russiaukrainewar  russiaisaterroriststate  usa",
           "ru"
          ],
          [
           "arms_delivery",
           "lithuania will not be able to transfer nasams air defense systems to ukraine, but will provide shells for the pzh 2000 self-propelled guns    russia  ukraine",
           "ru"
          ],
          [
           "arms_delivery",
           "ukrainerussianwar 🕶️⚡️🇹🇷🇹🇷👍👍‼️ turkey delivered a batch of trlg-230 high-precision missiles to ukraine. they are launched from the roketsan development platform. the flight range is 70 km, laser beam guidance system. target illumination is provided by bayraktar tb2.",
           "ru"
          ],
          [
           "arms_delivery",
           "g7 leaders expressed unwavering support for ukraine and promised air defense systems    russia  ukraine",
           "ru"
          ],
          [
           "arms_delivery",
           "the german company rheinmetall has confirmed an order for the production of two skynex air defense systems for ukraine, handelsblatt reports.  ukraine  kherson  crimea  dnipro  wagner  bakhmut  himars  kyiv  belarus  ukrainian  moscow  crimea  donetsk  bakhmut",
           "ru"
          ],
          [
           "arms_delivery",
           "🇺🇸the us congress instructed the pentagon to accelerate the delivery of large drones to ukraine  russiainvadedukraine  russiaisaterroiststate  usa  ukraine️",
           "uk"
          ],
          [
           "arms_delivery",
           "f-16 with semi-stealth agm-158 missiles with a range of 370 km, 925 km and 1900 km depending on the modification. uncle joe, please!   ukrainewar  f16forukraine  agm158forukraine  armukrainanow",
           "uk"
          ],
          [
           "arms_delivery",
           "here we do have the challenge. the european  nato countries with missing stockpiles of key weaponry does make the nato weak. there has to be a balance between weapons sent to ukraine and weapons kept for own/nato defence. no matter how much any nato country would like to help.",
           "en"
          ],
          [
           "arms_delivery",
           "this is horrible..and probably the tip of the iceberg..  russians were sent to murder, torture, rape, destroy everything in  ukraine...  russiaisanazistate",
           "en"
          ],
          [
           "arms_delivery",
           "i hope you are wrong. however we all know what it needs are  abrams,  leopard2,  challenger2 and/or  leclerc battletanks to really make a difference. we could send those in such numbers, that they would overwhelm the  russian army for sure.",
           "en"
          ],
          [
           "arms_delivery",
           ".  polishpres.  duda in  lviv today:\"a major military modernization program is underway in  poland. the equipment we are replacing will be sent to  ukraine\".it means ukraine can count on hundreds of pieces of polish tanks,ifvs mlrs over time(pt-91/t-72/bmp/grad)🇵🇱🇺🇦",
           "en"
          ],
          [
           "arms_delivery",
           "the sending of weapons by  nato countries to  ukraine is an act of war against  russia. let's just hope  putin doesn't pay attention to it.",
           "it"
          ],
          [
           "arms_delivery",
           "russiaucrania  russia  ukraine  draghi  italy  eu but who pays for the weapons sent? in addition to us and our children with the risk of their lives....",
           "it"
          ],
          [
           "arms_delivery",
           "it seems that poland has indicated its willingness to transfer its  mig29 to the ramstein base in order to send them to ukraine. so it's not just us italians who are idiots....  ukrainerussianwar",
           "it"
          ],
          [
           "arms_delivery",
           "putin's russia has the largest ballistic arsenal in the world....the  usa has run out of javelins and has himars close to stock levels....the rest of europe has never been armed. ... if  putin had strange ideas, would we throw slingshots at him now?",
           "it"
          ],
          [
           "arms_delivery",
           "let's give offensive weapons to  ukraine to face  putin's  barbaric offensive       invasionofukraine",
           "fr"
          ],
          [
           "arms_delivery",
           "it is with these  ukronazi  bandits that  nato is sending billions of dollars worth of weapons to weaken  russia. but, the  war will enter its third phase, the  worldwar, where westerners will be required to invest militarily on the ground.",
           "fr"
          ],
          [
           "arms_delivery",
           "ukraine ukraine will not receive f-16 even after six months rakhmanin",
           "fr"
          ]
         ],
         "hovertemplate": "topics=%{customdata[0]}<br>x=%{x}<br>y=%{y}<br>cleaned_text_translated=%{customdata[1]}<br>lang=%{customdata[2]}<extra></extra>",
         "legendgroup": "arms_delivery",
         "marker": {
          "color": "#ab63fa",
          "size": 10,
          "symbol": "circle"
         },
         "mode": "markers",
         "name": "arms_delivery",
         "orientation": "v",
         "showlegend": true,
         "type": "scatter",
         "x": [
          -0.09655728936195374,
          0.09284098446369171,
          -0.16332849860191345,
          -0.0563395619392395,
          -0.22505730390548706,
          0.06589709967374802,
          -0.09496012330055237,
          0.01851957105100155,
          -0.17688964307308197,
          -0.2239886075258255,
          -0.2213139533996582,
          -0.2671268582344055,
          -0.339324414730072,
          0.013004442676901817,
          -0.28747794032096863,
          0.13088078796863556,
          -0.11058494448661804,
          -0.09406483173370361,
          -0.14798685908317566,
          0.0030418226961046457,
          -0.2804199457168579,
          -0.2658079266548157,
          0.01993955485522747,
          -0.12218399345874786,
          -0.04451104626059532
         ],
         "xaxis": "x",
         "y": [
          0.10240063816308975,
          0.0526193268597126,
          -0.03379681333899498,
          0.1621726006269455,
          -0.09573695808649063,
          -0.10576857626438141,
          0.047611646354198456,
          0.16793610155582428,
          0.16400064527988434,
          0.2694450914859772,
          0.09347088634967804,
          0.149642214179039,
          0.12446232885122299,
          0.42098939418792725,
          0.15566790103912354,
          -0.022892102599143982,
          0.3094524145126343,
          0.16285336017608643,
          -0.19113220274448395,
          -0.04130451753735542,
          0.05413070321083069,
          0.08505195379257202,
          -0.16990746557712555,
          0.007988911122083664,
          0.06004989147186279
         ],
         "yaxis": "y"
        }
       ],
       "layout": {
        "legend": {
         "title": {
          "text": "topics"
         },
         "tracegroupgap": 0
        },
        "margin": {
         "t": 60
        },
        "template": {
         "data": {
          "bar": [
           {
            "error_x": {
             "color": "#2a3f5f"
            },
            "error_y": {
             "color": "#2a3f5f"
            },
            "marker": {
             "line": {
              "color": "#E5ECF6",
              "width": 0.5
             },
             "pattern": {
              "fillmode": "overlay",
              "size": 10,
              "solidity": 0.2
             }
            },
            "type": "bar"
           }
          ],
          "barpolar": [
           {
            "marker": {
             "line": {
              "color": "#E5ECF6",
              "width": 0.5
             },
             "pattern": {
              "fillmode": "overlay",
              "size": 10,
              "solidity": 0.2
             }
            },
            "type": "barpolar"
           }
          ],
          "carpet": [
           {
            "aaxis": {
             "endlinecolor": "#2a3f5f",
             "gridcolor": "white",
             "linecolor": "white",
             "minorgridcolor": "white",
             "startlinecolor": "#2a3f5f"
            },
            "baxis": {
             "endlinecolor": "#2a3f5f",
             "gridcolor": "white",
             "linecolor": "white",
             "minorgridcolor": "white",
             "startlinecolor": "#2a3f5f"
            },
            "type": "carpet"
           }
          ],
          "choropleth": [
           {
            "colorbar": {
             "outlinewidth": 0,
             "ticks": ""
            },
            "type": "choropleth"
           }
          ],
          "contour": [
           {
            "colorbar": {
             "outlinewidth": 0,
             "ticks": ""
            },
            "colorscale": [
             [
              0,
              "#0d0887"
             ],
             [
              0.1111111111111111,
              "#46039f"
             ],
             [
              0.2222222222222222,
              "#7201a8"
             ],
             [
              0.3333333333333333,
              "#9c179e"
             ],
             [
              0.4444444444444444,
              "#bd3786"
             ],
             [
              0.5555555555555556,
              "#d8576b"
             ],
             [
              0.6666666666666666,
              "#ed7953"
             ],
             [
              0.7777777777777778,
              "#fb9f3a"
             ],
             [
              0.8888888888888888,
              "#fdca26"
             ],
             [
              1,
              "#f0f921"
             ]
            ],
            "type": "contour"
           }
          ],
          "contourcarpet": [
           {
            "colorbar": {
             "outlinewidth": 0,
             "ticks": ""
            },
            "type": "contourcarpet"
           }
          ],
          "heatmap": [
           {
            "colorbar": {
             "outlinewidth": 0,
             "ticks": ""
            },
            "colorscale": [
             [
              0,
              "#0d0887"
             ],
             [
              0.1111111111111111,
              "#46039f"
             ],
             [
              0.2222222222222222,
              "#7201a8"
             ],
             [
              0.3333333333333333,
              "#9c179e"
             ],
             [
              0.4444444444444444,
              "#bd3786"
             ],
             [
              0.5555555555555556,
              "#d8576b"
             ],
             [
              0.6666666666666666,
              "#ed7953"
             ],
             [
              0.7777777777777778,
              "#fb9f3a"
             ],
             [
              0.8888888888888888,
              "#fdca26"
             ],
             [
              1,
              "#f0f921"
             ]
            ],
            "type": "heatmap"
           }
          ],
          "heatmapgl": [
           {
            "colorbar": {
             "outlinewidth": 0,
             "ticks": ""
            },
            "colorscale": [
             [
              0,
              "#0d0887"
             ],
             [
              0.1111111111111111,
              "#46039f"
             ],
             [
              0.2222222222222222,
              "#7201a8"
             ],
             [
              0.3333333333333333,
              "#9c179e"
             ],
             [
              0.4444444444444444,
              "#bd3786"
             ],
             [
              0.5555555555555556,
              "#d8576b"
             ],
             [
              0.6666666666666666,
              "#ed7953"
             ],
             [
              0.7777777777777778,
              "#fb9f3a"
             ],
             [
              0.8888888888888888,
              "#fdca26"
             ],
             [
              1,
              "#f0f921"
             ]
            ],
            "type": "heatmapgl"
           }
          ],
          "histogram": [
           {
            "marker": {
             "pattern": {
              "fillmode": "overlay",
              "size": 10,
              "solidity": 0.2
             }
            },
            "type": "histogram"
           }
          ],
          "histogram2d": [
           {
            "colorbar": {
             "outlinewidth": 0,
             "ticks": ""
            },
            "colorscale": [
             [
              0,
              "#0d0887"
             ],
             [
              0.1111111111111111,
              "#46039f"
             ],
             [
              0.2222222222222222,
              "#7201a8"
             ],
             [
              0.3333333333333333,
              "#9c179e"
             ],
             [
              0.4444444444444444,
              "#bd3786"
             ],
             [
              0.5555555555555556,
              "#d8576b"
             ],
             [
              0.6666666666666666,
              "#ed7953"
             ],
             [
              0.7777777777777778,
              "#fb9f3a"
             ],
             [
              0.8888888888888888,
              "#fdca26"
             ],
             [
              1,
              "#f0f921"
             ]
            ],
            "type": "histogram2d"
           }
          ],
          "histogram2dcontour": [
           {
            "colorbar": {
             "outlinewidth": 0,
             "ticks": ""
            },
            "colorscale": [
             [
              0,
              "#0d0887"
             ],
             [
              0.1111111111111111,
              "#46039f"
             ],
             [
              0.2222222222222222,
              "#7201a8"
             ],
             [
              0.3333333333333333,
              "#9c179e"
             ],
             [
              0.4444444444444444,
              "#bd3786"
             ],
             [
              0.5555555555555556,
              "#d8576b"
             ],
             [
              0.6666666666666666,
              "#ed7953"
             ],
             [
              0.7777777777777778,
              "#fb9f3a"
             ],
             [
              0.8888888888888888,
              "#fdca26"
             ],
             [
              1,
              "#f0f921"
             ]
            ],
            "type": "histogram2dcontour"
           }
          ],
          "mesh3d": [
           {
            "colorbar": {
             "outlinewidth": 0,
             "ticks": ""
            },
            "type": "mesh3d"
           }
          ],
          "parcoords": [
           {
            "line": {
             "colorbar": {
              "outlinewidth": 0,
              "ticks": ""
             }
            },
            "type": "parcoords"
           }
          ],
          "pie": [
           {
            "automargin": true,
            "type": "pie"
           }
          ],
          "scatter": [
           {
            "fillpattern": {
             "fillmode": "overlay",
             "size": 10,
             "solidity": 0.2
            },
            "type": "scatter"
           }
          ],
          "scatter3d": [
           {
            "line": {
             "colorbar": {
              "outlinewidth": 0,
              "ticks": ""
             }
            },
            "marker": {
             "colorbar": {
              "outlinewidth": 0,
              "ticks": ""
             }
            },
            "type": "scatter3d"
           }
          ],
          "scattercarpet": [
           {
            "marker": {
             "colorbar": {
              "outlinewidth": 0,
              "ticks": ""
             }
            },
            "type": "scattercarpet"
           }
          ],
          "scattergeo": [
           {
            "marker": {
             "colorbar": {
              "outlinewidth": 0,
              "ticks": ""
             }
            },
            "type": "scattergeo"
           }
          ],
          "scattergl": [
           {
            "marker": {
             "colorbar": {
              "outlinewidth": 0,
              "ticks": ""
             }
            },
            "type": "scattergl"
           }
          ],
          "scattermapbox": [
           {
            "marker": {
             "colorbar": {
              "outlinewidth": 0,
              "ticks": ""
             }
            },
            "type": "scattermapbox"
           }
          ],
          "scatterpolar": [
           {
            "marker": {
             "colorbar": {
              "outlinewidth": 0,
              "ticks": ""
             }
            },
            "type": "scatterpolar"
           }
          ],
          "scatterpolargl": [
           {
            "marker": {
             "colorbar": {
              "outlinewidth": 0,
              "ticks": ""
             }
            },
            "type": "scatterpolargl"
           }
          ],
          "scatterternary": [
           {
            "marker": {
             "colorbar": {
              "outlinewidth": 0,
              "ticks": ""
             }
            },
            "type": "scatterternary"
           }
          ],
          "surface": [
           {
            "colorbar": {
             "outlinewidth": 0,
             "ticks": ""
            },
            "colorscale": [
             [
              0,
              "#0d0887"
             ],
             [
              0.1111111111111111,
              "#46039f"
             ],
             [
              0.2222222222222222,
              "#7201a8"
             ],
             [
              0.3333333333333333,
              "#9c179e"
             ],
             [
              0.4444444444444444,
              "#bd3786"
             ],
             [
              0.5555555555555556,
              "#d8576b"
             ],
             [
              0.6666666666666666,
              "#ed7953"
             ],
             [
              0.7777777777777778,
              "#fb9f3a"
             ],
             [
              0.8888888888888888,
              "#fdca26"
             ],
             [
              1,
              "#f0f921"
             ]
            ],
            "type": "surface"
           }
          ],
          "table": [
           {
            "cells": {
             "fill": {
              "color": "#EBF0F8"
             },
             "line": {
              "color": "white"
             }
            },
            "header": {
             "fill": {
              "color": "#C8D4E3"
             },
             "line": {
              "color": "white"
             }
            },
            "type": "table"
           }
          ]
         },
         "layout": {
          "annotationdefaults": {
           "arrowcolor": "#2a3f5f",
           "arrowhead": 0,
           "arrowwidth": 1
          },
          "autotypenumbers": "strict",
          "coloraxis": {
           "colorbar": {
            "outlinewidth": 0,
            "ticks": ""
           }
          },
          "colorscale": {
           "diverging": [
            [
             0,
             "#8e0152"
            ],
            [
             0.1,
             "#c51b7d"
            ],
            [
             0.2,
             "#de77ae"
            ],
            [
             0.3,
             "#f1b6da"
            ],
            [
             0.4,
             "#fde0ef"
            ],
            [
             0.5,
             "#f7f7f7"
            ],
            [
             0.6,
             "#e6f5d0"
            ],
            [
             0.7,
             "#b8e186"
            ],
            [
             0.8,
             "#7fbc41"
            ],
            [
             0.9,
             "#4d9221"
            ],
            [
             1,
             "#276419"
            ]
           ],
           "sequential": [
            [
             0,
             "#0d0887"
            ],
            [
             0.1111111111111111,
             "#46039f"
            ],
            [
             0.2222222222222222,
             "#7201a8"
            ],
            [
             0.3333333333333333,
             "#9c179e"
            ],
            [
             0.4444444444444444,
             "#bd3786"
            ],
            [
             0.5555555555555556,
             "#d8576b"
            ],
            [
             0.6666666666666666,
             "#ed7953"
            ],
            [
             0.7777777777777778,
             "#fb9f3a"
            ],
            [
             0.8888888888888888,
             "#fdca26"
            ],
            [
             1,
             "#f0f921"
            ]
           ],
           "sequentialminus": [
            [
             0,
             "#0d0887"
            ],
            [
             0.1111111111111111,
             "#46039f"
            ],
            [
             0.2222222222222222,
             "#7201a8"
            ],
            [
             0.3333333333333333,
             "#9c179e"
            ],
            [
             0.4444444444444444,
             "#bd3786"
            ],
            [
             0.5555555555555556,
             "#d8576b"
            ],
            [
             0.6666666666666666,
             "#ed7953"
            ],
            [
             0.7777777777777778,
             "#fb9f3a"
            ],
            [
             0.8888888888888888,
             "#fdca26"
            ],
            [
             1,
             "#f0f921"
            ]
           ]
          },
          "colorway": [
           "#636efa",
           "#EF553B",
           "#00cc96",
           "#ab63fa",
           "#FFA15A",
           "#19d3f3",
           "#FF6692",
           "#B6E880",
           "#FF97FF",
           "#FECB52"
          ],
          "font": {
           "color": "#2a3f5f"
          },
          "geo": {
           "bgcolor": "white",
           "lakecolor": "white",
           "landcolor": "#E5ECF6",
           "showlakes": true,
           "showland": true,
           "subunitcolor": "white"
          },
          "hoverlabel": {
           "align": "left"
          },
          "hovermode": "closest",
          "mapbox": {
           "style": "light"
          },
          "paper_bgcolor": "white",
          "plot_bgcolor": "#E5ECF6",
          "polar": {
           "angularaxis": {
            "gridcolor": "white",
            "linecolor": "white",
            "ticks": ""
           },
           "bgcolor": "#E5ECF6",
           "radialaxis": {
            "gridcolor": "white",
            "linecolor": "white",
            "ticks": ""
           }
          },
          "scene": {
           "xaxis": {
            "backgroundcolor": "#E5ECF6",
            "gridcolor": "white",
            "gridwidth": 2,
            "linecolor": "white",
            "showbackground": true,
            "ticks": "",
            "zerolinecolor": "white"
           },
           "yaxis": {
            "backgroundcolor": "#E5ECF6",
            "gridcolor": "white",
            "gridwidth": 2,
            "linecolor": "white",
            "showbackground": true,
            "ticks": "",
            "zerolinecolor": "white"
           },
           "zaxis": {
            "backgroundcolor": "#E5ECF6",
            "gridcolor": "white",
            "gridwidth": 2,
            "linecolor": "white",
            "showbackground": true,
            "ticks": "",
            "zerolinecolor": "white"
           }
          },
          "shapedefaults": {
           "line": {
            "color": "#2a3f5f"
           }
          },
          "ternary": {
           "aaxis": {
            "gridcolor": "white",
            "linecolor": "white",
            "ticks": ""
           },
           "baxis": {
            "gridcolor": "white",
            "linecolor": "white",
            "ticks": ""
           },
           "bgcolor": "#E5ECF6",
           "caxis": {
            "gridcolor": "white",
            "linecolor": "white",
            "ticks": ""
           }
          },
          "title": {
           "x": 0.05
          },
          "xaxis": {
           "automargin": true,
           "gridcolor": "white",
           "linecolor": "white",
           "ticks": "",
           "title": {
            "standoff": 15
           },
           "zerolinecolor": "white",
           "zerolinewidth": 2
          },
          "yaxis": {
           "automargin": true,
           "gridcolor": "white",
           "linecolor": "white",
           "ticks": "",
           "title": {
            "standoff": 15
           },
           "zerolinecolor": "white",
           "zerolinewidth": 2
          }
         }
        },
        "xaxis": {
         "anchor": "y",
         "domain": [
          0,
          1
         ],
         "range": [
          -1.4386886060237885,
          1.4570806324481964
         ],
         "title": {
          "text": "x"
         }
        },
        "yaxis": {
         "anchor": "x",
         "domain": [
          0,
          1
         ],
         "range": [
          -1.382579267024994,
          1.4919946491718292
         ],
         "title": {
          "text": "y"
         }
        }
       }
      }
     },
     "metadata": {},
     "output_type": "display_data"
    }
   ],
   "source": [
    "visualise_with_dimensional_reduction(df_test,PCA(n_components=2), color_to_show='topics', hover_data=['topics', 'cleaned_text_translated','lang'], row_to_transform=\"embeddings_lemmas\")"
   ]
  },
  {
   "cell_type": "code",
   "execution_count": 150,
   "metadata": {},
   "outputs": [
    {
     "data": {
      "application/vnd.plotly.v1+json": {
       "config": {
        "plotlyServerURL": "https://plot.ly"
       },
       "data": [
        {
         "customdata": [
          [
           "sanctions",
           "ukrainewar: the  eu  sanctions against  russia at a glance  ukrainerussiawar  ukrainerussiacrisis",
           "de"
          ],
          [
           "sanctions",
           "chancellor stop imports from russia immediately, whether gas or coal! it cannot be the case that germany is complicit in war crimes.  stopputinnow",
           "de"
          ],
          [
           "sanctions",
           "ukraine everyone complains about high gas prices the eu is financing putin's war an imbargo would make sense for a short period of time putin is financing the war from oil and gas exports!!!",
           "de"
          ],
          [
           "sanctions",
           "ukraine️ we should give up  gas and  oil from  russia. it is  unbearable that people are  slaughtered with our  money.",
           "de"
          ],
          [
           "sanctions",
           "thank you to everyone in the  cdu, the  csu and the  spd for sticking to fossil fuels and for the wonderful  putin cuddling in the  merkel era. so to speak, it's the hard-working  memory gas price.",
           "de"
          ],
          [
           "sanctions",
           "since we don't have an oil embargo against russia, the government is helping people finance the  ukraine war. it's so wrong on so many levels, i really don't have any words for it anymore.",
           "de"
          ],
          [
           "sanctions",
           "analysis: europe will close the cap on russian oil at $60 but it will not serve to harm russia  europe  russia  petroleoruso  oilbarrel  oilproduction ⬇️⬇️⬇️",
           "es"
          ],
          [
           "sanctions",
           "breaking although the european union tries to blame  putin for the energy shortage in  europe this winter, it was his own decision to suspend the import of russian gas and oil in the spring, bowing to the demands of the us and  nato.  ukrainerussianwar  russiaukrainewar",
           "es"
          ],
          [
           "sanctions",
           "the  eu is concerned that  turkey has expanded trade with  russia instead of imposing sanctions since the start of the conflict in  ukraine, said eu high representative for foreign affairs josep borrell.  la580",
           "es"
          ],
          [
           "sanctions",
           "the european commission emphasizes that the import from russia and the transit of some oil products should be allowed to ensure food and energy security in the world. first of all, poland and the baltic states oppose such a decision  stoprussia  stopputin",
           "uk"
          ],
          [
           "sanctions",
           "europe is slowly losing their standard of living. the sanction is damaging the economy. blowback russian sanction. shutdown . eurobasket . nato . russia .",
           "en"
          ],
          [
           "sanctions",
           "twenty-two individuals and two entities are subject to new anti-russian sanctions by the u.s. treasury department's office of foreign assets control (ofac).  usa  russia  sanctions",
           "en"
          ],
          [
           "sanctions",
           "russia finances hit by cheaper oil and costs of ukraine war cnn business  ukraine🇺🇦  freedom🇺🇲  keepkyivfree✊🏽  zelenskyy  fuckputin   from",
           "en"
          ],
          [
           "sanctions",
           "asks that you sign this petition   for a full western embargo on russian oil and gas and that you push big western players, including blackrock, to get the heck out of the 40 giant \"carbon bomb\" projects planned for russia  standwithukraine",
           "en"
          ],
          [
           "sanctions",
           "europe  eu  ukraine  russia the european union is set to ban sputnik, a russian government information channel, from operating on its territory.",
           "it"
          ],
          [
           "sanctions",
           "attention: germany and italy are receiving immense pressure to disconnect  russia from the  swift transaction circuit. obviously: they are the countries that have the most relations with moscow and that would take it there.",
           "it"
          ],
          [
           "sanctions",
           "apple, eni, ford and more: large companies have taken action against  russia. the list of companies that have decided to take concrete action against the russian invasion of  ukraine is dense and constantly updated  wwe2k22",
           "it"
          ],
          [
           "sanctions",
           "sanctions against  russia also affect cats. the international feline federation has announced it has banned russian cats from its competitions around the world until at least the end of may, saying it is \"horrified\" by the invasion of  ukraine.",
           "it"
          ],
          [
           "sanctions",
           "rolex stops exporting goods to  russia,  bloomberg reports.",
           "it"
          ],
          [
           "sanctions",
           "petrol  gas  wheat  fuel  bills etc other than  sanctions on  russia, this is italy's  assisted suicide  ukrainewar  draghileavenow let's give up and hand over  zelensky to him with apologies.",
           "it"
          ],
          [
           "sanctions",
           "🔴 the united states officially sanctions vladimir  putin, mae sergei  lavrov, the russian minister of defense, the deputy minister of defense and the chief of staff of the russian army.  ukrainerussia  ukrainewar  russiaukrainewar  ukrainerussiaconflict",
           "fr"
          ],
          [
           "sanctions",
           "war in ukraine: new round of american sanctions against russia and vladimir putin's daughters  ukraine  warinukraine",
           "fr"
          ],
          [
           "sanctions",
           "the boomerang effect has already been triggered. sanctions against russia generate global economic risks, which are major, particularly for the 🇫🇷. and bruno lemaire who thought he would bring  russia to its knees.  ukraine",
           "fr"
          ],
          [
           "sanctions",
           "zelensky calls on  europe to \"retaliate\" to the \"gas war\" by strengthening sanctions against  russia",
           "fr"
          ],
          [
           "sanctions",
           "the  eu visa ban on russian citizens 🇷🇺 is something that clearly hurts the  kremlin since many russians will then blame the russian dictator for losing their vacation. this is exactly why we need to do it.  russia  russian  eu",
           "fr"
          ]
         ],
         "hovertemplate": "topics=%{customdata[0]}<br>x=%{x}<br>y=%{y}<br>cleaned_text_translated=%{customdata[1]}<br>lang=%{customdata[2]}<extra></extra>",
         "legendgroup": "sanctions",
         "marker": {
          "color": "#636efa",
          "size": 10,
          "symbol": "circle"
         },
         "mode": "markers",
         "name": "sanctions",
         "orientation": "v",
         "showlegend": true,
         "type": "scatter",
         "x": [
          0.08676312863826752,
          -0.23503375053405762,
          -0.34490710496902466,
          -0.2767852544784546,
          -0.26909446716308594,
          -0.24614453315734863,
          -0.22881115972995758,
          -0.3328734338283539,
          -0.2902936339378357,
          -0.325161874294281,
          -0.2264467477798462,
          -0.06352456659078598,
          -0.0339333601295948,
          -0.26155856251716614,
          -0.2099396139383316,
          -0.3861492872238159,
          -0.17879439890384674,
          -0.13128891587257385,
          -0.19287455081939697,
          -0.24443329870700836,
          0.024640588089823723,
          0.09723877161741257,
          -0.2848864495754242,
          -0.18682698905467987,
          -0.14473557472229004
         ],
         "xaxis": "x",
         "y": [
          -0.3135838806629181,
          0.047738056629896164,
          0.03407279774546623,
          0.11988372355699539,
          0.295012891292572,
          -0.0426999107003212,
          -0.059520550072193146,
          -0.007557785138487816,
          -0.26869818568229675,
          0.06602205336093903,
          0.05724275857210159,
          -0.0936824157834053,
          -0.1944134384393692,
          0.11389793455600739,
          -0.09775577485561371,
          0.1453152745962143,
          -0.0733368992805481,
          -0.07339334487915039,
          -0.11881577223539352,
          0.13694268465042114,
          -0.2569807171821594,
          -0.3863559663295746,
          -0.04943523928523064,
          -0.2425360381603241,
          -0.07578961551189423
         ],
         "yaxis": "y"
        },
        {
         "customdata": [
          [
           "unjustified_war",
           "vogt-wuchter: \"we are shocked by the war in ukraine in the middle of europe which russia launched against its neighboring country in violation of international law.\" civilians are victims of the conflict. hundreds of thousands are fleeing. statement:    ukraine",
           "de"
          ],
          [
           "unjustified_war",
           "oh, a special conversation situation.  putin wages war and commits war crimes. you can save yourself that crap.",
           "de"
          ],
          [
           "unjustified_war",
           "the federal attorney general is investigating... possible  warcrimes  russia in  ukraine but not against president  putin personally. the international criminal court (icc) is also already investigating. after .../2",
           "de"
          ],
          [
           "unjustified_war",
           "the targeted bomb attack on the  children's clinic in  mariupol is despicably unscrupulous and shows the full inhumanity of  putin. it is a barbaric, brutal  warcrime inexcusably inhumane.  stopputinnow  standwithukraine  putinisawarcriminal",
           "de"
          ],
          [
           "unjustified_war",
           "i watched carefully, and it seemed to me that he wanted to repeat the georgia 2008 option by making ukraine the aggressor. and here ukraine did not fall into any traps, all the fakes were exposed instantly, and as a result, nothing limited international support. saakashvili's lesson has been learned.",
           "ru"
          ],
          [
           "unjustified_war",
           "there is not a single generation of the ukrainian people that has not suffered at the hands of the russians. the realization of this hurts so much that it often seems as if this hell will never end. as if this hell is life itself.",
           "uk"
          ],
          [
           "unjustified_war",
           "the terrorist organization \"russia\" fired a volley of s-300 missiles at a convoy of people heading to the occupied territory to visit their relatives, killing dozens of civilians. when will a special tribunal be created to criminalize the regime of these scum?  russiaisaterroriststate  russia  ukraine",
           "uk"
          ],
          [
           "unjustified_war",
           "more and more evidence of  russian war crimes uncovered on a near daily basis in  ukraine️. all being documented and sent to the  hague.",
           "en"
          ],
          [
           "unjustified_war",
           "allies do not and will never recognize russia's illegal and illegitimate annexation of crimea. sham referenda in the donetsk, luhansk, zaporizhzhia, and kherson regions of ukraine have no legitimacy and will be a blatant violation of the un charter  standwithukraine",
           "en"
          ],
          [
           "unjustified_war",
           "anyone who deliberately attacks hospitals and civilian homes is a criminal and should be punished immediately, but even those who tolerate it, by refusing to back down from their positions, are contributing to the mass slaughter of their people. russiaukraineconflict  ukrainewar",
           "it"
          ],
          [
           "unjustified_war",
           "lavrov  putin and all those who carried out the massacre in  ukraine will have to pay for their crimes with the death penalty, let's hope they don't go unpunished as happened with the bastards who exterminated vietnamese children with napalm.",
           "it"
          ],
          [
           "unjustified_war",
           "let's be clear:  putin ordered to attack, bomb and hit  ukraine. the initiative of the  war is his, the invasion is criminal, the  ukrainians have every  right and  duty to offer  resistance to the invaders. demanding their surrender is an embarrassing infamy.",
           "it"
          ],
          [
           "unjustified_war",
           "three weeks after the start of the war, people still have to understand that there is an invader and an invaded. let's do well.  sbetti  ukraine️  nowar  ukrainewar  whitezone",
           "it"
          ],
          [
           "unjustified_war",
           "so  putin asks nato not to let ukraine in, ergo it invades and destroys ukraine and ukraine must not defend itself. it's a reasoning worthy of hitler",
           "it"
          ],
          [
           "unjustified_war",
           "warrussiaukraine  putinwarcriminal  putin it's very clear ! and very simple! just say it loud and clear! putin is an invading aggressor war criminal!",
           "fr"
          ],
          [
           "unjustified_war",
           "🔴 \" putin is a war criminal\": \"this is the first time that joe  biden has said it this term has weight, meaning, especially today, especially after v's speech.  zelensky\", reports  our correspondent  in  ruthelkrief2022",
           "fr"
          ],
          [
           "unjustified_war",
           "pentagon accused the russian military of committing war crimes in ukraine and said it will help gather evidence.    ukraineunderattack  russianwarcrimes  russianukrainianwar  stoprussia  putinswar  putinhitler  russiakills",
           "fr"
          ],
          [
           "unjustified_war",
           "carla del ponte: \"putin is a war criminal\"  putinwarcrimes",
           "fr"
          ],
          [
           "unjustified_war",
           "via  \"mr. putin was wrong about almost everything. this war has been an error of interpretation from the start.\"  ukraine on franceinfo, this former general, now professor of strategy at sciences po and hec, looks back on…",
           "fr"
          ],
          [
           "unjustified_war",
           "putin's criminal and corrupt  russia tortures prisoners of war!!!!  ukraine",
           "fr"
          ],
          [
           "unjustified_war",
           "here is proof of another russian war crime. in this phone call, a russian commander orders his subordinate to kill ukrainian prisoners of war in the town of popasna in eastern  ukraine.  ukrainerussiawar",
           "fr"
          ],
          [
           "unjustified_war",
           "if you say \"war\" to him he won't respond..  operationspecial: the ukrainians refuse to be \"liberated\" by putin; so by \"attacking\" the russians the war becomes automatic due to  zelensky (must follow!)",
           "fr"
          ],
          [
           "unjustified_war",
           "alert the international criminal court issues an arrest warrant against russian president vladimir  putin for war crimes in ukraine.",
           "fr"
          ],
          [
           "unjustified_war",
           "🔴  ukrainerussianwar urgent‼️ the international criminal court issued an arrest warrant for russian president vladimir putin on friday, charging him with war crimes for the illegal deportation of children from ukraine to russia.  civ225  mali  burkina  niger  senegal",
           "fr"
          ],
          [
           "unjustified_war",
           "war in  ukraine:  russia committed wide range of war crimes, says un commission of inquiry report",
           "fr"
          ]
         ],
         "hovertemplate": "topics=%{customdata[0]}<br>x=%{x}<br>y=%{y}<br>cleaned_text_translated=%{customdata[1]}<br>lang=%{customdata[2]}<extra></extra>",
         "legendgroup": "unjustified_war",
         "marker": {
          "color": "#EF553B",
          "size": 10,
          "symbol": "circle"
         },
         "mode": "markers",
         "name": "unjustified_war",
         "orientation": "v",
         "showlegend": true,
         "type": "scatter",
         "x": [
          0.0889446884393692,
          -0.12426894903182983,
          -0.06187392398715019,
          0.0037911124527454376,
          -0.1830555498600006,
          0.004221601411700249,
          0.1975816786289215,
          0.08669242262840271,
          -0.08559153228998184,
          -0.0360679104924202,
          -0.05897251516580582,
          -0.12554684281349182,
          0.11211846768856049,
          -0.20939719676971436,
          0.0499652735888958,
          0.033382050693035126,
          0.03247254341840744,
          0.072634257376194,
          -0.06756985932588577,
          0.14542122185230255,
          0.1445319503545761,
          -0.1411076784133911,
          -0.02937079593539238,
          0.033564623445272446,
          0.11655218154191971
         ],
         "xaxis": "x",
         "y": [
          -0.12055717408657074,
          -0.002652822295203805,
          -0.21237123012542725,
          0.053567785769701004,
          0.057031452655792236,
          0.19922024011611938,
          0.043876659125089645,
          -0.0348077267408371,
          0.010106921195983887,
          0.22506187856197357,
          0.250493586063385,
          -0.10310152918100357,
          0.09516429901123047,
          -0.04137163981795311,
          -0.15790165960788727,
          -0.16762883961200714,
          -0.33630266785621643,
          -0.13740622997283936,
          -0.09884701669216156,
          -0.11237209290266037,
          -0.13964997231960297,
          -0.07836863398551941,
          -0.41269999742507935,
          -0.2987056374549866,
          -0.2997659742832184
         ],
         "yaxis": "y"
        },
        {
         "customdata": [
          [
           "people_killed",
           "the interior ministry of  ukraine reported on sunday evening 352 civilians killed since russia's attack on ukraine, including 14 children. a further 1,684 wounded people were counted, including 116 children.  fckptn  weapons  ukrainewar  putinswar  belarus  putin",
           "de"
          ],
          [
           "people_killed",
           "🛑🛑🇷🇺🇺🇦 russia attacked the settlement in the svyatoshinsky district of kiev! mayor; \"5 people were injured, 2 were hospitalized\"  ukrainerussiawar  ukraine  russia  kiev  kyiv",
           "de"
          ],
          [
           "people_killed",
           "people are being slaughtered, kidnapped, raped and thrown into mass graves by the russians in  mariupol. but of course, ukraine should capitulate and insist on peace. do you notice anything else?",
           "de"
          ],
          [
           "people_killed",
           "russia: 2,500 dead seals found on the coast of the caspian sea, in russia.",
           "es"
          ],
          [
           "people_killed",
           "three people died in the crash of a mi-8 helicopter in russia's buryatia.  ukraine  ukraine  russian  war",
           "es"
          ],
          [
           "people_killed",
           "the burial of an entire family was found in izyum. we are talking about the stolpakov family: 31-year-old elena and 33-year-old dmytro, as well as their daughters 5-year-old lesya and 8-year-old sasha, as well as their grandmother (according to other data, the grandfather also died)  russiaisaterrorisstate  izium  ukraine️  stoprussianaggression",
           "uk"
          ],
          [
           "people_killed",
           "a total of 447 dead were found. among them are 425 civilians and 22 soldiers of the armed forces of ukraine.  stoprussia",
           "uk"
          ],
          [
           "people_killed",
           "fragments of a child's body were found at the site of a rocket attack in dnipro    ukraine  dnipro",
           "uk"
          ],
          [
           "people_killed",
           "breaking! two killed and three injured in donetsk more details of overnight attacks are emerging from ukraine today.  theshadepill  stoprussia  russiakillscivilians  emergency  trending",
           "en"
          ],
          [
           "people_killed",
           "20 reportedly killed as russian forces shelled civilian convoy in kupiansky district, kharkiv oblast  russia  ukraine  war",
           "en"
          ],
          [
           "people_killed",
           "they bombed hospitals, universities, homes of ordinary citizens, they bombed kindergartens, schools... they killed children, women and men... only an infamous person could do something like that.  russianukrainianwar  putin  ucrania",
           "it"
          ],
          [
           "people_killed",
           "unity  crisis  international ; 5 dead after the air attack on the  ukraine television headquarters. reports of violence from students and women are increasing.  noallaguerra  siallavita  russiaukraineconflict  russiaukrainewar  negotiations.",
           "it"
          ],
          [
           "people_killed",
           "russia without dignity or shame: the children's hospital in  mariupol bombed. deaths and injuries among doctors, nurses and young patients",
           "it"
          ],
          [
           "people_killed",
           "hell in  mariupol! here is the strategic city flown over by a drone the view is atrocious, heartbreaking  putin brought back hell on earth after 77 years: 2500 deaths, no electricity, water, food, heating i no longer have doubts: putin must be stopped. and you?   turkey",
           "it"
          ],
          [
           "people_killed",
           "because the victims of this filthy war have a name, a face... tetyana is a young mother living on the outskirts of kyiv. in this video, she says: \"parents of russia, your children are on our land and they are killing us.\"  ukraine  ukraineinvasion  russiaukraine",
           "fr"
          ],
          [
           "people_killed",
           "newsflash at least 22 civilians killed in  russian strike on  ukrainian city of chernihiv, rescuers search for more debris  russianukrainianwar",
           "fr"
          ],
          [
           "people_killed",
           "invasion of ukraine: three journalists killed, more than 30 injured since the russian invasion  ukraine  warinukraine",
           "fr"
          ],
          [
           "people_killed",
           "ukraine 🇺🇦: as a result of today's explosion in  donetsk, 20 civilians were killed, another 28 people were injured. a rally against the russian occupation was planned for today in the city center.",
           "fr"
          ],
          [
           "people_killed",
           "another  artist has gone to the  stars. death of  oksanashvets, famous  actress in  ukraine, killed in a bombing in  kiev.",
           "fr"
          ],
          [
           "people_killed",
           "the latest photo of a happy couple anton hannah. the russians shot at them as they tried to evacuate the kyiv suburb  bucha. anton was killed. their unborn baby also did not survive the attack. in an instant a woman lost everything: her home and her family",
           "fr"
          ],
          [
           "people_killed",
           "🇺🇦 ukraine: this photo was posted by little sacha's mother. after weeks of searching, the lifeless body of the 4-year-old boy was found. he was trying to escape the arrival of the russians with his grandmother, who was found dead on march 11.",
           "fr"
          ],
          [
           "people_killed",
           "rescuers say human bodies belong to local residents killed by invaders... another  war crime of the russian army...  ukraine",
           "fr"
          ],
          [
           "people_killed",
           "🔴 6 people shot dead found in a basement in the suburbs of kyiv.  russianukrainianwar  ukraine  ukraineunderattack",
           "fr"
          ],
          [
           "people_killed",
           "ukraine after the missile strikes which left at least six dead and eight injured in lviv, residents of this western city, relatively untouched by the fighting, fled.   via",
           "fr"
          ],
          [
           "people_killed",
           "ukraine: at least two civilians killed and 10 injured after russian strikes in kramatorsk    ukraine  war  russia",
           "fr"
          ]
         ],
         "hovertemplate": "topics=%{customdata[0]}<br>x=%{x}<br>y=%{y}<br>cleaned_text_translated=%{customdata[1]}<br>lang=%{customdata[2]}<extra></extra>",
         "legendgroup": "people_killed",
         "marker": {
          "color": "#00cc96",
          "size": 10,
          "symbol": "circle"
         },
         "mode": "markers",
         "name": "people_killed",
         "orientation": "v",
         "showlegend": true,
         "type": "scatter",
         "x": [
          0.306652694940567,
          0.39585191011428833,
          0.06553678959608078,
          0.2084108591079712,
          0.3573719561100006,
          0.17207756638526917,
          0.2716690003871918,
          0.3655087947845459,
          0.4804251790046692,
          0.43606138229370117,
          0.0718545988202095,
          0.3262251615524292,
          0.23958803713321686,
          0.011498499661684036,
          0.3161454498767853,
          0.48648855090141296,
          0.37245506048202515,
          0.30663686990737915,
          0.3278891146183014,
          0.13922163844108582,
          0.2591108977794647,
          0.2330039143562317,
          0.5687088966369629,
          0.30936145782470703,
          0.38592568039894104
         ],
         "xaxis": "x",
         "y": [
          0.013728232122957706,
          -0.050836414098739624,
          0.20616638660430908,
          0.19309614598751068,
          0.016564125195145607,
          0.37136492133140564,
          0.2374521940946579,
          0.17398060858249664,
          -0.007032378576695919,
          -0.15961962938308716,
          0.22338733077049255,
          -0.12455906718969345,
          0.15957972407341003,
          0.27370086312294006,
          0.13515806198120117,
          0.08778996020555496,
          -0.16129207611083984,
          0.090985968708992,
          0.08010029047727585,
          0.308541864156723,
          0.27108529210090637,
          0.11187022924423218,
          0.04130442813038826,
          0.2473130077123642,
          -0.10343015938997269
         ],
         "yaxis": "y"
        },
        {
         "customdata": [
          [
           "arms_delivery",
           "we germans in particular should be ashamed that we don't help  ukraine much more, especially not with many more and stronger weapons....",
           "de"
          ],
          [
           "arms_delivery",
           "\" ukraine needs heavy weapons,\" says ex-civil service worker, nikolas busse! 🤦😂",
           "de"
          ],
          [
           "arms_delivery",
           "just deliver a few long-range nuclear missiles to  ukraine,  putin will get out of ukraine faster than fler will get out of hoe. 😆",
           "de"
          ],
          [
           "arms_delivery",
           "dear friends, our  cheetah tanks are used in  ukraine, for example, to protect infrastructure such as the port of  odessa. anyone who does not supply ammunition to an invaded state for national defense can no longer be a reliable supplier of ammunition for us",
           "de"
          ],
          [
           "arms_delivery",
           "🇷🇺🔥🇺🇦  russia vs  ukraine day 287 according to this, the  usa would be pressuring  germany to deliver leopard 2 battle tanks (we understand 2a4) to ukraine.",
           "es"
          ],
          [
           "arms_delivery",
           "cnn: biden is finalizing sending patriot to ukraine  ukraina  russia  war",
           "es"
          ],
          [
           "arms_delivery",
           "large-scale supplies of weapons are vital for ukraine to defend itself from crazy russia, which has become obsessed with russian fascism and started an unjust, genocidal, illegal war. if russia were attacked, it would also receive help for self-defense.",
           "ru"
          ],
          [
           "arms_delivery",
           "an american strategic reconnaissance drone rq-4 global hawk is circling off the coast of crimea. 😅🔥👌🏻  ukrainerussianwar  ukrainecounteroffensive  war on ukraine  ukraine️  russiaukrainewar  russiaisaterroriststate  usa",
           "ru"
          ],
          [
           "arms_delivery",
           "lithuania will not be able to transfer nasams air defense systems to ukraine, but will provide shells for the pzh 2000 self-propelled guns    russia  ukraine",
           "ru"
          ],
          [
           "arms_delivery",
           "ukrainerussianwar 🕶️⚡️🇹🇷🇹🇷👍👍‼️ turkey delivered a batch of trlg-230 high-precision missiles to ukraine. they are launched from the roketsan development platform. the flight range is 70 km, laser beam guidance system. target illumination is provided by bayraktar tb2.",
           "ru"
          ],
          [
           "arms_delivery",
           "g7 leaders expressed unwavering support for ukraine and promised air defense systems    russia  ukraine",
           "ru"
          ],
          [
           "arms_delivery",
           "the german company rheinmetall has confirmed an order for the production of two skynex air defense systems for ukraine, handelsblatt reports.  ukraine  kherson  crimea  dnipro  wagner  bakhmut  himars  kyiv  belarus  ukrainian  moscow  crimea  donetsk  bakhmut",
           "ru"
          ],
          [
           "arms_delivery",
           "🇺🇸the us congress instructed the pentagon to accelerate the delivery of large drones to ukraine  russiainvadedukraine  russiaisaterroiststate  usa  ukraine️",
           "uk"
          ],
          [
           "arms_delivery",
           "f-16 with semi-stealth agm-158 missiles with a range of 370 km, 925 km and 1900 km depending on the modification. uncle joe, please!   ukrainewar  f16forukraine  agm158forukraine  armukrainanow",
           "uk"
          ],
          [
           "arms_delivery",
           "here we do have the challenge. the european  nato countries with missing stockpiles of key weaponry does make the nato weak. there has to be a balance between weapons sent to ukraine and weapons kept for own/nato defence. no matter how much any nato country would like to help.",
           "en"
          ],
          [
           "arms_delivery",
           "this is horrible..and probably the tip of the iceberg..  russians were sent to murder, torture, rape, destroy everything in  ukraine...  russiaisanazistate",
           "en"
          ],
          [
           "arms_delivery",
           "i hope you are wrong. however we all know what it needs are  abrams,  leopard2,  challenger2 and/or  leclerc battletanks to really make a difference. we could send those in such numbers, that they would overwhelm the  russian army for sure.",
           "en"
          ],
          [
           "arms_delivery",
           ".  polishpres.  duda in  lviv today:\"a major military modernization program is underway in  poland. the equipment we are replacing will be sent to  ukraine\".it means ukraine can count on hundreds of pieces of polish tanks,ifvs mlrs over time(pt-91/t-72/bmp/grad)🇵🇱🇺🇦",
           "en"
          ],
          [
           "arms_delivery",
           "the sending of weapons by  nato countries to  ukraine is an act of war against  russia. let's just hope  putin doesn't pay attention to it.",
           "it"
          ],
          [
           "arms_delivery",
           "russiaucrania  russia  ukraine  draghi  italy  eu but who pays for the weapons sent? in addition to us and our children with the risk of their lives....",
           "it"
          ],
          [
           "arms_delivery",
           "it seems that poland has indicated its willingness to transfer its  mig29 to the ramstein base in order to send them to ukraine. so it's not just us italians who are idiots....  ukrainerussianwar",
           "it"
          ],
          [
           "arms_delivery",
           "putin's russia has the largest ballistic arsenal in the world....the  usa has run out of javelins and has himars close to stock levels....the rest of europe has never been armed. ... if  putin had strange ideas, would we throw slingshots at him now?",
           "it"
          ],
          [
           "arms_delivery",
           "let's give offensive weapons to  ukraine to face  putin's  barbaric offensive       invasionofukraine",
           "fr"
          ],
          [
           "arms_delivery",
           "it is with these  ukronazi  bandits that  nato is sending billions of dollars worth of weapons to weaken  russia. but, the  war will enter its third phase, the  worldwar, where westerners will be required to invest militarily on the ground.",
           "fr"
          ],
          [
           "arms_delivery",
           "ukraine ukraine will not receive f-16 even after six months rakhmanin",
           "fr"
          ]
         ],
         "hovertemplate": "topics=%{customdata[0]}<br>x=%{x}<br>y=%{y}<br>cleaned_text_translated=%{customdata[1]}<br>lang=%{customdata[2]}<extra></extra>",
         "legendgroup": "arms_delivery",
         "marker": {
          "color": "#ab63fa",
          "size": 10,
          "symbol": "circle"
         },
         "mode": "markers",
         "name": "arms_delivery",
         "orientation": "v",
         "showlegend": true,
         "type": "scatter",
         "x": [
          -0.19577087461948395,
          0.00035361223854124546,
          -0.15388967096805573,
          -0.1199079304933548,
          -0.20389916002750397,
          0.09409226477146149,
          -0.1501740962266922,
          0.0693284198641777,
          -0.16743996739387512,
          -0.011685721576213837,
          -0.02287335693836212,
          -0.09142802655696869,
          -0.1327984631061554,
          -0.04970833286643028,
          -0.2799672782421112,
          -0.012514240108430386,
          -0.18046000599861145,
          -0.0007089732098393142,
          -0.1840440332889557,
          -0.06424181908369064,
          -0.23009346425533295,
          -0.2682446241378784,
          -0.003440993372350931,
          -0.17555302381515503,
          0.008193977177143097
         ],
         "xaxis": "x",
         "y": [
          0.15832851827144623,
          -0.0964469313621521,
          -0.07474460452795029,
          0.22664551436901093,
          0.07479996979236603,
          -0.2495100498199463,
          0.06275037676095963,
          -0.19373595714569092,
          -0.01291369367390871,
          0.025979813188314438,
          -0.1583126187324524,
          -0.06704644113779068,
          -0.2812279760837555,
          0.1610908955335617,
          0.2433704435825348,
          0.13399982452392578,
          0.41423749923706055,
          0.08214104920625687,
          -0.12856297194957733,
          0.15079690515995026,
          0.15117743611335754,
          0.12254384905099869,
          -0.22869811952114105,
          0.04590761289000511,
          -0.0405547134578228
         ],
         "yaxis": "y"
        }
       ],
       "layout": {
        "legend": {
         "title": {
          "text": "topics"
         },
         "tracegroupgap": 0
        },
        "margin": {
         "t": 60
        },
        "template": {
         "data": {
          "bar": [
           {
            "error_x": {
             "color": "#2a3f5f"
            },
            "error_y": {
             "color": "#2a3f5f"
            },
            "marker": {
             "line": {
              "color": "#E5ECF6",
              "width": 0.5
             },
             "pattern": {
              "fillmode": "overlay",
              "size": 10,
              "solidity": 0.2
             }
            },
            "type": "bar"
           }
          ],
          "barpolar": [
           {
            "marker": {
             "line": {
              "color": "#E5ECF6",
              "width": 0.5
             },
             "pattern": {
              "fillmode": "overlay",
              "size": 10,
              "solidity": 0.2
             }
            },
            "type": "barpolar"
           }
          ],
          "carpet": [
           {
            "aaxis": {
             "endlinecolor": "#2a3f5f",
             "gridcolor": "white",
             "linecolor": "white",
             "minorgridcolor": "white",
             "startlinecolor": "#2a3f5f"
            },
            "baxis": {
             "endlinecolor": "#2a3f5f",
             "gridcolor": "white",
             "linecolor": "white",
             "minorgridcolor": "white",
             "startlinecolor": "#2a3f5f"
            },
            "type": "carpet"
           }
          ],
          "choropleth": [
           {
            "colorbar": {
             "outlinewidth": 0,
             "ticks": ""
            },
            "type": "choropleth"
           }
          ],
          "contour": [
           {
            "colorbar": {
             "outlinewidth": 0,
             "ticks": ""
            },
            "colorscale": [
             [
              0,
              "#0d0887"
             ],
             [
              0.1111111111111111,
              "#46039f"
             ],
             [
              0.2222222222222222,
              "#7201a8"
             ],
             [
              0.3333333333333333,
              "#9c179e"
             ],
             [
              0.4444444444444444,
              "#bd3786"
             ],
             [
              0.5555555555555556,
              "#d8576b"
             ],
             [
              0.6666666666666666,
              "#ed7953"
             ],
             [
              0.7777777777777778,
              "#fb9f3a"
             ],
             [
              0.8888888888888888,
              "#fdca26"
             ],
             [
              1,
              "#f0f921"
             ]
            ],
            "type": "contour"
           }
          ],
          "contourcarpet": [
           {
            "colorbar": {
             "outlinewidth": 0,
             "ticks": ""
            },
            "type": "contourcarpet"
           }
          ],
          "heatmap": [
           {
            "colorbar": {
             "outlinewidth": 0,
             "ticks": ""
            },
            "colorscale": [
             [
              0,
              "#0d0887"
             ],
             [
              0.1111111111111111,
              "#46039f"
             ],
             [
              0.2222222222222222,
              "#7201a8"
             ],
             [
              0.3333333333333333,
              "#9c179e"
             ],
             [
              0.4444444444444444,
              "#bd3786"
             ],
             [
              0.5555555555555556,
              "#d8576b"
             ],
             [
              0.6666666666666666,
              "#ed7953"
             ],
             [
              0.7777777777777778,
              "#fb9f3a"
             ],
             [
              0.8888888888888888,
              "#fdca26"
             ],
             [
              1,
              "#f0f921"
             ]
            ],
            "type": "heatmap"
           }
          ],
          "heatmapgl": [
           {
            "colorbar": {
             "outlinewidth": 0,
             "ticks": ""
            },
            "colorscale": [
             [
              0,
              "#0d0887"
             ],
             [
              0.1111111111111111,
              "#46039f"
             ],
             [
              0.2222222222222222,
              "#7201a8"
             ],
             [
              0.3333333333333333,
              "#9c179e"
             ],
             [
              0.4444444444444444,
              "#bd3786"
             ],
             [
              0.5555555555555556,
              "#d8576b"
             ],
             [
              0.6666666666666666,
              "#ed7953"
             ],
             [
              0.7777777777777778,
              "#fb9f3a"
             ],
             [
              0.8888888888888888,
              "#fdca26"
             ],
             [
              1,
              "#f0f921"
             ]
            ],
            "type": "heatmapgl"
           }
          ],
          "histogram": [
           {
            "marker": {
             "pattern": {
              "fillmode": "overlay",
              "size": 10,
              "solidity": 0.2
             }
            },
            "type": "histogram"
           }
          ],
          "histogram2d": [
           {
            "colorbar": {
             "outlinewidth": 0,
             "ticks": ""
            },
            "colorscale": [
             [
              0,
              "#0d0887"
             ],
             [
              0.1111111111111111,
              "#46039f"
             ],
             [
              0.2222222222222222,
              "#7201a8"
             ],
             [
              0.3333333333333333,
              "#9c179e"
             ],
             [
              0.4444444444444444,
              "#bd3786"
             ],
             [
              0.5555555555555556,
              "#d8576b"
             ],
             [
              0.6666666666666666,
              "#ed7953"
             ],
             [
              0.7777777777777778,
              "#fb9f3a"
             ],
             [
              0.8888888888888888,
              "#fdca26"
             ],
             [
              1,
              "#f0f921"
             ]
            ],
            "type": "histogram2d"
           }
          ],
          "histogram2dcontour": [
           {
            "colorbar": {
             "outlinewidth": 0,
             "ticks": ""
            },
            "colorscale": [
             [
              0,
              "#0d0887"
             ],
             [
              0.1111111111111111,
              "#46039f"
             ],
             [
              0.2222222222222222,
              "#7201a8"
             ],
             [
              0.3333333333333333,
              "#9c179e"
             ],
             [
              0.4444444444444444,
              "#bd3786"
             ],
             [
              0.5555555555555556,
              "#d8576b"
             ],
             [
              0.6666666666666666,
              "#ed7953"
             ],
             [
              0.7777777777777778,
              "#fb9f3a"
             ],
             [
              0.8888888888888888,
              "#fdca26"
             ],
             [
              1,
              "#f0f921"
             ]
            ],
            "type": "histogram2dcontour"
           }
          ],
          "mesh3d": [
           {
            "colorbar": {
             "outlinewidth": 0,
             "ticks": ""
            },
            "type": "mesh3d"
           }
          ],
          "parcoords": [
           {
            "line": {
             "colorbar": {
              "outlinewidth": 0,
              "ticks": ""
             }
            },
            "type": "parcoords"
           }
          ],
          "pie": [
           {
            "automargin": true,
            "type": "pie"
           }
          ],
          "scatter": [
           {
            "fillpattern": {
             "fillmode": "overlay",
             "size": 10,
             "solidity": 0.2
            },
            "type": "scatter"
           }
          ],
          "scatter3d": [
           {
            "line": {
             "colorbar": {
              "outlinewidth": 0,
              "ticks": ""
             }
            },
            "marker": {
             "colorbar": {
              "outlinewidth": 0,
              "ticks": ""
             }
            },
            "type": "scatter3d"
           }
          ],
          "scattercarpet": [
           {
            "marker": {
             "colorbar": {
              "outlinewidth": 0,
              "ticks": ""
             }
            },
            "type": "scattercarpet"
           }
          ],
          "scattergeo": [
           {
            "marker": {
             "colorbar": {
              "outlinewidth": 0,
              "ticks": ""
             }
            },
            "type": "scattergeo"
           }
          ],
          "scattergl": [
           {
            "marker": {
             "colorbar": {
              "outlinewidth": 0,
              "ticks": ""
             }
            },
            "type": "scattergl"
           }
          ],
          "scattermapbox": [
           {
            "marker": {
             "colorbar": {
              "outlinewidth": 0,
              "ticks": ""
             }
            },
            "type": "scattermapbox"
           }
          ],
          "scatterpolar": [
           {
            "marker": {
             "colorbar": {
              "outlinewidth": 0,
              "ticks": ""
             }
            },
            "type": "scatterpolar"
           }
          ],
          "scatterpolargl": [
           {
            "marker": {
             "colorbar": {
              "outlinewidth": 0,
              "ticks": ""
             }
            },
            "type": "scatterpolargl"
           }
          ],
          "scatterternary": [
           {
            "marker": {
             "colorbar": {
              "outlinewidth": 0,
              "ticks": ""
             }
            },
            "type": "scatterternary"
           }
          ],
          "surface": [
           {
            "colorbar": {
             "outlinewidth": 0,
             "ticks": ""
            },
            "colorscale": [
             [
              0,
              "#0d0887"
             ],
             [
              0.1111111111111111,
              "#46039f"
             ],
             [
              0.2222222222222222,
              "#7201a8"
             ],
             [
              0.3333333333333333,
              "#9c179e"
             ],
             [
              0.4444444444444444,
              "#bd3786"
             ],
             [
              0.5555555555555556,
              "#d8576b"
             ],
             [
              0.6666666666666666,
              "#ed7953"
             ],
             [
              0.7777777777777778,
              "#fb9f3a"
             ],
             [
              0.8888888888888888,
              "#fdca26"
             ],
             [
              1,
              "#f0f921"
             ]
            ],
            "type": "surface"
           }
          ],
          "table": [
           {
            "cells": {
             "fill": {
              "color": "#EBF0F8"
             },
             "line": {
              "color": "white"
             }
            },
            "header": {
             "fill": {
              "color": "#C8D4E3"
             },
             "line": {
              "color": "white"
             }
            },
            "type": "table"
           }
          ]
         },
         "layout": {
          "annotationdefaults": {
           "arrowcolor": "#2a3f5f",
           "arrowhead": 0,
           "arrowwidth": 1
          },
          "autotypenumbers": "strict",
          "coloraxis": {
           "colorbar": {
            "outlinewidth": 0,
            "ticks": ""
           }
          },
          "colorscale": {
           "diverging": [
            [
             0,
             "#8e0152"
            ],
            [
             0.1,
             "#c51b7d"
            ],
            [
             0.2,
             "#de77ae"
            ],
            [
             0.3,
             "#f1b6da"
            ],
            [
             0.4,
             "#fde0ef"
            ],
            [
             0.5,
             "#f7f7f7"
            ],
            [
             0.6,
             "#e6f5d0"
            ],
            [
             0.7,
             "#b8e186"
            ],
            [
             0.8,
             "#7fbc41"
            ],
            [
             0.9,
             "#4d9221"
            ],
            [
             1,
             "#276419"
            ]
           ],
           "sequential": [
            [
             0,
             "#0d0887"
            ],
            [
             0.1111111111111111,
             "#46039f"
            ],
            [
             0.2222222222222222,
             "#7201a8"
            ],
            [
             0.3333333333333333,
             "#9c179e"
            ],
            [
             0.4444444444444444,
             "#bd3786"
            ],
            [
             0.5555555555555556,
             "#d8576b"
            ],
            [
             0.6666666666666666,
             "#ed7953"
            ],
            [
             0.7777777777777778,
             "#fb9f3a"
            ],
            [
             0.8888888888888888,
             "#fdca26"
            ],
            [
             1,
             "#f0f921"
            ]
           ],
           "sequentialminus": [
            [
             0,
             "#0d0887"
            ],
            [
             0.1111111111111111,
             "#46039f"
            ],
            [
             0.2222222222222222,
             "#7201a8"
            ],
            [
             0.3333333333333333,
             "#9c179e"
            ],
            [
             0.4444444444444444,
             "#bd3786"
            ],
            [
             0.5555555555555556,
             "#d8576b"
            ],
            [
             0.6666666666666666,
             "#ed7953"
            ],
            [
             0.7777777777777778,
             "#fb9f3a"
            ],
            [
             0.8888888888888888,
             "#fdca26"
            ],
            [
             1,
             "#f0f921"
            ]
           ]
          },
          "colorway": [
           "#636efa",
           "#EF553B",
           "#00cc96",
           "#ab63fa",
           "#FFA15A",
           "#19d3f3",
           "#FF6692",
           "#B6E880",
           "#FF97FF",
           "#FECB52"
          ],
          "font": {
           "color": "#2a3f5f"
          },
          "geo": {
           "bgcolor": "white",
           "lakecolor": "white",
           "landcolor": "#E5ECF6",
           "showlakes": true,
           "showland": true,
           "subunitcolor": "white"
          },
          "hoverlabel": {
           "align": "left"
          },
          "hovermode": "closest",
          "mapbox": {
           "style": "light"
          },
          "paper_bgcolor": "white",
          "plot_bgcolor": "#E5ECF6",
          "polar": {
           "angularaxis": {
            "gridcolor": "white",
            "linecolor": "white",
            "ticks": ""
           },
           "bgcolor": "#E5ECF6",
           "radialaxis": {
            "gridcolor": "white",
            "linecolor": "white",
            "ticks": ""
           }
          },
          "scene": {
           "xaxis": {
            "backgroundcolor": "#E5ECF6",
            "gridcolor": "white",
            "gridwidth": 2,
            "linecolor": "white",
            "showbackground": true,
            "ticks": "",
            "zerolinecolor": "white"
           },
           "yaxis": {
            "backgroundcolor": "#E5ECF6",
            "gridcolor": "white",
            "gridwidth": 2,
            "linecolor": "white",
            "showbackground": true,
            "ticks": "",
            "zerolinecolor": "white"
           },
           "zaxis": {
            "backgroundcolor": "#E5ECF6",
            "gridcolor": "white",
            "gridwidth": 2,
            "linecolor": "white",
            "showbackground": true,
            "ticks": "",
            "zerolinecolor": "white"
           }
          },
          "shapedefaults": {
           "line": {
            "color": "#2a3f5f"
           }
          },
          "ternary": {
           "aaxis": {
            "gridcolor": "white",
            "linecolor": "white",
            "ticks": ""
           },
           "baxis": {
            "gridcolor": "white",
            "linecolor": "white",
            "ticks": ""
           },
           "bgcolor": "#E5ECF6",
           "caxis": {
            "gridcolor": "white",
            "linecolor": "white",
            "ticks": ""
           }
          },
          "title": {
           "x": 0.05
          },
          "xaxis": {
           "automargin": true,
           "gridcolor": "white",
           "linecolor": "white",
           "ticks": "",
           "title": {
            "standoff": 15
           },
           "zerolinecolor": "white",
           "zerolinewidth": 2
          },
          "yaxis": {
           "automargin": true,
           "gridcolor": "white",
           "linecolor": "white",
           "ticks": "",
           "title": {
            "standoff": 15
           },
           "zerolinecolor": "white",
           "zerolinewidth": 2
          }
         }
        },
        "xaxis": {
         "anchor": "y",
         "domain": [
          0,
          1
         ],
         "range": [
          -1.386149287223816,
          1.568708896636963
         ],
         "title": {
          "text": "x"
         }
        },
        "yaxis": {
         "anchor": "x",
         "domain": [
          0,
          1
         ],
         "range": [
          -1.4126999974250793,
          1.4142374992370605
         ],
         "title": {
          "text": "y"
         }
        }
       }
      }
     },
     "metadata": {},
     "output_type": "display_data"
    }
   ],
   "source": [
    "visualise_with_dimensional_reduction(df_test,PCA(n_components=2), color_to_show='topics', hover_data=['topics', 'cleaned_text_translated','lang'])"
   ]
  },
  {
   "cell_type": "code",
   "execution_count": 131,
   "metadata": {},
   "outputs": [
    {
     "data": {
      "application/vnd.plotly.v1+json": {
       "config": {
        "plotlyServerURL": "https://plot.ly"
       },
       "data": [
        {
         "customdata": [
          [
           "sanctions",
           "ukrainewar: the  eu  sanctions against  russia at a glance  ukrainerussiawar  ukrainerussiacrisis",
           "de"
          ],
          [
           "unjustified_war",
           "vogt-wuchter: \"we are shocked by the war in ukraine in the middle of europe which russia launched against its neighboring country in violation of international law.\" civilians are victims of the conflict. hundreds of thousands are fleeing. statement:    ukraine",
           "de"
          ],
          [
           "people_killed",
           "the interior ministry of  ukraine reported on sunday evening 352 civilians killed since russia's attack on ukraine, including 14 children. a further 1,684 wounded people were counted, including 116 children.  fckptn  weapons  ukrainewar  putinswar  belarus  putin",
           "de"
          ],
          [
           "sanctions",
           "chancellor stop imports from russia immediately, whether gas or coal! it cannot be the case that germany is complicit in war crimes.  stopputinnow",
           "de"
          ],
          [
           "sanctions",
           "ukraine everyone complains about high gas prices the eu is financing putin's war an imbargo would make sense for a short period of time putin is financing the war from oil and gas exports!!!",
           "de"
          ],
          [
           "unjustified_war",
           "oh, a special conversation situation.  putin wages war and commits war crimes. you can save yourself that crap.",
           "de"
          ],
          [
           "unjustified_war",
           "the federal attorney general is investigating... possible  warcrimes  russia in  ukraine but not against president  putin personally. the international criminal court (icc) is also already investigating. after .../2",
           "de"
          ],
          [
           "unjustified_war",
           "the targeted bomb attack on the  children's clinic in  mariupol is despicably unscrupulous and shows the full inhumanity of  putin. it is a barbaric, brutal  warcrime inexcusably inhumane.  stopputinnow  standwithukraine  putinisawarcriminal",
           "de"
          ],
          [
           "sanctions",
           "ukraine️ we should give up  gas and  oil from  russia. it is  unbearable that people are  slaughtered with our  money.",
           "de"
          ],
          [
           "sanctions",
           "thank you to everyone in the  cdu, the  csu and the  spd for sticking to fossil fuels and for the wonderful  putin cuddling in the  merkel era. so to speak, it's the hard-working  memory gas price.",
           "de"
          ],
          [
           "people_killed",
           "🛑🛑🇷🇺🇺🇦 russia attacked the settlement in the svyatoshinsky district of kiev! mayor; \"5 people were injured, 2 were hospitalized\"  ukrainerussiawar  ukraine  russia  kiev  kyiv",
           "de"
          ],
          [
           "arms_delivery",
           "we germans in particular should be ashamed that we don't help  ukraine much more, especially not with many more and stronger weapons....",
           "de"
          ],
          [
           "sanctions",
           "since we don't have an oil embargo against russia, the government is helping people finance the  ukraine war. it's so wrong on so many levels, i really don't have any words for it anymore.",
           "de"
          ],
          [
           "arms_delivery",
           "\" ukraine needs heavy weapons,\" says ex-civil service worker, nikolas busse! 🤦😂",
           "de"
          ],
          [
           "arms_delivery",
           "just deliver a few long-range nuclear missiles to  ukraine,  putin will get out of ukraine faster than fler will get out of hoe. 😆",
           "de"
          ],
          [
           "people_killed",
           "people are being slaughtered, kidnapped, raped and thrown into mass graves by the russians in  mariupol. but of course, ukraine should capitulate and insist on peace. do you notice anything else?",
           "de"
          ],
          [
           "arms_delivery",
           "dear friends, our  cheetah tanks are used in  ukraine, for example, to protect infrastructure such as the port of  odessa. anyone who does not supply ammunition to an invaded state for national defense can no longer be a reliable supplier of ammunition for us",
           "de"
          ],
          [
           "sanctions",
           "analysis: europe will close the cap on russian oil at $60 but it will not serve to harm russia  europe  russia  petroleoruso  oilbarrel  oilproduction ⬇️⬇️⬇️",
           "es"
          ],
          [
           "sanctions",
           "breaking although the european union tries to blame  putin for the energy shortage in  europe this winter, it was his own decision to suspend the import of russian gas and oil in the spring, bowing to the demands of the us and  nato.  ukrainerussianwar  russiaukrainewar",
           "es"
          ],
          [
           "people_killed",
           "russia: 2,500 dead seals found on the coast of the caspian sea, in russia.",
           "es"
          ],
          [
           "arms_delivery",
           "🇷🇺🔥🇺🇦  russia vs  ukraine day 287 according to this, the  usa would be pressuring  germany to deliver leopard 2 battle tanks (we understand 2a4) to ukraine.",
           "es"
          ],
          [
           "sanctions",
           "the  eu is concerned that  turkey has expanded trade with  russia instead of imposing sanctions since the start of the conflict in  ukraine, said eu high representative for foreign affairs josep borrell.  la580",
           "es"
          ],
          [
           "people_killed",
           "three people died in the crash of a mi-8 helicopter in russia's buryatia.  ukraine  ukraine  russian  war",
           "es"
          ],
          [
           "arms_delivery",
           "cnn: biden is finalizing sending patriot to ukraine  ukraina  russia  war",
           "es"
          ],
          [
           "arms_delivery",
           "large-scale supplies of weapons are vital for ukraine to defend itself from crazy russia, which has become obsessed with russian fascism and started an unjust, genocidal, illegal war. if russia were attacked, it would also receive help for self-defense.",
           "ru"
          ],
          [
           "arms_delivery",
           "an american strategic reconnaissance drone rq-4 global hawk is circling off the coast of crimea. 😅🔥👌🏻  ukrainerussianwar  ukrainecounteroffensive  war on ukraine  ukraine️  russiaukrainewar  russiaisaterroriststate  usa",
           "ru"
          ],
          [
           "arms_delivery",
           "lithuania will not be able to transfer nasams air defense systems to ukraine, but will provide shells for the pzh 2000 self-propelled guns    russia  ukraine",
           "ru"
          ],
          [
           "arms_delivery",
           "ukrainerussianwar 🕶️⚡️🇹🇷🇹🇷👍👍‼️ turkey delivered a batch of trlg-230 high-precision missiles to ukraine. they are launched from the roketsan development platform. the flight range is 70 km, laser beam guidance system. target illumination is provided by bayraktar tb2.",
           "ru"
          ],
          [
           "unjustified_war",
           "i watched carefully, and it seemed to me that he wanted to repeat the georgia 2008 option by making ukraine the aggressor. and here ukraine did not fall into any traps, all the fakes were exposed instantly, and as a result, nothing limited international support. saakashvili's lesson has been learned.",
           "ru"
          ],
          [
           "arms_delivery",
           "g7 leaders expressed unwavering support for ukraine and promised air defense systems    russia  ukraine",
           "ru"
          ],
          [
           "arms_delivery",
           "the german company rheinmetall has confirmed an order for the production of two skynex air defense systems for ukraine, handelsblatt reports.  ukraine  kherson  crimea  dnipro  wagner  bakhmut  himars  kyiv  belarus  ukrainian  moscow  crimea  donetsk  bakhmut",
           "ru"
          ],
          [
           "people_killed",
           "the burial of an entire family was found in izyum. we are talking about the stolpakov family: 31-year-old elena and 33-year-old dmytro, as well as their daughters 5-year-old lesya and 8-year-old sasha, as well as their grandmother (according to other data, the grandfather also died)  russiaisaterrorisstate  izium  ukraine️  stoprussianaggression",
           "uk"
          ],
          [
           "arms_delivery",
           "🇺🇸the us congress instructed the pentagon to accelerate the delivery of large drones to ukraine  russiainvadedukraine  russiaisaterroiststate  usa  ukraine️",
           "uk"
          ],
          [
           "people_killed",
           "a total of 447 dead were found. among them are 425 civilians and 22 soldiers of the armed forces of ukraine.  stoprussia",
           "uk"
          ],
          [
           "sanctions",
           "the european commission emphasizes that the import from russia and the transit of some oil products should be allowed to ensure food and energy security in the world. first of all, poland and the baltic states oppose such a decision  stoprussia  stopputin",
           "uk"
          ],
          [
           "people_killed",
           "fragments of a child's body were found at the site of a rocket attack in dnipro    ukraine  dnipro",
           "uk"
          ],
          [
           "unjustified_war",
           "there is not a single generation of the ukrainian people that has not suffered at the hands of the russians. the realization of this hurts so much that it often seems as if this hell will never end. as if this hell is life itself.",
           "uk"
          ],
          [
           "unjustified_war",
           "the terrorist organization \"russia\" fired a volley of s-300 missiles at a convoy of people heading to the occupied territory to visit their relatives, killing dozens of civilians. when will a special tribunal be created to criminalize the regime of these scum?  russiaisaterroriststate  russia  ukraine",
           "uk"
          ],
          [
           "arms_delivery",
           "f-16 with semi-stealth agm-158 missiles with a range of 370 km, 925 km and 1900 km depending on the modification. uncle joe, please!   ukrainewar  f16forukraine  agm158forukraine  armukrainanow",
           "uk"
          ],
          [
           "sanctions",
           "europe is slowly losing their standard of living. the sanction is damaging the economy. blowback russian sanction. shutdown . eurobasket . nato . russia .",
           "en"
          ],
          [
           "arms_delivery",
           "here we do have the challenge. the european  nato countries with missing stockpiles of key weaponry does make the nato weak. there has to be a balance between weapons sent to ukraine and weapons kept for own/nato defence. no matter how much any nato country would like to help.",
           "en"
          ],
          [
           "arms_delivery",
           "this is horrible..and probably the tip of the iceberg..  russians were sent to murder, torture, rape, destroy everything in  ukraine...  russiaisanazistate",
           "en"
          ],
          [
           "unjustified_war",
           "more and more evidence of  russian war crimes uncovered on a near daily basis in  ukraine️. all being documented and sent to the  hague.",
           "en"
          ],
          [
           "sanctions",
           "twenty-two individuals and two entities are subject to new anti-russian sanctions by the u.s. treasury department's office of foreign assets control (ofac).  usa  russia  sanctions",
           "en"
          ],
          [
           "sanctions",
           "russia finances hit by cheaper oil and costs of ukraine war cnn business  ukraine🇺🇦  freedom🇺🇲  keepkyivfree✊🏽  zelenskyy  fuckputin   from",
           "en"
          ],
          [
           "people_killed",
           "breaking! two killed and three injured in donetsk more details of overnight attacks are emerging from ukraine today.  theshadepill  stoprussia  russiakillscivilians  emergency  trending",
           "en"
          ],
          [
           "sanctions",
           "asks that you sign this petition   for a full western embargo on russian oil and gas and that you push big western players, including blackrock, to get the heck out of the 40 giant \"carbon bomb\" projects planned for russia  standwithukraine",
           "en"
          ],
          [
           "unjustified_war",
           "allies do not and will never recognize russia's illegal and illegitimate annexation of crimea. sham referenda in the donetsk, luhansk, zaporizhzhia, and kherson regions of ukraine have no legitimacy and will be a blatant violation of the un charter  standwithukraine",
           "en"
          ],
          [
           "arms_delivery",
           "i hope you are wrong. however we all know what it needs are  abrams,  leopard2,  challenger2 and/or  leclerc battletanks to really make a difference. we could send those in such numbers, that they would overwhelm the  russian army for sure.",
           "en"
          ],
          [
           "people_killed",
           "20 reportedly killed as russian forces shelled civilian convoy in kupiansky district, kharkiv oblast  russia  ukraine  war",
           "en"
          ],
          [
           "arms_delivery",
           ".  polishpres.  duda in  lviv today:\"a major military modernization program is underway in  poland. the equipment we are replacing will be sent to  ukraine\".it means ukraine can count on hundreds of pieces of polish tanks,ifvs mlrs over time(pt-91/t-72/bmp/grad)🇵🇱🇺🇦",
           "en"
          ],
          [
           "sanctions",
           "europe  eu  ukraine  russia the european union is set to ban sputnik, a russian government information channel, from operating on its territory.",
           "it"
          ],
          [
           "arms_delivery",
           "the sending of weapons by  nato countries to  ukraine is an act of war against  russia. let's just hope  putin doesn't pay attention to it.",
           "it"
          ],
          [
           "sanctions",
           "attention: germany and italy are receiving immense pressure to disconnect  russia from the  swift transaction circuit. obviously: they are the countries that have the most relations with moscow and that would take it there.",
           "it"
          ],
          [
           "people_killed",
           "they bombed hospitals, universities, homes of ordinary citizens, they bombed kindergartens, schools... they killed children, women and men... only an infamous person could do something like that.  russianukrainianwar  putin  ucrania",
           "it"
          ],
          [
           "arms_delivery",
           "russiaucrania  russia  ukraine  draghi  italy  eu but who pays for the weapons sent? in addition to us and our children with the risk of their lives....",
           "it"
          ],
          [
           "people_killed",
           "unity  crisis  international ; 5 dead after the air attack on the  ukraine television headquarters. reports of violence from students and women are increasing.  noallaguerra  siallavita  russiaukraineconflict  russiaukrainewar  negotiations.",
           "it"
          ],
          [
           "sanctions",
           "apple, eni, ford and more: large companies have taken action against  russia. the list of companies that have decided to take concrete action against the russian invasion of  ukraine is dense and constantly updated  wwe2k22",
           "it"
          ],
          [
           "sanctions",
           "sanctions against  russia also affect cats. the international feline federation has announced it has banned russian cats from its competitions around the world until at least the end of may, saying it is \"horrified\" by the invasion of  ukraine.",
           "it"
          ],
          [
           "unjustified_war",
           "anyone who deliberately attacks hospitals and civilian homes is a criminal and should be punished immediately, but even those who tolerate it, by refusing to back down from their positions, are contributing to the mass slaughter of their people. russiaukraineconflict  ukrainewar",
           "it"
          ],
          [
           "sanctions",
           "rolex stops exporting goods to  russia,  bloomberg reports.",
           "it"
          ],
          [
           "unjustified_war",
           "lavrov  putin and all those who carried out the massacre in  ukraine will have to pay for their crimes with the death penalty, let's hope they don't go unpunished as happened with the bastards who exterminated vietnamese children with napalm.",
           "it"
          ],
          [
           "unjustified_war",
           "let's be clear:  putin ordered to attack, bomb and hit  ukraine. the initiative of the  war is his, the invasion is criminal, the  ukrainians have every  right and  duty to offer  resistance to the invaders. demanding their surrender is an embarrassing infamy.",
           "it"
          ],
          [
           "sanctions",
           "petrol  gas  wheat  fuel  bills etc other than  sanctions on  russia, this is italy's  assisted suicide  ukrainewar  draghileavenow let's give up and hand over  zelensky to him with apologies.",
           "it"
          ],
          [
           "arms_delivery",
           "it seems that poland has indicated its willingness to transfer its  mig29 to the ramstein base in order to send them to ukraine. so it's not just us italians who are idiots....  ukrainerussianwar",
           "it"
          ],
          [
           "unjustified_war",
           "three weeks after the start of the war, people still have to understand that there is an invader and an invaded. let's do well.  sbetti  ukraine️  nowar  ukrainewar  whitezone",
           "it"
          ],
          [
           "people_killed",
           "russia without dignity or shame: the children's hospital in  mariupol bombed. deaths and injuries among doctors, nurses and young patients",
           "it"
          ],
          [
           "people_killed",
           "hell in  mariupol! here is the strategic city flown over by a drone the view is atrocious, heartbreaking  putin brought back hell on earth after 77 years: 2500 deaths, no electricity, water, food, heating i no longer have doubts: putin must be stopped. and you?   turkey",
           "it"
          ],
          [
           "unjustified_war",
           "so  putin asks nato not to let ukraine in, ergo it invades and destroys ukraine and ukraine must not defend itself. it's a reasoning worthy of hitler",
           "it"
          ],
          [
           "arms_delivery",
           "putin's russia has the largest ballistic arsenal in the world....the  usa has run out of javelins and has himars close to stock levels....the rest of europe has never been armed. ... if  putin had strange ideas, would we throw slingshots at him now?",
           "it"
          ],
          [
           "sanctions",
           "🔴 the united states officially sanctions vladimir  putin, mae sergei  lavrov, the russian minister of defense, the deputy minister of defense and the chief of staff of the russian army.  ukrainerussia  ukrainewar  russiaukrainewar  ukrainerussiaconflict",
           "fr"
          ],
          [
           "people_killed",
           "because the victims of this filthy war have a name, a face... tetyana is a young mother living on the outskirts of kyiv. in this video, she says: \"parents of russia, your children are on our land and they are killing us.\"  ukraine  ukraineinvasion  russiaukraine",
           "fr"
          ],
          [
           "people_killed",
           "newsflash at least 22 civilians killed in  russian strike on  ukrainian city of chernihiv, rescuers search for more debris  russianukrainianwar",
           "fr"
          ],
          [
           "people_killed",
           "invasion of ukraine: three journalists killed, more than 30 injured since the russian invasion  ukraine  warinukraine",
           "fr"
          ],
          [
           "people_killed",
           "ukraine 🇺🇦: as a result of today's explosion in  donetsk, 20 civilians were killed, another 28 people were injured. a rally against the russian occupation was planned for today in the city center.",
           "fr"
          ],
          [
           "unjustified_war",
           "warrussiaukraine  putinwarcriminal  putin it's very clear ! and very simple! just say it loud and clear! putin is an invading aggressor war criminal!",
           "fr"
          ],
          [
           "people_killed",
           "another  artist has gone to the  stars. death of  oksanashvets, famous  actress in  ukraine, killed in a bombing in  kiev.",
           "fr"
          ],
          [
           "unjustified_war",
           "🔴 \" putin is a war criminal\": \"this is the first time that joe  biden has said it this term has weight, meaning, especially today, especially after v's speech.  zelensky\", reports  our correspondent  in  ruthelkrief2022",
           "fr"
          ],
          [
           "unjustified_war",
           "pentagon accused the russian military of committing war crimes in ukraine and said it will help gather evidence.    ukraineunderattack  russianwarcrimes  russianukrainianwar  stoprussia  putinswar  putinhitler  russiakills",
           "fr"
          ],
          [
           "people_killed",
           "the latest photo of a happy couple anton hannah. the russians shot at them as they tried to evacuate the kyiv suburb  bucha. anton was killed. their unborn baby also did not survive the attack. in an instant a woman lost everything: her home and her family",
           "fr"
          ],
          [
           "unjustified_war",
           "carla del ponte: \"putin is a war criminal\"  putinwarcrimes",
           "fr"
          ],
          [
           "people_killed",
           "🇺🇦 ukraine: this photo was posted by little sacha's mother. after weeks of searching, the lifeless body of the 4-year-old boy was found. he was trying to escape the arrival of the russians with his grandmother, who was found dead on march 11.",
           "fr"
          ],
          [
           "people_killed",
           "rescuers say human bodies belong to local residents killed by invaders... another  war crime of the russian army...  ukraine",
           "fr"
          ],
          [
           "sanctions",
           "war in ukraine: new round of american sanctions against russia and vladimir putin's daughters  ukraine  warinukraine",
           "fr"
          ],
          [
           "arms_delivery",
           "let's give offensive weapons to  ukraine to face  putin's  barbaric offensive       invasionofukraine",
           "fr"
          ],
          [
           "unjustified_war",
           "via  \"mr. putin was wrong about almost everything. this war has been an error of interpretation from the start.\"  ukraine on franceinfo, this former general, now professor of strategy at sciences po and hec, looks back on…",
           "fr"
          ],
          [
           "people_killed",
           "🔴 6 people shot dead found in a basement in the suburbs of kyiv.  russianukrainianwar  ukraine  ukraineunderattack",
           "fr"
          ],
          [
           "unjustified_war",
           "putin's criminal and corrupt  russia tortures prisoners of war!!!!  ukraine",
           "fr"
          ],
          [
           "unjustified_war",
           "here is proof of another russian war crime. in this phone call, a russian commander orders his subordinate to kill ukrainian prisoners of war in the town of popasna in eastern  ukraine.  ukrainerussiawar",
           "fr"
          ],
          [
           "people_killed",
           "ukraine after the missile strikes which left at least six dead and eight injured in lviv, residents of this western city, relatively untouched by the fighting, fled.   via",
           "fr"
          ],
          [
           "unjustified_war",
           "if you say \"war\" to him he won't respond..  operationspecial: the ukrainians refuse to be \"liberated\" by putin; so by \"attacking\" the russians the war becomes automatic due to  zelensky (must follow!)",
           "fr"
          ],
          [
           "sanctions",
           "the boomerang effect has already been triggered. sanctions against russia generate global economic risks, which are major, particularly for the 🇫🇷. and bruno lemaire who thought he would bring  russia to its knees.  ukraine",
           "fr"
          ],
          [
           "arms_delivery",
           "it is with these  ukronazi  bandits that  nato is sending billions of dollars worth of weapons to weaken  russia. but, the  war will enter its third phase, the  worldwar, where westerners will be required to invest militarily on the ground.",
           "fr"
          ],
          [
           "sanctions",
           "zelensky calls on  europe to \"retaliate\" to the \"gas war\" by strengthening sanctions against  russia",
           "fr"
          ],
          [
           "sanctions",
           "the  eu visa ban on russian citizens 🇷🇺 is something that clearly hurts the  kremlin since many russians will then blame the russian dictator for losing their vacation. this is exactly why we need to do it.  russia  russian  eu",
           "fr"
          ],
          [
           "people_killed",
           "ukraine: at least two civilians killed and 10 injured after russian strikes in kramatorsk    ukraine  war  russia",
           "fr"
          ],
          [
           "unjustified_war",
           "alert the international criminal court issues an arrest warrant against russian president vladimir  putin for war crimes in ukraine.",
           "fr"
          ],
          [
           "unjustified_war",
           "🔴  ukrainerussianwar urgent‼️ the international criminal court issued an arrest warrant for russian president vladimir putin on friday, charging him with war crimes for the illegal deportation of children from ukraine to russia.  civ225  mali  burkina  niger  senegal",
           "fr"
          ],
          [
           "unjustified_war",
           "war in  ukraine:  russia committed wide range of war crimes, says un commission of inquiry report",
           "fr"
          ],
          [
           "arms_delivery",
           "ukraine ukraine will not receive f-16 even after six months rakhmanin",
           "fr"
          ]
         ],
         "hovertemplate": "x=%{x}<br>y=%{y}<br>topics=%{customdata[0]}<br>cleaned_text_translated=%{customdata[1]}<br>lang=%{customdata[2]}<br>bertopic=%{marker.color}<extra></extra>",
         "legendgroup": "",
         "marker": {
          "color": [
           2,
           -1,
           1,
           0,
           0,
           -1,
           2,
           -1,
           0,
           0,
           1,
           0,
           0,
           2,
           0,
           -1,
           0,
           0,
           0,
           1,
           0,
           -1,
           1,
           2,
           0,
           2,
           0,
           0,
           -1,
           -1,
           -1,
           -1,
           -1,
           1,
           0,
           1,
           0,
           -1,
           -1,
           0,
           0,
           -1,
           2,
           2,
           0,
           1,
           0,
           -1,
           0,
           1,
           -1,
           0,
           0,
           -1,
           -1,
           0,
           1,
           -1,
           -1,
           -1,
           -1,
           -1,
           -1,
           0,
           0,
           -1,
           -1,
           -1,
           -1,
           0,
           2,
           -1,
           1,
           1,
           1,
           -1,
           1,
           -1,
           2,
           -1,
           -1,
           -1,
           1,
           2,
           -1,
           -1,
           1,
           2,
           2,
           1,
           -1,
           -1,
           0,
           -1,
           -1,
           1,
           2,
           -1,
           -1,
           -1
          ],
          "coloraxis": "coloraxis",
          "size": 10,
          "symbol": "circle"
         },
         "mode": "markers",
         "name": "",
         "orientation": "v",
         "showlegend": false,
         "type": "scatter",
         "x": [
          0.08675818890333176,
          0.08896631747484207,
          0.3066330850124359,
          -0.23503822088241577,
          -0.34494131803512573,
          -0.12421759217977524,
          -0.06183831766247749,
          0.0037955320440232754,
          -0.2768077552318573,
          -0.2690821588039398,
          0.39587604999542236,
          -0.1957739293575287,
          -0.2461419254541397,
          0.0003393234219402075,
          -0.15390853583812714,
          0.06553426384925842,
          -0.11985848844051361,
          -0.22880876064300537,
          -0.33285245299339294,
          0.20845383405685425,
          -0.2038581520318985,
          -0.2903119623661041,
          0.3573739528656006,
          0.09410559386014938,
          -0.15017195045948029,
          0.06931079179048538,
          -0.16743969917297363,
          -0.01172576192766428,
          -0.18307039141654968,
          -0.0228864923119545,
          -0.09141277521848679,
          0.17202192544937134,
          -0.13279984891414642,
          0.27167436480522156,
          -0.32516416907310486,
          0.36548900604248047,
          0.004199420567601919,
          0.19753415882587433,
          -0.04977578669786453,
          -0.22649191319942474,
          -0.27992168068885803,
          -0.012523425742983818,
          0.08667144924402237,
          -0.0634828507900238,
          -0.03398706018924713,
          0.48044827580451965,
          -0.26150742173194885,
          -0.08557920157909393,
          -0.18039250373840332,
          0.4361248314380646,
          -0.000649377063382417,
          -0.20993506908416748,
          -0.1840270459651947,
          -0.38613438606262207,
          0.07182580232620239,
          -0.0642949715256691,
          0.3262052834033966,
          -0.17876224219799042,
          -0.13129250705242157,
          -0.036082662642002106,
          -0.19288554787635803,
          -0.05898704379796982,
          -0.12550820410251617,
          -0.24447527527809143,
          -0.23005583882331848,
          0.11206694692373276,
          0.23957547545433044,
          0.011506515555083752,
          -0.20937632024288177,
          -0.2682197391986847,
          0.024627462029457092,
          0.3161163330078125,
          0.48653391003608704,
          0.37243229150772095,
          0.30671748518943787,
          0.049944549798965454,
          0.32789918780326843,
          0.03340248763561249,
          0.032495491206645966,
          0.1392107903957367,
          0.0726345106959343,
          0.2590363621711731,
          0.23300646245479584,
          0.09720692038536072,
          -0.003421217668801546,
          -0.0675768256187439,
          0.5687243938446045,
          0.14536070823669434,
          0.14458315074443817,
          0.30939510464668274,
          -0.14110952615737915,
          -0.2849142253398895,
          -0.17554645240306854,
          -0.18682633340358734,
          -0.14475584030151367,
          0.38594818115234375,
          -0.02937403693795204,
          0.03353387117385864,
          0.1165446788072586,
          0.008138937875628471
         ],
         "xaxis": "x",
         "y": [
          -0.31427326798439026,
          -0.12128081917762756,
          0.014938108623027802,
          0.048033807426691055,
          0.034323278814554214,
          -0.0026816069148480892,
          -0.21252082288265228,
          0.05361267924308777,
          0.12012971192598343,
          0.2955884039402008,
          -0.050869476050138474,
          0.15866133570671082,
          -0.04275958985090256,
          -0.09666457772254944,
          -0.07426966726779938,
          0.20595335960388184,
          0.22665132582187653,
          -0.059685077518224716,
          -0.0072763594798743725,
          0.19262950122356415,
          0.07467768341302872,
          -0.26897111535072327,
          0.01647557131946087,
          -0.2502906620502472,
          0.06305687129497528,
          -0.1936318725347519,
          -0.013174116611480713,
          0.026368480175733566,
          0.05671495944261551,
          -0.15844139456748962,
          -0.06672577559947968,
          0.3712090849876404,
          -0.2808477580547333,
          0.238491028547287,
          0.06696082651615143,
          0.17368084192276,
          0.1984817236661911,
          0.04439430311322212,
          0.16165120899677277,
          0.05570479854941368,
          0.24302348494529724,
          0.133359894156456,
          -0.0353468582034111,
          -0.0936117172241211,
          -0.19503307342529297,
          -0.00689030671492219,
          0.11575573682785034,
          0.010028996504843235,
          0.4145849943161011,
          -0.15929442644119263,
          0.08200006186962128,
          -0.0977780818939209,
          -0.12846031785011292,
          0.14486944675445557,
          0.22322578728199005,
          0.14992432296276093,
          -0.12477606534957886,
          -0.0737362951040268,
          -0.07356041669845581,
          0.22574886679649353,
          -0.11841797828674316,
          0.2507914900779724,
          -0.10283810645341873,
          0.13695953786373138,
          0.15107397735118866,
          0.0951632633805275,
          0.1588529497385025,
          0.2733997702598572,
          -0.0410538874566555,
          0.12215525656938553,
          -0.2569243311882019,
          0.13424921035766602,
          0.088332898914814,
          -0.16103613376617432,
          0.0919598862528801,
          -0.15752723813056946,
          0.07949299365282059,
          -0.1680826097726822,
          -0.3359038829803467,
          0.3073716163635254,
          -0.13750295341014862,
          0.2704070508480072,
          0.11210370063781738,
          -0.38661694526672363,
          -0.2283167541027069,
          -0.10009416937828064,
          0.041484177112579346,
          -0.1126452386379242,
          -0.13944648206233978,
          0.24802938103675842,
          -0.0781325027346611,
          -0.04949115961790085,
          0.04600995406508446,
          -0.24238814413547516,
          -0.07535374909639359,
          -0.10254121571779251,
          -0.4124130308628082,
          -0.29863664507865906,
          -0.29979267716407776,
          -0.04074056074023247
         ],
         "yaxis": "y"
        }
       ],
       "layout": {
        "coloraxis": {
         "colorbar": {
          "title": {
           "text": "bertopic"
          }
         },
         "colorscale": [
          [
           0,
           "#0d0887"
          ],
          [
           0.1111111111111111,
           "#46039f"
          ],
          [
           0.2222222222222222,
           "#7201a8"
          ],
          [
           0.3333333333333333,
           "#9c179e"
          ],
          [
           0.4444444444444444,
           "#bd3786"
          ],
          [
           0.5555555555555556,
           "#d8576b"
          ],
          [
           0.6666666666666666,
           "#ed7953"
          ],
          [
           0.7777777777777778,
           "#fb9f3a"
          ],
          [
           0.8888888888888888,
           "#fdca26"
          ],
          [
           1,
           "#f0f921"
          ]
         ]
        },
        "legend": {
         "tracegroupgap": 0
        },
        "margin": {
         "t": 60
        },
        "template": {
         "data": {
          "bar": [
           {
            "error_x": {
             "color": "#2a3f5f"
            },
            "error_y": {
             "color": "#2a3f5f"
            },
            "marker": {
             "line": {
              "color": "#E5ECF6",
              "width": 0.5
             },
             "pattern": {
              "fillmode": "overlay",
              "size": 10,
              "solidity": 0.2
             }
            },
            "type": "bar"
           }
          ],
          "barpolar": [
           {
            "marker": {
             "line": {
              "color": "#E5ECF6",
              "width": 0.5
             },
             "pattern": {
              "fillmode": "overlay",
              "size": 10,
              "solidity": 0.2
             }
            },
            "type": "barpolar"
           }
          ],
          "carpet": [
           {
            "aaxis": {
             "endlinecolor": "#2a3f5f",
             "gridcolor": "white",
             "linecolor": "white",
             "minorgridcolor": "white",
             "startlinecolor": "#2a3f5f"
            },
            "baxis": {
             "endlinecolor": "#2a3f5f",
             "gridcolor": "white",
             "linecolor": "white",
             "minorgridcolor": "white",
             "startlinecolor": "#2a3f5f"
            },
            "type": "carpet"
           }
          ],
          "choropleth": [
           {
            "colorbar": {
             "outlinewidth": 0,
             "ticks": ""
            },
            "type": "choropleth"
           }
          ],
          "contour": [
           {
            "colorbar": {
             "outlinewidth": 0,
             "ticks": ""
            },
            "colorscale": [
             [
              0,
              "#0d0887"
             ],
             [
              0.1111111111111111,
              "#46039f"
             ],
             [
              0.2222222222222222,
              "#7201a8"
             ],
             [
              0.3333333333333333,
              "#9c179e"
             ],
             [
              0.4444444444444444,
              "#bd3786"
             ],
             [
              0.5555555555555556,
              "#d8576b"
             ],
             [
              0.6666666666666666,
              "#ed7953"
             ],
             [
              0.7777777777777778,
              "#fb9f3a"
             ],
             [
              0.8888888888888888,
              "#fdca26"
             ],
             [
              1,
              "#f0f921"
             ]
            ],
            "type": "contour"
           }
          ],
          "contourcarpet": [
           {
            "colorbar": {
             "outlinewidth": 0,
             "ticks": ""
            },
            "type": "contourcarpet"
           }
          ],
          "heatmap": [
           {
            "colorbar": {
             "outlinewidth": 0,
             "ticks": ""
            },
            "colorscale": [
             [
              0,
              "#0d0887"
             ],
             [
              0.1111111111111111,
              "#46039f"
             ],
             [
              0.2222222222222222,
              "#7201a8"
             ],
             [
              0.3333333333333333,
              "#9c179e"
             ],
             [
              0.4444444444444444,
              "#bd3786"
             ],
             [
              0.5555555555555556,
              "#d8576b"
             ],
             [
              0.6666666666666666,
              "#ed7953"
             ],
             [
              0.7777777777777778,
              "#fb9f3a"
             ],
             [
              0.8888888888888888,
              "#fdca26"
             ],
             [
              1,
              "#f0f921"
             ]
            ],
            "type": "heatmap"
           }
          ],
          "heatmapgl": [
           {
            "colorbar": {
             "outlinewidth": 0,
             "ticks": ""
            },
            "colorscale": [
             [
              0,
              "#0d0887"
             ],
             [
              0.1111111111111111,
              "#46039f"
             ],
             [
              0.2222222222222222,
              "#7201a8"
             ],
             [
              0.3333333333333333,
              "#9c179e"
             ],
             [
              0.4444444444444444,
              "#bd3786"
             ],
             [
              0.5555555555555556,
              "#d8576b"
             ],
             [
              0.6666666666666666,
              "#ed7953"
             ],
             [
              0.7777777777777778,
              "#fb9f3a"
             ],
             [
              0.8888888888888888,
              "#fdca26"
             ],
             [
              1,
              "#f0f921"
             ]
            ],
            "type": "heatmapgl"
           }
          ],
          "histogram": [
           {
            "marker": {
             "pattern": {
              "fillmode": "overlay",
              "size": 10,
              "solidity": 0.2
             }
            },
            "type": "histogram"
           }
          ],
          "histogram2d": [
           {
            "colorbar": {
             "outlinewidth": 0,
             "ticks": ""
            },
            "colorscale": [
             [
              0,
              "#0d0887"
             ],
             [
              0.1111111111111111,
              "#46039f"
             ],
             [
              0.2222222222222222,
              "#7201a8"
             ],
             [
              0.3333333333333333,
              "#9c179e"
             ],
             [
              0.4444444444444444,
              "#bd3786"
             ],
             [
              0.5555555555555556,
              "#d8576b"
             ],
             [
              0.6666666666666666,
              "#ed7953"
             ],
             [
              0.7777777777777778,
              "#fb9f3a"
             ],
             [
              0.8888888888888888,
              "#fdca26"
             ],
             [
              1,
              "#f0f921"
             ]
            ],
            "type": "histogram2d"
           }
          ],
          "histogram2dcontour": [
           {
            "colorbar": {
             "outlinewidth": 0,
             "ticks": ""
            },
            "colorscale": [
             [
              0,
              "#0d0887"
             ],
             [
              0.1111111111111111,
              "#46039f"
             ],
             [
              0.2222222222222222,
              "#7201a8"
             ],
             [
              0.3333333333333333,
              "#9c179e"
             ],
             [
              0.4444444444444444,
              "#bd3786"
             ],
             [
              0.5555555555555556,
              "#d8576b"
             ],
             [
              0.6666666666666666,
              "#ed7953"
             ],
             [
              0.7777777777777778,
              "#fb9f3a"
             ],
             [
              0.8888888888888888,
              "#fdca26"
             ],
             [
              1,
              "#f0f921"
             ]
            ],
            "type": "histogram2dcontour"
           }
          ],
          "mesh3d": [
           {
            "colorbar": {
             "outlinewidth": 0,
             "ticks": ""
            },
            "type": "mesh3d"
           }
          ],
          "parcoords": [
           {
            "line": {
             "colorbar": {
              "outlinewidth": 0,
              "ticks": ""
             }
            },
            "type": "parcoords"
           }
          ],
          "pie": [
           {
            "automargin": true,
            "type": "pie"
           }
          ],
          "scatter": [
           {
            "fillpattern": {
             "fillmode": "overlay",
             "size": 10,
             "solidity": 0.2
            },
            "type": "scatter"
           }
          ],
          "scatter3d": [
           {
            "line": {
             "colorbar": {
              "outlinewidth": 0,
              "ticks": ""
             }
            },
            "marker": {
             "colorbar": {
              "outlinewidth": 0,
              "ticks": ""
             }
            },
            "type": "scatter3d"
           }
          ],
          "scattercarpet": [
           {
            "marker": {
             "colorbar": {
              "outlinewidth": 0,
              "ticks": ""
             }
            },
            "type": "scattercarpet"
           }
          ],
          "scattergeo": [
           {
            "marker": {
             "colorbar": {
              "outlinewidth": 0,
              "ticks": ""
             }
            },
            "type": "scattergeo"
           }
          ],
          "scattergl": [
           {
            "marker": {
             "colorbar": {
              "outlinewidth": 0,
              "ticks": ""
             }
            },
            "type": "scattergl"
           }
          ],
          "scattermapbox": [
           {
            "marker": {
             "colorbar": {
              "outlinewidth": 0,
              "ticks": ""
             }
            },
            "type": "scattermapbox"
           }
          ],
          "scatterpolar": [
           {
            "marker": {
             "colorbar": {
              "outlinewidth": 0,
              "ticks": ""
             }
            },
            "type": "scatterpolar"
           }
          ],
          "scatterpolargl": [
           {
            "marker": {
             "colorbar": {
              "outlinewidth": 0,
              "ticks": ""
             }
            },
            "type": "scatterpolargl"
           }
          ],
          "scatterternary": [
           {
            "marker": {
             "colorbar": {
              "outlinewidth": 0,
              "ticks": ""
             }
            },
            "type": "scatterternary"
           }
          ],
          "surface": [
           {
            "colorbar": {
             "outlinewidth": 0,
             "ticks": ""
            },
            "colorscale": [
             [
              0,
              "#0d0887"
             ],
             [
              0.1111111111111111,
              "#46039f"
             ],
             [
              0.2222222222222222,
              "#7201a8"
             ],
             [
              0.3333333333333333,
              "#9c179e"
             ],
             [
              0.4444444444444444,
              "#bd3786"
             ],
             [
              0.5555555555555556,
              "#d8576b"
             ],
             [
              0.6666666666666666,
              "#ed7953"
             ],
             [
              0.7777777777777778,
              "#fb9f3a"
             ],
             [
              0.8888888888888888,
              "#fdca26"
             ],
             [
              1,
              "#f0f921"
             ]
            ],
            "type": "surface"
           }
          ],
          "table": [
           {
            "cells": {
             "fill": {
              "color": "#EBF0F8"
             },
             "line": {
              "color": "white"
             }
            },
            "header": {
             "fill": {
              "color": "#C8D4E3"
             },
             "line": {
              "color": "white"
             }
            },
            "type": "table"
           }
          ]
         },
         "layout": {
          "annotationdefaults": {
           "arrowcolor": "#2a3f5f",
           "arrowhead": 0,
           "arrowwidth": 1
          },
          "autotypenumbers": "strict",
          "coloraxis": {
           "colorbar": {
            "outlinewidth": 0,
            "ticks": ""
           }
          },
          "colorscale": {
           "diverging": [
            [
             0,
             "#8e0152"
            ],
            [
             0.1,
             "#c51b7d"
            ],
            [
             0.2,
             "#de77ae"
            ],
            [
             0.3,
             "#f1b6da"
            ],
            [
             0.4,
             "#fde0ef"
            ],
            [
             0.5,
             "#f7f7f7"
            ],
            [
             0.6,
             "#e6f5d0"
            ],
            [
             0.7,
             "#b8e186"
            ],
            [
             0.8,
             "#7fbc41"
            ],
            [
             0.9,
             "#4d9221"
            ],
            [
             1,
             "#276419"
            ]
           ],
           "sequential": [
            [
             0,
             "#0d0887"
            ],
            [
             0.1111111111111111,
             "#46039f"
            ],
            [
             0.2222222222222222,
             "#7201a8"
            ],
            [
             0.3333333333333333,
             "#9c179e"
            ],
            [
             0.4444444444444444,
             "#bd3786"
            ],
            [
             0.5555555555555556,
             "#d8576b"
            ],
            [
             0.6666666666666666,
             "#ed7953"
            ],
            [
             0.7777777777777778,
             "#fb9f3a"
            ],
            [
             0.8888888888888888,
             "#fdca26"
            ],
            [
             1,
             "#f0f921"
            ]
           ],
           "sequentialminus": [
            [
             0,
             "#0d0887"
            ],
            [
             0.1111111111111111,
             "#46039f"
            ],
            [
             0.2222222222222222,
             "#7201a8"
            ],
            [
             0.3333333333333333,
             "#9c179e"
            ],
            [
             0.4444444444444444,
             "#bd3786"
            ],
            [
             0.5555555555555556,
             "#d8576b"
            ],
            [
             0.6666666666666666,
             "#ed7953"
            ],
            [
             0.7777777777777778,
             "#fb9f3a"
            ],
            [
             0.8888888888888888,
             "#fdca26"
            ],
            [
             1,
             "#f0f921"
            ]
           ]
          },
          "colorway": [
           "#636efa",
           "#EF553B",
           "#00cc96",
           "#ab63fa",
           "#FFA15A",
           "#19d3f3",
           "#FF6692",
           "#B6E880",
           "#FF97FF",
           "#FECB52"
          ],
          "font": {
           "color": "#2a3f5f"
          },
          "geo": {
           "bgcolor": "white",
           "lakecolor": "white",
           "landcolor": "#E5ECF6",
           "showlakes": true,
           "showland": true,
           "subunitcolor": "white"
          },
          "hoverlabel": {
           "align": "left"
          },
          "hovermode": "closest",
          "mapbox": {
           "style": "light"
          },
          "paper_bgcolor": "white",
          "plot_bgcolor": "#E5ECF6",
          "polar": {
           "angularaxis": {
            "gridcolor": "white",
            "linecolor": "white",
            "ticks": ""
           },
           "bgcolor": "#E5ECF6",
           "radialaxis": {
            "gridcolor": "white",
            "linecolor": "white",
            "ticks": ""
           }
          },
          "scene": {
           "xaxis": {
            "backgroundcolor": "#E5ECF6",
            "gridcolor": "white",
            "gridwidth": 2,
            "linecolor": "white",
            "showbackground": true,
            "ticks": "",
            "zerolinecolor": "white"
           },
           "yaxis": {
            "backgroundcolor": "#E5ECF6",
            "gridcolor": "white",
            "gridwidth": 2,
            "linecolor": "white",
            "showbackground": true,
            "ticks": "",
            "zerolinecolor": "white"
           },
           "zaxis": {
            "backgroundcolor": "#E5ECF6",
            "gridcolor": "white",
            "gridwidth": 2,
            "linecolor": "white",
            "showbackground": true,
            "ticks": "",
            "zerolinecolor": "white"
           }
          },
          "shapedefaults": {
           "line": {
            "color": "#2a3f5f"
           }
          },
          "ternary": {
           "aaxis": {
            "gridcolor": "white",
            "linecolor": "white",
            "ticks": ""
           },
           "baxis": {
            "gridcolor": "white",
            "linecolor": "white",
            "ticks": ""
           },
           "bgcolor": "#E5ECF6",
           "caxis": {
            "gridcolor": "white",
            "linecolor": "white",
            "ticks": ""
           }
          },
          "title": {
           "x": 0.05
          },
          "xaxis": {
           "automargin": true,
           "gridcolor": "white",
           "linecolor": "white",
           "ticks": "",
           "title": {
            "standoff": 15
           },
           "zerolinecolor": "white",
           "zerolinewidth": 2
          },
          "yaxis": {
           "automargin": true,
           "gridcolor": "white",
           "linecolor": "white",
           "ticks": "",
           "title": {
            "standoff": 15
           },
           "zerolinecolor": "white",
           "zerolinewidth": 2
          }
         }
        },
        "xaxis": {
         "anchor": "y",
         "domain": [
          0,
          1
         ],
         "range": [
          -1.386134386062622,
          1.5687243938446045
         ],
         "title": {
          "text": "x"
         }
        },
        "yaxis": {
         "anchor": "x",
         "domain": [
          0,
          1
         ],
         "range": [
          -1.4124130308628082,
          1.414584994316101
         ],
         "title": {
          "text": "y"
         }
        }
       }
      }
     },
     "metadata": {},
     "output_type": "display_data"
    }
   ],
   "source": [
    "visualise_with_dimensional_reduction(df_test,PCA(n_components=2), color_to_show='bertopic', hover_data=['topics', 'cleaned_text_translated','lang'])"
   ]
  },
  {
   "cell_type": "code",
   "execution_count": 149,
   "metadata": {},
   "outputs": [
    {
     "name": "stdout",
     "output_type": "stream",
     "text": [
      "ukrainewar: the  eu  sanctions against  russia at a glance  ukrainerussiawar  ukrainerussiacrisis\n",
      "the federal attorney general is investigating... possible  warcrimes  russia in  ukraine but not against president  putin personally. the international criminal court (icc) is also already investigating. after .../2\n",
      "\" ukraine needs heavy weapons,\" says ex-civil service worker, nikolas busse! 🤦😂\n",
      "cnn: biden is finalizing sending patriot to ukraine  ukraina  russia  war\n",
      "an american strategic reconnaissance drone rq-4 global hawk is circling off the coast of crimea. 😅🔥👌🏻  ukrainerussianwar  ukrainecounteroffensive  war on ukraine  ukraine️  russiaukrainewar  russiaisaterroriststate  usa\n",
      "more and more evidence of  russian war crimes uncovered on a near daily basis in  ukraine️. all being documented and sent to the  hague.\n",
      "twenty-two individuals and two entities are subject to new anti-russian sanctions by the u.s. treasury department's office of foreign assets control (ofac).  usa  russia  sanctions\n",
      "🔴 the united states officially sanctions vladimir  putin, mae sergei  lavrov, the russian minister of defense, the deputy minister of defense and the chief of staff of the russian army.  ukrainerussia  ukrainewar  russiaukrainewar  ukrainerussiaconflict\n",
      "pentagon accused the russian military of committing war crimes in ukraine and said it will help gather evidence.    ukraineunderattack  russianwarcrimes  russianukrainianwar  stoprussia  putinswar  putinhitler  russiakills\n",
      "war in ukraine: new round of american sanctions against russia and vladimir putin's daughters  ukraine  warinukraine\n",
      "putin's criminal and corrupt  russia tortures prisoners of war!!!!  ukraine\n",
      "here is proof of another russian war crime. in this phone call, a russian commander orders his subordinate to kill ukrainian prisoners of war in the town of popasna in eastern  ukraine.  ukrainerussiawar\n",
      "alert the international criminal court issues an arrest warrant against russian president vladimir  putin for war crimes in ukraine.\n"
     ]
    }
   ],
   "source": [
    "for x in df_test.query('bertopic==2')['cleaned_text_translated']:\n",
    "    print(x)"
   ]
  },
  {
   "cell_type": "code",
   "execution_count": 58,
   "metadata": {},
   "outputs": [
    {
     "data": {
      "text/plain": [
       "972"
      ]
     },
     "execution_count": 58,
     "metadata": {},
     "output_type": "execute_result"
    }
   ],
   "source": [
    "len(word2id.items())"
   ]
  },
  {
   "cell_type": "code",
   "execution_count": 141,
   "metadata": {},
   "outputs": [],
   "source": [
    "from gensim.corpora.dictionary import Dictionary\n",
    "import os\n",
    "os.environ[\"TOKENIZERS_PARALLELISM\"] = \"false\"\n",
    "\n",
    "\n",
    "topics = df_test.groupby(\"topics\")[\"lemmas\"].sum()\n",
    "\n",
    "word2id = Dictionary( df_test['translated_lemmas'].to_list())"
   ]
  },
  {
   "cell_type": "code",
   "execution_count": 143,
   "metadata": {},
   "outputs": [
    {
     "data": {
      "text/plain": [
       "[-0.4559086739112057,\n",
       " -0.020213858440038025,\n",
       " -0.5163117696406291,\n",
       " 0.11488970981405285]"
      ]
     },
     "execution_count": 143,
     "metadata": {},
     "output_type": "execute_result"
    }
   ],
   "source": [
    "\n",
    "cm = CoherenceModel(topics=topics, \n",
    "                    texts= df_test['lemmas'].to_list(),\n",
    "                    coherence='c_npmi',  \n",
    "                    dictionary=word2id)\n",
    "\n",
    "coherence_per_topic = cm.get_coherence_per_topic()\n",
    "\n",
    "coherence_per_topic"
   ]
  },
  {
   "cell_type": "code",
   "execution_count": 47,
   "metadata": {},
   "outputs": [
    {
     "data": {
      "text/plain": [
       "[0.050937533124918506,\n",
       " 0.0808065847719886,\n",
       " -0.06441845094015212,\n",
       " 0.058774471751185525]"
      ]
     },
     "execution_count": 47,
     "metadata": {},
     "output_type": "execute_result"
    }
   ],
   "source": []
  },
  {
   "cell_type": "code",
   "execution_count": 83,
   "metadata": {},
   "outputs": [
    {
     "data": {
      "text/plain": [
       "(100,)"
      ]
     },
     "execution_count": 83,
     "metadata": {},
     "output_type": "execute_result"
    }
   ],
   "source": [
    "df_test['translated_lemmas'].shape"
   ]
  },
  {
   "cell_type": "code",
   "execution_count": 80,
   "metadata": {},
   "outputs": [
    {
     "data": {
      "text/plain": [
       "(100, 768)"
      ]
     },
     "execution_count": 80,
     "metadata": {},
     "output_type": "execute_result"
    }
   ],
   "source": [
    "import numpy as np\n",
    "np.stack(df_test['embeddings'].to_list(), axis=0).shape"
   ]
  },
  {
   "cell_type": "code",
   "execution_count": 127,
   "metadata": {},
   "outputs": [],
   "source": [
    "from bertopic import BERTopic\n",
    "topic_model = BERTopic()\n",
    "topics, probs = topic_model.fit_transform(df_test['cleaned_text'].to_list(), np.stack(df_test['embeddings'].to_list(), axis=0))"
   ]
  },
  {
   "cell_type": "code",
   "execution_count": 128,
   "metadata": {},
   "outputs": [
    {
     "data": {
      "text/plain": [
       "[['la', 'de', 'un', 'ukraine', 'di', 'in', 'le', 'guerre', 'hanno', 'putin'],\n",
       " ['der', 'russia', 'the', 'di', 'la', 'ukraine', 'gas', 'nato', 'putin', 'to'],\n",
       " ['ukraine', 'de', 'tus', 'dans', 'ont', 'en', 'les', 'moins', 'au', 'blesss'],\n",
       " ['de',\n",
       "  'ukraine',\n",
       "  'russe',\n",
       "  'guerre',\n",
       "  'la',\n",
       "  'le',\n",
       "  'poutine',\n",
       "  'et',\n",
       "  'vladimir',\n",
       "  'crimes']]"
      ]
     },
     "execution_count": 128,
     "metadata": {},
     "output_type": "execute_result"
    }
   ],
   "source": [
    "topic_model.get_topic_info()['Representation'].to_list()"
   ]
  },
  {
   "cell_type": "code",
   "execution_count": 129,
   "metadata": {},
   "outputs": [],
   "source": [
    "df_test['bertopic'] = topics"
   ]
  },
  {
   "cell_type": "code",
   "execution_count": 130,
   "metadata": {},
   "outputs": [
    {
     "name": "stderr",
     "output_type": "stream",
     "text": [
      "huggingface/tokenizers: The current process just got forked, after parallelism has already been used. Disabling parallelism to avoid deadlocks...\n",
      "To disable this warning, you can either:\n",
      "\t- Avoid using `tokenizers` before the fork if possible\n",
      "\t- Explicitly set the environment variable TOKENIZERS_PARALLELISM=(true | false)\n",
      "huggingface/tokenizers: The current process just got forked, after parallelism has already been used. Disabling parallelism to avoid deadlocks...\n",
      "To disable this warning, you can either:\n",
      "\t- Avoid using `tokenizers` before the fork if possible\n",
      "\t- Explicitly set the environment variable TOKENIZERS_PARALLELISM=(true | false)\n"
     ]
    },
    {
     "name": "stderr",
     "output_type": "stream",
     "text": [
      "huggingface/tokenizers: The current process just got forked, after parallelism has already been used. Disabling parallelism to avoid deadlocks...\n",
      "To disable this warning, you can either:\n",
      "\t- Avoid using `tokenizers` before the fork if possible\n",
      "\t- Explicitly set the environment variable TOKENIZERS_PARALLELISM=(true | false)\n",
      "huggingface/tokenizers: The current process just got forked, after parallelism has already been used. Disabling parallelism to avoid deadlocks...\n",
      "To disable this warning, you can either:\n",
      "\t- Avoid using `tokenizers` before the fork if possible\n",
      "\t- Explicitly set the environment variable TOKENIZERS_PARALLELISM=(true | false)\n",
      "huggingface/tokenizers: The current process just got forked, after parallelism has already been used. Disabling parallelism to avoid deadlocks...\n",
      "To disable this warning, you can either:\n",
      "\t- Avoid using `tokenizers` before the fork if possible\n",
      "\t- Explicitly set the environment variable TOKENIZERS_PARALLELISM=(true | false)\n",
      "huggingface/tokenizers: The current process just got forked, after parallelism has already been used. Disabling parallelism to avoid deadlocks...\n",
      "To disable this warning, you can either:\n",
      "\t- Avoid using `tokenizers` before the fork if possible\n",
      "\t- Explicitly set the environment variable TOKENIZERS_PARALLELISM=(true | false)\n",
      "huggingface/tokenizers: The current process just got forked, after parallelism has already been used. Disabling parallelism to avoid deadlocks...\n",
      "To disable this warning, you can either:\n",
      "\t- Avoid using `tokenizers` before the fork if possible\n",
      "\t- Explicitly set the environment variable TOKENIZERS_PARALLELISM=(true | false)\n"
     ]
    },
    {
     "data": {
      "text/plain": [
       "[-0.3510333663279367,\n",
       " -0.5132066730551073,\n",
       " -0.030135892566192587,\n",
       " -0.007000228560202858]"
      ]
     },
     "execution_count": 130,
     "metadata": {},
     "output_type": "execute_result"
    }
   ],
   "source": [
    "cm = CoherenceModel(topics=df_test.groupby(\"bertopic\")[\"lemmas\"].sum(),  texts= df_test['lemmas'].to_list(),\n",
    "                    coherence='c_npmi',  \n",
    "                    dictionary=word2id)\n",
    "\n",
    "\n",
    "coherence_per_topic = cm.get_coherence_per_topic()\n",
    "\n",
    "coherence_per_topic"
   ]
  },
  {
   "cell_type": "code",
   "execution_count": null,
   "metadata": {},
   "outputs": [],
   "source": []
  }
 ],
 "metadata": {
  "kernelspec": {
   "display_name": "Python 3",
   "language": "python",
   "name": "python3"
  },
  "language_info": {
   "codemirror_mode": {
    "name": "ipython",
    "version": 3
   },
   "file_extension": ".py",
   "mimetype": "text/x-python",
   "name": "python",
   "nbconvert_exporter": "python",
   "pygments_lexer": "ipython3",
   "version": "3.11.7"
  }
 },
 "nbformat": 4,
 "nbformat_minor": 2
}
