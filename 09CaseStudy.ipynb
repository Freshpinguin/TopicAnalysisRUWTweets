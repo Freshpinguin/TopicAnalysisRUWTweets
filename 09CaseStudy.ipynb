{
 "cells": [
  {
   "cell_type": "markdown",
   "metadata": {},
   "source": [
    "# 09 Case Study"
   ]
  },
  {
   "cell_type": "markdown",
   "metadata": {},
   "source": [
    "0. Introduction\n",
    "1. Selecting Topics\n",
    "    1. Choosing four Topics\n",
    "    2. Process of Selecting Tweets \n",
    "    3. Presenting overview\n",
    "    4. Topic 1\n",
    "    5. Topic 2\n",
    "    6. Topic 3\n",
    "    7. Topic 4\n",
    "2. LDA\n",
    "3. BerTopic"
   ]
  },
  {
   "cell_type": "code",
   "execution_count": 2,
   "metadata": {},
   "outputs": [
    {
     "name": "stderr",
     "output_type": "stream",
     "text": [
      "/opt/homebrew/lib/python3.11/site-packages/tqdm/auto.py:21: TqdmWarning: IProgress not found. Please update jupyter and ipywidgets. See https://ipywidgets.readthedocs.io/en/stable/user_install.html\n",
      "  from .autonotebook import tqdm as notebook_tqdm\n"
     ]
    }
   ],
   "source": [
    "from src.SampleTranslation05.translation_01 import load_samples\n",
    "import pandas as pd\n",
    "pd.options.display.max_columns = 30 # default 20\n",
    "pd.options.display.max_rows = 60 # default 60\n",
    "pd.options.display.float_format = '{:.2f}'.format\n",
    "# pd.options.display.precision = 2\n",
    "from src.explorativ_analysis_05 import split_strings_to_list"
   ]
  },
  {
   "cell_type": "code",
   "execution_count": 6,
   "metadata": {},
   "outputs": [
    {
     "name": "stdout",
     "output_type": "stream",
     "text": [
      "(100, 24)\n"
     ]
    }
   ],
   "source": [
    "df_1 = pd.read_excel(\"samples_cleaned.xlsx\")\n",
    "df_1 = df_1.assign(\n",
    "    translated_lemmas = df_1['translated_lemmas'].apply(split_strings_to_list),\n",
    "    lemmas = df_1['lemmas'].apply(split_strings_to_list)\n",
    ")\n",
    "df = df_1[~df_1['topics'].isna()]\n",
    "df = df[df['topics'].isin(['sanctions', 'unjustified_war', 'arms_delivery', 'people_killed'])]\n",
    "print(df.shape)"
   ]
  },
  {
   "cell_type": "code",
   "execution_count": 8,
   "metadata": {},
   "outputs": [
    {
     "name": "stdout",
     "output_type": "stream",
     "text": [
      "(25, 24)\n",
      "(25, 24)\n",
      "(25, 24)\n",
      "(25, 24)\n"
     ]
    }
   ],
   "source": [
    "for topic in df['topics'].unique():\n",
    "    print(df.query(f\"topics == '{topic}' \").shape)"
   ]
  },
  {
   "cell_type": "markdown",
   "metadata": {},
   "source": [
    "In this case study, i will hand select 100 tweets and divide them into three topics. Then i will run LDA, BertTopic and BertTopic Multilingual on them and evaluate them against my handpicked topics."
   ]
  },
  {
   "cell_type": "code",
   "execution_count": 12,
   "metadata": {},
   "outputs": [
    {
     "name": "stderr",
     "output_type": "stream",
     "text": [
      "100%|██████████| 100/100 [00:08<00:00, 11.11it/s]\n",
      "100%|██████████| 100/100 [00:14<00:00,  6.84it/s]\n",
      "100%|██████████| 100/100 [00:15<00:00,  6.49it/s]\n"
     ]
    }
   ],
   "source": [
    "from sentence_transformers import SentenceTransformer\n",
    "model_labse = SentenceTransformer('sentence-transformers/LaBSE')\n",
    "df['embeddings_lemmas'] = df['lemmas'].str.join(\" \").progress_apply(model_labse.encode)\n",
    "df['embeddings_nouns'] = df['nouns'].str.join(\" \").progress_apply(model_labse.encode)\n",
    "df['cleaned_text_embeddings'] = df['cleaned_text'].str.join(\" \").progress_apply(model_labse.encode)\n"
   ]
  },
  {
   "cell_type": "code",
   "execution_count": 23,
   "metadata": {},
   "outputs": [
    {
     "data": {
      "application/vnd.plotly.v1+json": {
       "config": {
        "plotlyServerURL": "https://plot.ly"
       },
       "data": [
        {
         "customdata": [
          [
           "sanctions",
           "ukrainewar: the  eu  sanctions against  russia at a glance  ukrainerussiawar  ukrainerussiacrisis",
           "de"
          ],
          [
           "sanctions",
           "chancellor stop imports from russia immediately, whether gas or coal! it cannot be the case that germany is complicit in war crimes.  stopputinnow",
           "de"
          ],
          [
           "sanctions",
           "ukraine everyone complains about high gas prices the eu is financing putin's war an imbargo would make sense for a short period of time putin is financing the war from oil and gas exports!!!",
           "de"
          ],
          [
           "sanctions",
           "ukraine️ we should give up  gas and  oil from  russia. it is  unbearable that people are  slaughtered with our  money.",
           "de"
          ],
          [
           "sanctions",
           "thank you to everyone in the  cdu, the  csu and the  spd for sticking to fossil fuels and for the wonderful  putin cuddling in the  merkel era. so to speak, it's the hard-working  memory gas price.",
           "de"
          ],
          [
           "sanctions",
           "since we don't have an oil embargo against russia, the government is helping people finance the  ukraine war. it's so wrong on so many levels, i really don't have any words for it anymore.",
           "de"
          ],
          [
           "sanctions",
           "analysis: europe will close the cap on russian oil at $60 but it will not serve to harm russia  europe  russia  petroleoruso  oilbarrel  oilproduction ⬇️⬇️⬇️",
           "es"
          ],
          [
           "sanctions",
           "breaking although the european union tries to blame  putin for the energy shortage in  europe this winter, it was his own decision to suspend the import of russian gas and oil in the spring, bowing to the demands of the us and  nato.  ukrainerussianwar  russiaukrainewar",
           "es"
          ],
          [
           "sanctions",
           "the  eu is concerned that  turkey has expanded trade with  russia instead of imposing sanctions since the start of the conflict in  ukraine, said eu high representative for foreign affairs josep borrell.  la580",
           "es"
          ],
          [
           "sanctions",
           "the european commission emphasizes that the import from russia and the transit of some oil products should be allowed to ensure food and energy security in the world. first of all, poland and the baltic states oppose such a decision  stoprussia  stopputin",
           "uk"
          ],
          [
           "sanctions",
           "europe is slowly losing their standard of living. the sanction is damaging the economy. blowback russian sanction. shutdown . eurobasket . nato . russia .",
           "en"
          ],
          [
           "sanctions",
           "twenty-two individuals and two entities are subject to new anti-russian sanctions by the u.s. treasury department's office of foreign assets control (ofac).  usa  russia  sanctions",
           "en"
          ],
          [
           "sanctions",
           "russia finances hit by cheaper oil and costs of ukraine war cnn business  ukraine🇺🇦  freedom🇺🇲  keepkyivfree✊🏽  zelenskyy  fuckputin   from",
           "en"
          ],
          [
           "sanctions",
           "asks that you sign this petition   for a full western embargo on russian oil and gas and that you push big western players, including blackrock, to get the heck out of the 40 giant \"carbon bomb\" projects planned for russia  standwithukraine",
           "en"
          ],
          [
           "sanctions",
           "europe  eu  ukraine  russia the european union is set to ban sputnik, a russian government information channel, from operating on its territory.",
           "it"
          ],
          [
           "sanctions",
           "attention: germany and italy are receiving immense pressure to disconnect  russia from the  swift transaction circuit. obviously: they are the countries that have the most relations with moscow and that would take it there.",
           "it"
          ],
          [
           "sanctions",
           "apple, eni, ford and more: large companies have taken action against  russia. the list of companies that have decided to take concrete action against the russian invasion of  ukraine is dense and constantly updated  wwe2k22",
           "it"
          ],
          [
           "sanctions",
           "sanctions against  russia also affect cats. the international feline federation has announced it has banned russian cats from its competitions around the world until at least the end of may, saying it is \"horrified\" by the invasion of  ukraine.",
           "it"
          ],
          [
           "sanctions",
           "rolex stops exporting goods to  russia,  bloomberg reports.",
           "it"
          ],
          [
           "sanctions",
           "petrol  gas  wheat  fuel  bills etc other than  sanctions on  russia, this is italy's  assisted suicide  ukrainewar  draghileavenow let's give up and hand over  zelensky to him with apologies.",
           "it"
          ],
          [
           "sanctions",
           "🔴 the united states officially sanctions vladimir  putin, mae sergei  lavrov, the russian minister of defense, the deputy minister of defense and the chief of staff of the russian army.  ukrainerussia  ukrainewar  russiaukrainewar  ukrainerussiaconflict",
           "fr"
          ],
          [
           "sanctions",
           "war in ukraine: new round of american sanctions against russia and vladimir putin's daughters  ukraine  warinukraine",
           "fr"
          ],
          [
           "sanctions",
           "the boomerang effect has already been triggered. sanctions against russia generate global economic risks, which are major, particularly for the 🇫🇷. and bruno lemaire who thought he would bring  russia to its knees.  ukraine",
           "fr"
          ],
          [
           "sanctions",
           "zelensky calls on  europe to \"retaliate\" to the \"gas war\" by strengthening sanctions against  russia",
           "fr"
          ],
          [
           "sanctions",
           "the  eu visa ban on russian citizens 🇷🇺 is something that clearly hurts the  kremlin since many russians will then blame the russian dictator for losing their vacation. this is exactly why we need to do it.  russia  russian  eu",
           "fr"
          ]
         ],
         "hovertemplate": "topics=%{customdata[0]}<br>x=%{x}<br>y=%{y}<br>cleaned_text_translated=%{customdata[1]}<br>lang=%{customdata[2]}<extra></extra>",
         "legendgroup": "sanctions",
         "marker": {
          "color": "#636efa",
          "size": 10,
          "symbol": "circle"
         },
         "mode": "markers",
         "name": "sanctions",
         "orientation": "v",
         "showlegend": true,
         "type": "scatter",
         "x": [
          0.013750866055488586,
          -0.10979397594928741,
          -0.017939653247594833,
          0.09342577308416367,
          -0.1440947949886322,
          -0.14292864501476288,
          0.2205570489168167,
          -0.19033321738243103,
          -0.10870130360126495,
          -0.1696247160434723,
          -0.09219884127378464,
          -0.07487553358078003,
          0.24468231201171875,
          -0.13869304955005646,
          -0.10015928745269775,
          -0.1751643270254135,
          -0.16279156506061554,
          -0.2010258436203003,
          0.07976894080638885,
          -0.19691722095012665,
          0.18603599071502686,
          -0.03943353891372681,
          0.004777782130986452,
          0.06271418184041977,
          0.022990655153989792
         ],
         "xaxis": "x",
         "y": [
          0.19509190320968628,
          0.019235173240303993,
          0.0005732739227823913,
          0.049253396689891815,
          -0.025997355580329895,
          -0.09283250570297241,
          0.08161766827106476,
          -0.16273093223571777,
          -0.06212514266371727,
          0.03234713152050972,
          0.12764932215213776,
          -0.022859884425997734,
          0.06600291281938553,
          -0.1202341839671135,
          0.04635555297136307,
          -0.022503415122628212,
          -0.05494552478194237,
          -0.07974964380264282,
          0.3832155466079712,
          -0.08549109101295471,
          -0.3678824007511139,
          0.1594333052635193,
          -0.11287839710712433,
          0.27620458602905273,
          -0.07898806035518646
         ],
         "yaxis": "y"
        },
        {
         "customdata": [
          [
           "unjustified_war",
           "vogt-wuchter: \"we are shocked by the war in ukraine in the middle of europe which russia launched against its neighboring country in violation of international law.\" civilians are victims of the conflict. hundreds of thousands are fleeing. statement:    ukraine",
           "de"
          ],
          [
           "unjustified_war",
           "oh, a special conversation situation.  putin wages war and commits war crimes. you can save yourself that crap.",
           "de"
          ],
          [
           "unjustified_war",
           "the federal attorney general is investigating... possible  warcrimes  russia in  ukraine but not against president  putin personally. the international criminal court (icc) is also already investigating. after .../2",
           "de"
          ],
          [
           "unjustified_war",
           "the targeted bomb attack on the  children's clinic in  mariupol is despicably unscrupulous and shows the full inhumanity of  putin. it is a barbaric, brutal  warcrime inexcusably inhumane.  stopputinnow  standwithukraine  putinisawarcriminal",
           "de"
          ],
          [
           "unjustified_war",
           "i watched carefully, and it seemed to me that he wanted to repeat the georgia 2008 option by making ukraine the aggressor. and here ukraine did not fall into any traps, all the fakes were exposed instantly, and as a result, nothing limited international support. saakashvili's lesson has been learned.",
           "ru"
          ],
          [
           "unjustified_war",
           "there is not a single generation of the ukrainian people that has not suffered at the hands of the russians. the realization of this hurts so much that it often seems as if this hell will never end. as if this hell is life itself.",
           "uk"
          ],
          [
           "unjustified_war",
           "the terrorist organization \"russia\" fired a volley of s-300 missiles at a convoy of people heading to the occupied territory to visit their relatives, killing dozens of civilians. when will a special tribunal be created to criminalize the regime of these scum?  russiaisaterroriststate  russia  ukraine",
           "uk"
          ],
          [
           "unjustified_war",
           "more and more evidence of  russian war crimes uncovered on a near daily basis in  ukraine️. all being documented and sent to the  hague.",
           "en"
          ],
          [
           "unjustified_war",
           "allies do not and will never recognize russia's illegal and illegitimate annexation of crimea. sham referenda in the donetsk, luhansk, zaporizhzhia, and kherson regions of ukraine have no legitimacy and will be a blatant violation of the un charter  standwithukraine",
           "en"
          ],
          [
           "unjustified_war",
           "anyone who deliberately attacks hospitals and civilian homes is a criminal and should be punished immediately, but even those who tolerate it, by refusing to back down from their positions, are contributing to the mass slaughter of their people. russiaukraineconflict  ukrainewar",
           "it"
          ],
          [
           "unjustified_war",
           "lavrov  putin and all those who carried out the massacre in  ukraine will have to pay for their crimes with the death penalty, let's hope they don't go unpunished as happened with the bastards who exterminated vietnamese children with napalm.",
           "it"
          ],
          [
           "unjustified_war",
           "let's be clear:  putin ordered to attack, bomb and hit  ukraine. the initiative of the  war is his, the invasion is criminal, the  ukrainians have every  right and  duty to offer  resistance to the invaders. demanding their surrender is an embarrassing infamy.",
           "it"
          ],
          [
           "unjustified_war",
           "three weeks after the start of the war, people still have to understand that there is an invader and an invaded. let's do well.  sbetti  ukraine️  nowar  ukrainewar  whitezone",
           "it"
          ],
          [
           "unjustified_war",
           "so  putin asks nato not to let ukraine in, ergo it invades and destroys ukraine and ukraine must not defend itself. it's a reasoning worthy of hitler",
           "it"
          ],
          [
           "unjustified_war",
           "warrussiaukraine  putinwarcriminal  putin it's very clear ! and very simple! just say it loud and clear! putin is an invading aggressor war criminal!",
           "fr"
          ],
          [
           "unjustified_war",
           "🔴 \" putin is a war criminal\": \"this is the first time that joe  biden has said it this term has weight, meaning, especially today, especially after v's speech.  zelensky\", reports  our correspondent  in  ruthelkrief2022",
           "fr"
          ],
          [
           "unjustified_war",
           "pentagon accused the russian military of committing war crimes in ukraine and said it will help gather evidence.    ukraineunderattack  russianwarcrimes  russianukrainianwar  stoprussia  putinswar  putinhitler  russiakills",
           "fr"
          ],
          [
           "unjustified_war",
           "carla del ponte: \"putin is a war criminal\"  putinwarcrimes",
           "fr"
          ],
          [
           "unjustified_war",
           "via  \"mr. putin was wrong about almost everything. this war has been an error of interpretation from the start.\"  ukraine on franceinfo, this former general, now professor of strategy at sciences po and hec, looks back on…",
           "fr"
          ],
          [
           "unjustified_war",
           "putin's criminal and corrupt  russia tortures prisoners of war!!!!  ukraine",
           "fr"
          ],
          [
           "unjustified_war",
           "here is proof of another russian war crime. in this phone call, a russian commander orders his subordinate to kill ukrainian prisoners of war in the town of popasna in eastern  ukraine.  ukrainerussiawar",
           "fr"
          ],
          [
           "unjustified_war",
           "if you say \"war\" to him he won't respond..  operationspecial: the ukrainians refuse to be \"liberated\" by putin; so by \"attacking\" the russians the war becomes automatic due to  zelensky (must follow!)",
           "fr"
          ],
          [
           "unjustified_war",
           "alert the international criminal court issues an arrest warrant against russian president vladimir  putin for war crimes in ukraine.",
           "fr"
          ],
          [
           "unjustified_war",
           "🔴  ukrainerussianwar urgent‼️ the international criminal court issued an arrest warrant for russian president vladimir putin on friday, charging him with war crimes for the illegal deportation of children from ukraine to russia.  civ225  mali  burkina  niger  senegal",
           "fr"
          ],
          [
           "unjustified_war",
           "war in  ukraine:  russia committed wide range of war crimes, says un commission of inquiry report",
           "fr"
          ]
         ],
         "hovertemplate": "topics=%{customdata[0]}<br>x=%{x}<br>y=%{y}<br>cleaned_text_translated=%{customdata[1]}<br>lang=%{customdata[2]}<extra></extra>",
         "legendgroup": "unjustified_war",
         "marker": {
          "color": "#EF553B",
          "size": 10,
          "symbol": "circle"
         },
         "mode": "markers",
         "name": "unjustified_war",
         "orientation": "v",
         "showlegend": true,
         "type": "scatter",
         "x": [
          0.034191589802503586,
          -0.0626361146569252,
          -0.1183355450630188,
          -0.1966189295053482,
          -0.13536229729652405,
          -0.2313450127840042,
          -0.04197454825043678,
          0.1180024966597557,
          -0.24416068196296692,
          -0.23945750296115875,
          -0.19329611957073212,
          -0.197310209274292,
          -0.07466672360897064,
          -0.09408006072044373,
          -0.03623737767338753,
          0.3736104667186737,
          -0.1724858582019806,
          0.14431068301200867,
          -0.08534079790115356,
          0.11720560491085052,
          -0.1490481197834015,
          -0.036573946475982666,
          -0.0854419618844986,
          0.3570050597190857,
          -0.05099118500947952
         ],
         "xaxis": "x",
         "y": [
          -0.10875305533409119,
          0.20284001529216766,
          -0.13243314623832703,
          -0.10872503370046616,
          -0.054320454597473145,
          -0.022355573251843452,
          0.019372792914509773,
          0.09982859343290329,
          -0.12623153626918793,
          -0.1718481034040451,
          -0.08568557351827621,
          -0.1094750463962555,
          0.03417973965406418,
          0.02295391820371151,
          0.06587325036525726,
          -0.35604116320610046,
          -0.09802962094545364,
          0.18525144457817078,
          -0.20577245950698853,
          0.2855808436870575,
          -0.1465383619070053,
          -0.09334806352853775,
          0.15818198025226593,
          -0.3572394549846649,
          0.14621302485466003
         ],
         "yaxis": "y"
        },
        {
         "customdata": [
          [
           "people_killed",
           "the interior ministry of  ukraine reported on sunday evening 352 civilians killed since russia's attack on ukraine, including 14 children. a further 1,684 wounded people were counted, including 116 children.  fckptn  weapons  ukrainewar  putinswar  belarus  putin",
           "de"
          ],
          [
           "people_killed",
           "🛑🛑🇷🇺🇺🇦 russia attacked the settlement in the svyatoshinsky district of kiev! mayor; \"5 people were injured, 2 were hospitalized\"  ukrainerussiawar  ukraine  russia  kiev  kyiv",
           "de"
          ],
          [
           "people_killed",
           "people are being slaughtered, kidnapped, raped and thrown into mass graves by the russians in  mariupol. but of course, ukraine should capitulate and insist on peace. do you notice anything else?",
           "de"
          ],
          [
           "people_killed",
           "russia: 2,500 dead seals found on the coast of the caspian sea, in russia.",
           "es"
          ],
          [
           "people_killed",
           "three people died in the crash of a mi-8 helicopter in russia's buryatia.  ukraine  ukraine  russian  war",
           "es"
          ],
          [
           "people_killed",
           "the burial of an entire family was found in izyum. we are talking about the stolpakov family: 31-year-old elena and 33-year-old dmytro, as well as their daughters 5-year-old lesya and 8-year-old sasha, as well as their grandmother (according to other data, the grandfather also died)  russiaisaterrorisstate  izium  ukraine️  stoprussianaggression",
           "uk"
          ],
          [
           "people_killed",
           "a total of 447 dead were found. among them are 425 civilians and 22 soldiers of the armed forces of ukraine.  stoprussia",
           "uk"
          ],
          [
           "people_killed",
           "fragments of a child's body were found at the site of a rocket attack in dnipro    ukraine  dnipro",
           "uk"
          ],
          [
           "people_killed",
           "breaking! two killed and three injured in donetsk more details of overnight attacks are emerging from ukraine today.  theshadepill  stoprussia  russiakillscivilians  emergency  trending",
           "en"
          ],
          [
           "people_killed",
           "20 reportedly killed as russian forces shelled civilian convoy in kupiansky district, kharkiv oblast  russia  ukraine  war",
           "en"
          ],
          [
           "people_killed",
           "they bombed hospitals, universities, homes of ordinary citizens, they bombed kindergartens, schools... they killed children, women and men... only an infamous person could do something like that.  russianukrainianwar  putin  ucrania",
           "it"
          ],
          [
           "people_killed",
           "unity  crisis  international ; 5 dead after the air attack on the  ukraine television headquarters. reports of violence from students and women are increasing.  noallaguerra  siallavita  russiaukraineconflict  russiaukrainewar  negotiations.",
           "it"
          ],
          [
           "people_killed",
           "russia without dignity or shame: the children's hospital in  mariupol bombed. deaths and injuries among doctors, nurses and young patients",
           "it"
          ],
          [
           "people_killed",
           "hell in  mariupol! here is the strategic city flown over by a drone the view is atrocious, heartbreaking  putin brought back hell on earth after 77 years: 2500 deaths, no electricity, water, food, heating i no longer have doubts: putin must be stopped. and you?   turkey",
           "it"
          ],
          [
           "people_killed",
           "because the victims of this filthy war have a name, a face... tetyana is a young mother living on the outskirts of kyiv. in this video, she says: \"parents of russia, your children are on our land and they are killing us.\"  ukraine  ukraineinvasion  russiaukraine",
           "fr"
          ],
          [
           "people_killed",
           "newsflash at least 22 civilians killed in  russian strike on  ukrainian city of chernihiv, rescuers search for more debris  russianukrainianwar",
           "fr"
          ],
          [
           "people_killed",
           "invasion of ukraine: three journalists killed, more than 30 injured since the russian invasion  ukraine  warinukraine",
           "fr"
          ],
          [
           "people_killed",
           "ukraine 🇺🇦: as a result of today's explosion in  donetsk, 20 civilians were killed, another 28 people were injured. a rally against the russian occupation was planned for today in the city center.",
           "fr"
          ],
          [
           "people_killed",
           "another  artist has gone to the  stars. death of  oksanashvets, famous  actress in  ukraine, killed in a bombing in  kiev.",
           "fr"
          ],
          [
           "people_killed",
           "the latest photo of a happy couple anton hannah. the russians shot at them as they tried to evacuate the kyiv suburb  bucha. anton was killed. their unborn baby also did not survive the attack. in an instant a woman lost everything: her home and her family",
           "fr"
          ],
          [
           "people_killed",
           "🇺🇦 ukraine: this photo was posted by little sacha's mother. after weeks of searching, the lifeless body of the 4-year-old boy was found. he was trying to escape the arrival of the russians with his grandmother, who was found dead on march 11.",
           "fr"
          ],
          [
           "people_killed",
           "rescuers say human bodies belong to local residents killed by invaders... another  war crime of the russian army...  ukraine",
           "fr"
          ],
          [
           "people_killed",
           "🔴 6 people shot dead found in a basement in the suburbs of kyiv.  russianukrainianwar  ukraine  ukraineunderattack",
           "fr"
          ],
          [
           "people_killed",
           "ukraine after the missile strikes which left at least six dead and eight injured in lviv, residents of this western city, relatively untouched by the fighting, fled.   via",
           "fr"
          ],
          [
           "people_killed",
           "ukraine: at least two civilians killed and 10 injured after russian strikes in kramatorsk    ukraine  war  russia",
           "fr"
          ]
         ],
         "hovertemplate": "topics=%{customdata[0]}<br>x=%{x}<br>y=%{y}<br>cleaned_text_translated=%{customdata[1]}<br>lang=%{customdata[2]}<extra></extra>",
         "legendgroup": "people_killed",
         "marker": {
          "color": "#00cc96",
          "size": 10,
          "symbol": "circle"
         },
         "mode": "markers",
         "name": "people_killed",
         "orientation": "v",
         "showlegend": true,
         "type": "scatter",
         "x": [
          -0.04665084928274155,
          0.5774686336517334,
          -0.1838463693857193,
          0.11268270760774612,
          0.11646201461553574,
          -0.0046022688038647175,
          0.17320257425308228,
          0.08626855164766312,
          -0.08685614168643951,
          0.22887732088565826,
          -0.26452794671058655,
          0.021962439641356468,
          -0.05143428221344948,
          -0.049667272716760635,
          -0.18599829077720642,
          0.02672622539103031,
          0.05463089421391487,
          0.32563671469688416,
          -0.11404427886009216,
          -0.17786087095737457,
          0.3423030376434326,
          -0.13877446949481964,
          0.5142004489898682,
          -0.14875587821006775,
          0.09117747843265533
         ],
         "xaxis": "x",
         "y": [
          -0.09013727307319641,
          -0.25918522477149963,
          -0.09441594034433365,
          0.3533804416656494,
          0.14724785089492798,
          0.009946719743311405,
          0.22956494987010956,
          0.39160454273223877,
          -0.03340909630060196,
          0.050103284418582916,
          -0.16553319990634918,
          -0.002089458517730236,
          0.13728642463684082,
          -0.07072325050830841,
          -0.18735158443450928,
          0.02371097542345524,
          0.19890399277210236,
          -0.20049965381622314,
          0.0010606527794152498,
          -0.07110124081373215,
          -0.27484118938446045,
          0.0685868039727211,
          -0.1270582526922226,
          -0.08287150412797928,
          0.2530168294906616
         ],
         "yaxis": "y"
        },
        {
         "customdata": [
          [
           "arms_delivery",
           "we germans in particular should be ashamed that we don't help  ukraine much more, especially not with many more and stronger weapons....",
           "de"
          ],
          [
           "arms_delivery",
           "\" ukraine needs heavy weapons,\" says ex-civil service worker, nikolas busse! 🤦😂",
           "de"
          ],
          [
           "arms_delivery",
           "just deliver a few long-range nuclear missiles to  ukraine,  putin will get out of ukraine faster than fler will get out of hoe. 😆",
           "de"
          ],
          [
           "arms_delivery",
           "dear friends, our  cheetah tanks are used in  ukraine, for example, to protect infrastructure such as the port of  odessa. anyone who does not supply ammunition to an invaded state for national defense can no longer be a reliable supplier of ammunition for us",
           "de"
          ],
          [
           "arms_delivery",
           "🇷🇺🔥🇺🇦  russia vs  ukraine day 287 according to this, the  usa would be pressuring  germany to deliver leopard 2 battle tanks (we understand 2a4) to ukraine.",
           "es"
          ],
          [
           "arms_delivery",
           "cnn: biden is finalizing sending patriot to ukraine  ukraina  russia  war",
           "es"
          ],
          [
           "arms_delivery",
           "large-scale supplies of weapons are vital for ukraine to defend itself from crazy russia, which has become obsessed with russian fascism and started an unjust, genocidal, illegal war. if russia were attacked, it would also receive help for self-defense.",
           "ru"
          ],
          [
           "arms_delivery",
           "an american strategic reconnaissance drone rq-4 global hawk is circling off the coast of crimea. 😅🔥👌🏻  ukrainerussianwar  ukrainecounteroffensive  war on ukraine  ukraine️  russiaukrainewar  russiaisaterroriststate  usa",
           "ru"
          ],
          [
           "arms_delivery",
           "lithuania will not be able to transfer nasams air defense systems to ukraine, but will provide shells for the pzh 2000 self-propelled guns    russia  ukraine",
           "ru"
          ],
          [
           "arms_delivery",
           "ukrainerussianwar 🕶️⚡️🇹🇷🇹🇷👍👍‼️ turkey delivered a batch of trlg-230 high-precision missiles to ukraine. they are launched from the roketsan development platform. the flight range is 70 km, laser beam guidance system. target illumination is provided by bayraktar tb2.",
           "ru"
          ],
          [
           "arms_delivery",
           "g7 leaders expressed unwavering support for ukraine and promised air defense systems    russia  ukraine",
           "ru"
          ],
          [
           "arms_delivery",
           "the german company rheinmetall has confirmed an order for the production of two skynex air defense systems for ukraine, handelsblatt reports.  ukraine  kherson  crimea  dnipro  wagner  bakhmut  himars  kyiv  belarus  ukrainian  moscow  crimea  donetsk  bakhmut",
           "ru"
          ],
          [
           "arms_delivery",
           "🇺🇸the us congress instructed the pentagon to accelerate the delivery of large drones to ukraine  russiainvadedukraine  russiaisaterroiststate  usa  ukraine️",
           "uk"
          ],
          [
           "arms_delivery",
           "f-16 with semi-stealth agm-158 missiles with a range of 370 km, 925 km and 1900 km depending on the modification. uncle joe, please!   ukrainewar  f16forukraine  agm158forukraine  armukrainanow",
           "uk"
          ],
          [
           "arms_delivery",
           "here we do have the challenge. the european  nato countries with missing stockpiles of key weaponry does make the nato weak. there has to be a balance between weapons sent to ukraine and weapons kept for own/nato defence. no matter how much any nato country would like to help.",
           "en"
          ],
          [
           "arms_delivery",
           "this is horrible..and probably the tip of the iceberg..  russians were sent to murder, torture, rape, destroy everything in  ukraine...  russiaisanazistate",
           "en"
          ],
          [
           "arms_delivery",
           "i hope you are wrong. however we all know what it needs are  abrams,  leopard2,  challenger2 and/or  leclerc battletanks to really make a difference. we could send those in such numbers, that they would overwhelm the  russian army for sure.",
           "en"
          ],
          [
           "arms_delivery",
           ".  polishpres.  duda in  lviv today:\"a major military modernization program is underway in  poland. the equipment we are replacing will be sent to  ukraine\".it means ukraine can count on hundreds of pieces of polish tanks,ifvs mlrs over time(pt-91/t-72/bmp/grad)🇵🇱🇺🇦",
           "en"
          ],
          [
           "arms_delivery",
           "the sending of weapons by  nato countries to  ukraine is an act of war against  russia. let's just hope  putin doesn't pay attention to it.",
           "it"
          ],
          [
           "arms_delivery",
           "russiaucrania  russia  ukraine  draghi  italy  eu but who pays for the weapons sent? in addition to us and our children with the risk of their lives....",
           "it"
          ],
          [
           "arms_delivery",
           "it seems that poland has indicated its willingness to transfer its  mig29 to the ramstein base in order to send them to ukraine. so it's not just us italians who are idiots....  ukrainerussianwar",
           "it"
          ],
          [
           "arms_delivery",
           "putin's russia has the largest ballistic arsenal in the world....the  usa has run out of javelins and has himars close to stock levels....the rest of europe has never been armed. ... if  putin had strange ideas, would we throw slingshots at him now?",
           "it"
          ],
          [
           "arms_delivery",
           "let's give offensive weapons to  ukraine to face  putin's  barbaric offensive       invasionofukraine",
           "fr"
          ],
          [
           "arms_delivery",
           "it is with these  ukronazi  bandits that  nato is sending billions of dollars worth of weapons to weaken  russia. but, the  war will enter its third phase, the  worldwar, where westerners will be required to invest militarily on the ground.",
           "fr"
          ],
          [
           "arms_delivery",
           "ukraine ukraine will not receive f-16 even after six months rakhmanin",
           "fr"
          ]
         ],
         "hovertemplate": "topics=%{customdata[0]}<br>x=%{x}<br>y=%{y}<br>cleaned_text_translated=%{customdata[1]}<br>lang=%{customdata[2]}<extra></extra>",
         "legendgroup": "arms_delivery",
         "marker": {
          "color": "#ab63fa",
          "size": 10,
          "symbol": "circle"
         },
         "mode": "markers",
         "name": "arms_delivery",
         "orientation": "v",
         "showlegend": true,
         "type": "scatter",
         "x": [
          -0.10247702896595001,
          0.44957631826400757,
          0.1548202484846115,
          -0.23685473203659058,
          0.5643488168716431,
          0.013715668581426144,
          -0.24262355268001556,
          0.3336114287376404,
          0.08886922895908356,
          0.3763323426246643,
          0.16101182997226715,
          -0.22046560049057007,
          0.5271530747413635,
          0.11338220536708832,
          -0.18241667747497559,
          -0.18762485682964325,
          -0.1404179334640503,
          0.2602200508117676,
          -0.06585070490837097,
          -0.09690573066473007,
          -0.08211685717105865,
          -0.23177668452262878,
          0.0028748319018632174,
          -0.22084444761276245,
          0.18288832902908325
         ],
         "xaxis": "x",
         "y": [
          0.07381001859903336,
          -0.08169832080602646,
          -0.05418014153838158,
          -0.10054337233304977,
          -0.1449122577905655,
          0.19644835591316223,
          -0.058042339980602264,
          -0.08911886811256409,
          0.34266552329063416,
          -0.0918319970369339,
          0.40058624744415283,
          -0.06218626722693443,
          -0.11545556783676147,
          0.2131030261516571,
          -0.13869324326515198,
          -0.030970022082328796,
          -0.11669950187206268,
          -0.19179417192935944,
          0.21602755784988403,
          0.13254718482494354,
          -0.01949983835220337,
          -0.057490210980176926,
          0.19781512022018433,
          -0.14109785854816437,
          0.3247734308242798
         ],
         "yaxis": "y"
        }
       ],
       "layout": {
        "legend": {
         "title": {
          "text": "topics"
         },
         "tracegroupgap": 0
        },
        "margin": {
         "t": 60
        },
        "template": {
         "data": {
          "bar": [
           {
            "error_x": {
             "color": "#2a3f5f"
            },
            "error_y": {
             "color": "#2a3f5f"
            },
            "marker": {
             "line": {
              "color": "#E5ECF6",
              "width": 0.5
             },
             "pattern": {
              "fillmode": "overlay",
              "size": 10,
              "solidity": 0.2
             }
            },
            "type": "bar"
           }
          ],
          "barpolar": [
           {
            "marker": {
             "line": {
              "color": "#E5ECF6",
              "width": 0.5
             },
             "pattern": {
              "fillmode": "overlay",
              "size": 10,
              "solidity": 0.2
             }
            },
            "type": "barpolar"
           }
          ],
          "carpet": [
           {
            "aaxis": {
             "endlinecolor": "#2a3f5f",
             "gridcolor": "white",
             "linecolor": "white",
             "minorgridcolor": "white",
             "startlinecolor": "#2a3f5f"
            },
            "baxis": {
             "endlinecolor": "#2a3f5f",
             "gridcolor": "white",
             "linecolor": "white",
             "minorgridcolor": "white",
             "startlinecolor": "#2a3f5f"
            },
            "type": "carpet"
           }
          ],
          "choropleth": [
           {
            "colorbar": {
             "outlinewidth": 0,
             "ticks": ""
            },
            "type": "choropleth"
           }
          ],
          "contour": [
           {
            "colorbar": {
             "outlinewidth": 0,
             "ticks": ""
            },
            "colorscale": [
             [
              0,
              "#0d0887"
             ],
             [
              0.1111111111111111,
              "#46039f"
             ],
             [
              0.2222222222222222,
              "#7201a8"
             ],
             [
              0.3333333333333333,
              "#9c179e"
             ],
             [
              0.4444444444444444,
              "#bd3786"
             ],
             [
              0.5555555555555556,
              "#d8576b"
             ],
             [
              0.6666666666666666,
              "#ed7953"
             ],
             [
              0.7777777777777778,
              "#fb9f3a"
             ],
             [
              0.8888888888888888,
              "#fdca26"
             ],
             [
              1,
              "#f0f921"
             ]
            ],
            "type": "contour"
           }
          ],
          "contourcarpet": [
           {
            "colorbar": {
             "outlinewidth": 0,
             "ticks": ""
            },
            "type": "contourcarpet"
           }
          ],
          "heatmap": [
           {
            "colorbar": {
             "outlinewidth": 0,
             "ticks": ""
            },
            "colorscale": [
             [
              0,
              "#0d0887"
             ],
             [
              0.1111111111111111,
              "#46039f"
             ],
             [
              0.2222222222222222,
              "#7201a8"
             ],
             [
              0.3333333333333333,
              "#9c179e"
             ],
             [
              0.4444444444444444,
              "#bd3786"
             ],
             [
              0.5555555555555556,
              "#d8576b"
             ],
             [
              0.6666666666666666,
              "#ed7953"
             ],
             [
              0.7777777777777778,
              "#fb9f3a"
             ],
             [
              0.8888888888888888,
              "#fdca26"
             ],
             [
              1,
              "#f0f921"
             ]
            ],
            "type": "heatmap"
           }
          ],
          "heatmapgl": [
           {
            "colorbar": {
             "outlinewidth": 0,
             "ticks": ""
            },
            "colorscale": [
             [
              0,
              "#0d0887"
             ],
             [
              0.1111111111111111,
              "#46039f"
             ],
             [
              0.2222222222222222,
              "#7201a8"
             ],
             [
              0.3333333333333333,
              "#9c179e"
             ],
             [
              0.4444444444444444,
              "#bd3786"
             ],
             [
              0.5555555555555556,
              "#d8576b"
             ],
             [
              0.6666666666666666,
              "#ed7953"
             ],
             [
              0.7777777777777778,
              "#fb9f3a"
             ],
             [
              0.8888888888888888,
              "#fdca26"
             ],
             [
              1,
              "#f0f921"
             ]
            ],
            "type": "heatmapgl"
           }
          ],
          "histogram": [
           {
            "marker": {
             "pattern": {
              "fillmode": "overlay",
              "size": 10,
              "solidity": 0.2
             }
            },
            "type": "histogram"
           }
          ],
          "histogram2d": [
           {
            "colorbar": {
             "outlinewidth": 0,
             "ticks": ""
            },
            "colorscale": [
             [
              0,
              "#0d0887"
             ],
             [
              0.1111111111111111,
              "#46039f"
             ],
             [
              0.2222222222222222,
              "#7201a8"
             ],
             [
              0.3333333333333333,
              "#9c179e"
             ],
             [
              0.4444444444444444,
              "#bd3786"
             ],
             [
              0.5555555555555556,
              "#d8576b"
             ],
             [
              0.6666666666666666,
              "#ed7953"
             ],
             [
              0.7777777777777778,
              "#fb9f3a"
             ],
             [
              0.8888888888888888,
              "#fdca26"
             ],
             [
              1,
              "#f0f921"
             ]
            ],
            "type": "histogram2d"
           }
          ],
          "histogram2dcontour": [
           {
            "colorbar": {
             "outlinewidth": 0,
             "ticks": ""
            },
            "colorscale": [
             [
              0,
              "#0d0887"
             ],
             [
              0.1111111111111111,
              "#46039f"
             ],
             [
              0.2222222222222222,
              "#7201a8"
             ],
             [
              0.3333333333333333,
              "#9c179e"
             ],
             [
              0.4444444444444444,
              "#bd3786"
             ],
             [
              0.5555555555555556,
              "#d8576b"
             ],
             [
              0.6666666666666666,
              "#ed7953"
             ],
             [
              0.7777777777777778,
              "#fb9f3a"
             ],
             [
              0.8888888888888888,
              "#fdca26"
             ],
             [
              1,
              "#f0f921"
             ]
            ],
            "type": "histogram2dcontour"
           }
          ],
          "mesh3d": [
           {
            "colorbar": {
             "outlinewidth": 0,
             "ticks": ""
            },
            "type": "mesh3d"
           }
          ],
          "parcoords": [
           {
            "line": {
             "colorbar": {
              "outlinewidth": 0,
              "ticks": ""
             }
            },
            "type": "parcoords"
           }
          ],
          "pie": [
           {
            "automargin": true,
            "type": "pie"
           }
          ],
          "scatter": [
           {
            "fillpattern": {
             "fillmode": "overlay",
             "size": 10,
             "solidity": 0.2
            },
            "type": "scatter"
           }
          ],
          "scatter3d": [
           {
            "line": {
             "colorbar": {
              "outlinewidth": 0,
              "ticks": ""
             }
            },
            "marker": {
             "colorbar": {
              "outlinewidth": 0,
              "ticks": ""
             }
            },
            "type": "scatter3d"
           }
          ],
          "scattercarpet": [
           {
            "marker": {
             "colorbar": {
              "outlinewidth": 0,
              "ticks": ""
             }
            },
            "type": "scattercarpet"
           }
          ],
          "scattergeo": [
           {
            "marker": {
             "colorbar": {
              "outlinewidth": 0,
              "ticks": ""
             }
            },
            "type": "scattergeo"
           }
          ],
          "scattergl": [
           {
            "marker": {
             "colorbar": {
              "outlinewidth": 0,
              "ticks": ""
             }
            },
            "type": "scattergl"
           }
          ],
          "scattermapbox": [
           {
            "marker": {
             "colorbar": {
              "outlinewidth": 0,
              "ticks": ""
             }
            },
            "type": "scattermapbox"
           }
          ],
          "scatterpolar": [
           {
            "marker": {
             "colorbar": {
              "outlinewidth": 0,
              "ticks": ""
             }
            },
            "type": "scatterpolar"
           }
          ],
          "scatterpolargl": [
           {
            "marker": {
             "colorbar": {
              "outlinewidth": 0,
              "ticks": ""
             }
            },
            "type": "scatterpolargl"
           }
          ],
          "scatterternary": [
           {
            "marker": {
             "colorbar": {
              "outlinewidth": 0,
              "ticks": ""
             }
            },
            "type": "scatterternary"
           }
          ],
          "surface": [
           {
            "colorbar": {
             "outlinewidth": 0,
             "ticks": ""
            },
            "colorscale": [
             [
              0,
              "#0d0887"
             ],
             [
              0.1111111111111111,
              "#46039f"
             ],
             [
              0.2222222222222222,
              "#7201a8"
             ],
             [
              0.3333333333333333,
              "#9c179e"
             ],
             [
              0.4444444444444444,
              "#bd3786"
             ],
             [
              0.5555555555555556,
              "#d8576b"
             ],
             [
              0.6666666666666666,
              "#ed7953"
             ],
             [
              0.7777777777777778,
              "#fb9f3a"
             ],
             [
              0.8888888888888888,
              "#fdca26"
             ],
             [
              1,
              "#f0f921"
             ]
            ],
            "type": "surface"
           }
          ],
          "table": [
           {
            "cells": {
             "fill": {
              "color": "#EBF0F8"
             },
             "line": {
              "color": "white"
             }
            },
            "header": {
             "fill": {
              "color": "#C8D4E3"
             },
             "line": {
              "color": "white"
             }
            },
            "type": "table"
           }
          ]
         },
         "layout": {
          "annotationdefaults": {
           "arrowcolor": "#2a3f5f",
           "arrowhead": 0,
           "arrowwidth": 1
          },
          "autotypenumbers": "strict",
          "coloraxis": {
           "colorbar": {
            "outlinewidth": 0,
            "ticks": ""
           }
          },
          "colorscale": {
           "diverging": [
            [
             0,
             "#8e0152"
            ],
            [
             0.1,
             "#c51b7d"
            ],
            [
             0.2,
             "#de77ae"
            ],
            [
             0.3,
             "#f1b6da"
            ],
            [
             0.4,
             "#fde0ef"
            ],
            [
             0.5,
             "#f7f7f7"
            ],
            [
             0.6,
             "#e6f5d0"
            ],
            [
             0.7,
             "#b8e186"
            ],
            [
             0.8,
             "#7fbc41"
            ],
            [
             0.9,
             "#4d9221"
            ],
            [
             1,
             "#276419"
            ]
           ],
           "sequential": [
            [
             0,
             "#0d0887"
            ],
            [
             0.1111111111111111,
             "#46039f"
            ],
            [
             0.2222222222222222,
             "#7201a8"
            ],
            [
             0.3333333333333333,
             "#9c179e"
            ],
            [
             0.4444444444444444,
             "#bd3786"
            ],
            [
             0.5555555555555556,
             "#d8576b"
            ],
            [
             0.6666666666666666,
             "#ed7953"
            ],
            [
             0.7777777777777778,
             "#fb9f3a"
            ],
            [
             0.8888888888888888,
             "#fdca26"
            ],
            [
             1,
             "#f0f921"
            ]
           ],
           "sequentialminus": [
            [
             0,
             "#0d0887"
            ],
            [
             0.1111111111111111,
             "#46039f"
            ],
            [
             0.2222222222222222,
             "#7201a8"
            ],
            [
             0.3333333333333333,
             "#9c179e"
            ],
            [
             0.4444444444444444,
             "#bd3786"
            ],
            [
             0.5555555555555556,
             "#d8576b"
            ],
            [
             0.6666666666666666,
             "#ed7953"
            ],
            [
             0.7777777777777778,
             "#fb9f3a"
            ],
            [
             0.8888888888888888,
             "#fdca26"
            ],
            [
             1,
             "#f0f921"
            ]
           ]
          },
          "colorway": [
           "#636efa",
           "#EF553B",
           "#00cc96",
           "#ab63fa",
           "#FFA15A",
           "#19d3f3",
           "#FF6692",
           "#B6E880",
           "#FF97FF",
           "#FECB52"
          ],
          "font": {
           "color": "#2a3f5f"
          },
          "geo": {
           "bgcolor": "white",
           "lakecolor": "white",
           "landcolor": "#E5ECF6",
           "showlakes": true,
           "showland": true,
           "subunitcolor": "white"
          },
          "hoverlabel": {
           "align": "left"
          },
          "hovermode": "closest",
          "mapbox": {
           "style": "light"
          },
          "paper_bgcolor": "white",
          "plot_bgcolor": "#E5ECF6",
          "polar": {
           "angularaxis": {
            "gridcolor": "white",
            "linecolor": "white",
            "ticks": ""
           },
           "bgcolor": "#E5ECF6",
           "radialaxis": {
            "gridcolor": "white",
            "linecolor": "white",
            "ticks": ""
           }
          },
          "scene": {
           "xaxis": {
            "backgroundcolor": "#E5ECF6",
            "gridcolor": "white",
            "gridwidth": 2,
            "linecolor": "white",
            "showbackground": true,
            "ticks": "",
            "zerolinecolor": "white"
           },
           "yaxis": {
            "backgroundcolor": "#E5ECF6",
            "gridcolor": "white",
            "gridwidth": 2,
            "linecolor": "white",
            "showbackground": true,
            "ticks": "",
            "zerolinecolor": "white"
           },
           "zaxis": {
            "backgroundcolor": "#E5ECF6",
            "gridcolor": "white",
            "gridwidth": 2,
            "linecolor": "white",
            "showbackground": true,
            "ticks": "",
            "zerolinecolor": "white"
           }
          },
          "shapedefaults": {
           "line": {
            "color": "#2a3f5f"
           }
          },
          "ternary": {
           "aaxis": {
            "gridcolor": "white",
            "linecolor": "white",
            "ticks": ""
           },
           "baxis": {
            "gridcolor": "white",
            "linecolor": "white",
            "ticks": ""
           },
           "bgcolor": "#E5ECF6",
           "caxis": {
            "gridcolor": "white",
            "linecolor": "white",
            "ticks": ""
           }
          },
          "title": {
           "x": 0.05
          },
          "xaxis": {
           "automargin": true,
           "gridcolor": "white",
           "linecolor": "white",
           "ticks": "",
           "title": {
            "standoff": 15
           },
           "zerolinecolor": "white",
           "zerolinewidth": 2
          },
          "yaxis": {
           "automargin": true,
           "gridcolor": "white",
           "linecolor": "white",
           "ticks": "",
           "title": {
            "standoff": 15
           },
           "zerolinecolor": "white",
           "zerolinewidth": 2
          }
         }
        },
        "xaxis": {
         "anchor": "y",
         "domain": [
          0,
          1
         ],
         "range": [
          -1.2645279467105865,
          1.5774686336517334
         ],
         "title": {
          "text": "x"
         }
        },
        "yaxis": {
         "anchor": "x",
         "domain": [
          0,
          1
         ],
         "range": [
          -1.367882400751114,
          1.4005862474441528
         ],
         "title": {
          "text": "y"
         }
        }
       }
      }
     },
     "metadata": {},
     "output_type": "display_data"
    }
   ],
   "source": [
    "from src.TextEmbeddings08.text_embeddings import visualise_with_dimensional_reduction\n",
    "from sklearn.decomposition import PCA\n",
    "pca = PCA(n_components=2)\n",
    "visualise_with_dimensional_reduction(df,PCA(n_components=2), color_to_show='topics', hover_data=['topics', 'cleaned_text_translated','lang'], row_to_transform='cleaned_text_embeddings')"
   ]
  },
  {
   "cell_type": "code",
   "execution_count": 65,
   "metadata": {},
   "outputs": [
    {
     "data": {
      "text/plain": [
       "Index(['Unnamed: 0.2', 'Unnamed: 0.1', 'Unnamed: 0', 'text', 'translated',\n",
       "       'tweetcreatedts', 'tweetid', 'week', 'cleaned_text_translated',\n",
       "       'cleaned_text', 'lemmas', 'adjs_verbs', 'nouns', 'entities', 'emojis',\n",
       "       'translated_lemmas', 'translated_adjs_verbs', 'translated_nouns',\n",
       "       'translated_entities', 'translated_emojis', 'lang', 'topics',\n",
       "       'Unnamed: 21', 'topics_robin', 'embeddings_lemmas', 'embeddings_nouns',\n",
       "       'cleaned_text_embeddings', 'kmeans_cleaned_text_topics'],\n",
       "      dtype='object')"
      ]
     },
     "execution_count": 65,
     "metadata": {},
     "output_type": "execute_result"
    }
   ],
   "source": [
    "df.columns"
   ]
  },
  {
   "cell_type": "code",
   "execution_count": 25,
   "metadata": {},
   "outputs": [
    {
     "name": "stderr",
     "output_type": "stream",
     "text": [
      "huggingface/tokenizers: The current process just got forked, after parallelism has already been used. Disabling parallelism to avoid deadlocks...\n",
      "To disable this warning, you can either:\n",
      "\t- Avoid using `tokenizers` before the fork if possible\n",
      "\t- Explicitly set the environment variable TOKENIZERS_PARALLELISM=(true | false)\n"
     ]
    }
   ],
   "source": [
    "from sklearn.cluster import KMeans\n",
    "from bertopic import BERTopic\n",
    "import numpy as np\n",
    "cluster_model = KMeans(n_clusters=4)\n",
    "topic_model = BERTopic(hdbscan_model=cluster_model)\n",
    "\n",
    "topics, probs = topic_model.fit_transform(df['cleaned_text'].to_list(),embeddings= np.stack(df['cleaned_text_embeddings'].to_list(), axis=0))\n"
   ]
  },
  {
   "cell_type": "code",
   "execution_count": 67,
   "metadata": {},
   "outputs": [
    {
     "data": {
      "text/plain": [
       "0      2\n",
       "1      2\n",
       "3      1\n",
       "4      0\n",
       "5      0\n",
       "      ..\n",
       "101    0\n",
       "102    0\n",
       "103    3\n",
       "104    0\n",
       "105    0\n",
       "Name: kmeans_cleaned_text_topics, Length: 100, dtype: object"
      ]
     },
     "execution_count": 67,
     "metadata": {},
     "output_type": "execute_result"
    }
   ],
   "source": [
    "df_min['kmeans_cleaned_text_topics']"
   ]
  },
  {
   "cell_type": "code",
   "execution_count": 66,
   "metadata": {},
   "outputs": [],
   "source": [
    "df_min = df[['topics', 'kmeans_cleaned_text_topics','cleaned_text_embeddings','cleaned_text_translated','lang']]"
   ]
  },
  {
   "cell_type": "code",
   "execution_count": 73,
   "metadata": {},
   "outputs": [],
   "source": [
    "df_1 = df_min.drop('topics',axis=1).rename(columns={'kmeans_cleaned_text_topics':'topics'}).assign(top=\"k_means\")\n",
    "df_2 = df_min.drop('kmeans_cleaned_text_topics', axis=1).assign(top=\"robin\")\n",
    "\n",
    "df_comb = pd.concat([df_1,df_2], ignore_index=True)"
   ]
  },
  {
   "cell_type": "code",
   "execution_count": 74,
   "metadata": {},
   "outputs": [
    {
     "data": {
      "text/html": [
       "<div>\n",
       "<style scoped>\n",
       "    .dataframe tbody tr th:only-of-type {\n",
       "        vertical-align: middle;\n",
       "    }\n",
       "\n",
       "    .dataframe tbody tr th {\n",
       "        vertical-align: top;\n",
       "    }\n",
       "\n",
       "    .dataframe thead th {\n",
       "        text-align: right;\n",
       "    }\n",
       "</style>\n",
       "<table border=\"1\" class=\"dataframe\">\n",
       "  <thead>\n",
       "    <tr style=\"text-align: right;\">\n",
       "      <th></th>\n",
       "      <th>topics</th>\n",
       "      <th>cleaned_text_embeddings</th>\n",
       "      <th>cleaned_text_translated</th>\n",
       "      <th>lang</th>\n",
       "      <th>top</th>\n",
       "    </tr>\n",
       "  </thead>\n",
       "  <tbody>\n",
       "    <tr>\n",
       "      <th>0</th>\n",
       "      <td>2</td>\n",
       "      <td>[0.052922703, -0.043487024, 0.0075881383, -0.0...</td>\n",
       "      <td>ukrainewar: the  eu  sanctions against  russia...</td>\n",
       "      <td>de</td>\n",
       "      <td>k_means</td>\n",
       "    </tr>\n",
       "    <tr>\n",
       "      <th>1</th>\n",
       "      <td>2</td>\n",
       "      <td>[0.05280618, -0.052376725, 0.019460771, -0.055...</td>\n",
       "      <td>vogt-wuchter: \"we are shocked by the war in uk...</td>\n",
       "      <td>de</td>\n",
       "      <td>k_means</td>\n",
       "    </tr>\n",
       "    <tr>\n",
       "      <th>2</th>\n",
       "      <td>1</td>\n",
       "      <td>[0.027565662, -0.009013671, 0.0124234315, -0.0...</td>\n",
       "      <td>the interior ministry of  ukraine reported on ...</td>\n",
       "      <td>de</td>\n",
       "      <td>k_means</td>\n",
       "    </tr>\n",
       "    <tr>\n",
       "      <th>3</th>\n",
       "      <td>0</td>\n",
       "      <td>[0.02145535, -0.02249327, 0.002416536, -0.0770...</td>\n",
       "      <td>chancellor stop imports from russia immediatel...</td>\n",
       "      <td>de</td>\n",
       "      <td>k_means</td>\n",
       "    </tr>\n",
       "    <tr>\n",
       "      <th>4</th>\n",
       "      <td>0</td>\n",
       "      <td>[0.043950394, -0.035810545, 0.018574186, -0.09...</td>\n",
       "      <td>ukraine everyone complains about high gas pric...</td>\n",
       "      <td>de</td>\n",
       "      <td>k_means</td>\n",
       "    </tr>\n",
       "    <tr>\n",
       "      <th>...</th>\n",
       "      <td>...</td>\n",
       "      <td>...</td>\n",
       "      <td>...</td>\n",
       "      <td>...</td>\n",
       "      <td>...</td>\n",
       "    </tr>\n",
       "    <tr>\n",
       "      <th>195</th>\n",
       "      <td>people_killed</td>\n",
       "      <td>[0.05025775, -0.021109823, 0.023870414, -0.077...</td>\n",
       "      <td>ukraine: at least two civilians killed and 10 ...</td>\n",
       "      <td>fr</td>\n",
       "      <td>robin</td>\n",
       "    </tr>\n",
       "    <tr>\n",
       "      <th>196</th>\n",
       "      <td>unjustified_war</td>\n",
       "      <td>[0.043137763, -0.008745956, 0.046960697, -0.06...</td>\n",
       "      <td>alert the international criminal court issues ...</td>\n",
       "      <td>fr</td>\n",
       "      <td>robin</td>\n",
       "    </tr>\n",
       "    <tr>\n",
       "      <th>197</th>\n",
       "      <td>unjustified_war</td>\n",
       "      <td>[0.031750523, -0.034840222, 0.011989078, -0.08...</td>\n",
       "      <td>🔴  ukrainerussianwar urgent‼️ the internationa...</td>\n",
       "      <td>fr</td>\n",
       "      <td>robin</td>\n",
       "    </tr>\n",
       "    <tr>\n",
       "      <th>198</th>\n",
       "      <td>unjustified_war</td>\n",
       "      <td>[0.051095523, -0.033423036, 0.014261467, -0.07...</td>\n",
       "      <td>war in  ukraine:  russia committed wide range ...</td>\n",
       "      <td>fr</td>\n",
       "      <td>robin</td>\n",
       "    </tr>\n",
       "    <tr>\n",
       "      <th>199</th>\n",
       "      <td>arms_delivery</td>\n",
       "      <td>[0.013829386, -0.0169782, -0.007944265, -0.078...</td>\n",
       "      <td>ukraine ukraine will not receive f-16 even aft...</td>\n",
       "      <td>fr</td>\n",
       "      <td>robin</td>\n",
       "    </tr>\n",
       "  </tbody>\n",
       "</table>\n",
       "<p>200 rows × 5 columns</p>\n",
       "</div>"
      ],
      "text/plain": [
       "              topics                            cleaned_text_embeddings  \\\n",
       "0                  2  [0.052922703, -0.043487024, 0.0075881383, -0.0...   \n",
       "1                  2  [0.05280618, -0.052376725, 0.019460771, -0.055...   \n",
       "2                  1  [0.027565662, -0.009013671, 0.0124234315, -0.0...   \n",
       "3                  0  [0.02145535, -0.02249327, 0.002416536, -0.0770...   \n",
       "4                  0  [0.043950394, -0.035810545, 0.018574186, -0.09...   \n",
       "..               ...                                                ...   \n",
       "195    people_killed  [0.05025775, -0.021109823, 0.023870414, -0.077...   \n",
       "196  unjustified_war  [0.043137763, -0.008745956, 0.046960697, -0.06...   \n",
       "197  unjustified_war  [0.031750523, -0.034840222, 0.011989078, -0.08...   \n",
       "198  unjustified_war  [0.051095523, -0.033423036, 0.014261467, -0.07...   \n",
       "199    arms_delivery  [0.013829386, -0.0169782, -0.007944265, -0.078...   \n",
       "\n",
       "                               cleaned_text_translated lang      top  \n",
       "0    ukrainewar: the  eu  sanctions against  russia...   de  k_means  \n",
       "1    vogt-wuchter: \"we are shocked by the war in uk...   de  k_means  \n",
       "2    the interior ministry of  ukraine reported on ...   de  k_means  \n",
       "3    chancellor stop imports from russia immediatel...   de  k_means  \n",
       "4    ukraine everyone complains about high gas pric...   de  k_means  \n",
       "..                                                 ...  ...      ...  \n",
       "195  ukraine: at least two civilians killed and 10 ...   fr    robin  \n",
       "196  alert the international criminal court issues ...   fr    robin  \n",
       "197  🔴  ukrainerussianwar urgent‼️ the internationa...   fr    robin  \n",
       "198  war in  ukraine:  russia committed wide range ...   fr    robin  \n",
       "199  ukraine ukraine will not receive f-16 even aft...   fr    robin  \n",
       "\n",
       "[200 rows x 5 columns]"
      ]
     },
     "execution_count": 74,
     "metadata": {},
     "output_type": "execute_result"
    }
   ],
   "source": [
    "df_comb"
   ]
  },
  {
   "cell_type": "code",
   "execution_count": 75,
   "metadata": {},
   "outputs": [
    {
     "data": {
      "application/vnd.plotly.v1+json": {
       "config": {
        "plotlyServerURL": "https://plot.ly"
       },
       "data": [
        {
         "customdata": [
          [
           "ukrainewar: the  eu  sanctions against  russia at a glance  ukrainerussiawar  ukrainerussiacrisis",
           "de"
          ],
          [
           "vogt-wuchter: \"we are shocked by the war in ukraine in the middle of europe which russia launched against its neighboring country in violation of international law.\" civilians are victims of the conflict. hundreds of thousands are fleeing. statement:    ukraine",
           "de"
          ],
          [
           "analysis: europe will close the cap on russian oil at $60 but it will not serve to harm russia  europe  russia  petroleoruso  oilbarrel  oilproduction ⬇️⬇️⬇️",
           "es"
          ],
          [
           "russia: 2,500 dead seals found on the coast of the caspian sea, in russia.",
           "es"
          ],
          [
           "the  eu is concerned that  turkey has expanded trade with  russia instead of imposing sanctions since the start of the conflict in  ukraine, said eu high representative for foreign affairs josep borrell.  la580",
           "es"
          ],
          [
           "cnn: biden is finalizing sending patriot to ukraine  ukraina  russia  war",
           "es"
          ],
          [
           ".  polishpres.  duda in  lviv today:\"a major military modernization program is underway in  poland. the equipment we are replacing will be sent to  ukraine\".it means ukraine can count on hundreds of pieces of polish tanks,ifvs mlrs over time(pt-91/t-72/bmp/grad)🇵🇱🇺🇦",
           "en"
          ],
          [
           "attention: germany and italy are receiving immense pressure to disconnect  russia from the  swift transaction circuit. obviously: they are the countries that have the most relations with moscow and that would take it there.",
           "it"
          ],
          [
           "unity  crisis  international ; 5 dead after the air attack on the  ukraine television headquarters. reports of violence from students and women are increasing.  noallaguerra  siallavita  russiaukraineconflict  russiaukrainewar  negotiations.",
           "it"
          ],
          [
           "apple, eni, ford and more: large companies have taken action against  russia. the list of companies that have decided to take concrete action against the russian invasion of  ukraine is dense and constantly updated  wwe2k22",
           "it"
          ],
          [
           "sanctions against  russia also affect cats. the international feline federation has announced it has banned russian cats from its competitions around the world until at least the end of may, saying it is \"horrified\" by the invasion of  ukraine.",
           "it"
          ],
          [
           "lavrov  putin and all those who carried out the massacre in  ukraine will have to pay for their crimes with the death penalty, let's hope they don't go unpunished as happened with the bastards who exterminated vietnamese children with napalm.",
           "it"
          ],
          [
           "let's be clear:  putin ordered to attack, bomb and hit  ukraine. the initiative of the  war is his, the invasion is criminal, the  ukrainians have every  right and  duty to offer  resistance to the invaders. demanding their surrender is an embarrassing infamy.",
           "it"
          ],
          [
           "russia without dignity or shame: the children's hospital in  mariupol bombed. deaths and injuries among doctors, nurses and young patients",
           "it"
          ],
          [
           "putin's russia has the largest ballistic arsenal in the world....the  usa has run out of javelins and has himars close to stock levels....the rest of europe has never been armed. ... if  putin had strange ideas, would we throw slingshots at him now?",
           "it"
          ],
          [
           "because the victims of this filthy war have a name, a face... tetyana is a young mother living on the outskirts of kyiv. in this video, she says: \"parents of russia, your children are on our land and they are killing us.\"  ukraine  ukraineinvasion  russiaukraine",
           "fr"
          ],
          [
           "the latest photo of a happy couple anton hannah. the russians shot at them as they tried to evacuate the kyiv suburb  bucha. anton was killed. their unborn baby also did not survive the attack. in an instant a woman lost everything: her home and her family",
           "fr"
          ],
          [
           "carla del ponte: \"putin is a war criminal\"  putinwarcrimes",
           "fr"
          ],
          [
           "via  \"mr. putin was wrong about almost everything. this war has been an error of interpretation from the start.\"  ukraine on franceinfo, this former general, now professor of strategy at sciences po and hec, looks back on…",
           "fr"
          ],
          [
           "if you say \"war\" to him he won't respond..  operationspecial: the ukrainians refuse to be \"liberated\" by putin; so by \"attacking\" the russians the war becomes automatic due to  zelensky (must follow!)",
           "fr"
          ],
          [
           "the boomerang effect has already been triggered. sanctions against russia generate global economic risks, which are major, particularly for the 🇫🇷. and bruno lemaire who thought he would bring  russia to its knees.  ukraine",
           "fr"
          ],
          [
           "zelensky calls on  europe to \"retaliate\" to the \"gas war\" by strengthening sanctions against  russia",
           "fr"
          ]
         ],
         "hovertemplate": "topics=2<br>top=k_means<br>x=%{x}<br>y=%{y}<br>cleaned_text_translated=%{customdata[0]}<br>lang=%{customdata[1]}<extra></extra>",
         "legendgroup": "2",
         "marker": {
          "color": "#636efa",
          "size": 10,
          "symbol": "circle"
         },
         "mode": "markers",
         "name": "2",
         "orientation": "v",
         "showlegend": true,
         "type": "scatter",
         "x": [
          0.013751219026744366,
          0.03419119119644165,
          0.22055715322494507,
          0.11268270015716553,
          -0.1087014451622963,
          0.013715541921555996,
          0.2602200210094452,
          -0.17516441643238068,
          0.02196212112903595,
          -0.16279111802577972,
          -0.20102566480636597,
          -0.1932961344718933,
          -0.1973094940185547,
          -0.05143381282687187,
          -0.2317771315574646,
          -0.18599802255630493,
          -0.17786091566085815,
          0.14431096613407135,
          -0.0853411853313446,
          -0.03657367080450058,
          0.004777915310114622,
          0.06271464377641678
         ],
         "xaxis": "x",
         "y": [
          0.19508904218673706,
          -0.10875355452299118,
          0.08160378038883209,
          0.3533782660961151,
          -0.062136877328157425,
          0.19645892083644867,
          -0.19179245829582214,
          -0.02250750921666622,
          -0.0020863779354840517,
          -0.05494791641831398,
          -0.07975119352340698,
          -0.08569037169218063,
          -0.10947542637586594,
          0.1372862458229065,
          -0.05749783664941788,
          -0.18734996020793915,
          -0.07110622525215149,
          0.18525904417037964,
          -0.20577141642570496,
          -0.09335125237703323,
          -0.11287645995616913,
          0.27620789408683777
         ],
         "yaxis": "y"
        },
        {
         "customdata": [
          [
           "the interior ministry of  ukraine reported on sunday evening 352 civilians killed since russia's attack on ukraine, including 14 children. a further 1,684 wounded people were counted, including 116 children.  fckptn  weapons  ukrainewar  putinswar  belarus  putin",
           "de"
          ],
          [
           "the federal attorney general is investigating... possible  warcrimes  russia in  ukraine but not against president  putin personally. the international criminal court (icc) is also already investigating. after .../2",
           "de"
          ],
          [
           "the targeted bomb attack on the  children's clinic in  mariupol is despicably unscrupulous and shows the full inhumanity of  putin. it is a barbaric, brutal  warcrime inexcusably inhumane.  stopputinnow  standwithukraine  putinisawarcriminal",
           "de"
          ],
          [
           "people are being slaughtered, kidnapped, raped and thrown into mass graves by the russians in  mariupol. but of course, ukraine should capitulate and insist on peace. do you notice anything else?",
           "de"
          ],
          [
           "dear friends, our  cheetah tanks are used in  ukraine, for example, to protect infrastructure such as the port of  odessa. anyone who does not supply ammunition to an invaded state for national defense can no longer be a reliable supplier of ammunition for us",
           "de"
          ],
          [
           "breaking although the european union tries to blame  putin for the energy shortage in  europe this winter, it was his own decision to suspend the import of russian gas and oil in the spring, bowing to the demands of the us and  nato.  ukrainerussianwar  russiaukrainewar",
           "es"
          ],
          [
           "large-scale supplies of weapons are vital for ukraine to defend itself from crazy russia, which has become obsessed with russian fascism and started an unjust, genocidal, illegal war. if russia were attacked, it would also receive help for self-defense.",
           "ru"
          ],
          [
           "i watched carefully, and it seemed to me that he wanted to repeat the georgia 2008 option by making ukraine the aggressor. and here ukraine did not fall into any traps, all the fakes were exposed instantly, and as a result, nothing limited international support. saakashvili's lesson has been learned.",
           "ru"
          ],
          [
           "the german company rheinmetall has confirmed an order for the production of two skynex air defense systems for ukraine, handelsblatt reports.  ukraine  kherson  crimea  dnipro  wagner  bakhmut  himars  kyiv  belarus  ukrainian  moscow  crimea  donetsk  bakhmut",
           "ru"
          ],
          [
           "the burial of an entire family was found in izyum. we are talking about the stolpakov family: 31-year-old elena and 33-year-old dmytro, as well as their daughters 5-year-old lesya and 8-year-old sasha, as well as their grandmother (according to other data, the grandfather also died)  russiaisaterrorisstate  izium  ukraine️  stoprussianaggression",
           "uk"
          ],
          [
           "a total of 447 dead were found. among them are 425 civilians and 22 soldiers of the armed forces of ukraine.  stoprussia",
           "uk"
          ],
          [
           "the european commission emphasizes that the import from russia and the transit of some oil products should be allowed to ensure food and energy security in the world. first of all, poland and the baltic states oppose such a decision  stoprussia  stopputin",
           "uk"
          ],
          [
           "there is not a single generation of the ukrainian people that has not suffered at the hands of the russians. the realization of this hurts so much that it often seems as if this hell will never end. as if this hell is life itself.",
           "uk"
          ],
          [
           "the terrorist organization \"russia\" fired a volley of s-300 missiles at a convoy of people heading to the occupied territory to visit their relatives, killing dozens of civilians. when will a special tribunal be created to criminalize the regime of these scum?  russiaisaterroriststate  russia  ukraine",
           "uk"
          ],
          [
           "here we do have the challenge. the european  nato countries with missing stockpiles of key weaponry does make the nato weak. there has to be a balance between weapons sent to ukraine and weapons kept for own/nato defence. no matter how much any nato country would like to help.",
           "en"
          ],
          [
           "this is horrible..and probably the tip of the iceberg..  russians were sent to murder, torture, rape, destroy everything in  ukraine...  russiaisanazistate",
           "en"
          ],
          [
           "breaking! two killed and three injured in donetsk more details of overnight attacks are emerging from ukraine today.  theshadepill  stoprussia  russiakillscivilians  emergency  trending",
           "en"
          ],
          [
           "asks that you sign this petition   for a full western embargo on russian oil and gas and that you push big western players, including blackrock, to get the heck out of the 40 giant \"carbon bomb\" projects planned for russia  standwithukraine",
           "en"
          ],
          [
           "allies do not and will never recognize russia's illegal and illegitimate annexation of crimea. sham referenda in the donetsk, luhansk, zaporizhzhia, and kherson regions of ukraine have no legitimacy and will be a blatant violation of the un charter  standwithukraine",
           "en"
          ],
          [
           "i hope you are wrong. however we all know what it needs are  abrams,  leopard2,  challenger2 and/or  leclerc battletanks to really make a difference. we could send those in such numbers, that they would overwhelm the  russian army for sure.",
           "en"
          ],
          [
           "they bombed hospitals, universities, homes of ordinary citizens, they bombed kindergartens, schools... they killed children, women and men... only an infamous person could do something like that.  russianukrainianwar  putin  ucrania",
           "it"
          ],
          [
           "anyone who deliberately attacks hospitals and civilian homes is a criminal and should be punished immediately, but even those who tolerate it, by refusing to back down from their positions, are contributing to the mass slaughter of their people. russiaukraineconflict  ukrainewar",
           "it"
          ],
          [
           "petrol  gas  wheat  fuel  bills etc other than  sanctions on  russia, this is italy's  assisted suicide  ukrainewar  draghileavenow let's give up and hand over  zelensky to him with apologies.",
           "it"
          ],
          [
           "it seems that poland has indicated its willingness to transfer its  mig29 to the ramstein base in order to send them to ukraine. so it's not just us italians who are idiots....  ukrainerussianwar",
           "it"
          ],
          [
           "hell in  mariupol! here is the strategic city flown over by a drone the view is atrocious, heartbreaking  putin brought back hell on earth after 77 years: 2500 deaths, no electricity, water, food, heating i no longer have doubts: putin must be stopped. and you?   turkey",
           "it"
          ],
          [
           "pentagon accused the russian military of committing war crimes in ukraine and said it will help gather evidence.    ukraineunderattack  russianwarcrimes  russianukrainianwar  stoprussia  putinswar  putinhitler  russiakills",
           "fr"
          ],
          [
           "here is proof of another russian war crime. in this phone call, a russian commander orders his subordinate to kill ukrainian prisoners of war in the town of popasna in eastern  ukraine.  ukrainerussiawar",
           "fr"
          ],
          [
           "ukraine after the missile strikes which left at least six dead and eight injured in lviv, residents of this western city, relatively untouched by the fighting, fled.   via",
           "fr"
          ],
          [
           "it is with these  ukronazi  bandits that  nato is sending billions of dollars worth of weapons to weaken  russia. but, the  war will enter its third phase, the  worldwar, where westerners will be required to invest militarily on the ground.",
           "fr"
          ]
         ],
         "hovertemplate": "topics=1<br>top=k_means<br>x=%{x}<br>y=%{y}<br>cleaned_text_translated=%{customdata[0]}<br>lang=%{customdata[1]}<extra></extra>",
         "legendgroup": "1",
         "marker": {
          "color": "#EF553B",
          "size": 10,
          "symbol": "circle"
         },
         "mode": "markers",
         "name": "1",
         "orientation": "v",
         "showlegend": true,
         "type": "scatter",
         "x": [
          -0.0466514527797699,
          -0.11833608895540237,
          -0.1966187059879303,
          -0.18384617567062378,
          -0.23685447871685028,
          -0.19033275544643402,
          -0.24262288212776184,
          -0.13536174595355988,
          -0.22046512365341187,
          -0.00460254168137908,
          0.17320217192173004,
          -0.16962413489818573,
          -0.2313441038131714,
          -0.04197458550333977,
          -0.1824171394109726,
          -0.18762515485286713,
          -0.0868556797504425,
          -0.13869309425354004,
          -0.24416059255599976,
          -0.14041799306869507,
          -0.26452797651290894,
          -0.23945730924606323,
          -0.19691669940948486,
          -0.0821172371506691,
          -0.04966671019792557,
          -0.17248573899269104,
          -0.14904828369617462,
          -0.14875568449497223,
          -0.22084438800811768
         ],
         "xaxis": "x",
         "y": [
          -0.09013456106185913,
          -0.13243559002876282,
          -0.10872118920087814,
          -0.09440689533948898,
          -0.1005445122718811,
          -0.16272635757923126,
          -0.058034397661685944,
          -0.054322704672813416,
          -0.062182679772377014,
          0.009945854544639587,
          0.2295677363872528,
          0.032350119203329086,
          -0.02234993688762188,
          0.019380779936909676,
          -0.13869895040988922,
          -0.030971990898251534,
          -0.03341121971607208,
          -0.12023504823446274,
          -0.12623535096645355,
          -0.11670191586017609,
          -0.16553227603435516,
          -0.17184127867221832,
          -0.0854879766702652,
          -0.01949768327176571,
          -0.07072830200195312,
          -0.09802990406751633,
          -0.14653649926185608,
          -0.0828699991106987,
          -0.14109380543231964
         ],
         "yaxis": "y"
        },
        {
         "customdata": [
          [
           "chancellor stop imports from russia immediately, whether gas or coal! it cannot be the case that germany is complicit in war crimes.  stopputinnow",
           "de"
          ],
          [
           "ukraine everyone complains about high gas prices the eu is financing putin's war an imbargo would make sense for a short period of time putin is financing the war from oil and gas exports!!!",
           "de"
          ],
          [
           "oh, a special conversation situation.  putin wages war and commits war crimes. you can save yourself that crap.",
           "de"
          ],
          [
           "ukraine️ we should give up  gas and  oil from  russia. it is  unbearable that people are  slaughtered with our  money.",
           "de"
          ],
          [
           "thank you to everyone in the  cdu, the  csu and the  spd for sticking to fossil fuels and for the wonderful  putin cuddling in the  merkel era. so to speak, it's the hard-working  memory gas price.",
           "de"
          ],
          [
           "we germans in particular should be ashamed that we don't help  ukraine much more, especially not with many more and stronger weapons....",
           "de"
          ],
          [
           "since we don't have an oil embargo against russia, the government is helping people finance the  ukraine war. it's so wrong on so many levels, i really don't have any words for it anymore.",
           "de"
          ],
          [
           "just deliver a few long-range nuclear missiles to  ukraine,  putin will get out of ukraine faster than fler will get out of hoe. 😆",
           "de"
          ],
          [
           "three people died in the crash of a mi-8 helicopter in russia's buryatia.  ukraine  ukraine  russian  war",
           "es"
          ],
          [
           "lithuania will not be able to transfer nasams air defense systems to ukraine, but will provide shells for the pzh 2000 self-propelled guns    russia  ukraine",
           "ru"
          ],
          [
           "g7 leaders expressed unwavering support for ukraine and promised air defense systems    russia  ukraine",
           "ru"
          ],
          [
           "fragments of a child's body were found at the site of a rocket attack in dnipro    ukraine  dnipro",
           "uk"
          ],
          [
           "f-16 with semi-stealth agm-158 missiles with a range of 370 km, 925 km and 1900 km depending on the modification. uncle joe, please!   ukrainewar  f16forukraine  agm158forukraine  armukrainanow",
           "uk"
          ],
          [
           "europe is slowly losing their standard of living. the sanction is damaging the economy. blowback russian sanction. shutdown . eurobasket . nato . russia .",
           "en"
          ],
          [
           "more and more evidence of  russian war crimes uncovered on a near daily basis in  ukraine️. all being documented and sent to the  hague.",
           "en"
          ],
          [
           "twenty-two individuals and two entities are subject to new anti-russian sanctions by the u.s. treasury department's office of foreign assets control (ofac).  usa  russia  sanctions",
           "en"
          ],
          [
           "20 reportedly killed as russian forces shelled civilian convoy in kupiansky district, kharkiv oblast  russia  ukraine  war",
           "en"
          ],
          [
           "europe  eu  ukraine  russia the european union is set to ban sputnik, a russian government information channel, from operating on its territory.",
           "it"
          ],
          [
           "the sending of weapons by  nato countries to  ukraine is an act of war against  russia. let's just hope  putin doesn't pay attention to it.",
           "it"
          ],
          [
           "russiaucrania  russia  ukraine  draghi  italy  eu but who pays for the weapons sent? in addition to us and our children with the risk of their lives....",
           "it"
          ],
          [
           "rolex stops exporting goods to  russia,  bloomberg reports.",
           "it"
          ],
          [
           "three weeks after the start of the war, people still have to understand that there is an invader and an invaded. let's do well.  sbetti  ukraine️  nowar  ukrainewar  whitezone",
           "it"
          ],
          [
           "so  putin asks nato not to let ukraine in, ergo it invades and destroys ukraine and ukraine must not defend itself. it's a reasoning worthy of hitler",
           "it"
          ],
          [
           "newsflash at least 22 civilians killed in  russian strike on  ukrainian city of chernihiv, rescuers search for more debris  russianukrainianwar",
           "fr"
          ],
          [
           "invasion of ukraine: three journalists killed, more than 30 injured since the russian invasion  ukraine  warinukraine",
           "fr"
          ],
          [
           "warrussiaukraine  putinwarcriminal  putin it's very clear ! and very simple! just say it loud and clear! putin is an invading aggressor war criminal!",
           "fr"
          ],
          [
           "another  artist has gone to the  stars. death of  oksanashvets, famous  actress in  ukraine, killed in a bombing in  kiev.",
           "fr"
          ],
          [
           "rescuers say human bodies belong to local residents killed by invaders... another  war crime of the russian army...  ukraine",
           "fr"
          ],
          [
           "war in ukraine: new round of american sanctions against russia and vladimir putin's daughters  ukraine  warinukraine",
           "fr"
          ],
          [
           "let's give offensive weapons to  ukraine to face  putin's  barbaric offensive       invasionofukraine",
           "fr"
          ],
          [
           "putin's criminal and corrupt  russia tortures prisoners of war!!!!  ukraine",
           "fr"
          ],
          [
           "ukraine: at least two civilians killed and 10 injured after russian strikes in kramatorsk    ukraine  war  russia",
           "fr"
          ],
          [
           "alert the international criminal court issues an arrest warrant against russian president vladimir  putin for war crimes in ukraine.",
           "fr"
          ],
          [
           "war in  ukraine:  russia committed wide range of war crimes, says un commission of inquiry report",
           "fr"
          ],
          [
           "ukraine ukraine will not receive f-16 even after six months rakhmanin",
           "fr"
          ]
         ],
         "hovertemplate": "topics=0<br>top=k_means<br>x=%{x}<br>y=%{y}<br>cleaned_text_translated=%{customdata[0]}<br>lang=%{customdata[1]}<extra></extra>",
         "legendgroup": "0",
         "marker": {
          "color": "#00cc96",
          "size": 10,
          "symbol": "circle"
         },
         "mode": "markers",
         "name": "0",
         "orientation": "v",
         "showlegend": true,
         "type": "scatter",
         "x": [
          -0.10979356616735458,
          -0.017939368262887,
          -0.0626361295580864,
          0.0934259444475174,
          -0.14409439265727997,
          -0.10247734189033508,
          -0.14292863011360168,
          0.1548207700252533,
          0.11646044254302979,
          0.0888693779706955,
          0.16101238131523132,
          0.086268350481987,
          0.11338165402412415,
          -0.09219919890165329,
          0.1180025041103363,
          -0.07487668842077255,
          0.2288772612810135,
          -0.10015902668237686,
          -0.06585096567869186,
          -0.09690605103969574,
          0.07976941764354706,
          -0.07466700673103333,
          -0.09407972544431686,
          0.026725776493549347,
          0.05463077127933502,
          -0.0362367108464241,
          -0.1140444204211235,
          -0.13877500593662262,
          -0.039433300495147705,
          0.0028745706658810377,
          0.11720619350671768,
          0.0911770612001419,
          -0.08544214069843292,
          -0.050990499556064606,
          0.182887002825737
         ],
         "xaxis": "x",
         "y": [
          0.019234007224440575,
          0.0005691869300790131,
          0.2028312385082245,
          0.049255628138780594,
          -0.025990597903728485,
          0.07380315661430359,
          -0.09282542020082474,
          -0.05417867749929428,
          0.1472427248954773,
          0.34266772866249084,
          0.4005752205848694,
          0.3916242718696594,
          0.2131052315235138,
          0.12764109671115875,
          0.09983743727207184,
          -0.02285740152001381,
          0.050102632492780685,
          0.04635366424918175,
          0.21602554619312286,
          0.1325404793024063,
          0.38321658968925476,
          0.034179769456386566,
          0.02295929379761219,
          0.02371809631586075,
          0.19891031086444855,
          0.06586423516273499,
          0.0010631984332576394,
          0.06857750564813614,
          0.15942826867103577,
          0.19782789051532745,
          0.2855757772922516,
          0.2530165910720825,
          0.15817470848560333,
          0.14621059596538544,
          0.32477208971977234
         ],
         "yaxis": "y"
        },
        {
         "customdata": [
          [
           "🛑🛑🇷🇺🇺🇦 russia attacked the settlement in the svyatoshinsky district of kiev! mayor; \"5 people were injured, 2 were hospitalized\"  ukrainerussiawar  ukraine  russia  kiev  kyiv",
           "de"
          ],
          [
           "\" ukraine needs heavy weapons,\" says ex-civil service worker, nikolas busse! 🤦😂",
           "de"
          ],
          [
           "🇷🇺🔥🇺🇦  russia vs  ukraine day 287 according to this, the  usa would be pressuring  germany to deliver leopard 2 battle tanks (we understand 2a4) to ukraine.",
           "es"
          ],
          [
           "an american strategic reconnaissance drone rq-4 global hawk is circling off the coast of crimea. 😅🔥👌🏻  ukrainerussianwar  ukrainecounteroffensive  war on ukraine  ukraine️  russiaukrainewar  russiaisaterroriststate  usa",
           "ru"
          ],
          [
           "ukrainerussianwar 🕶️⚡️🇹🇷🇹🇷👍👍‼️ turkey delivered a batch of trlg-230 high-precision missiles to ukraine. they are launched from the roketsan development platform. the flight range is 70 km, laser beam guidance system. target illumination is provided by bayraktar tb2.",
           "ru"
          ],
          [
           "🇺🇸the us congress instructed the pentagon to accelerate the delivery of large drones to ukraine  russiainvadedukraine  russiaisaterroiststate  usa  ukraine️",
           "uk"
          ],
          [
           "russia finances hit by cheaper oil and costs of ukraine war cnn business  ukraine🇺🇦  freedom🇺🇲  keepkyivfree✊🏽  zelenskyy  fuckputin   from",
           "en"
          ],
          [
           "🔴 the united states officially sanctions vladimir  putin, mae sergei  lavrov, the russian minister of defense, the deputy minister of defense and the chief of staff of the russian army.  ukrainerussia  ukrainewar  russiaukrainewar  ukrainerussiaconflict",
           "fr"
          ],
          [
           "ukraine 🇺🇦: as a result of today's explosion in  donetsk, 20 civilians were killed, another 28 people were injured. a rally against the russian occupation was planned for today in the city center.",
           "fr"
          ],
          [
           "🔴 \" putin is a war criminal\": \"this is the first time that joe  biden has said it this term has weight, meaning, especially today, especially after v's speech.  zelensky\", reports  our correspondent  in  ruthelkrief2022",
           "fr"
          ],
          [
           "🇺🇦 ukraine: this photo was posted by little sacha's mother. after weeks of searching, the lifeless body of the 4-year-old boy was found. he was trying to escape the arrival of the russians with his grandmother, who was found dead on march 11.",
           "fr"
          ],
          [
           "🔴 6 people shot dead found in a basement in the suburbs of kyiv.  russianukrainianwar  ukraine  ukraineunderattack",
           "fr"
          ],
          [
           "the  eu visa ban on russian citizens 🇷🇺 is something that clearly hurts the  kremlin since many russians will then blame the russian dictator for losing their vacation. this is exactly why we need to do it.  russia  russian  eu",
           "fr"
          ],
          [
           "🔴  ukrainerussianwar urgent‼️ the international criminal court issued an arrest warrant for russian president vladimir putin on friday, charging him with war crimes for the illegal deportation of children from ukraine to russia.  civ225  mali  burkina  niger  senegal",
           "fr"
          ]
         ],
         "hovertemplate": "topics=3<br>top=k_means<br>x=%{x}<br>y=%{y}<br>cleaned_text_translated=%{customdata[0]}<br>lang=%{customdata[1]}<extra></extra>",
         "legendgroup": "3",
         "marker": {
          "color": "#ab63fa",
          "size": 10,
          "symbol": "circle"
         },
         "mode": "markers",
         "name": "3",
         "orientation": "v",
         "showlegend": true,
         "type": "scatter",
         "x": [
          0.5774688720703125,
          0.4495770335197449,
          0.5643484592437744,
          0.3336111009120941,
          0.37633228302001953,
          0.5271531343460083,
          0.24468214809894562,
          0.18603554368019104,
          0.32563647627830505,
          0.37361037731170654,
          0.3423027992248535,
          0.5141994953155518,
          0.022990750148892403,
          0.35700494050979614
         ],
         "xaxis": "x",
         "y": [
          -0.25918498635292053,
          -0.081691674888134,
          -0.14491958916187286,
          -0.08911837637424469,
          -0.09183042496442795,
          -0.11544982343912125,
          0.06600641459226608,
          -0.367883563041687,
          -0.2005053013563156,
          -0.3560367524623871,
          -0.2748376727104187,
          -0.12706957757472992,
          -0.07899298518896103,
          -0.35723987221717834
         ],
         "yaxis": "y"
        },
        {
         "customdata": [
          [
           "ukrainewar: the  eu  sanctions against  russia at a glance  ukrainerussiawar  ukrainerussiacrisis",
           "de"
          ],
          [
           "chancellor stop imports from russia immediately, whether gas or coal! it cannot be the case that germany is complicit in war crimes.  stopputinnow",
           "de"
          ],
          [
           "ukraine everyone complains about high gas prices the eu is financing putin's war an imbargo would make sense for a short period of time putin is financing the war from oil and gas exports!!!",
           "de"
          ],
          [
           "ukraine️ we should give up  gas and  oil from  russia. it is  unbearable that people are  slaughtered with our  money.",
           "de"
          ],
          [
           "thank you to everyone in the  cdu, the  csu and the  spd for sticking to fossil fuels and for the wonderful  putin cuddling in the  merkel era. so to speak, it's the hard-working  memory gas price.",
           "de"
          ],
          [
           "since we don't have an oil embargo against russia, the government is helping people finance the  ukraine war. it's so wrong on so many levels, i really don't have any words for it anymore.",
           "de"
          ],
          [
           "analysis: europe will close the cap on russian oil at $60 but it will not serve to harm russia  europe  russia  petroleoruso  oilbarrel  oilproduction ⬇️⬇️⬇️",
           "es"
          ],
          [
           "breaking although the european union tries to blame  putin for the energy shortage in  europe this winter, it was his own decision to suspend the import of russian gas and oil in the spring, bowing to the demands of the us and  nato.  ukrainerussianwar  russiaukrainewar",
           "es"
          ],
          [
           "the  eu is concerned that  turkey has expanded trade with  russia instead of imposing sanctions since the start of the conflict in  ukraine, said eu high representative for foreign affairs josep borrell.  la580",
           "es"
          ],
          [
           "the european commission emphasizes that the import from russia and the transit of some oil products should be allowed to ensure food and energy security in the world. first of all, poland and the baltic states oppose such a decision  stoprussia  stopputin",
           "uk"
          ],
          [
           "europe is slowly losing their standard of living. the sanction is damaging the economy. blowback russian sanction. shutdown . eurobasket . nato . russia .",
           "en"
          ],
          [
           "twenty-two individuals and two entities are subject to new anti-russian sanctions by the u.s. treasury department's office of foreign assets control (ofac).  usa  russia  sanctions",
           "en"
          ],
          [
           "russia finances hit by cheaper oil and costs of ukraine war cnn business  ukraine🇺🇦  freedom🇺🇲  keepkyivfree✊🏽  zelenskyy  fuckputin   from",
           "en"
          ],
          [
           "asks that you sign this petition   for a full western embargo on russian oil and gas and that you push big western players, including blackrock, to get the heck out of the 40 giant \"carbon bomb\" projects planned for russia  standwithukraine",
           "en"
          ],
          [
           "europe  eu  ukraine  russia the european union is set to ban sputnik, a russian government information channel, from operating on its territory.",
           "it"
          ],
          [
           "attention: germany and italy are receiving immense pressure to disconnect  russia from the  swift transaction circuit. obviously: they are the countries that have the most relations with moscow and that would take it there.",
           "it"
          ],
          [
           "apple, eni, ford and more: large companies have taken action against  russia. the list of companies that have decided to take concrete action against the russian invasion of  ukraine is dense and constantly updated  wwe2k22",
           "it"
          ],
          [
           "sanctions against  russia also affect cats. the international feline federation has announced it has banned russian cats from its competitions around the world until at least the end of may, saying it is \"horrified\" by the invasion of  ukraine.",
           "it"
          ],
          [
           "rolex stops exporting goods to  russia,  bloomberg reports.",
           "it"
          ],
          [
           "petrol  gas  wheat  fuel  bills etc other than  sanctions on  russia, this is italy's  assisted suicide  ukrainewar  draghileavenow let's give up and hand over  zelensky to him with apologies.",
           "it"
          ],
          [
           "🔴 the united states officially sanctions vladimir  putin, mae sergei  lavrov, the russian minister of defense, the deputy minister of defense and the chief of staff of the russian army.  ukrainerussia  ukrainewar  russiaukrainewar  ukrainerussiaconflict",
           "fr"
          ],
          [
           "war in ukraine: new round of american sanctions against russia and vladimir putin's daughters  ukraine  warinukraine",
           "fr"
          ],
          [
           "the boomerang effect has already been triggered. sanctions against russia generate global economic risks, which are major, particularly for the 🇫🇷. and bruno lemaire who thought he would bring  russia to its knees.  ukraine",
           "fr"
          ],
          [
           "zelensky calls on  europe to \"retaliate\" to the \"gas war\" by strengthening sanctions against  russia",
           "fr"
          ],
          [
           "the  eu visa ban on russian citizens 🇷🇺 is something that clearly hurts the  kremlin since many russians will then blame the russian dictator for losing their vacation. this is exactly why we need to do it.  russia  russian  eu",
           "fr"
          ]
         ],
         "hovertemplate": "topics=sanctions<br>top=robin<br>x=%{x}<br>y=%{y}<br>cleaned_text_translated=%{customdata[0]}<br>lang=%{customdata[1]}<extra></extra>",
         "legendgroup": "sanctions",
         "marker": {
          "color": "#FFA15A",
          "size": 10,
          "symbol": "circle"
         },
         "mode": "markers",
         "name": "sanctions",
         "orientation": "v",
         "showlegend": true,
         "type": "scatter",
         "x": [
          0.01375124417245388,
          -0.10979356616735458,
          -0.017939368262887,
          0.0934259444475174,
          -0.14409439265727997,
          -0.14292863011360168,
          0.22055715322494507,
          -0.19033275544643402,
          -0.1087014451622963,
          -0.16962413489818573,
          -0.09219919890165329,
          -0.07487668842077255,
          0.24468214809894562,
          -0.13869309425354004,
          -0.10015902668237686,
          -0.17516441643238068,
          -0.16279111802577972,
          -0.20102566480636597,
          0.07976941764354706,
          -0.19691669940948486,
          0.18603554368019104,
          -0.039433300495147705,
          0.004777915310114622,
          0.06271464377641678,
          0.022990750148892403
         ],
         "xaxis": "x2",
         "y": [
          0.19508905708789825,
          0.019234007224440575,
          0.000569186988286674,
          0.049255628138780594,
          -0.025990597903728485,
          -0.09282542020082474,
          0.08160378038883209,
          -0.16272635757923126,
          -0.062136877328157425,
          0.032350119203329086,
          0.12764109671115875,
          -0.02285740152001381,
          0.06600641459226608,
          -0.12023504823446274,
          0.04635366424918175,
          -0.02250750921666622,
          -0.05494791641831398,
          -0.07975119352340698,
          0.38321658968925476,
          -0.0854879766702652,
          -0.367883563041687,
          0.15942826867103577,
          -0.11287645995616913,
          0.27620789408683777,
          -0.07899298518896103
         ],
         "yaxis": "y2"
        },
        {
         "customdata": [
          [
           "vogt-wuchter: \"we are shocked by the war in ukraine in the middle of europe which russia launched against its neighboring country in violation of international law.\" civilians are victims of the conflict. hundreds of thousands are fleeing. statement:    ukraine",
           "de"
          ],
          [
           "oh, a special conversation situation.  putin wages war and commits war crimes. you can save yourself that crap.",
           "de"
          ],
          [
           "the federal attorney general is investigating... possible  warcrimes  russia in  ukraine but not against president  putin personally. the international criminal court (icc) is also already investigating. after .../2",
           "de"
          ],
          [
           "the targeted bomb attack on the  children's clinic in  mariupol is despicably unscrupulous and shows the full inhumanity of  putin. it is a barbaric, brutal  warcrime inexcusably inhumane.  stopputinnow  standwithukraine  putinisawarcriminal",
           "de"
          ],
          [
           "i watched carefully, and it seemed to me that he wanted to repeat the georgia 2008 option by making ukraine the aggressor. and here ukraine did not fall into any traps, all the fakes were exposed instantly, and as a result, nothing limited international support. saakashvili's lesson has been learned.",
           "ru"
          ],
          [
           "there is not a single generation of the ukrainian people that has not suffered at the hands of the russians. the realization of this hurts so much that it often seems as if this hell will never end. as if this hell is life itself.",
           "uk"
          ],
          [
           "the terrorist organization \"russia\" fired a volley of s-300 missiles at a convoy of people heading to the occupied territory to visit their relatives, killing dozens of civilians. when will a special tribunal be created to criminalize the regime of these scum?  russiaisaterroriststate  russia  ukraine",
           "uk"
          ],
          [
           "more and more evidence of  russian war crimes uncovered on a near daily basis in  ukraine️. all being documented and sent to the  hague.",
           "en"
          ],
          [
           "allies do not and will never recognize russia's illegal and illegitimate annexation of crimea. sham referenda in the donetsk, luhansk, zaporizhzhia, and kherson regions of ukraine have no legitimacy and will be a blatant violation of the un charter  standwithukraine",
           "en"
          ],
          [
           "anyone who deliberately attacks hospitals and civilian homes is a criminal and should be punished immediately, but even those who tolerate it, by refusing to back down from their positions, are contributing to the mass slaughter of their people. russiaukraineconflict  ukrainewar",
           "it"
          ],
          [
           "lavrov  putin and all those who carried out the massacre in  ukraine will have to pay for their crimes with the death penalty, let's hope they don't go unpunished as happened with the bastards who exterminated vietnamese children with napalm.",
           "it"
          ],
          [
           "let's be clear:  putin ordered to attack, bomb and hit  ukraine. the initiative of the  war is his, the invasion is criminal, the  ukrainians have every  right and  duty to offer  resistance to the invaders. demanding their surrender is an embarrassing infamy.",
           "it"
          ],
          [
           "three weeks after the start of the war, people still have to understand that there is an invader and an invaded. let's do well.  sbetti  ukraine️  nowar  ukrainewar  whitezone",
           "it"
          ],
          [
           "so  putin asks nato not to let ukraine in, ergo it invades and destroys ukraine and ukraine must not defend itself. it's a reasoning worthy of hitler",
           "it"
          ],
          [
           "warrussiaukraine  putinwarcriminal  putin it's very clear ! and very simple! just say it loud and clear! putin is an invading aggressor war criminal!",
           "fr"
          ],
          [
           "🔴 \" putin is a war criminal\": \"this is the first time that joe  biden has said it this term has weight, meaning, especially today, especially after v's speech.  zelensky\", reports  our correspondent  in  ruthelkrief2022",
           "fr"
          ],
          [
           "pentagon accused the russian military of committing war crimes in ukraine and said it will help gather evidence.    ukraineunderattack  russianwarcrimes  russianukrainianwar  stoprussia  putinswar  putinhitler  russiakills",
           "fr"
          ],
          [
           "carla del ponte: \"putin is a war criminal\"  putinwarcrimes",
           "fr"
          ],
          [
           "via  \"mr. putin was wrong about almost everything. this war has been an error of interpretation from the start.\"  ukraine on franceinfo, this former general, now professor of strategy at sciences po and hec, looks back on…",
           "fr"
          ],
          [
           "putin's criminal and corrupt  russia tortures prisoners of war!!!!  ukraine",
           "fr"
          ],
          [
           "here is proof of another russian war crime. in this phone call, a russian commander orders his subordinate to kill ukrainian prisoners of war in the town of popasna in eastern  ukraine.  ukrainerussiawar",
           "fr"
          ],
          [
           "if you say \"war\" to him he won't respond..  operationspecial: the ukrainians refuse to be \"liberated\" by putin; so by \"attacking\" the russians the war becomes automatic due to  zelensky (must follow!)",
           "fr"
          ],
          [
           "alert the international criminal court issues an arrest warrant against russian president vladimir  putin for war crimes in ukraine.",
           "fr"
          ],
          [
           "🔴  ukrainerussianwar urgent‼️ the international criminal court issued an arrest warrant for russian president vladimir putin on friday, charging him with war crimes for the illegal deportation of children from ukraine to russia.  civ225  mali  burkina  niger  senegal",
           "fr"
          ],
          [
           "war in  ukraine:  russia committed wide range of war crimes, says un commission of inquiry report",
           "fr"
          ]
         ],
         "hovertemplate": "topics=unjustified_war<br>top=robin<br>x=%{x}<br>y=%{y}<br>cleaned_text_translated=%{customdata[0]}<br>lang=%{customdata[1]}<extra></extra>",
         "legendgroup": "unjustified_war",
         "marker": {
          "color": "#19d3f3",
          "size": 10,
          "symbol": "circle"
         },
         "mode": "markers",
         "name": "unjustified_war",
         "orientation": "v",
         "showlegend": true,
         "type": "scatter",
         "x": [
          0.034191202372312546,
          -0.0626361295580864,
          -0.11833608895540237,
          -0.1966187059879303,
          -0.13536174595355988,
          -0.2313441038131714,
          -0.04197458550333977,
          0.1180025041103363,
          -0.24416059255599976,
          -0.23945730924606323,
          -0.1932961344718933,
          -0.1973094940185547,
          -0.07466700673103333,
          -0.09407972544431686,
          -0.0362367108464241,
          0.37361037731170654,
          -0.17248573899269104,
          0.14431096613407135,
          -0.0853411853313446,
          0.11720619350671768,
          -0.14904828369617462,
          -0.03657367080450058,
          -0.08544214069843292,
          0.35700494050979614,
          -0.050990499556064606
         ],
         "xaxis": "x2",
         "y": [
          -0.10875356197357178,
          0.2028312385082245,
          -0.13243559002876282,
          -0.10872118920087814,
          -0.054322704672813416,
          -0.02234993688762188,
          0.019380779936909676,
          0.09983743727207184,
          -0.12623535096645355,
          -0.17184127867221832,
          -0.08569037169218063,
          -0.10947542637586594,
          0.034179769456386566,
          0.02295929379761219,
          0.06586423516273499,
          -0.3560367524623871,
          -0.09802990406751633,
          0.18525904417037964,
          -0.20577141642570496,
          0.2855757772922516,
          -0.14653649926185608,
          -0.09335125237703323,
          0.15817470848560333,
          -0.35723987221717834,
          0.14621059596538544
         ],
         "yaxis": "y2"
        },
        {
         "customdata": [
          [
           "the interior ministry of  ukraine reported on sunday evening 352 civilians killed since russia's attack on ukraine, including 14 children. a further 1,684 wounded people were counted, including 116 children.  fckptn  weapons  ukrainewar  putinswar  belarus  putin",
           "de"
          ],
          [
           "🛑🛑🇷🇺🇺🇦 russia attacked the settlement in the svyatoshinsky district of kiev! mayor; \"5 people were injured, 2 were hospitalized\"  ukrainerussiawar  ukraine  russia  kiev  kyiv",
           "de"
          ],
          [
           "people are being slaughtered, kidnapped, raped and thrown into mass graves by the russians in  mariupol. but of course, ukraine should capitulate and insist on peace. do you notice anything else?",
           "de"
          ],
          [
           "russia: 2,500 dead seals found on the coast of the caspian sea, in russia.",
           "es"
          ],
          [
           "three people died in the crash of a mi-8 helicopter in russia's buryatia.  ukraine  ukraine  russian  war",
           "es"
          ],
          [
           "the burial of an entire family was found in izyum. we are talking about the stolpakov family: 31-year-old elena and 33-year-old dmytro, as well as their daughters 5-year-old lesya and 8-year-old sasha, as well as their grandmother (according to other data, the grandfather also died)  russiaisaterrorisstate  izium  ukraine️  stoprussianaggression",
           "uk"
          ],
          [
           "a total of 447 dead were found. among them are 425 civilians and 22 soldiers of the armed forces of ukraine.  stoprussia",
           "uk"
          ],
          [
           "fragments of a child's body were found at the site of a rocket attack in dnipro    ukraine  dnipro",
           "uk"
          ],
          [
           "breaking! two killed and three injured in donetsk more details of overnight attacks are emerging from ukraine today.  theshadepill  stoprussia  russiakillscivilians  emergency  trending",
           "en"
          ],
          [
           "20 reportedly killed as russian forces shelled civilian convoy in kupiansky district, kharkiv oblast  russia  ukraine  war",
           "en"
          ],
          [
           "they bombed hospitals, universities, homes of ordinary citizens, they bombed kindergartens, schools... they killed children, women and men... only an infamous person could do something like that.  russianukrainianwar  putin  ucrania",
           "it"
          ],
          [
           "unity  crisis  international ; 5 dead after the air attack on the  ukraine television headquarters. reports of violence from students and women are increasing.  noallaguerra  siallavita  russiaukraineconflict  russiaukrainewar  negotiations.",
           "it"
          ],
          [
           "russia without dignity or shame: the children's hospital in  mariupol bombed. deaths and injuries among doctors, nurses and young patients",
           "it"
          ],
          [
           "hell in  mariupol! here is the strategic city flown over by a drone the view is atrocious, heartbreaking  putin brought back hell on earth after 77 years: 2500 deaths, no electricity, water, food, heating i no longer have doubts: putin must be stopped. and you?   turkey",
           "it"
          ],
          [
           "because the victims of this filthy war have a name, a face... tetyana is a young mother living on the outskirts of kyiv. in this video, she says: \"parents of russia, your children are on our land and they are killing us.\"  ukraine  ukraineinvasion  russiaukraine",
           "fr"
          ],
          [
           "newsflash at least 22 civilians killed in  russian strike on  ukrainian city of chernihiv, rescuers search for more debris  russianukrainianwar",
           "fr"
          ],
          [
           "invasion of ukraine: three journalists killed, more than 30 injured since the russian invasion  ukraine  warinukraine",
           "fr"
          ],
          [
           "ukraine 🇺🇦: as a result of today's explosion in  donetsk, 20 civilians were killed, another 28 people were injured. a rally against the russian occupation was planned for today in the city center.",
           "fr"
          ],
          [
           "another  artist has gone to the  stars. death of  oksanashvets, famous  actress in  ukraine, killed in a bombing in  kiev.",
           "fr"
          ],
          [
           "the latest photo of a happy couple anton hannah. the russians shot at them as they tried to evacuate the kyiv suburb  bucha. anton was killed. their unborn baby also did not survive the attack. in an instant a woman lost everything: her home and her family",
           "fr"
          ],
          [
           "🇺🇦 ukraine: this photo was posted by little sacha's mother. after weeks of searching, the lifeless body of the 4-year-old boy was found. he was trying to escape the arrival of the russians with his grandmother, who was found dead on march 11.",
           "fr"
          ],
          [
           "rescuers say human bodies belong to local residents killed by invaders... another  war crime of the russian army...  ukraine",
           "fr"
          ],
          [
           "🔴 6 people shot dead found in a basement in the suburbs of kyiv.  russianukrainianwar  ukraine  ukraineunderattack",
           "fr"
          ],
          [
           "ukraine after the missile strikes which left at least six dead and eight injured in lviv, residents of this western city, relatively untouched by the fighting, fled.   via",
           "fr"
          ],
          [
           "ukraine: at least two civilians killed and 10 injured after russian strikes in kramatorsk    ukraine  war  russia",
           "fr"
          ]
         ],
         "hovertemplate": "topics=people_killed<br>top=robin<br>x=%{x}<br>y=%{y}<br>cleaned_text_translated=%{customdata[0]}<br>lang=%{customdata[1]}<extra></extra>",
         "legendgroup": "people_killed",
         "marker": {
          "color": "#FF6692",
          "size": 10,
          "symbol": "circle"
         },
         "mode": "markers",
         "name": "people_killed",
         "orientation": "v",
         "showlegend": true,
         "type": "scatter",
         "x": [
          -0.0466514527797699,
          0.5774688720703125,
          -0.18384617567062378,
          0.11268270015716553,
          0.11646044254302979,
          -0.00460254168137908,
          0.17320217192173004,
          0.086268350481987,
          -0.0868556797504425,
          0.2288772612810135,
          -0.26452797651290894,
          0.02196212112903595,
          -0.05143381282687187,
          -0.04966671019792557,
          -0.18599802255630493,
          0.026725776493549347,
          0.05463077127933502,
          0.32563647627830505,
          -0.1140444204211235,
          -0.17786091566085815,
          0.3423027992248535,
          -0.13877500593662262,
          0.5141994953155518,
          -0.14875568449497223,
          0.0911770612001419
         ],
         "xaxis": "x2",
         "y": [
          -0.09013456851243973,
          -0.25918498635292053,
          -0.09440689533948898,
          0.3533782660961151,
          0.1472427248954773,
          0.009945854544639587,
          0.2295677363872528,
          0.3916242718696594,
          -0.03341121971607208,
          0.050102632492780685,
          -0.16553227603435516,
          -0.0020863779354840517,
          0.1372862458229065,
          -0.07072830200195312,
          -0.18734996020793915,
          0.02371809631586075,
          0.19891031086444855,
          -0.2005053013563156,
          0.0010631984332576394,
          -0.07110622525215149,
          -0.2748376727104187,
          0.06857750564813614,
          -0.12706957757472992,
          -0.0828699991106987,
          0.2530165910720825
         ],
         "yaxis": "y2"
        },
        {
         "customdata": [
          [
           "we germans in particular should be ashamed that we don't help  ukraine much more, especially not with many more and stronger weapons....",
           "de"
          ],
          [
           "\" ukraine needs heavy weapons,\" says ex-civil service worker, nikolas busse! 🤦😂",
           "de"
          ],
          [
           "just deliver a few long-range nuclear missiles to  ukraine,  putin will get out of ukraine faster than fler will get out of hoe. 😆",
           "de"
          ],
          [
           "dear friends, our  cheetah tanks are used in  ukraine, for example, to protect infrastructure such as the port of  odessa. anyone who does not supply ammunition to an invaded state for national defense can no longer be a reliable supplier of ammunition for us",
           "de"
          ],
          [
           "🇷🇺🔥🇺🇦  russia vs  ukraine day 287 according to this, the  usa would be pressuring  germany to deliver leopard 2 battle tanks (we understand 2a4) to ukraine.",
           "es"
          ],
          [
           "cnn: biden is finalizing sending patriot to ukraine  ukraina  russia  war",
           "es"
          ],
          [
           "large-scale supplies of weapons are vital for ukraine to defend itself from crazy russia, which has become obsessed with russian fascism and started an unjust, genocidal, illegal war. if russia were attacked, it would also receive help for self-defense.",
           "ru"
          ],
          [
           "an american strategic reconnaissance drone rq-4 global hawk is circling off the coast of crimea. 😅🔥👌🏻  ukrainerussianwar  ukrainecounteroffensive  war on ukraine  ukraine️  russiaukrainewar  russiaisaterroriststate  usa",
           "ru"
          ],
          [
           "lithuania will not be able to transfer nasams air defense systems to ukraine, but will provide shells for the pzh 2000 self-propelled guns    russia  ukraine",
           "ru"
          ],
          [
           "ukrainerussianwar 🕶️⚡️🇹🇷🇹🇷👍👍‼️ turkey delivered a batch of trlg-230 high-precision missiles to ukraine. they are launched from the roketsan development platform. the flight range is 70 km, laser beam guidance system. target illumination is provided by bayraktar tb2.",
           "ru"
          ],
          [
           "g7 leaders expressed unwavering support for ukraine and promised air defense systems    russia  ukraine",
           "ru"
          ],
          [
           "the german company rheinmetall has confirmed an order for the production of two skynex air defense systems for ukraine, handelsblatt reports.  ukraine  kherson  crimea  dnipro  wagner  bakhmut  himars  kyiv  belarus  ukrainian  moscow  crimea  donetsk  bakhmut",
           "ru"
          ],
          [
           "🇺🇸the us congress instructed the pentagon to accelerate the delivery of large drones to ukraine  russiainvadedukraine  russiaisaterroiststate  usa  ukraine️",
           "uk"
          ],
          [
           "f-16 with semi-stealth agm-158 missiles with a range of 370 km, 925 km and 1900 km depending on the modification. uncle joe, please!   ukrainewar  f16forukraine  agm158forukraine  armukrainanow",
           "uk"
          ],
          [
           "here we do have the challenge. the european  nato countries with missing stockpiles of key weaponry does make the nato weak. there has to be a balance between weapons sent to ukraine and weapons kept for own/nato defence. no matter how much any nato country would like to help.",
           "en"
          ],
          [
           "this is horrible..and probably the tip of the iceberg..  russians were sent to murder, torture, rape, destroy everything in  ukraine...  russiaisanazistate",
           "en"
          ],
          [
           "i hope you are wrong. however we all know what it needs are  abrams,  leopard2,  challenger2 and/or  leclerc battletanks to really make a difference. we could send those in such numbers, that they would overwhelm the  russian army for sure.",
           "en"
          ],
          [
           ".  polishpres.  duda in  lviv today:\"a major military modernization program is underway in  poland. the equipment we are replacing will be sent to  ukraine\".it means ukraine can count on hundreds of pieces of polish tanks,ifvs mlrs over time(pt-91/t-72/bmp/grad)🇵🇱🇺🇦",
           "en"
          ],
          [
           "the sending of weapons by  nato countries to  ukraine is an act of war against  russia. let's just hope  putin doesn't pay attention to it.",
           "it"
          ],
          [
           "russiaucrania  russia  ukraine  draghi  italy  eu but who pays for the weapons sent? in addition to us and our children with the risk of their lives....",
           "it"
          ],
          [
           "it seems that poland has indicated its willingness to transfer its  mig29 to the ramstein base in order to send them to ukraine. so it's not just us italians who are idiots....  ukrainerussianwar",
           "it"
          ],
          [
           "putin's russia has the largest ballistic arsenal in the world....the  usa has run out of javelins and has himars close to stock levels....the rest of europe has never been armed. ... if  putin had strange ideas, would we throw slingshots at him now?",
           "it"
          ],
          [
           "let's give offensive weapons to  ukraine to face  putin's  barbaric offensive       invasionofukraine",
           "fr"
          ],
          [
           "it is with these  ukronazi  bandits that  nato is sending billions of dollars worth of weapons to weaken  russia. but, the  war will enter its third phase, the  worldwar, where westerners will be required to invest militarily on the ground.",
           "fr"
          ],
          [
           "ukraine ukraine will not receive f-16 even after six months rakhmanin",
           "fr"
          ]
         ],
         "hovertemplate": "topics=arms_delivery<br>top=robin<br>x=%{x}<br>y=%{y}<br>cleaned_text_translated=%{customdata[0]}<br>lang=%{customdata[1]}<extra></extra>",
         "legendgroup": "arms_delivery",
         "marker": {
          "color": "#B6E880",
          "size": 10,
          "symbol": "circle"
         },
         "mode": "markers",
         "name": "arms_delivery",
         "orientation": "v",
         "showlegend": true,
         "type": "scatter",
         "x": [
          -0.10247734189033508,
          0.4495770335197449,
          0.1548207700252533,
          -0.23685447871685028,
          0.5643484592437744,
          0.013715541921555996,
          -0.24262288212776184,
          0.3336111009120941,
          0.0888693779706955,
          0.37633228302001953,
          0.16101238131523132,
          -0.22046512365341187,
          0.5271531343460083,
          0.11338165402412415,
          -0.1824171394109726,
          -0.18762515485286713,
          -0.14041799306869507,
          0.2602200210094452,
          -0.06585096567869186,
          -0.09690605103969574,
          -0.0821172371506691,
          -0.2317771315574646,
          0.0028745706658810377,
          -0.22084438800811768,
          0.182887002825737
         ],
         "xaxis": "x2",
         "y": [
          0.07380315661430359,
          -0.081691674888134,
          -0.05417867749929428,
          -0.1005445122718811,
          -0.14491958916187286,
          0.19645892083644867,
          -0.058034397661685944,
          -0.08911837637424469,
          0.34266772866249084,
          -0.09183042496442795,
          0.4005752205848694,
          -0.062182679772377014,
          -0.11544982343912125,
          0.2131052315235138,
          -0.13869895040988922,
          -0.030971990898251534,
          -0.11670191586017609,
          -0.19179245829582214,
          0.21602554619312286,
          0.1325404793024063,
          -0.01949768327176571,
          -0.05749783664941788,
          0.19782789051532745,
          -0.14109380543231964,
          0.32477208971977234
         ],
         "yaxis": "y2"
        }
       ],
       "layout": {
        "annotations": [
         {
          "font": {},
          "showarrow": false,
          "text": "top=k_means",
          "x": 0.245,
          "xanchor": "center",
          "xref": "paper",
          "y": 1,
          "yanchor": "bottom",
          "yref": "paper"
         },
         {
          "font": {},
          "showarrow": false,
          "text": "top=robin",
          "x": 0.755,
          "xanchor": "center",
          "xref": "paper",
          "y": 1,
          "yanchor": "bottom",
          "yref": "paper"
         }
        ],
        "legend": {
         "title": {
          "text": "topics"
         },
         "tracegroupgap": 0
        },
        "margin": {
         "t": 60
        },
        "showlegend": false,
        "template": {
         "data": {
          "bar": [
           {
            "error_x": {
             "color": "#2a3f5f"
            },
            "error_y": {
             "color": "#2a3f5f"
            },
            "marker": {
             "line": {
              "color": "#E5ECF6",
              "width": 0.5
             },
             "pattern": {
              "fillmode": "overlay",
              "size": 10,
              "solidity": 0.2
             }
            },
            "type": "bar"
           }
          ],
          "barpolar": [
           {
            "marker": {
             "line": {
              "color": "#E5ECF6",
              "width": 0.5
             },
             "pattern": {
              "fillmode": "overlay",
              "size": 10,
              "solidity": 0.2
             }
            },
            "type": "barpolar"
           }
          ],
          "carpet": [
           {
            "aaxis": {
             "endlinecolor": "#2a3f5f",
             "gridcolor": "white",
             "linecolor": "white",
             "minorgridcolor": "white",
             "startlinecolor": "#2a3f5f"
            },
            "baxis": {
             "endlinecolor": "#2a3f5f",
             "gridcolor": "white",
             "linecolor": "white",
             "minorgridcolor": "white",
             "startlinecolor": "#2a3f5f"
            },
            "type": "carpet"
           }
          ],
          "choropleth": [
           {
            "colorbar": {
             "outlinewidth": 0,
             "ticks": ""
            },
            "type": "choropleth"
           }
          ],
          "contour": [
           {
            "colorbar": {
             "outlinewidth": 0,
             "ticks": ""
            },
            "colorscale": [
             [
              0,
              "#0d0887"
             ],
             [
              0.1111111111111111,
              "#46039f"
             ],
             [
              0.2222222222222222,
              "#7201a8"
             ],
             [
              0.3333333333333333,
              "#9c179e"
             ],
             [
              0.4444444444444444,
              "#bd3786"
             ],
             [
              0.5555555555555556,
              "#d8576b"
             ],
             [
              0.6666666666666666,
              "#ed7953"
             ],
             [
              0.7777777777777778,
              "#fb9f3a"
             ],
             [
              0.8888888888888888,
              "#fdca26"
             ],
             [
              1,
              "#f0f921"
             ]
            ],
            "type": "contour"
           }
          ],
          "contourcarpet": [
           {
            "colorbar": {
             "outlinewidth": 0,
             "ticks": ""
            },
            "type": "contourcarpet"
           }
          ],
          "heatmap": [
           {
            "colorbar": {
             "outlinewidth": 0,
             "ticks": ""
            },
            "colorscale": [
             [
              0,
              "#0d0887"
             ],
             [
              0.1111111111111111,
              "#46039f"
             ],
             [
              0.2222222222222222,
              "#7201a8"
             ],
             [
              0.3333333333333333,
              "#9c179e"
             ],
             [
              0.4444444444444444,
              "#bd3786"
             ],
             [
              0.5555555555555556,
              "#d8576b"
             ],
             [
              0.6666666666666666,
              "#ed7953"
             ],
             [
              0.7777777777777778,
              "#fb9f3a"
             ],
             [
              0.8888888888888888,
              "#fdca26"
             ],
             [
              1,
              "#f0f921"
             ]
            ],
            "type": "heatmap"
           }
          ],
          "heatmapgl": [
           {
            "colorbar": {
             "outlinewidth": 0,
             "ticks": ""
            },
            "colorscale": [
             [
              0,
              "#0d0887"
             ],
             [
              0.1111111111111111,
              "#46039f"
             ],
             [
              0.2222222222222222,
              "#7201a8"
             ],
             [
              0.3333333333333333,
              "#9c179e"
             ],
             [
              0.4444444444444444,
              "#bd3786"
             ],
             [
              0.5555555555555556,
              "#d8576b"
             ],
             [
              0.6666666666666666,
              "#ed7953"
             ],
             [
              0.7777777777777778,
              "#fb9f3a"
             ],
             [
              0.8888888888888888,
              "#fdca26"
             ],
             [
              1,
              "#f0f921"
             ]
            ],
            "type": "heatmapgl"
           }
          ],
          "histogram": [
           {
            "marker": {
             "pattern": {
              "fillmode": "overlay",
              "size": 10,
              "solidity": 0.2
             }
            },
            "type": "histogram"
           }
          ],
          "histogram2d": [
           {
            "colorbar": {
             "outlinewidth": 0,
             "ticks": ""
            },
            "colorscale": [
             [
              0,
              "#0d0887"
             ],
             [
              0.1111111111111111,
              "#46039f"
             ],
             [
              0.2222222222222222,
              "#7201a8"
             ],
             [
              0.3333333333333333,
              "#9c179e"
             ],
             [
              0.4444444444444444,
              "#bd3786"
             ],
             [
              0.5555555555555556,
              "#d8576b"
             ],
             [
              0.6666666666666666,
              "#ed7953"
             ],
             [
              0.7777777777777778,
              "#fb9f3a"
             ],
             [
              0.8888888888888888,
              "#fdca26"
             ],
             [
              1,
              "#f0f921"
             ]
            ],
            "type": "histogram2d"
           }
          ],
          "histogram2dcontour": [
           {
            "colorbar": {
             "outlinewidth": 0,
             "ticks": ""
            },
            "colorscale": [
             [
              0,
              "#0d0887"
             ],
             [
              0.1111111111111111,
              "#46039f"
             ],
             [
              0.2222222222222222,
              "#7201a8"
             ],
             [
              0.3333333333333333,
              "#9c179e"
             ],
             [
              0.4444444444444444,
              "#bd3786"
             ],
             [
              0.5555555555555556,
              "#d8576b"
             ],
             [
              0.6666666666666666,
              "#ed7953"
             ],
             [
              0.7777777777777778,
              "#fb9f3a"
             ],
             [
              0.8888888888888888,
              "#fdca26"
             ],
             [
              1,
              "#f0f921"
             ]
            ],
            "type": "histogram2dcontour"
           }
          ],
          "mesh3d": [
           {
            "colorbar": {
             "outlinewidth": 0,
             "ticks": ""
            },
            "type": "mesh3d"
           }
          ],
          "parcoords": [
           {
            "line": {
             "colorbar": {
              "outlinewidth": 0,
              "ticks": ""
             }
            },
            "type": "parcoords"
           }
          ],
          "pie": [
           {
            "automargin": true,
            "type": "pie"
           }
          ],
          "scatter": [
           {
            "fillpattern": {
             "fillmode": "overlay",
             "size": 10,
             "solidity": 0.2
            },
            "type": "scatter"
           }
          ],
          "scatter3d": [
           {
            "line": {
             "colorbar": {
              "outlinewidth": 0,
              "ticks": ""
             }
            },
            "marker": {
             "colorbar": {
              "outlinewidth": 0,
              "ticks": ""
             }
            },
            "type": "scatter3d"
           }
          ],
          "scattercarpet": [
           {
            "marker": {
             "colorbar": {
              "outlinewidth": 0,
              "ticks": ""
             }
            },
            "type": "scattercarpet"
           }
          ],
          "scattergeo": [
           {
            "marker": {
             "colorbar": {
              "outlinewidth": 0,
              "ticks": ""
             }
            },
            "type": "scattergeo"
           }
          ],
          "scattergl": [
           {
            "marker": {
             "colorbar": {
              "outlinewidth": 0,
              "ticks": ""
             }
            },
            "type": "scattergl"
           }
          ],
          "scattermapbox": [
           {
            "marker": {
             "colorbar": {
              "outlinewidth": 0,
              "ticks": ""
             }
            },
            "type": "scattermapbox"
           }
          ],
          "scatterpolar": [
           {
            "marker": {
             "colorbar": {
              "outlinewidth": 0,
              "ticks": ""
             }
            },
            "type": "scatterpolar"
           }
          ],
          "scatterpolargl": [
           {
            "marker": {
             "colorbar": {
              "outlinewidth": 0,
              "ticks": ""
             }
            },
            "type": "scatterpolargl"
           }
          ],
          "scatterternary": [
           {
            "marker": {
             "colorbar": {
              "outlinewidth": 0,
              "ticks": ""
             }
            },
            "type": "scatterternary"
           }
          ],
          "surface": [
           {
            "colorbar": {
             "outlinewidth": 0,
             "ticks": ""
            },
            "colorscale": [
             [
              0,
              "#0d0887"
             ],
             [
              0.1111111111111111,
              "#46039f"
             ],
             [
              0.2222222222222222,
              "#7201a8"
             ],
             [
              0.3333333333333333,
              "#9c179e"
             ],
             [
              0.4444444444444444,
              "#bd3786"
             ],
             [
              0.5555555555555556,
              "#d8576b"
             ],
             [
              0.6666666666666666,
              "#ed7953"
             ],
             [
              0.7777777777777778,
              "#fb9f3a"
             ],
             [
              0.8888888888888888,
              "#fdca26"
             ],
             [
              1,
              "#f0f921"
             ]
            ],
            "type": "surface"
           }
          ],
          "table": [
           {
            "cells": {
             "fill": {
              "color": "#EBF0F8"
             },
             "line": {
              "color": "white"
             }
            },
            "header": {
             "fill": {
              "color": "#C8D4E3"
             },
             "line": {
              "color": "white"
             }
            },
            "type": "table"
           }
          ]
         },
         "layout": {
          "annotationdefaults": {
           "arrowcolor": "#2a3f5f",
           "arrowhead": 0,
           "arrowwidth": 1
          },
          "autotypenumbers": "strict",
          "coloraxis": {
           "colorbar": {
            "outlinewidth": 0,
            "ticks": ""
           }
          },
          "colorscale": {
           "diverging": [
            [
             0,
             "#8e0152"
            ],
            [
             0.1,
             "#c51b7d"
            ],
            [
             0.2,
             "#de77ae"
            ],
            [
             0.3,
             "#f1b6da"
            ],
            [
             0.4,
             "#fde0ef"
            ],
            [
             0.5,
             "#f7f7f7"
            ],
            [
             0.6,
             "#e6f5d0"
            ],
            [
             0.7,
             "#b8e186"
            ],
            [
             0.8,
             "#7fbc41"
            ],
            [
             0.9,
             "#4d9221"
            ],
            [
             1,
             "#276419"
            ]
           ],
           "sequential": [
            [
             0,
             "#0d0887"
            ],
            [
             0.1111111111111111,
             "#46039f"
            ],
            [
             0.2222222222222222,
             "#7201a8"
            ],
            [
             0.3333333333333333,
             "#9c179e"
            ],
            [
             0.4444444444444444,
             "#bd3786"
            ],
            [
             0.5555555555555556,
             "#d8576b"
            ],
            [
             0.6666666666666666,
             "#ed7953"
            ],
            [
             0.7777777777777778,
             "#fb9f3a"
            ],
            [
             0.8888888888888888,
             "#fdca26"
            ],
            [
             1,
             "#f0f921"
            ]
           ],
           "sequentialminus": [
            [
             0,
             "#0d0887"
            ],
            [
             0.1111111111111111,
             "#46039f"
            ],
            [
             0.2222222222222222,
             "#7201a8"
            ],
            [
             0.3333333333333333,
             "#9c179e"
            ],
            [
             0.4444444444444444,
             "#bd3786"
            ],
            [
             0.5555555555555556,
             "#d8576b"
            ],
            [
             0.6666666666666666,
             "#ed7953"
            ],
            [
             0.7777777777777778,
             "#fb9f3a"
            ],
            [
             0.8888888888888888,
             "#fdca26"
            ],
            [
             1,
             "#f0f921"
            ]
           ]
          },
          "colorway": [
           "#636efa",
           "#EF553B",
           "#00cc96",
           "#ab63fa",
           "#FFA15A",
           "#19d3f3",
           "#FF6692",
           "#B6E880",
           "#FF97FF",
           "#FECB52"
          ],
          "font": {
           "color": "#2a3f5f"
          },
          "geo": {
           "bgcolor": "white",
           "lakecolor": "white",
           "landcolor": "#E5ECF6",
           "showlakes": true,
           "showland": true,
           "subunitcolor": "white"
          },
          "hoverlabel": {
           "align": "left"
          },
          "hovermode": "closest",
          "mapbox": {
           "style": "light"
          },
          "paper_bgcolor": "white",
          "plot_bgcolor": "#E5ECF6",
          "polar": {
           "angularaxis": {
            "gridcolor": "white",
            "linecolor": "white",
            "ticks": ""
           },
           "bgcolor": "#E5ECF6",
           "radialaxis": {
            "gridcolor": "white",
            "linecolor": "white",
            "ticks": ""
           }
          },
          "scene": {
           "xaxis": {
            "backgroundcolor": "#E5ECF6",
            "gridcolor": "white",
            "gridwidth": 2,
            "linecolor": "white",
            "showbackground": true,
            "ticks": "",
            "zerolinecolor": "white"
           },
           "yaxis": {
            "backgroundcolor": "#E5ECF6",
            "gridcolor": "white",
            "gridwidth": 2,
            "linecolor": "white",
            "showbackground": true,
            "ticks": "",
            "zerolinecolor": "white"
           },
           "zaxis": {
            "backgroundcolor": "#E5ECF6",
            "gridcolor": "white",
            "gridwidth": 2,
            "linecolor": "white",
            "showbackground": true,
            "ticks": "",
            "zerolinecolor": "white"
           }
          },
          "shapedefaults": {
           "line": {
            "color": "#2a3f5f"
           }
          },
          "ternary": {
           "aaxis": {
            "gridcolor": "white",
            "linecolor": "white",
            "ticks": ""
           },
           "baxis": {
            "gridcolor": "white",
            "linecolor": "white",
            "ticks": ""
           },
           "bgcolor": "#E5ECF6",
           "caxis": {
            "gridcolor": "white",
            "linecolor": "white",
            "ticks": ""
           }
          },
          "title": {
           "x": 0.05
          },
          "xaxis": {
           "automargin": true,
           "gridcolor": "white",
           "linecolor": "white",
           "ticks": "",
           "title": {
            "standoff": 15
           },
           "zerolinecolor": "white",
           "zerolinewidth": 2
          },
          "yaxis": {
           "automargin": true,
           "gridcolor": "white",
           "linecolor": "white",
           "ticks": "",
           "title": {
            "standoff": 15
           },
           "zerolinecolor": "white",
           "zerolinewidth": 2
          }
         }
        },
        "xaxis": {
         "anchor": "y",
         "domain": [
          0,
          0.49
         ],
         "range": [
          -1.264527976512909,
          1.5774688720703125
         ],
         "title": {
          "text": "x"
         }
        },
        "xaxis2": {
         "anchor": "y2",
         "domain": [
          0.51,
          1
         ],
         "matches": "x",
         "range": [
          -1.264527976512909,
          1.5774688720703125
         ],
         "title": {
          "text": "x"
         }
        },
        "yaxis": {
         "anchor": "x",
         "domain": [
          0,
          1
         ],
         "range": [
          -1.367883563041687,
          1.4005752205848694
         ],
         "title": {
          "text": "y"
         }
        },
        "yaxis2": {
         "anchor": "x2",
         "domain": [
          0,
          1
         ],
         "matches": "y",
         "showticklabels": false
        }
       }
      }
     },
     "metadata": {},
     "output_type": "display_data"
    }
   ],
   "source": [
    "import plotly.express as px\n",
    "\n",
    "min_embeddings = (PCA(n_components=2).fit_transform(np.array(df_comb['cleaned_text_embeddings'].to_list())))\n",
    "x = min_embeddings[:,0]\n",
    "y = min_embeddings[:,1]\n",
    "\n",
    "x_axis_range = [x.min()-1, x.max()+1]\n",
    "y_axis_range = [y.min()-1, y.max()+1]\n",
    "\n",
    "fig = px.scatter(df_comb,\n",
    "                 y=y, \n",
    "                 x=x,\n",
    "                 range_x=x_axis_range, \n",
    "                 range_y=y_axis_range,  hover_data=['cleaned_text_translated','lang'], color='topics', facet_col='top')\n",
    "fig.update_traces(marker_size=10)\n",
    "fig.update_layout(showlegend=False)\n",
    "\n",
    "fig.show()"
   ]
  }
 ],
 "metadata": {
  "kernelspec": {
   "display_name": "Python 3",
   "language": "python",
   "name": "python3"
  },
  "language_info": {
   "codemirror_mode": {
    "name": "ipython",
    "version": 3
   },
   "file_extension": ".py",
   "mimetype": "text/x-python",
   "name": "python",
   "nbconvert_exporter": "python",
   "pygments_lexer": "ipython3",
   "version": "3.11.7"
  }
 },
 "nbformat": 4,
 "nbformat_minor": 2
}
