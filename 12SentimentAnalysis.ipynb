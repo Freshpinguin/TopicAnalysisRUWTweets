{
 "cells": [
  {
   "cell_type": "markdown",
   "metadata": {},
   "source": [
    "# Sentiments"
   ]
  },
  {
   "cell_type": "markdown",
   "metadata": {},
   "source": [
    "Calculate the Sentiments using twitter-XLM-roBERTa-base Model. [Model Card on Hugging Face](https://arxiv.org/pdf/2104.12250.pdf).[Corresponding Paper](https://arxiv.org/pdf/2104.12250.pdf).\n"
   ]
  },
  {
   "cell_type": "code",
   "execution_count": 2,
   "metadata": {},
   "outputs": [
    {
     "name": "stderr",
     "output_type": "stream",
     "text": [
      "/opt/homebrew/lib/python3.11/site-packages/tqdm/auto.py:21: TqdmWarning: IProgress not found. Please update jupyter and ipywidgets. See https://ipywidgets.readthedocs.io/en/stable/user_install.html\n",
      "  from .autonotebook import tqdm as notebook_tqdm\n",
      "/Users/robinfeldmann/Library/Python/3.11/lib/python/site-packages/transformers/utils/generic.py:441: UserWarning: torch.utils._pytree._register_pytree_node is deprecated. Please use torch.utils._pytree.register_pytree_node instead.\n",
      "  _torch_pytree._register_pytree_node(\n",
      "/Users/robinfeldmann/Library/Python/3.11/lib/python/site-packages/transformers/utils/generic.py:309: UserWarning: torch.utils._pytree._register_pytree_node is deprecated. Please use torch.utils._pytree.register_pytree_node instead.\n",
      "  _torch_pytree._register_pytree_node(\n"
     ]
    },
    {
     "data": {
      "text/plain": [
       "[{'label': 'negative', 'score': 0.9096924662590027}]"
      ]
     },
     "execution_count": 2,
     "metadata": {},
     "output_type": "execute_result"
    }
   ],
   "source": [
    "from transformers import pipeline\n",
    "import pandas as pd\n",
    "from tqdm.auto import tqdm\n",
    "\n",
    "tqdm.pandas()\n",
    "\n",
    "\n",
    "model_path = \"cardiffnlp/twitter-xlm-roberta-base-sentiment\"\n",
    "sentiment_task = pipeline(\"sentiment-analysis\", model=model_path, tokenizer=model_path)\n",
    "\n",
    "sentiment_task(\"Putin ist ein Kriegsverbrecher\")"
   ]
  },
  {
   "cell_type": "markdown",
   "metadata": {},
   "source": [
    "## Ukrainian Sentiments"
   ]
  },
  {
   "cell_type": "code",
   "execution_count": 3,
   "metadata": {},
   "outputs": [],
   "source": [
    "df = pd.read_csv(\n",
    "    \"/Users/robinfeldmann/TopicAnalysisRUWTweets/Data/Language_min_dedupl/es.csv\"\n",
    ")"
   ]
  },
  {
   "cell_type": "code",
   "execution_count": 4,
   "metadata": {},
   "outputs": [],
   "source": [
    "def calc_sentiments(text: str) -> dict[str, str | float]:\n",
    "    sent = {\"label\": \"error\", \"score\": 0.0}\n",
    "    try:\n",
    "        sent = sentiment_task(text)[0]\n",
    "    except Exception as e:\n",
    "        print(e)\n",
    "    return sent"
   ]
  },
  {
   "cell_type": "code",
   "execution_count": 12,
   "metadata": {},
   "outputs": [
    {
     "data": {
      "text/html": [
       "<div>\n",
       "<style scoped>\n",
       "    .dataframe tbody tr th:only-of-type {\n",
       "        vertical-align: middle;\n",
       "    }\n",
       "\n",
       "    .dataframe tbody tr th {\n",
       "        vertical-align: top;\n",
       "    }\n",
       "\n",
       "    .dataframe thead th {\n",
       "        text-align: right;\n",
       "    }\n",
       "</style>\n",
       "<table border=\"1\" class=\"dataframe\">\n",
       "  <thead>\n",
       "    <tr style=\"text-align: right;\">\n",
       "      <th></th>\n",
       "      <th>Unnamed: 0</th>\n",
       "      <th>text</th>\n",
       "      <th>tweetcreatedts</th>\n",
       "      <th>tweetid</th>\n",
       "      <th>dupl</th>\n",
       "      <th>asd</th>\n",
       "    </tr>\n",
       "  </thead>\n",
       "  <tbody>\n",
       "    <tr>\n",
       "      <th>12116400</th>\n",
       "      <td>14905011</td>\n",
       "      <td>Xbox head Phil Spencer said he supports Raven ...</td>\n",
       "      <td>2022-05-26 23:59:03.000000</td>\n",
       "      <td>1.529975e+18</td>\n",
       "      <td>[]</td>\n",
       "      <td>13</td>\n",
       "    </tr>\n",
       "    <tr>\n",
       "      <th>12116401</th>\n",
       "      <td>14905012</td>\n",
       "      <td>@KyivIndependent That’s good news. The only wa...</td>\n",
       "      <td>2022-05-26 23:59:09.000000</td>\n",
       "      <td>1.529975e+18</td>\n",
       "      <td>[]</td>\n",
       "      <td>13</td>\n",
       "    </tr>\n",
       "    <tr>\n",
       "      <th>12116402</th>\n",
       "      <td>14905014</td>\n",
       "      <td>When former #Oilers George Laraque sends a sho...</td>\n",
       "      <td>2022-05-26 23:59:15.000000</td>\n",
       "      <td>1.529975e+18</td>\n",
       "      <td>[]</td>\n",
       "      <td>13</td>\n",
       "    </tr>\n",
       "    <tr>\n",
       "      <th>12116403</th>\n",
       "      <td>14905015</td>\n",
       "      <td>@miikegary Another reason why @Airbnb and also...</td>\n",
       "      <td>2022-05-26 23:59:18.000000</td>\n",
       "      <td>1.529975e+18</td>\n",
       "      <td>[]</td>\n",
       "      <td>13</td>\n",
       "    </tr>\n",
       "    <tr>\n",
       "      <th>12116404</th>\n",
       "      <td>14905016</td>\n",
       "      <td>#Kissinger go fuck yourself. All decent people...</td>\n",
       "      <td>2022-05-26 23:59:25.000000</td>\n",
       "      <td>1.529976e+18</td>\n",
       "      <td>[]</td>\n",
       "      <td>13</td>\n",
       "    </tr>\n",
       "    <tr>\n",
       "      <th>12116405</th>\n",
       "      <td>14905017</td>\n",
       "      <td>Cowards work hard to find pathetically pitiful...</td>\n",
       "      <td>2022-05-26 23:59:31.000000</td>\n",
       "      <td>1.529976e+18</td>\n",
       "      <td>[]</td>\n",
       "      <td>13</td>\n",
       "    </tr>\n",
       "    <tr>\n",
       "      <th>12116406</th>\n",
       "      <td>14905018</td>\n",
       "      <td>Despite #Russian heavy #Shelling, #Sievierodon...</td>\n",
       "      <td>2022-05-26 23:59:33.000000</td>\n",
       "      <td>1.529976e+18</td>\n",
       "      <td>[]</td>\n",
       "      <td>13</td>\n",
       "    </tr>\n",
       "    <tr>\n",
       "      <th>12116407</th>\n",
       "      <td>14905019</td>\n",
       "      <td>\"#Russia warns the West against supplying Kiev...</td>\n",
       "      <td>2022-05-26 23:59:36.000000</td>\n",
       "      <td>1.529976e+18</td>\n",
       "      <td>[]</td>\n",
       "      <td>13</td>\n",
       "    </tr>\n",
       "    <tr>\n",
       "      <th>12116408</th>\n",
       "      <td>14905020</td>\n",
       "      <td>Not just wars, even pirates\\n#Biden https://t....</td>\n",
       "      <td>2022-05-26 23:59:38.000000</td>\n",
       "      <td>1.529976e+18</td>\n",
       "      <td>[]</td>\n",
       "      <td>13</td>\n",
       "    </tr>\n",
       "    <tr>\n",
       "      <th>12116409</th>\n",
       "      <td>14905021</td>\n",
       "      <td>@Soniapango @MullicaMichelle @ACLU @GOP @SDNYn...</td>\n",
       "      <td>2022-05-26 23:59:49.000000</td>\n",
       "      <td>1.529976e+18</td>\n",
       "      <td>[]</td>\n",
       "      <td>13</td>\n",
       "    </tr>\n",
       "    <tr>\n",
       "      <th>12116410</th>\n",
       "      <td>14905022</td>\n",
       "      <td>We’re on the way to #Ukraine…now https://t.co/...</td>\n",
       "      <td>2022-05-26 23:59:53.000000</td>\n",
       "      <td>1.529976e+18</td>\n",
       "      <td>[]</td>\n",
       "      <td>13</td>\n",
       "    </tr>\n",
       "    <tr>\n",
       "      <th>12116411</th>\n",
       "      <td>14905023</td>\n",
       "      <td>@FoxNews Guess #Putin is right about the nazi....</td>\n",
       "      <td>2022-05-26 23:59:54.000000</td>\n",
       "      <td>1.529976e+18</td>\n",
       "      <td>[]</td>\n",
       "      <td>13</td>\n",
       "    </tr>\n",
       "  </tbody>\n",
       "</table>\n",
       "</div>"
      ],
      "text/plain": [
       "          Unnamed: 0                                               text  \\\n",
       "12116400    14905011  Xbox head Phil Spencer said he supports Raven ...   \n",
       "12116401    14905012  @KyivIndependent That’s good news. The only wa...   \n",
       "12116402    14905014  When former #Oilers George Laraque sends a sho...   \n",
       "12116403    14905015  @miikegary Another reason why @Airbnb and also...   \n",
       "12116404    14905016  #Kissinger go fuck yourself. All decent people...   \n",
       "12116405    14905017  Cowards work hard to find pathetically pitiful...   \n",
       "12116406    14905018  Despite #Russian heavy #Shelling, #Sievierodon...   \n",
       "12116407    14905019  \"#Russia warns the West against supplying Kiev...   \n",
       "12116408    14905020  Not just wars, even pirates\\n#Biden https://t....   \n",
       "12116409    14905021  @Soniapango @MullicaMichelle @ACLU @GOP @SDNYn...   \n",
       "12116410    14905022  We’re on the way to #Ukraine…now https://t.co/...   \n",
       "12116411    14905023  @FoxNews Guess #Putin is right about the nazi....   \n",
       "\n",
       "                      tweetcreatedts       tweetid dupl  asd  \n",
       "12116400  2022-05-26 23:59:03.000000  1.529975e+18   []   13  \n",
       "12116401  2022-05-26 23:59:09.000000  1.529975e+18   []   13  \n",
       "12116402  2022-05-26 23:59:15.000000  1.529975e+18   []   13  \n",
       "12116403  2022-05-26 23:59:18.000000  1.529975e+18   []   13  \n",
       "12116404  2022-05-26 23:59:25.000000  1.529976e+18   []   13  \n",
       "12116405  2022-05-26 23:59:31.000000  1.529976e+18   []   13  \n",
       "12116406  2022-05-26 23:59:33.000000  1.529976e+18   []   13  \n",
       "12116407  2022-05-26 23:59:36.000000  1.529976e+18   []   13  \n",
       "12116408  2022-05-26 23:59:38.000000  1.529976e+18   []   13  \n",
       "12116409  2022-05-26 23:59:49.000000  1.529976e+18   []   13  \n",
       "12116410  2022-05-26 23:59:53.000000  1.529976e+18   []   13  \n",
       "12116411  2022-05-26 23:59:54.000000  1.529976e+18   []   13  "
      ]
     },
     "execution_count": 12,
     "metadata": {},
     "output_type": "execute_result"
    }
   ],
   "source": [
    "df_cur"
   ]
  },
  {
   "cell_type": "code",
   "execution_count": 15,
   "metadata": {},
   "outputs": [
    {
     "name": "stderr",
     "output_type": "stream",
     "text": [
      "100%|██████████| 121164/121164 [1:34:08<00:00, 21.45it/s]\n",
      "  1%|          | 1/101 [1:34:09<156:55:55, 5649.55s/it]"
     ]
    }
   ],
   "source": [
    "n = 0\n",
    "for i in tqdm(range(0,df.shape[0], int(df.shape[0]/100))):\n",
    "    df_cur = df.iloc[i:i+int(df.shape[0]/100)].copy()\n",
    "    df_cur[\"sentiment\"] = df_cur[\"text\"].progress_apply(calc_sentiments)\n",
    "    df_cur.to_csv(f\"/Users/robinfeldmann/TopicAnalysisRUWTweets/Data/Sentiments/english/en_{n}.csv\")\n",
    "    n += 1\n"
   ]
  },
  {
   "cell_type": "code",
   "execution_count": 5,
   "metadata": {},
   "outputs": [
    {
     "name": "stderr",
     "output_type": "stream",
     "text": [
      "huggingface/tokenizers: The current process just got forked, after parallelism has already been used. Disabling parallelism to avoid deadlocks...\n",
      "To disable this warning, you can either:\n",
      "\t- Avoid using `tokenizers` before the fork if possible\n",
      "\t- Explicitly set the environment variable TOKENIZERS_PARALLELISM=(true | false)\n",
      "  0%|          | 0/1002517 [00:00<?, ?it/s]"
     ]
    },
    {
     "name": "stderr",
     "output_type": "stream",
     "text": [
      "  0%|          | 1163/1002517 [01:38<24:50:39, 11.20it/s]"
     ]
    }
   ],
   "source": [
    "df[\"sentiment\"] = df[\"text\"].progress_apply(calc_sentiments)"
   ]
  },
  {
   "cell_type": "code",
   "execution_count": 65,
   "metadata": {},
   "outputs": [],
   "source": [
    "df[\"sentiment_score\"] = df[\"sentiment\"].apply(lambda x: x[\"score\"])\n",
    "df[\"sentiment_label\"] = df[\"sentiment\"].apply(lambda x: x[\"label\"])"
   ]
  },
  {
   "cell_type": "code",
   "execution_count": 67,
   "metadata": {},
   "outputs": [],
   "source": [
    "df.to_csv(\"/Users/robinfeldmann/TopicAnalysisRUWTweets/Data/Sentiments/fr.csv\")"
   ]
  }
 ],
 "metadata": {
  "kernelspec": {
   "display_name": "Python 3",
   "language": "python",
   "name": "python3"
  },
  "language_info": {
   "codemirror_mode": {
    "name": "ipython",
    "version": 3
   },
   "file_extension": ".py",
   "mimetype": "text/x-python",
   "name": "python",
   "nbconvert_exporter": "python",
   "pygments_lexer": "ipython3",
   "version": "3.11.7"
  }
 },
 "nbformat": 4,
 "nbformat_minor": 2
}
