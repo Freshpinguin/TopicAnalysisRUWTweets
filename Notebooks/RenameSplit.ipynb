{
 "cells": [
  {
   "cell_type": "code",
   "execution_count": 2,
   "id": "d659add6-bb5e-4fff-a9e0-a441d66f5832",
   "metadata": {},
   "outputs": [],
   "source": [
    "import pandas as pd\n",
    "import os"
   ]
  },
  {
   "cell_type": "code",
   "execution_count": 27,
   "id": "1c3c15b6-203b-4420-aa2a-31f8876df6c7",
   "metadata": {},
   "outputs": [],
   "source": [
    "path_2023 = \"/Users/robinfeldmann/TopicAnalysisRUWTweets/Data/2023/\"\n",
    "path_2022 = \"/Users/robinfeldmann/TopicAnalysisRUWTweets/Data/2022\""
   ]
  },
  {
   "cell_type": "code",
   "execution_count": 11,
   "id": "5301ca21-97bc-46c6-9e83-067b9f31ecca",
   "metadata": {},
   "outputs": [],
   "source": []
  },
  {
   "cell_type": "code",
   "execution_count": 33,
   "id": "2ae153a7-34ec-4074-a664-f82a6947ae48",
   "metadata": {},
   "outputs": [],
   "source": [
    "def split_csv_by_date(data_path):\n",
    "    \"\"\"\n",
    "    Splits csv files in data_path that span multiple days into single files, one for each day. Then removes the old csvs.\n",
    "    \"\"\"\n",
    "    for path in [data_path+x for x in sorted(os.listdir(data_path)) if \"to\" in x]:\n",
    "        df = pd.read_csv(path)\n",
    "        df['date'] = df['tweetcreatedts'].apply(lambda x: x[:10])\n",
    "        dfs = {\"\".join(date.split('-')) + '_UkraineCombinedTweetsDeduped.csv' : df[df['date']==date] for date in df['date'].unique() }\n",
    "        for name,df_date  in dfs.items():\n",
    "            df_date.to_csv(data_path + name)\n",
    "    for path in [data_path+x for x in sorted(os.listdir(data_path)) if \"to\" in x]:\n",
    "        os.remove(path)        "
   ]
  },
  {
   "cell_type": "code",
   "execution_count": 31,
   "id": "6e366af9-8dd9-4d24-8b2a-0d37f0278662",
   "metadata": {},
   "outputs": [],
   "source": []
  },
  {
   "cell_type": "code",
   "execution_count": 18,
   "id": "67d50f16-06a2-44eb-8b5a-d8dcba85c032",
   "metadata": {},
   "outputs": [
    {
     "data": {
      "text/plain": [
       "(124425, 30)"
      ]
     },
     "execution_count": 18,
     "metadata": {},
     "output_type": "execute_result"
    }
   ],
   "source": [
    "df.shape"
   ]
  },
  {
   "cell_type": "code",
   "execution_count": 23,
   "id": "1d7ef932-ee6a-472a-8f16-e522ad99926d",
   "metadata": {},
   "outputs": [],
   "source": []
  },
  {
   "cell_type": "code",
   "execution_count": 28,
   "id": "b46346ed-28a5-4372-8004-5da685447934",
   "metadata": {},
   "outputs": [
    {
     "data": {
      "text/plain": [
       "['/Users/robinfeldmann/TopicAnalysisRUWTweets/Data/2023/20230429_to_20230430_UkraineCombinedTweetsDeduped.csv',\n",
       " '/Users/robinfeldmann/TopicAnalysisRUWTweets/Data/2023/20230501_to_20230502_UkraineCombinedTweetsDeduped.csv',\n",
       " '/Users/robinfeldmann/TopicAnalysisRUWTweets/Data/2023/20230505_to_20230508_UkraineCombinedTweetsDeduped.csv',\n",
       " '/Users/robinfeldmann/TopicAnalysisRUWTweets/Data/2023/20230511_to_20230512_UkraineCombinedTweetsDeduped.csv',\n",
       " '/Users/robinfeldmann/TopicAnalysisRUWTweets/Data/2023/20230515_to_20230516_UkraineCombinedTweetsDeduped.csv',\n",
       " '/Users/robinfeldmann/TopicAnalysisRUWTweets/Data/2023/20230518_to_20230520_UkraineCombinedTweetsDeduped.csv']"
      ]
     },
     "execution_count": 28,
     "metadata": {},
     "output_type": "execute_result"
    }
   ],
   "source": [
    "[path_2023+x for x in sorted(os.listdir(path_2023)) if \"to\" in x]"
   ]
  },
  {
   "cell_type": "code",
   "execution_count": 32,
   "id": "ef8929cc-4435-446e-a21d-176321a157e3",
   "metadata": {},
   "outputs": [
    {
     "data": {
      "text/plain": [
       "['20230101_UkraineCombinedTweetsDeduped.csv',\n",
       " '20230102_UkraineCombinedTweetsDeduped.csv',\n",
       " '20230103_UkraineCombinedTweetsDeduped.csv',\n",
       " '20230104_UkraineCombinedTweetsDeduped.csv',\n",
       " '20230105_UkraineCombinedTweetsDeduped.csv',\n",
       " '20230106_UkraineCombinedTweetsDeduped.csv',\n",
       " '20230107_UkraineCombinedTweetsDeduped.csv',\n",
       " '20230108_UkraineCombinedTweetsDeduped.csv',\n",
       " '20230109_UkraineCombinedTweetsDeduped.csv',\n",
       " '20230110_UkraineCombinedTweetsDeduped.csv',\n",
       " '20230111_UkraineCombinedTweetsDeduped.csv',\n",
       " '20230112_UkraineCombinedTweetsDeduped.csv',\n",
       " '20230113_UkraineCombinedTweetsDeduped.csv',\n",
       " '20230114_UkraineCombinedTweetsDeduped.csv',\n",
       " '20230115_UkraineCombinedTweetsDeduped.csv',\n",
       " '20230116_UkraineCombinedTweetsDeduped.csv',\n",
       " '20230117_UkraineCombinedTweetsDeduped.csv',\n",
       " '20230118_UkraineCombinedTweetsDeduped.csv',\n",
       " '20230119_UkraineCombinedTweetsDeduped.csv',\n",
       " '20230120_UkraineCombinedTweetsDeduped.csv',\n",
       " '20230121_UkraineCombinedTweetsDeduped.csv',\n",
       " '20230122_UkraineCombinedTweetsDeduped.csv',\n",
       " '20230123_UkraineCombinedTweetsDeduped.csv',\n",
       " '20230124_UkraineCombinedTweetsDeduped.csv',\n",
       " '20230125_UkraineCombinedTweetsDeduped.csv',\n",
       " '20230126_UkraineCombinedTweetsDeduped.csv',\n",
       " '20230127_UkraineCombinedTweetsDeduped.csv',\n",
       " '20230128_UkraineCombinedTweetsDeduped.csv',\n",
       " '20230129_UkraineCombinedTweetsDeduped.csv',\n",
       " '20230130_UkraineCombinedTweetsDeduped.csv',\n",
       " '20230131_UkraineCombinedTweetsDeduped.csv',\n",
       " '20230201_UkraineCombinedTweetsDeduped.csv',\n",
       " '20230202_UkraineCombinedTweetsDeduped.csv',\n",
       " '20230203_UkraineCombinedTweetsDeduped.csv',\n",
       " '20230204_UkraineCombinedTweetsDeduped.csv',\n",
       " '20230205_UkraineCombinedTweetsDeduped.csv',\n",
       " '20230206_UkraineCombinedTweetsDeduped.csv',\n",
       " '20230207_UkraineCombinedTweetsDeduped.csv',\n",
       " '20230208_UkraineCombinedTweetsDeduped.csv',\n",
       " '20230209_UkraineCombinedTweetsDeduped.csv',\n",
       " '20230210_UkraineCombinedTweetsDeduped.csv',\n",
       " '20230211_UkraineCombinedTweetsDeduped.csv',\n",
       " '20230212_UkraineCombinedTweetsDeduped.csv',\n",
       " '20230213_UkraineCombinedTweetsDeduped.csv',\n",
       " '20230214_UkraineCombinedTweetsDeduped.csv',\n",
       " '20230215_UkraineCombinedTweetsDeduped.csv',\n",
       " '20230216_UkraineCombinedTweetsDeduped.csv',\n",
       " '20230217_UkraineCombinedTweetsDeduped.csv',\n",
       " '20230218_UkraineCombinedTweetsDeduped.csv',\n",
       " '20230219_UkraineCombinedTweetsDeduped.csv',\n",
       " '20230220_UkraineCombinedTweetsDeduped.csv',\n",
       " '20230221_UkraineCombinedTweetsDeduped.csv',\n",
       " '20230222_UkraineCombinedTweetsDeduped.csv',\n",
       " '20230223_UkraineCombinedTweetsDeduped.csv',\n",
       " '20230224_UkraineCombinedTweetsDeduped.csv',\n",
       " '20230225_UkraineCombinedTweetsDeduped.csv',\n",
       " '20230226_UkraineCombinedTweetsDeduped.csv',\n",
       " '20230227_UkraineCombinedTweetsDeduped.csv',\n",
       " '20230228_UkraineCombinedTweetsDeduped.csv',\n",
       " '20230301_UkraineCombinedTweetsDeduped.csv',\n",
       " '20230302_UkraineCombinedTweetsDeduped.csv',\n",
       " '20230303_UkraineCombinedTweetsDeduped.csv',\n",
       " '20230304_UkraineCombinedTweetsDeduped.csv',\n",
       " '20230305_UkraineCombinedTweetsDeduped.csv',\n",
       " '20230306_UkraineCombinedTweetsDeduped.csv',\n",
       " '20230307_UkraineCombinedTweetsDeduped.csv',\n",
       " '20230308_UkraineCombinedTweetsDeduped.csv',\n",
       " '20230309_UkraineCombinedTweetsDeduped.csv',\n",
       " '20230310_UkraineCombinedTweetsDeduped.csv',\n",
       " '20230311_UkraineCombinedTweetsDeduped.csv',\n",
       " '20230312_UkraineCombinedTweetsDeduped.csv',\n",
       " '20230313_UkraineCombinedTweetsDeduped.csv',\n",
       " '20230314_UkraineCombinedTweetsDeduped.csv',\n",
       " '20230315_UkraineCombinedTweetsDeduped.csv',\n",
       " '20230316_UkraineCombinedTweetsDeduped.csv',\n",
       " '20230317_UkraineCombinedTweetsDeduped.csv',\n",
       " '20230318_UkraineCombinedTweetsDeduped.csv',\n",
       " '20230319_UkraineCombinedTweetsDeduped.csv',\n",
       " '20230320_UkraineCombinedTweetsDeduped.csv',\n",
       " '20230321_UkraineCombinedTweetsDeduped.csv',\n",
       " '20230322_UkraineCombinedTweetsDeduped.csv',\n",
       " '20230323_UkraineCombinedTweetsDeduped.csv',\n",
       " '20230324_UkraineCombinedTweetsDeduped.csv',\n",
       " '20230325_UkraineCombinedTweetsDeduped.csv',\n",
       " '20230326_UkraineCombinedTweetsDeduped.csv',\n",
       " '20230327_UkraineCombinedTweetsDeduped.csv',\n",
       " '20230328_UkraineCombinedTweetsDeduped.csv',\n",
       " '20230329_UkraineCombinedTweetsDeduped.csv',\n",
       " '20230330_UkraineCombinedTweetsDeduped.csv',\n",
       " '20230331_UkraineCombinedTweetsDeduped.csv',\n",
       " '20230401_UkraineCombinedTweetsDeduped.csv',\n",
       " '20230402_UkraineCombinedTweetsDeduped.csv',\n",
       " '20230403_UkraineCombinedTweetsDeduped.csv',\n",
       " '20230404_UkraineCombinedTweetsDeduped.csv',\n",
       " '20230405_UkraineCombinedTweetsDeduped.csv',\n",
       " '20230406_UkraineCombinedTweetsDeduped.csv',\n",
       " '20230407_UkraineCombinedTweetsDeduped.csv',\n",
       " '20230408_UkraineCombinedTweetsDeduped.csv',\n",
       " '20230409_UkraineCombinedTweetsDeduped.csv',\n",
       " '20230410_UkraineCombinedTweetsDeduped.csv',\n",
       " '20230411_UkraineCombinedTweetsDeduped.csv',\n",
       " '20230412_UkraineCombinedTweetsDeduped.csv',\n",
       " '20230413_UkraineCombinedTweetsDeduped.csv',\n",
       " '20230414_UkraineCombinedTweetsDeduped.csv',\n",
       " '20230415_UkraineCombinedTweetsDeduped.csv',\n",
       " '20230416_UkraineCombinedTweetsDeduped.csv',\n",
       " '20230417_UkraineCombinedTweetsDeduped.csv',\n",
       " '20230418_UkraineCombinedTweetsDeduped.csv',\n",
       " '20230419_UkraineCombinedTweetsDeduped.csv',\n",
       " '20230420_UkraineCombinedTweetsDeduped.csv',\n",
       " '20230421_UkraineCombinedTweetsDeduped.csv',\n",
       " '20230422_UkraineCombinedTweetsDeduped.csv',\n",
       " '20230423_UkraineCombinedTweetsDeduped.csv',\n",
       " '20230424_UkraineCombinedTweetsDeduped.csv',\n",
       " '20230425_UkraineCombinedTweetsDeduped.csv',\n",
       " '20230426_UkraineCombinedTweetsDeduped.csv',\n",
       " '20230427_UkraineCombinedTweetsDeduped.csv',\n",
       " '20230428_UkraineCombinedTweetsDeduped.csv',\n",
       " '20230429_UkraineCombinedTweetsDeduped.csv',\n",
       " '20230430_UkraineCombinedTweetsDeduped.csv',\n",
       " '20230501_UkraineCombinedTweetsDeduped.csv',\n",
       " '20230502_UkraineCombinedTweetsDeduped.csv',\n",
       " '20230503_UkraineCombinedTweetsDeduped.csv',\n",
       " '20230504_UkraineCombinedTweetsDeduped.csv',\n",
       " '20230505_UkraineCombinedTweetsDeduped.csv',\n",
       " '20230506_UkraineCombinedTweetsDeduped.csv',\n",
       " '20230507_UkraineCombinedTweetsDeduped.csv',\n",
       " '20230508_UkraineCombinedTweetsDeduped.csv',\n",
       " '20230509_UkraineCombinedTweetsDeduped.csv',\n",
       " '20230510_UkraineCombinedTweetsDeduped.csv',\n",
       " '20230511_UkraineCombinedTweetsDeduped.csv',\n",
       " '20230512_UkraineCombinedTweetsDeduped.csv',\n",
       " '20230513_UkraineCombinedTweetsDeduped.csv',\n",
       " '20230514_UkraineCombinedTweetsDeduped.csv',\n",
       " '20230515_UkraineCombinedTweetsDeduped.csv',\n",
       " '20230516_UkraineCombinedTweetsDeduped.csv',\n",
       " '20230517_UkraineCombinedTweetsDeduped.csv',\n",
       " '20230518_UkraineCombinedTweetsDeduped.csv',\n",
       " '20230519_UkraineCombinedTweetsDeduped.csv',\n",
       " '20230520_UkraineCombinedTweetsDeduped.csv',\n",
       " '20230521_UkraineCombinedTweetsDeduped.csv',\n",
       " '20230522_UkraineCombinedTweetsDeduped.csv',\n",
       " '20230523_UkraineCombinedTweetsDeduped.csv',\n",
       " '20230524_UkraineCombinedTweetsDeduped.csv',\n",
       " '20230525_UkraineCombinedTweetsDeduped.csv',\n",
       " '20230526_UkraineCombinedTweetsDeduped.csv',\n",
       " '20230527_UkraineCombinedTweetsDeduped.csv',\n",
       " '20230528_UkraineCombinedTweetsDeduped.csv',\n",
       " '20230529_UkraineCombinedTweetsDeduped.csv',\n",
       " '20230530_UkraineCombinedTweetsDeduped.csv',\n",
       " '20230531_UkraineCombinedTweetsDeduped.csv',\n",
       " '20230601_UkraineCombinedTweetsDeduped.csv',\n",
       " '20230602_UkraineCombinedTweetsDeduped.csv',\n",
       " '20230603_UkraineCombinedTweetsDeduped.csv',\n",
       " '20230604_UkraineCombinedTweetsDeduped.csv',\n",
       " '20230605_UkraineCombinedTweetsDeduped.csv',\n",
       " '20230606_UkraineCombinedTweetsDeduped.csv',\n",
       " '20230607_UkraineCombinedTweetsDeduped.csv',\n",
       " '20230608_UkraineCombinedTweetsDeduped.csv',\n",
       " '20230609_UkraineCombinedTweetsDeduped.csv',\n",
       " '20230610_UkraineCombinedTweetsDeduped.csv',\n",
       " '20230611_UkraineCombinedTweetsDeduped.csv',\n",
       " '20230612_UkraineCombinedTweetsDeduped.csv',\n",
       " '20230613_UkraineCombinedTweetsDeduped.csv',\n",
       " '20230614_UkraineCombinedTweetsDeduped.csv']"
      ]
     },
     "execution_count": 32,
     "metadata": {},
     "output_type": "execute_result"
    }
   ],
   "source": [
    "sorted(os.listdir(path_2023))"
   ]
  }
 ],
 "metadata": {
  "kernelspec": {
   "display_name": "Python 3 (ipykernel)",
   "language": "python",
   "name": "python3"
  },
  "language_info": {
   "codemirror_mode": {
    "name": "ipython",
    "version": 3
   },
   "file_extension": ".py",
   "mimetype": "text/x-python",
   "name": "python",
   "nbconvert_exporter": "python",
   "pygments_lexer": "ipython3",
   "version": "3.11.5"
  }
 },
 "nbformat": 4,
 "nbformat_minor": 5
}
