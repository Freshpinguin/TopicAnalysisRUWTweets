{
 "cells": [
  {
   "cell_type": "code",
   "execution_count": 1,
   "id": "d659add6-bb5e-4fff-a9e0-a441d66f5832",
   "metadata": {},
   "outputs": [],
   "source": [
    "import pandas as pd\n",
    "import os"
   ]
  },
  {
   "cell_type": "code",
   "execution_count": 2,
   "id": "c0e34044-056e-4ba4-8f47-2448228f27e4",
   "metadata": {},
   "outputs": [],
   "source": [
    "def move_files_into_one_dir(archive_path: str) -> None:\n",
    "    \"\"\"\n",
    "    Moves all the files that are in a nested directory up to be in on the same level. And deletes empty directories.\n",
    "    \"\"\"\n",
    "    if not os.path.isdir(path_to_archive+ \"/UkraineWar\") or not os.path.isdir(path_to_archive+ \"/UkraineWar/UkraineWar\"):\n",
    "        raise FileNotFoundError(\"Archive doesnt have expected structure\")\n",
    "    for file in os.listdir(archive_path + \"/UkraineWar/UkraineWar\"):\n",
    "        os.rename(archive_path + \"/UkraineWar/UkraineWar/\"+file, archive_path+\"/\" + file)\n",
    "    os.rmdir(path_to_archive+ \"/UkraineWar/UkraineWar\")\n",
    "    os.rmdir(path_to_archive+ \"/UkraineWar\")\n",
    "        "
   ]
  },
  {
   "cell_type": "code",
   "execution_count": 3,
   "id": "2ae153a7-34ec-4074-a664-f82a6947ae48",
   "metadata": {},
   "outputs": [],
   "source": [
    "def split_csv_by_date(data_path: str) -> None:\n",
    "    \"\"\"\n",
    "    Splits csv files in data_path that span multiple days into single files, one for each day. Then removes the old csvs.\n",
    "    \"\"\"\n",
    "    if not data_path[-1] == \"/\":\n",
    "        data_path = data_path + \"/\"\n",
    "    for path in [data_path+x for x in sorted(os.listdir(data_path)) if \"to\" in x and \".csv\" in x]:\n",
    "        df = pd.read_csv(path)\n",
    "        df['date'] = df['tweetcreatedts'].apply(lambda x: x[:10])\n",
    "        dfs = {\"\".join(date.split('-')) + '_UkraineCombinedTweetsDeduped.csv' : df[df['date']==date] for date in df['date'].unique() }\n",
    "        for name,df_date  in dfs.items():\n",
    "            df_date.to_csv(data_path + name)\n",
    "    for path in [data_path+x for x in sorted(os.listdir(data_path)) if \"to\" in x]:\n",
    "        os.remove(path)        "
   ]
  },
  {
   "cell_type": "code",
   "execution_count": 4,
   "id": "6e366af9-8dd9-4d24-8b2a-0d37f0278662",
   "metadata": {},
   "outputs": [],
   "source": [
    "def merge_splitted_files(data_path: str) -> None:\n",
    "    \"\"\"\n",
    "    Files for Feb28 are splitted into two parts. Merges them into one.\n",
    "    \"\"\"\n",
    "    if not data_path[-1] == \"/\":\n",
    "        data_path = data_path + \"/\"\n",
    "    if not \"UkraineCombinedTweetsDeduped_FEB28_part2.csv\" in os.listdir(data_path) or not \"UkraineCombinedTweetsDeduped_FEB28_part1.csv\" in os.listdir(data_path):#\n",
    "        raise FileNotFoundError(\"Files to merge not found\")\n",
    "    df_1 = pd.read_csv(data_path+\"UkraineCombinedTweetsDeduped_FEB28_part1.csv\")#\n",
    "    df_2 = pd.read_csv(data_path+\"UkraineCombinedTweetsDeduped_FEB28_part2.csv\")\n",
    "    df = pd.concat([df_1,df_1])\n",
    "    df.to_csv(\"UkraineCombinedTweetsDeduped_FEB28.csv\")\n",
    "    os.remove(data_path+\"UkraineCombinedTweetsDeduped_FEB28_part1.csv\")\n",
    "    os.remove(data_path+\"UkraineCombinedTweetsDeduped_FEB28_part2.csv\")\n"
   ]
  },
  {
   "cell_type": "code",
   "execution_count": 5,
   "id": "67d50f16-06a2-44eb-8b5a-d8dcba85c032",
   "metadata": {},
   "outputs": [],
   "source": [
    "def rename_files(data_path: str) -> None:\n",
    "    \"\"\"\n",
    "    Renames files to YYYYMMDD.csv.\n",
    "    \"\"\"\n",
    "    if not data_path[-1] == \"/\":\n",
    "        data_path = data_path + \"/\"\n",
    "    for file in os.listdir(data_path):\n",
    "        if not \"Ukraine\" in file:\n",
    "            continue\n",
    "        print(file)\n",
    "        df = pd.read_csv(data_path + file,lineterminator='\\n')\n",
    "        #df['date'] = df['tweetcreatedts'].apply(lambda x: x[:10])\n",
    "        name = df.iloc[0]['tweetcreatedts'][:10]\n",
    "        name = \"\".join(name.split('-'))\n",
    "        os.rename(data_path + file, data_path + name + \".csv\")"
   ]
  },
  {
   "cell_type": "code",
   "execution_count": 6,
   "id": "ea2d893e-9422-43c3-8d00-ef8fb794bb1e",
   "metadata": {},
   "outputs": [
    {
     "name": "stdout",
     "output_type": "stream",
     "text": [
      "20220627_UkraineCombinedTweetsDeduped.csv\n",
      "20221129_UkraineCombinedTweetsDeduped.csv\n",
      "20220728_UkraineCombinedTweetsDeduped.csv\n",
      "20221011_UkraineCombinedTweetsDeduped.csv\n",
      "20230415_UkraineCombinedTweetsDeduped.csv\n",
      "20220610_UkraineCombinedTweetsDeduped.csv\n",
      "20230312_UkraineCombinedTweetsDeduped.csv\n",
      "20221101_UkraineCombinedTweetsDeduped.csv\n",
      "20230325_UkraineCombinedTweetsDeduped.csv\n",
      "20230505_UkraineCombinedTweetsDeduped.csv\n",
      "20221019_UkraineCombinedTweetsDeduped.csv\n",
      "20220618_UkraineCombinedTweetsDeduped.csv\n",
      "20221116_UkraineCombinedTweetsDeduped.csv\n",
      "20230512_UkraineCombinedTweetsDeduped.csv\n"
     ]
    },
    {
     "name": "stderr",
     "output_type": "stream",
     "text": [
      "/var/folders/p4/mx8kx4hn5cg_f40s3984wrs80000gn/T/ipykernel_20820/700253233.py:11: DtypeWarning: Columns (16) have mixed types. Specify dtype option on import or set low_memory=False.\n",
      "  df = pd.read_csv(data_path + file,lineterminator='\\n')\n"
     ]
    },
    {
     "name": "stdout",
     "output_type": "stream",
     "text": [
      "20220717_UkraineCombinedTweetsDeduped.csv\n",
      "20230305_UkraineCombinedTweetsDeduped.csv\n",
      "20221121_UkraineCombinedTweetsDeduped.csv\n",
      "20230525_UkraineCombinedTweetsDeduped.csv\n",
      "20220720_UkraineCombinedTweetsDeduped.csv\n",
      "20221109_UkraineCombinedTweetsDeduped.csv\n",
      "20220708_UkraineCombinedTweetsDeduped.csv\n",
      "20230222_UkraineCombinedTweetsDeduped.csv\n",
      "20221006_UkraineCombinedTweetsDeduped.csv\n",
      "20230402_UkraineCombinedTweetsDeduped.csv\n",
      "20220607_UkraineCombinedTweetsDeduped.csv\n",
      "20230215_UkraineCombinedTweetsDeduped.csv\n",
      "20221031_UkraineCombinedTweetsDeduped.csv\n",
      "20220630_UkraineCombinedTweetsDeduped.csv\n",
      "20220501_UkraineCombinedTweetsDeduped.csv\n",
      "20220321_UkraineCombinedTweetsDeduped.csv\n",
      "20230124_UkraineCombinedTweetsDeduped.csv\n",
      "20220809_UkraineCombinedTweetsDeduped.csv\n",
      "20220316_UkraineCombinedTweetsDeduped.csv\n",
      "20230113_UkraineCombinedTweetsDeduped.csv\n",
      "20220906_UkraineCombinedTweetsDeduped.csv\n",
      "20220411_UkraineCombinedTweetsDeduped.csv\n",
      "20220821_UkraineCombinedTweetsDeduped.csv\n",
      "20221210_UkraineCombinedTweetsDeduped.csv\n",
      "20220529_UkraineCombinedTweetsDeduped.csv\n",
      "20220309_UkraineCombinedTweetsDeduped.csv\n"
     ]
    },
    {
     "name": "stderr",
     "output_type": "stream",
     "text": [
      "/var/folders/p4/mx8kx4hn5cg_f40s3984wrs80000gn/T/ipykernel_20820/700253233.py:11: DtypeWarning: Columns (15) have mixed types. Specify dtype option on import or set low_memory=False.\n",
      "  df = pd.read_csv(data_path + file,lineterminator='\\n')\n"
     ]
    },
    {
     "name": "stdout",
     "output_type": "stream",
     "text": [
      "20220919_UkraineCombinedTweetsDeduped.csv\n",
      "20220426_UkraineCombinedTweetsDeduped.csv\n",
      "20221227_UkraineCombinedTweetsDeduped.csv\n",
      "20220816_UkraineCombinedTweetsDeduped.csv\n",
      "20221214_UkraineCombinedTweetsDeduped.csv\n",
      "20220825_UkraineCombinedTweetsDeduped.csv\n",
      "20220415_UkraineCombinedTweetsDeduped.csv\n",
      "20220812_UkraineCombinedTweetsDeduped.csv\n",
      "20221223_UkraineCombinedTweetsDeduped.csv\n",
      "20220422_UkraineCombinedTweetsDeduped.csv\n"
     ]
    },
    {
     "name": "stderr",
     "output_type": "stream",
     "text": [
      "/var/folders/p4/mx8kx4hn5cg_f40s3984wrs80000gn/T/ipykernel_20820/700253233.py:11: DtypeWarning: Columns (22,25,26,29) have mixed types. Specify dtype option on import or set low_memory=False.\n",
      "  df = pd.read_csv(data_path + file,lineterminator='\\n')\n"
     ]
    },
    {
     "name": "stdout",
     "output_type": "stream",
     "text": [
      "20230108_UkraineCombinedTweetsDeduped.csv\n",
      "20220325_UkraineCombinedTweetsDeduped.csv\n",
      "20230120_UkraineCombinedTweetsDeduped.csv\n",
      "20220505_UkraineCombinedTweetsDeduped.csv\n",
      "20220902_UkraineCombinedTweetsDeduped.csv\n",
      "20220312_UkraineCombinedTweetsDeduped.csv\n"
     ]
    },
    {
     "name": "stderr",
     "output_type": "stream",
     "text": [
      "/var/folders/p4/mx8kx4hn5cg_f40s3984wrs80000gn/T/ipykernel_20820/700253233.py:11: DtypeWarning: Columns (15) have mixed types. Specify dtype option on import or set low_memory=False.\n",
      "  df = pd.read_csv(data_path + file,lineterminator='\\n')\n"
     ]
    },
    {
     "name": "stdout",
     "output_type": "stream",
     "text": [
      "20230117_UkraineCombinedTweetsDeduped.csv\n",
      "20230406_UkraineCombinedTweetsDeduped.csv\n",
      "20220603_UkraineCombinedTweetsDeduped.csv\n"
     ]
    },
    {
     "name": "stderr",
     "output_type": "stream",
     "text": [
      "/var/folders/p4/mx8kx4hn5cg_f40s3984wrs80000gn/T/ipykernel_20820/700253233.py:11: DtypeWarning: Columns (15) have mixed types. Specify dtype option on import or set low_memory=False.\n",
      "  df = pd.read_csv(data_path + file,lineterminator='\\n')\n"
     ]
    },
    {
     "name": "stdout",
     "output_type": "stream",
     "text": [
      "20221002_UkraineCombinedTweetsDeduped.csv\n",
      "20230226_UkraineCombinedTweetsDeduped.csv\n",
      "20230509_UkraineCombinedTweetsDeduped.csv\n"
     ]
    },
    {
     "name": "stderr",
     "output_type": "stream",
     "text": [
      "/var/folders/p4/mx8kx4hn5cg_f40s3984wrs80000gn/T/ipykernel_20820/700253233.py:11: DtypeWarning: Columns (15) have mixed types. Specify dtype option on import or set low_memory=False.\n",
      "  df = pd.read_csv(data_path + file,lineterminator='\\n')\n"
     ]
    },
    {
     "name": "stdout",
     "output_type": "stream",
     "text": [
      "20230329_UkraineCombinedTweetsDeduped.csv\n",
      "20230211_UkraineCombinedTweetsDeduped.csv\n",
      "20230516_UkraineCombinedTweetsDeduped.csv\n",
      "20220713_UkraineCombinedTweetsDeduped.csv\n"
     ]
    },
    {
     "name": "stderr",
     "output_type": "stream",
     "text": [
      "/var/folders/p4/mx8kx4hn5cg_f40s3984wrs80000gn/T/ipykernel_20820/700253233.py:11: DtypeWarning: Columns (15) have mixed types. Specify dtype option on import or set low_memory=False.\n",
      "  df = pd.read_csv(data_path + file,lineterminator='\\n')\n"
     ]
    },
    {
     "name": "stdout",
     "output_type": "stream",
     "text": [
      "20221112_UkraineCombinedTweetsDeduped.csv\n",
      "20230419_UkraineCombinedTweetsDeduped.csv\n",
      "20230521_UkraineCombinedTweetsDeduped.csv\n",
      "20220724_UkraineCombinedTweetsDeduped.csv\n",
      "20221125_UkraineCombinedTweetsDeduped.csv\n",
      "20230301_UkraineCombinedTweetsDeduped.csv\n"
     ]
    }
   ],
   "source": [
    "rename_files(\"../Data/archive\")"
   ]
  },
  {
   "cell_type": "code",
   "execution_count": null,
   "id": "b317c0cb-61b2-4dda-83da-8ccab12216cc",
   "metadata": {},
   "outputs": [],
   "source": []
  }
 ],
 "metadata": {
  "kernelspec": {
   "display_name": "Python 3 (ipykernel)",
   "language": "python",
   "name": "python3"
  },
  "language_info": {
   "codemirror_mode": {
    "name": "ipython",
    "version": 3
   },
   "file_extension": ".py",
   "mimetype": "text/x-python",
   "name": "python",
   "nbconvert_exporter": "python",
   "pygments_lexer": "ipython3",
   "version": "3.11.5"
  }
 },
 "nbformat": 4,
 "nbformat_minor": 5
}
