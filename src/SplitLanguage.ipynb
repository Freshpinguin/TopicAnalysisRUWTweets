{
 "cells": [
  {
   "cell_type": "code",
   "execution_count": 13,
   "id": "766499b9-d1c6-499b-9c26-ebe65d7fd170",
   "metadata": {},
   "outputs": [],
   "source": [
    "import pandas as pd\n",
    "import numpy as np\n",
    "import numpy.typing as npt\n",
    "import warnings\n",
    "from typing import Dict, Iterator, Any\n",
    "import matplotlib.pyplot as plt\n",
    "plt.rcParams['figure.figsize'] = [20, 10]\n",
    "import os\n",
    "from tqdm.auto import tqdm\n",
    "tqdm.pandas()\n",
    "from enum import StrEnum\n",
    "import math\n",
    "from data_schemas import OrigDataSchema, MetaDataSchema\n",
    "import matplotlib.patches as mpatches"
   ]
  },
  {
   "cell_type": "code",
   "execution_count": 2,
   "id": "5e38a495",
   "metadata": {},
   "outputs": [
    {
     "name": "stderr",
     "output_type": "stream",
     "text": [
      "/usr/local/lib/python3.11/site-packages/tqdm/auto.py:21: TqdmWarning: IProgress not found. Please update jupyter and ipywidgets. See https://ipywidgets.readthedocs.io/en/stable/user_install.html\n",
      "  from .autonotebook import tqdm as notebook_tqdm\n"
     ]
    }
   ],
   "source": [
    "import numpy as np\n",
    "import pandas as pd\n",
    "import sys\n",
    "sys.path.append('/Users/robinfeldmann/TopicAnalysisRUWTweets/src')\n",
    "from utility import iterate_dataframes\n",
    "from data_schemas import OrigDataSchema\n",
    "\n",
    "from tqdm.auto import tqdm\n",
    "tqdm.pandas()"
   ]
  },
  {
   "cell_type": "code",
   "execution_count": 3,
   "id": "d20790fc-9646-4225-8db3-ad5bc318a82c",
   "metadata": {},
   "outputs": [],
   "source": [
    "path_archive = \"/Users/robinfeldmann/TopicAnalysisRUWTweets/Data/archive/\"\n",
    "path_languages = \"/Users/robinfeldmann/TopicAnalysisRUWTweets/Data/Languages\"\n",
    "selected_languages = np.array(['en','de','fr','it','es','uk','ru'])"
   ]
  },
  {
   "cell_type": "code",
   "execution_count": 5,
   "metadata": {},
   "outputs": [],
   "source": [
    "def split_csvs_into_language(languages: list[str], data_path: str, target_path: str) -> None:\n",
    "    \"\"\"\n",
    "    Query over all csvs for every language, then saves result in target_path.\n",
    "    \"\"\"\n",
    "    for la in languages:\n",
    "        print(la)\n",
    "        df = query_over_all_csvs(la, data_path, f\"{OrigDataSchema.LANGUAGE} == '{la}'\")\n",
    "        \n",
    "        df.to_csv(target_path + f\"/{la}.csv\" )\n",
    "\n"
   ]
  },
  {
   "cell_type": "code",
   "execution_count": 8,
   "metadata": {},
   "outputs": [],
   "source": [
    "def splits_csvs_only_english(data_path: str, target_path) -> pd.DataFrame:\n",
    "    \"\"\"\n",
    "    Queries all csvs for english tweets. Leaves duplicates out to save ram.\n",
    "    \"\"\"\n",
    "    dfs = []\n",
    "    i = 0\n",
    "    for df in iterate_dataframes(data_path):\n",
    "        df = df.query(f\"{OrigDataSchema.LANGUAGE} == 'en'\")\n",
    "        df = df[~(df.duplicated(subset=OrigDataSchema.TEXT) if  OrigDataSchema.IS_RETWEET not in df.columns else df.duplicated(subset=OrigDataSchema.TEXT) | df[OrigDataSchema.IS_RETWEET])]\n",
    "        dfs.append(df)\n",
    "        if len(dfs) > 250:\n",
    "            pd.concat(dfs).to_csv(target_path + f\"/en_{i}.csv\")\n",
    "            del dfs\n",
    "            dfs = []\n",
    "            i = i+ 1\n",
    "    pd.concat(dfs).to_csv(target_path + f\"/en_{i}.csv\")\n",
    "    "
   ]
  },
  {
   "cell_type": "code",
   "execution_count": 9,
   "metadata": {},
   "outputs": [
    {
     "name": "stderr",
     "output_type": "stream",
     "text": [
      "100%|██████████| 476/476 [26:40<00:00,  3.36s/it]   \n"
     ]
    }
   ],
   "source": [
    "splits_csvs_only_english(path_archive,path_languages)"
   ]
  }
 ],
 "metadata": {
  "kernelspec": {
   "display_name": "Python 3 (ipykernel)",
   "language": "python",
   "name": "python3"
  },
  "language_info": {
   "codemirror_mode": {
    "name": "ipython",
    "version": 3
   },
   "file_extension": ".py",
   "mimetype": "text/x-python",
   "name": "python",
   "nbconvert_exporter": "python",
   "pygments_lexer": "ipython3",
   "version": "3.11.6"
  }
 },
 "nbformat": 4,
 "nbformat_minor": 5
}
