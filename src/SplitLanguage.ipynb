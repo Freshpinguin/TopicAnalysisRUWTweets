{
 "cells": [
  {
   "cell_type": "code",
   "execution_count": 2,
   "id": "766499b9-d1c6-499b-9c26-ebe65d7fd170",
   "metadata": {},
   "outputs": [],
   "source": [
    "import pandas as pd\n",
    "import numpy as np\n",
    "import numpy.typing as npt\n",
    "import warnings\n",
    "from typing import Dict, Iterator, Any\n",
    "import matplotlib.pyplot as plt\n",
    "plt.rcParams['figure.figsize'] = [20, 10]\n",
    "import os\n",
    "from tqdm.auto import tqdm\n",
    "tqdm.pandas()\n",
    "from enum import StrEnum\n",
    "import math\n",
    "from data_schemas import OrigDataSchema, MetaDataSchema\n",
    "import matplotlib.patches as mpatches"
   ]
  },
  {
   "cell_type": "code",
   "execution_count": 3,
   "id": "5d8c2ed8-c10f-4262-b0f0-483d90548792",
   "metadata": {},
   "outputs": [],
   "source": [
    "def iterate_dataframes(path: str) -> Iterator[pd.DataFrame]:\n",
    "    \"\"\"\n",
    "    Iterates over all .csv files in path as pd.DataFrame\n",
    "    \"\"\"\n",
    "    with warnings.catch_warnings():\n",
    "        warnings.filterwarnings(\"ignore\", category=pd.errors.DtypeWarning)\n",
    "        csvs = [path + x for x in os.listdir(path) if \"csv\" in x]\n",
    "    \n",
    "        for csv in tqdm(csvs):\n",
    "            yield pd.read_csv(csv,  lineterminator='\\n')"
   ]
  },
  {
   "cell_type": "code",
   "execution_count": 4,
   "id": "0cab9457-4195-401a-879b-68e1277951da",
   "metadata": {},
   "outputs": [
    {
     "name": "stdout",
     "output_type": "stream",
     "text": [
      "SplitLanguage.ipynb      \u001b[34m__pycache__\u001b[m\u001b[m/             first_exploration_02.py\n",
      "__init__.py              data_schemas.py          prepare_files_01.py\n"
     ]
    }
   ],
   "source": [
    "%ls"
   ]
  },
  {
   "cell_type": "code",
   "execution_count": 5,
   "id": "d20790fc-9646-4225-8db3-ad5bc318a82c",
   "metadata": {},
   "outputs": [],
   "source": [
    "path_archive = \"/Users/robinfeldmann/TopicAnalysisRUWTweets/Data/archive\"\n",
    "path_languages = \"/Users/robinfeldmann/TopicAnalysisRUWTweets/Data/Languages\""
   ]
  },
  {
   "cell_type": "code",
   "execution_count": null,
   "id": "0e4de773-50e6-4966-8db1-a124b137f49b",
   "metadata": {},
   "outputs": [],
   "source": []
  }
 ],
 "metadata": {
  "kernelspec": {
   "display_name": "Python 3 (ipykernel)",
   "language": "python",
   "name": "python3"
  },
  "language_info": {
   "codemirror_mode": {
    "name": "ipython",
    "version": 3
   },
   "file_extension": ".py",
   "mimetype": "text/x-python",
   "name": "python",
   "nbconvert_exporter": "python",
   "pygments_lexer": "ipython3",
   "version": "3.11.5"
  }
 },
 "nbformat": 4,
 "nbformat_minor": 5
}
