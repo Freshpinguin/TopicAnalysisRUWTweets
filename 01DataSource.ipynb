{
 "cells": [
  {
   "cell_type": "markdown",
   "metadata": {},
   "source": [
    "## 01 Data Source and Information about Provider"
   ]
  },
  {
   "cell_type": "markdown",
   "metadata": {},
   "source": [
    "This section answers following questions:\n",
    "\n",
    "    1. Where does the dataset come from?\n",
    "    2. Who collected the dataset?\n",
    "    3. How was the dataset collected?\n",
    "    4. Was the dataset prepared after downloading?\n",
    "    5. Informations about files"
   ]
  },
  {
   "cell_type": "markdown",
   "metadata": {},
   "source": [
    "### 1. Where does the dataset come from?\n",
    "The dataset was downloaded from the online platform [Kaggle](https://www.kaggle.com/). Kaggle is an online community for data science and machine learning (ML) enthusiasts. It is a top learning tool for novices and pros, with realistic practice problems to sharpen your data science skills.\n",
    "\n",
    "Owned by Google, it is currently the world’s largest crowdsourced web platform for data scientists and ML practitioners. Thus, Kaggle gives you access to several professionals in your field that you can brainstorm, compete, and solve real-life problems with. [[ \"A Beginner's Guide to Kaggle for Data Science\"](https://www.makeuseof.com/beginners-guide-to-kaggle/). MUO. 2023-04-17. Retrieved 2023-06-10.]\n",
    "\n",
    "The dataset can be downloaded for free and with no restrictions here: [Link to Website](https://www.kaggle.com/datasets/bwandowando/ukraine-russian-crisis-twitter-dataset-1-2-m-rows/data)."
   ]
  },
  {
   "cell_type": "markdown",
   "metadata": {},
   "source": [
    "### 2. Who collected the dataset?\n",
    "The dataset was published on Kaggle by User [BwandoWando](https://www.kaggle.com/bwandowando). \n",
    "There are not many additional information available on BwandoWando."
   ]
  },
  {
   "cell_type": "markdown",
   "metadata": {},
   "source": [
    "### 3. How was the dataset collected?\n",
    "Couldn't find any information about how the dataset was collected."
   ]
  },
  {
   "cell_type": "markdown",
   "metadata": {},
   "source": [
    "###  4. Was the dataset prepared after downloading?\n"
   ]
  },
  {
   "cell_type": "markdown",
   "metadata": {},
   "source": [
    "The dataset was downloaded on 15.10.23.\n",
    "After the dataset was downloaded, all the files were unzipped. Data structure of the downlaoded directory was like this:\n",
    "\n",
    "archive/{alot_of_files.csv} \\\n",
    "archive/UkraineWar/UkraineWar/{alot_of_files.csv}\n"
   ]
  },
  {
   "cell_type": "code",
   "execution_count": 1,
   "metadata": {},
   "outputs": [],
   "source": [
    "from src.prepare_files_01 import (\n",
    "    move_files_into_one_dir,\n",
    "    split_csv_by_date,\n",
    "    merge_splitted_files,\n",
    "    rename_files,\n",
    ")\n",
    "\n",
    "PATH_TO_ARCHIVE = \"/Users/robinfeldmann/TopicAnalysisRUWTweets/Data/archive\""
   ]
  },
  {
   "cell_type": "markdown",
   "metadata": {},
   "source": [
    "All files from the nested directory were moved into the same level.\n",
    "Files containing data of for multiples days were splitted.\n",
    "Files that were splitted over multiples files for a single day were merged.\n",
    "Files were renamemd to format YYYYMMDD.csv."
   ]
  },
  {
   "cell_type": "code",
   "execution_count": null,
   "metadata": {},
   "outputs": [],
   "source": [
    "# move_files_into_one_dir(PATH_TO_ARCHIVE)\n",
    "# split_csv_by_date(PATH_TO_ARCHIVE)\n",
    "# merge_splitted_files(PATH_TO_ARCHIVE)\n",
    "# rename_files(PATH_TO_ARCHIVE)"
   ]
  },
  {
   "cell_type": "markdown",
   "metadata": {},
   "source": [
    "### 5. Information about files"
   ]
  },
  {
   "cell_type": "code",
   "execution_count": 2,
   "metadata": {},
   "outputs": [
    {
     "name": "stdout",
     "output_type": "stream",
     "text": [
      "Number of files: 476\n",
      "First date: 20220224.csv, Last date: 20230614.csv\n",
      "Average file size: 94.81 in mb\n",
      "Files size added up:  44.07 in gb\n"
     ]
    }
   ],
   "source": [
    "from src.prepare_files_01 import print_folder_stats\n",
    "\n",
    "print_folder_stats(PATH_TO_ARCHIVE)"
   ]
  },
  {
   "cell_type": "code",
   "execution_count": 2,
   "metadata": {},
   "outputs": [
    {
     "ename": "FileNotFoundError",
     "evalue": "[Errno 2] No such file or directory: '/Users/robinfeldmann/TopicAnalysisRUWTweets/Data/archive'",
     "output_type": "error",
     "traceback": [
      "\u001b[0;31m---------------------------------------------------------------------------\u001b[0m",
      "\u001b[0;31mFileNotFoundError\u001b[0m                         Traceback (most recent call last)",
      "Cell \u001b[0;32mIn[2], line 5\u001b[0m\n\u001b[1;32m      2\u001b[0m \u001b[38;5;28;01mimport\u001b[39;00m \u001b[38;5;21;01mos\u001b[39;00m\n\u001b[1;32m      4\u001b[0m PATH_TO_ARCHIVE \u001b[38;5;241m=\u001b[39m \u001b[38;5;124m\"\u001b[39m\u001b[38;5;124m/Users/robinfeldmann/TopicAnalysisRUWTweets/Data/archive\u001b[39m\u001b[38;5;124m\"\u001b[39m\n\u001b[0;32m----> 5\u001b[0m \u001b[43mplot_file_sizes\u001b[49m\u001b[43m(\u001b[49m\n\u001b[1;32m      6\u001b[0m \u001b[43m    \u001b[49m\u001b[43mPATH_TO_ARCHIVE\u001b[49m\u001b[43m,\u001b[49m\n\u001b[1;32m      7\u001b[0m \u001b[43m    \u001b[49m\u001b[43msave_path\u001b[49m\u001b[38;5;241;43m=\u001b[39;49m\u001b[38;5;124;43m\"\u001b[39;49m\u001b[38;5;124;43m/Users/robinfeldmann/thesis/Dataset/Origin/Images/file_size_over_time\u001b[39;49m\u001b[38;5;124;43m\"\u001b[39;49m\u001b[43m,\u001b[49m\n\u001b[1;32m      8\u001b[0m \u001b[43m)\u001b[49m\n",
      "File \u001b[0;32m~/TopicAnalysisRUWTweets/src/prepare_files_01.py:110\u001b[0m, in \u001b[0;36mplot_file_sizes\u001b[0;34m(data_path, save_path)\u001b[0m\n\u001b[1;32m    104\u001b[0m \u001b[38;5;250m\u001b[39m\u001b[38;5;124;03m\"\"\"\u001b[39;00m\n\u001b[1;32m    105\u001b[0m \u001b[38;5;124;03mPlots the sizes of csv files in path.\u001b[39;00m\n\u001b[1;32m    106\u001b[0m \u001b[38;5;124;03m\"\"\"\u001b[39;00m\n\u001b[1;32m    107\u001b[0m plt\u001b[38;5;241m.\u001b[39mrcParams[\u001b[38;5;124m\"\u001b[39m\u001b[38;5;124mfigure.figsize\u001b[39m\u001b[38;5;124m\"\u001b[39m] \u001b[38;5;241m=\u001b[39m [\u001b[38;5;241m10\u001b[39m, \u001b[38;5;241m5\u001b[39m]\n\u001b[1;32m    108\u001b[0m file_sizes \u001b[38;5;241m=\u001b[39m [\n\u001b[1;32m    109\u001b[0m     os\u001b[38;5;241m.\u001b[39mstat(data_path \u001b[38;5;241m+\u001b[39m \u001b[38;5;124m\"\u001b[39m\u001b[38;5;124m/\u001b[39m\u001b[38;5;124m\"\u001b[39m \u001b[38;5;241m+\u001b[39m path)\u001b[38;5;241m.\u001b[39mst_size \u001b[38;5;241m/\u001b[39m (\u001b[38;5;241m1024\u001b[39m \u001b[38;5;241m*\u001b[39m \u001b[38;5;241m1024\u001b[39m)\n\u001b[0;32m--> 110\u001b[0m     \u001b[38;5;28;01mfor\u001b[39;00m path \u001b[38;5;129;01min\u001b[39;00m \u001b[43mos\u001b[49m\u001b[38;5;241;43m.\u001b[39;49m\u001b[43mlistdir\u001b[49m\u001b[43m(\u001b[49m\u001b[43mdata_path\u001b[49m\u001b[43m)\u001b[49m\n\u001b[1;32m    111\u001b[0m ]\n\u001b[1;32m    112\u001b[0m file_names \u001b[38;5;241m=\u001b[39m [x\u001b[38;5;241m.\u001b[39msplit(\u001b[38;5;124m\"\u001b[39m\u001b[38;5;124m.\u001b[39m\u001b[38;5;124m\"\u001b[39m)[\u001b[38;5;241m0\u001b[39m] \u001b[38;5;28;01mfor\u001b[39;00m x \u001b[38;5;129;01min\u001b[39;00m os\u001b[38;5;241m.\u001b[39mlistdir(data_path)]\n\u001b[1;32m    114\u001b[0m files \u001b[38;5;241m=\u001b[39m \u001b[38;5;28msorted\u001b[39m(\u001b[38;5;28mzip\u001b[39m(file_sizes, file_names), key\u001b[38;5;241m=\u001b[39m\u001b[38;5;28;01mlambda\u001b[39;00m x: x[\u001b[38;5;241m1\u001b[39m])\n",
      "\u001b[0;31mFileNotFoundError\u001b[0m: [Errno 2] No such file or directory: '/Users/robinfeldmann/TopicAnalysisRUWTweets/Data/archive'"
     ]
    }
   ],
   "source": [
    "from src.prepare_files_01 import plot_file_sizes\n",
    "import os\n",
    "\n",
    "PATH_TO_ARCHIVE = \"/Users/robinfeldmann/TopicAnalysisRUWTweets/Data/archive\"\n",
    "plot_file_sizes(\n",
    "    PATH_TO_ARCHIVE,\n",
    "    save_path=\"/Users/robinfeldmann/thesis/Dataset/Origin/Images/file_size_over_time\",\n",
    ")"
   ]
  }
 ],
 "metadata": {
  "kernelspec": {
   "display_name": "Python 3",
   "language": "python",
   "name": "python3"
  },
  "language_info": {
   "codemirror_mode": {
    "name": "ipython",
    "version": 3
   },
   "file_extension": ".py",
   "mimetype": "text/x-python",
   "name": "python",
   "nbconvert_exporter": "python",
   "pygments_lexer": "ipython3",
   "version": "3.11.7"
  }
 },
 "nbformat": 4,
 "nbformat_minor": 2
}
