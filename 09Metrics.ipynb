{
 "cells": [
  {
   "cell_type": "code",
   "execution_count": 30,
   "metadata": {},
   "outputs": [],
   "source": [
    "from gensim.models.coherencemodel import CoherenceModel\n",
    "import math\n",
    "from gensim.corpora.dictionary import Dictionary\n",
    "import os\n",
    "os.environ[\"TOKENIZERS_PARALLELISM\"] = \"false\"\n"
   ]
  },
  {
   "cell_type": "code",
   "execution_count": 68,
   "metadata": {},
   "outputs": [],
   "source": [
    "test_texts = [\n",
    "    [\"hallo\",\"ich\",\"bin\", \"robin\", \"ist\"],\n",
    "    [\"mein\",\"name\",\"ist\"],\n",
    "    [\"robin\", \"name\",\"mein\"]\n",
    "]\n",
    "\n",
    "dic = Dictionary(test_texts)"
   ]
  },
  {
   "cell_type": "code",
   "execution_count": 13,
   "metadata": {},
   "outputs": [
    {
     "data": {
      "text/plain": [
       "{0: 'bin', 1: 'hallo', 2: 'ich', 3: 'robin', 4: 'ist', 5: 'mein', 6: 'name'}"
      ]
     },
     "execution_count": 13,
     "metadata": {},
     "output_type": "execute_result"
    }
   ],
   "source": [
    "dict(dic)"
   ]
  },
  {
   "cell_type": "code",
   "execution_count": 122,
   "metadata": {},
   "outputs": [
    {
     "name": "stderr",
     "output_type": "stream",
     "text": [
      "/Users/robinfeldmann/Library/Python/3.11/lib/python/site-packages/numpy/core/fromnumeric.py:3504: RuntimeWarning: Mean of empty slice.\n",
      "  return _methods._mean(a, axis=axis, dtype=dtype,\n",
      "/Users/robinfeldmann/Library/Python/3.11/lib/python/site-packages/numpy/core/_methods.py:129: RuntimeWarning: invalid value encountered in scalar divide\n",
      "  ret = ret.dtype.type(ret / rcount)\n"
     ]
    },
    {
     "data": {
      "text/plain": [
       "[nan, -0.26185950714089923]"
      ]
     },
     "execution_count": 122,
     "metadata": {},
     "output_type": "execute_result"
    }
   ],
   "source": [
    "cm = CoherenceModel(topics=[[\"robin\",\"grütze\"],[\"name\",\"ist\"]], \n",
    "                    texts= test_texts,\n",
    "                    coherence='c_npmi',  \n",
    "                    dictionary=dic)\n",
    "\n",
    "coherence_per_topic = cm.get_coherence_per_topic()\n",
    "\n",
    "coherence_per_topic"
   ]
  },
  {
   "cell_type": "code",
   "execution_count": 119,
   "metadata": {},
   "outputs": [],
   "source": [
    "def w(word):\n",
    "    return len([x for x in test_texts if word in x])/len(test_texts)\n",
    "def ww(x,y):\n",
    "    return len([text for text in test_texts if x in text and y in text])/len(test_texts)\n",
    "\n",
    "def npmi(x,y):\n",
    "    klein = float(w(x)) *float(w(y))\n",
    "    zähler = math.log(  ww(x,y)/klein)\n",
    "    nenner = (-math.log(ww(x,y))) + 0.0001\n",
    "    return zähler/nenner\n",
    "\n",
    "def topic_npmi(topic):\n",
    "    val = 0\n",
    "    for i in range(len(topic)-1):\n",
    "        for k in range(i+1,len(topic) ):\n",
    "            val += npmi(topic[i],topic[k])\n",
    "    return val/len(topic)"
   ]
  },
  {
   "cell_type": "code",
   "execution_count": 120,
   "metadata": {},
   "outputs": [
    {
     "ename": "ValueError",
     "evalue": "math domain error",
     "output_type": "error",
     "traceback": [
      "\u001b[0;31m---------------------------------------------------------------------------\u001b[0m",
      "\u001b[0;31mValueError\u001b[0m                                Traceback (most recent call last)",
      "Cell \u001b[0;32mIn[120], line 1\u001b[0m\n\u001b[0;32m----> 1\u001b[0m \u001b[43mtopic_npmi\u001b[49m\u001b[43m(\u001b[49m\u001b[43m[\u001b[49m\u001b[38;5;124;43m\"\u001b[39;49m\u001b[38;5;124;43mbin\u001b[39;49m\u001b[38;5;124;43m\"\u001b[39;49m\u001b[43m,\u001b[49m\u001b[38;5;124;43m\"\u001b[39;49m\u001b[38;5;124;43mmein\u001b[39;49m\u001b[38;5;124;43m\"\u001b[39;49m\u001b[43m]\u001b[49m\u001b[43m)\u001b[49m\n",
      "Cell \u001b[0;32mIn[119], line 16\u001b[0m, in \u001b[0;36mtopic_npmi\u001b[0;34m(topic)\u001b[0m\n\u001b[1;32m     14\u001b[0m \u001b[38;5;28;01mfor\u001b[39;00m i \u001b[38;5;129;01min\u001b[39;00m \u001b[38;5;28mrange\u001b[39m(\u001b[38;5;28mlen\u001b[39m(topic)\u001b[38;5;241m-\u001b[39m\u001b[38;5;241m1\u001b[39m):\n\u001b[1;32m     15\u001b[0m     \u001b[38;5;28;01mfor\u001b[39;00m k \u001b[38;5;129;01min\u001b[39;00m \u001b[38;5;28mrange\u001b[39m(i\u001b[38;5;241m+\u001b[39m\u001b[38;5;241m1\u001b[39m,\u001b[38;5;28mlen\u001b[39m(topic) ):\n\u001b[0;32m---> 16\u001b[0m         val \u001b[38;5;241m+\u001b[39m\u001b[38;5;241m=\u001b[39m \u001b[43mnpmi\u001b[49m\u001b[43m(\u001b[49m\u001b[43mtopic\u001b[49m\u001b[43m[\u001b[49m\u001b[43mi\u001b[49m\u001b[43m]\u001b[49m\u001b[43m,\u001b[49m\u001b[43mtopic\u001b[49m\u001b[43m[\u001b[49m\u001b[43mk\u001b[49m\u001b[43m]\u001b[49m\u001b[43m)\u001b[49m\n\u001b[1;32m     17\u001b[0m \u001b[38;5;28;01mreturn\u001b[39;00m val\u001b[38;5;241m/\u001b[39m\u001b[38;5;28mlen\u001b[39m(topic)\n",
      "Cell \u001b[0;32mIn[119], line 8\u001b[0m, in \u001b[0;36mnpmi\u001b[0;34m(x, y)\u001b[0m\n\u001b[1;32m      6\u001b[0m \u001b[38;5;28;01mdef\u001b[39;00m \u001b[38;5;21mnpmi\u001b[39m(x,y):\n\u001b[1;32m      7\u001b[0m     klein \u001b[38;5;241m=\u001b[39m \u001b[38;5;28mfloat\u001b[39m(w(x)) \u001b[38;5;241m*\u001b[39m\u001b[38;5;28mfloat\u001b[39m(w(y))\n\u001b[0;32m----> 8\u001b[0m     zähler \u001b[38;5;241m=\u001b[39m \u001b[43mmath\u001b[49m\u001b[38;5;241;43m.\u001b[39;49m\u001b[43mlog\u001b[49m\u001b[43m(\u001b[49m\u001b[43m  \u001b[49m\u001b[43mww\u001b[49m\u001b[43m(\u001b[49m\u001b[43mx\u001b[49m\u001b[43m,\u001b[49m\u001b[43my\u001b[49m\u001b[43m)\u001b[49m\u001b[38;5;241;43m/\u001b[39;49m\u001b[43mklein\u001b[49m\u001b[43m)\u001b[49m\n\u001b[1;32m      9\u001b[0m     nenner \u001b[38;5;241m=\u001b[39m (\u001b[38;5;241m-\u001b[39mmath\u001b[38;5;241m.\u001b[39mlog(ww(x,y))) \u001b[38;5;241m+\u001b[39m \u001b[38;5;241m0.0001\u001b[39m\n\u001b[1;32m     10\u001b[0m     \u001b[38;5;28;01mreturn\u001b[39;00m zähler\u001b[38;5;241m/\u001b[39mnenner\n",
      "\u001b[0;31mValueError\u001b[0m: math domain error"
     ]
    }
   ],
   "source": [
    "topic_npmi([\"bin\",\"mein\"])"
   ]
  },
  {
   "cell_type": "code",
   "execution_count": 114,
   "metadata": {},
   "outputs": [
    {
     "data": {
      "text/plain": [
       "-0.13092975357145742"
      ]
     },
     "execution_count": 114,
     "metadata": {},
     "output_type": "execute_result"
    }
   ],
   "source": [
    "topic_npmi(['name','ist'])"
   ]
  },
  {
   "cell_type": "code",
   "execution_count": 107,
   "metadata": {},
   "outputs": [
    {
     "name": "stdout",
     "output_type": "stream",
     "text": [
      "robin mein\n"
     ]
    },
    {
     "data": {
      "text/plain": [
       "-0.26185950714291484"
      ]
     },
     "execution_count": 107,
     "metadata": {},
     "output_type": "execute_result"
    }
   ],
   "source": [
    "npmi(\"robin\",\"mein\")"
   ]
  },
  {
   "cell_type": "markdown",
   "metadata": {},
   "source": [
    "$$\\frac{ln(\\frac{p(x,y)}{p(x)p(y)})}{-ln(p(x,y))}$$"
   ]
  }
 ],
 "metadata": {
  "kernelspec": {
   "display_name": "Python 3",
   "language": "python",
   "name": "python3"
  },
  "language_info": {
   "codemirror_mode": {
    "name": "ipython",
    "version": 3
   },
   "file_extension": ".py",
   "mimetype": "text/x-python",
   "name": "python",
   "nbconvert_exporter": "python",
   "pygments_lexer": "ipython3",
   "version": "3.11.7"
  }
 },
 "nbformat": 4,
 "nbformat_minor": 2
}
