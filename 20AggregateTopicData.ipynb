{
 "cells": [
  {
   "cell_type": "code",
   "execution_count": 1,
   "metadata": {},
   "outputs": [],
   "source": [
    "import pandas as pd\n",
    "\n",
    "df = pd.read_csv(\"/Users/robinfeldmann/TopicAnalysisRUWTweets/Topics_10/topics_10.csv\")\n",
    "df = df[[\"tweetid\", \"lang\", \"topics_0\"]]"
   ]
  },
  {
   "cell_type": "code",
   "execution_count": 3,
   "metadata": {},
   "outputs": [],
   "source": [
    "df_sentiments = pd.read_csv(\n",
    "    \"/Users/robinfeldmann/TopicAnalysisRUWTweets/Data/Sentiments/all_sentiments.csv\"\n",
    ")\n",
    "df_sentiments = df_sentiments[[\"tweetid\", \"tweetcreatedts\", \"sentiment_label\", \"lang\"]]"
   ]
  },
  {
   "cell_type": "code",
   "execution_count": 10,
   "metadata": {},
   "outputs": [],
   "source": [
    "df_merged = df.merge(df_sentiments, left_on=\"tweetid\", right_on=\"tweetid\")"
   ]
  },
  {
   "cell_type": "code",
   "execution_count": null,
   "metadata": {},
   "outputs": [],
   "source": [
    "date = df.iloc[0][OrigDataSchema.TIMESTAMP][:10]\n",
    "\n",
    "df[\"weeks\"] = (\n",
    "    df[MetaDataSchema.DATE]\n",
    "    .apply(pd.to_datetime)\n",
    "    .apply(\n",
    "        lambda x: (\n",
    "            str(x.year) + \"-\" + str(x.week)\n",
    "            if len(str(x.week)) == 2\n",
    "            else str(x.year) + \"-0\" + str(x.week)\n",
    "        )\n",
    "    )\n",
    ")"
   ]
  },
  {
   "cell_type": "code",
   "execution_count": 15,
   "metadata": {},
   "outputs": [
    {
     "data": {
      "text/plain": [
       "10653999    2022-03-18\n",
       "1841571     2022-12-31\n",
       "9109416     2022-06-09\n",
       "8384016     2022-04-21\n",
       "16854246    2022-05-25\n",
       "11581420    2022-03-26\n",
       "5738011     2022-06-02\n",
       "13645566    2022-07-30\n",
       "13654974    2023-05-23\n",
       "1566858     2022-09-17\n",
       "Name: tweetcreatedts, dtype: object"
      ]
     },
     "execution_count": 15,
     "metadata": {},
     "output_type": "execute_result"
    }
   ],
   "source": [
    "a = df_merged.sample(10)\n",
    "a[\"tweetcreatedts\"].str.slice(0, 10)"
   ]
  },
  {
   "cell_type": "code",
   "execution_count": 17,
   "metadata": {},
   "outputs": [],
   "source": [
    "from tqdm.auto import tqdm\n",
    "\n",
    "tqdm.pandas()\n",
    "\n",
    "df_merged = df_merged.assign(date=df_merged[\"tweetcreatedts\"].str.slice(0, 10))"
   ]
  },
  {
   "cell_type": "code",
   "execution_count": 20,
   "metadata": {},
   "outputs": [],
   "source": [
    "df_merged = df_merged[df_merged[\"date\"].str.len() == 10]"
   ]
  },
  {
   "cell_type": "code",
   "execution_count": 26,
   "metadata": {},
   "outputs": [],
   "source": [
    "df_merged = df_merged[\n",
    "    (\n",
    "        df_merged[\"date\"].str.startswith(\"2022\")\n",
    "        | df_merged[\"date\"].str.startswith(\"2023\")\n",
    "    )\n",
    "]"
   ]
  },
  {
   "cell_type": "code",
   "execution_count": 27,
   "metadata": {},
   "outputs": [
    {
     "name": "stderr",
     "output_type": "stream",
     "text": [
      "100%|██████████| 18289082/18289082 [26:59<00:00, 11293.60it/s]\n"
     ]
    }
   ],
   "source": [
    "df_merged = df_merged.assign(\n",
    "    week=df_merged[\"date\"]\n",
    "    .progress_apply(pd.to_datetime)\n",
    "    .apply(\n",
    "        lambda x: (\n",
    "            str(x.year) + \"-\" + str(x.week)\n",
    "            if len(str(x.week)) == 2\n",
    "            else str(x.year) + \"-0\" + str(x.week)\n",
    "        )\n",
    "    )\n",
    ")"
   ]
  },
  {
   "cell_type": "code",
   "execution_count": 29,
   "metadata": {},
   "outputs": [],
   "source": [
    "df_merged.to_csv(\n",
    "    \"/Users/robinfeldmann/TopicAnalysisRUWTweets/Topics_10/week_sentiment_topic.csv\"\n",
    ")"
   ]
  },
  {
   "cell_type": "code",
   "execution_count": 1,
   "metadata": {},
   "outputs": [],
   "source": [
    "import pandas as pd\n",
    "\n",
    "df = pd.read_csv(\n",
    "    \"/Users/robinfeldmann/TopicAnalysisRUWTweets/Topics_10/week_sentiment_topic.csv\"\n",
    ")"
   ]
  },
  {
   "cell_type": "code",
   "execution_count": 3,
   "metadata": {},
   "outputs": [
    {
     "data": {
      "text/html": [
       "<div>\n",
       "<style scoped>\n",
       "    .dataframe tbody tr th:only-of-type {\n",
       "        vertical-align: middle;\n",
       "    }\n",
       "\n",
       "    .dataframe tbody tr th {\n",
       "        vertical-align: top;\n",
       "    }\n",
       "\n",
       "    .dataframe thead th {\n",
       "        text-align: right;\n",
       "    }\n",
       "</style>\n",
       "<table border=\"1\" class=\"dataframe\">\n",
       "  <thead>\n",
       "    <tr style=\"text-align: right;\">\n",
       "      <th></th>\n",
       "      <th>Unnamed: 0</th>\n",
       "      <th>tweetid</th>\n",
       "      <th>lang_x</th>\n",
       "      <th>topics_0</th>\n",
       "      <th>tweetcreatedts</th>\n",
       "      <th>sentiment_label</th>\n",
       "      <th>lang_y</th>\n",
       "      <th>date</th>\n",
       "      <th>week</th>\n",
       "    </tr>\n",
       "  </thead>\n",
       "  <tbody>\n",
       "    <tr>\n",
       "      <th>0</th>\n",
       "      <td>0</td>\n",
       "      <td>1.526352e+18</td>\n",
       "      <td>de</td>\n",
       "      <td>4</td>\n",
       "      <td>2022-05-17 00:00:34.000000</td>\n",
       "      <td>neutral</td>\n",
       "      <td>de</td>\n",
       "      <td>2022-05-17</td>\n",
       "      <td>2022-20</td>\n",
       "    </tr>\n",
       "    <tr>\n",
       "      <th>1</th>\n",
       "      <td>1</td>\n",
       "      <td>1.526352e+18</td>\n",
       "      <td>de</td>\n",
       "      <td>8</td>\n",
       "      <td>2022-05-17 00:01:11.000000</td>\n",
       "      <td>negative</td>\n",
       "      <td>de</td>\n",
       "      <td>2022-05-17</td>\n",
       "      <td>2022-20</td>\n",
       "    </tr>\n",
       "    <tr>\n",
       "      <th>2</th>\n",
       "      <td>2</td>\n",
       "      <td>1.526352e+18</td>\n",
       "      <td>de</td>\n",
       "      <td>6</td>\n",
       "      <td>2022-05-17 00:02:13.000000</td>\n",
       "      <td>neutral</td>\n",
       "      <td>de</td>\n",
       "      <td>2022-05-17</td>\n",
       "      <td>2022-20</td>\n",
       "    </tr>\n",
       "    <tr>\n",
       "      <th>3</th>\n",
       "      <td>3</td>\n",
       "      <td>1.526352e+18</td>\n",
       "      <td>de</td>\n",
       "      <td>3</td>\n",
       "      <td>2022-05-17 00:02:18.000000</td>\n",
       "      <td>negative</td>\n",
       "      <td>de</td>\n",
       "      <td>2022-05-17</td>\n",
       "      <td>2022-20</td>\n",
       "    </tr>\n",
       "    <tr>\n",
       "      <th>4</th>\n",
       "      <td>4</td>\n",
       "      <td>1.526353e+18</td>\n",
       "      <td>de</td>\n",
       "      <td>9</td>\n",
       "      <td>2022-05-17 00:03:32.000000</td>\n",
       "      <td>neutral</td>\n",
       "      <td>de</td>\n",
       "      <td>2022-05-17</td>\n",
       "      <td>2022-20</td>\n",
       "    </tr>\n",
       "  </tbody>\n",
       "</table>\n",
       "</div>"
      ],
      "text/plain": [
       "   Unnamed: 0       tweetid lang_x  topics_0              tweetcreatedts  \\\n",
       "0           0  1.526352e+18     de         4  2022-05-17 00:00:34.000000   \n",
       "1           1  1.526352e+18     de         8  2022-05-17 00:01:11.000000   \n",
       "2           2  1.526352e+18     de         6  2022-05-17 00:02:13.000000   \n",
       "3           3  1.526352e+18     de         3  2022-05-17 00:02:18.000000   \n",
       "4           4  1.526353e+18     de         9  2022-05-17 00:03:32.000000   \n",
       "\n",
       "  sentiment_label lang_y        date     week  \n",
       "0         neutral     de  2022-05-17  2022-20  \n",
       "1        negative     de  2022-05-17  2022-20  \n",
       "2         neutral     de  2022-05-17  2022-20  \n",
       "3        negative     de  2022-05-17  2022-20  \n",
       "4         neutral     de  2022-05-17  2022-20  "
      ]
     },
     "execution_count": 3,
     "metadata": {},
     "output_type": "execute_result"
    }
   ],
   "source": [
    "df.head()"
   ]
  },
  {
   "cell_type": "markdown",
   "metadata": {},
   "source": [
    "Aggregate Counts for TopicxLanguagexWeek and TopicxSentimentxWeek"
   ]
  },
  {
   "cell_type": "code",
   "execution_count": 17,
   "metadata": {},
   "outputs": [],
   "source": [
    "df_lang = (\n",
    "    df.groupby([\"week\", \"topics_0\", \"lang_x\"])\n",
    "    .count()\n",
    "    .reset_index()[[\"week\", \"topics_0\", \"lang_x\", \"tweetid\"]]\n",
    "    .rename(columns={\"topics_0\": \"topic\", \"lang_x\": \"lang\", \"tweetid\": \"lang_count\"})\n",
    ")"
   ]
  },
  {
   "cell_type": "code",
   "execution_count": 21,
   "metadata": {},
   "outputs": [],
   "source": [
    "df_lang.to_csv(\n",
    "    \"/Users/robinfeldmann/TopicAnalysisRUWTweets/Topics_10/Topics_0/lang_agg.csv\"\n",
    ")"
   ]
  },
  {
   "cell_type": "code",
   "execution_count": 19,
   "metadata": {},
   "outputs": [],
   "source": [
    "df_sentiment = (\n",
    "    df.groupby([\"week\", \"topics_0\", \"sentiment_label\"])\n",
    "    .count()\n",
    "    .reset_index()[[\"week\", \"topics_0\", \"tweetid\", \"sentiment_label\"]]\n",
    "    .rename(columns={\"tweetid\": \"sentiment_count\", \"topics_0\": \"topic\"})\n",
    ")"
   ]
  },
  {
   "cell_type": "code",
   "execution_count": 20,
   "metadata": {},
   "outputs": [],
   "source": [
    "df_sentiment.to_csv(\n",
    "    \"/Users/robinfeldmann/TopicAnalysisRUWTweets/Topics_10/Topics_0/sentiments_agg.csv\"\n",
    ")"
   ]
  },
  {
   "cell_type": "code",
   "execution_count": 23,
   "metadata": {},
   "outputs": [
    {
     "data": {
      "text/html": [
       "<div>\n",
       "<style scoped>\n",
       "    .dataframe tbody tr th:only-of-type {\n",
       "        vertical-align: middle;\n",
       "    }\n",
       "\n",
       "    .dataframe tbody tr th {\n",
       "        vertical-align: top;\n",
       "    }\n",
       "\n",
       "    .dataframe thead th {\n",
       "        text-align: right;\n",
       "    }\n",
       "</style>\n",
       "<table border=\"1\" class=\"dataframe\">\n",
       "  <thead>\n",
       "    <tr style=\"text-align: right;\">\n",
       "      <th></th>\n",
       "      <th>Unnamed: 0</th>\n",
       "      <th>tweetid</th>\n",
       "      <th>lang_x</th>\n",
       "      <th>topics_0</th>\n",
       "      <th>tweetcreatedts</th>\n",
       "      <th>sentiment_label</th>\n",
       "      <th>lang_y</th>\n",
       "      <th>date</th>\n",
       "      <th>week</th>\n",
       "    </tr>\n",
       "  </thead>\n",
       "  <tbody>\n",
       "    <tr>\n",
       "      <th>0</th>\n",
       "      <td>0</td>\n",
       "      <td>1.526352e+18</td>\n",
       "      <td>de</td>\n",
       "      <td>4</td>\n",
       "      <td>2022-05-17 00:00:34.000000</td>\n",
       "      <td>neutral</td>\n",
       "      <td>de</td>\n",
       "      <td>2022-05-17</td>\n",
       "      <td>2022-20</td>\n",
       "    </tr>\n",
       "    <tr>\n",
       "      <th>1</th>\n",
       "      <td>1</td>\n",
       "      <td>1.526352e+18</td>\n",
       "      <td>de</td>\n",
       "      <td>8</td>\n",
       "      <td>2022-05-17 00:01:11.000000</td>\n",
       "      <td>negative</td>\n",
       "      <td>de</td>\n",
       "      <td>2022-05-17</td>\n",
       "      <td>2022-20</td>\n",
       "    </tr>\n",
       "    <tr>\n",
       "      <th>2</th>\n",
       "      <td>2</td>\n",
       "      <td>1.526352e+18</td>\n",
       "      <td>de</td>\n",
       "      <td>6</td>\n",
       "      <td>2022-05-17 00:02:13.000000</td>\n",
       "      <td>neutral</td>\n",
       "      <td>de</td>\n",
       "      <td>2022-05-17</td>\n",
       "      <td>2022-20</td>\n",
       "    </tr>\n",
       "    <tr>\n",
       "      <th>3</th>\n",
       "      <td>3</td>\n",
       "      <td>1.526352e+18</td>\n",
       "      <td>de</td>\n",
       "      <td>3</td>\n",
       "      <td>2022-05-17 00:02:18.000000</td>\n",
       "      <td>negative</td>\n",
       "      <td>de</td>\n",
       "      <td>2022-05-17</td>\n",
       "      <td>2022-20</td>\n",
       "    </tr>\n",
       "    <tr>\n",
       "      <th>4</th>\n",
       "      <td>4</td>\n",
       "      <td>1.526353e+18</td>\n",
       "      <td>de</td>\n",
       "      <td>9</td>\n",
       "      <td>2022-05-17 00:03:32.000000</td>\n",
       "      <td>neutral</td>\n",
       "      <td>de</td>\n",
       "      <td>2022-05-17</td>\n",
       "      <td>2022-20</td>\n",
       "    </tr>\n",
       "  </tbody>\n",
       "</table>\n",
       "</div>"
      ],
      "text/plain": [
       "   Unnamed: 0       tweetid lang_x  topics_0              tweetcreatedts  \\\n",
       "0           0  1.526352e+18     de         4  2022-05-17 00:00:34.000000   \n",
       "1           1  1.526352e+18     de         8  2022-05-17 00:01:11.000000   \n",
       "2           2  1.526352e+18     de         6  2022-05-17 00:02:13.000000   \n",
       "3           3  1.526352e+18     de         3  2022-05-17 00:02:18.000000   \n",
       "4           4  1.526353e+18     de         9  2022-05-17 00:03:32.000000   \n",
       "\n",
       "  sentiment_label lang_y        date     week  \n",
       "0         neutral     de  2022-05-17  2022-20  \n",
       "1        negative     de  2022-05-17  2022-20  \n",
       "2         neutral     de  2022-05-17  2022-20  \n",
       "3        negative     de  2022-05-17  2022-20  \n",
       "4         neutral     de  2022-05-17  2022-20  "
      ]
     },
     "execution_count": 23,
     "metadata": {},
     "output_type": "execute_result"
    }
   ],
   "source": [
    "df.head()"
   ]
  },
  {
   "cell_type": "code",
   "execution_count": 26,
   "metadata": {},
   "outputs": [],
   "source": [
    "df.groupby([\"week\", \"topics_0\"]).count().reset_index()[\n",
    "    [\"week\", \"topics_0\", \"tweetid\"]\n",
    "].rename(columns={\"topics_0\": \"topic\", \"tweetid\": \"count\"}).to_csv(\n",
    "    \"/Users/robinfeldmann/TopicAnalysisRUWTweets/Topics_10/Topics_0/count_agg.csv\"\n",
    ")"
   ]
  }
 ],
 "metadata": {
  "kernelspec": {
   "display_name": "Python 3",
   "language": "python",
   "name": "python3"
  },
  "language_info": {
   "codemirror_mode": {
    "name": "ipython",
    "version": 3
   },
   "file_extension": ".py",
   "mimetype": "text/x-python",
   "name": "python",
   "nbconvert_exporter": "python",
   "pygments_lexer": "ipython3",
   "version": "3.11.7"
  }
 },
 "nbformat": 4,
 "nbformat_minor": 2
}
