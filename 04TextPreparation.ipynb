{
 "cells": [
  {
   "cell_type": "markdown",
   "metadata": {},
   "source": [
    "# 07 Text Preparation"
   ]
  },
  {
   "cell_type": "markdown",
   "metadata": {},
   "source": [
    "For Text Preparation iam sticking to ethods that are defined in Prof. Albrechts Book: [Blueprints for Text Analytics Using Python](https://learning.oreilly.com/library/view/blueprints-for-text/9781492074076/ch04.html#idm46749280280440).\n",
    "I will be using some of his python code original or slightly modified from here [Github Repo](https://github.com/blueprints-for-text-analytics-python/blueprints-text/blob/master/ch04/Data_Preparation.ipynb)."
   ]
  },
  {
   "cell_type": "code",
   "execution_count": null,
   "metadata": {},
   "outputs": [],
   "source": [
    "import pandas as pd\n",
    "\n",
    "\n",
    "\n",
    "df = pd.read_csv(\"/Users/robinfeldmann/TopicAnalysisRUWTweets/Data/Language_min/de.csv\")"
   ]
  },
  {
   "cell_type": "code",
   "execution_count": null,
   "metadata": {},
   "outputs": [],
   "source": [
    "# pandas display options\n",
    "# https://pandas.pydata.org/pandas-docs/stable/user_guide/options.html#available-options\n",
    "pd.options.display.max_columns = 30 # default 20\n",
    "pd.options.display.max_rows = 60 # default 60\n",
    "pd.options.display.float_format = '{:.2f}'.format\n",
    "\n",
    "# pd.options.display.precision = 2\n",
    "pd.options.display.max_colwidth = 200 # default 50; -1 = all\n",
    "# otherwise text between $ signs will be interpreted as formula and printed in italic\n",
    "pd.set_option('display.html.use_mathjax', False)\n"
   ]
  },
  {
   "cell_type": "code",
   "execution_count": null,
   "metadata": {},
   "outputs": [
    {
     "data": {
      "application/vnd.jupyter.widget-view+json": {
       "model_id": "3908a6259c58432799de1014275122d3",
       "version_major": 2,
       "version_minor": 0
      },
      "text/plain": [
       "  0%|          | 0/100 [00:00<?, ?it/s]"
      ]
     },
     "metadata": {},
     "output_type": "display_data"
    }
   ],
   "source": [
    "from src.text_preparation_07 import clean\n",
    "df_cur = df.sample(100)\n",
    "df_cur['cleaned_text']= df_cur['text'].progress_apply(clean)\n",
    "\n"
   ]
  },
  {
   "cell_type": "code",
   "execution_count": null,
   "metadata": {},
   "outputs": [
    {
     "data": {
      "text/html": [
       "<div>\n",
       "<style scoped>\n",
       "    .dataframe tbody tr th:only-of-type {\n",
       "        vertical-align: middle;\n",
       "    }\n",
       "\n",
       "    .dataframe tbody tr th {\n",
       "        vertical-align: top;\n",
       "    }\n",
       "\n",
       "    .dataframe thead th {\n",
       "        text-align: right;\n",
       "    }\n",
       "</style>\n",
       "<table border=\"1\" class=\"dataframe tex2jax_ignore\">\n",
       "  <thead>\n",
       "    <tr style=\"text-align: right;\">\n",
       "      <th></th>\n",
       "      <th>text</th>\n",
       "      <th>cleaned_text</th>\n",
       "    </tr>\n",
       "  </thead>\n",
       "  <tbody>\n",
       "    <tr>\n",
       "      <th>288767</th>\n",
       "      <td>@Kallex121 Aber wir können ja Solarzellen aus China importieren. Die werden mit Energie aus Russland hergestellt. Russland und China sind ja dicke Freunde. China macht unsere ganzen #Sanktionen ge...</td>\n",
       "      <td>aber wir können ja solarzellen aus china importieren. die werden mit energie aus russland hergestellt. russland und china sind ja dicke freunde. china macht unsere ganzen  sanktionen gegen  russla...</td>\n",
       "    </tr>\n",
       "    <tr>\n",
       "      <th>338726</th>\n",
       "      <td>@Debaser83994181 Andersdenkende sind in #Russland längst im Gulag, geflohen oder tot. Da kommt es zu keiner Keilerei mehr in der Duma.</td>\n",
       "      <td>andersdenkende sind in  russland längst im gulag, geflohen oder tot. da kommt es zu keiner keilerei mehr in der duma.</td>\n",
       "    </tr>\n",
       "    <tr>\n",
       "      <th>259109</th>\n",
       "      <td>Fast die gesamte deutsche Politikmischpoke hat versucht, #Deutschland an #Putin und #Russland zu verkaufen https://t.co/3x6WVP2UCH</td>\n",
       "      <td>fast die gesamte deutsche politikmischpoke hat versucht,  deutschland an  putin und  russland zu verkaufen</td>\n",
       "    </tr>\n",
       "  </tbody>\n",
       "</table>\n",
       "</div>"
      ],
      "text/plain": [
       "                                                                                                                                                                                                           text  \\\n",
       "288767  @Kallex121 Aber wir können ja Solarzellen aus China importieren. Die werden mit Energie aus Russland hergestellt. Russland und China sind ja dicke Freunde. China macht unsere ganzen #Sanktionen ge...   \n",
       "338726                                                                   @Debaser83994181 Andersdenkende sind in #Russland längst im Gulag, geflohen oder tot. Da kommt es zu keiner Keilerei mehr in der Duma.   \n",
       "259109                                                                       Fast die gesamte deutsche Politikmischpoke hat versucht, #Deutschland an #Putin und #Russland zu verkaufen https://t.co/3x6WVP2UCH   \n",
       "\n",
       "                                                                                                                                                                                                   cleaned_text  \n",
       "288767  aber wir können ja solarzellen aus china importieren. die werden mit energie aus russland hergestellt. russland und china sind ja dicke freunde. china macht unsere ganzen  sanktionen gegen  russla...  \n",
       "338726                                                                                    andersdenkende sind in  russland längst im gulag, geflohen oder tot. da kommt es zu keiner keilerei mehr in der duma.  \n",
       "259109                                                                                               fast die gesamte deutsche politikmischpoke hat versucht,  deutschland an  putin und  russland zu verkaufen  "
      ]
     },
     "metadata": {},
     "output_type": "display_data"
    }
   ],
   "source": [
    "df_cur[['text', 'cleaned_text']].head(3)"
   ]
  },
  {
   "cell_type": "code",
   "execution_count": null,
   "metadata": {},
   "outputs": [
    {
     "data": {
      "application/vnd.jupyter.widget-view+json": {
       "model_id": "e4561a9b858f41c2bb05bafe421dc7fd",
       "version_major": 2,
       "version_minor": 0
      },
      "text/plain": [
       "  0%|          | 0/1580284 [00:00<?, ?it/s]"
      ]
     },
     "metadata": {},
     "output_type": "display_data"
    },
    {
     "data": {
      "application/vnd.jupyter.widget-view+json": {
       "model_id": "bbe7a0540472449193c98212c4362e18",
       "version_major": 2,
       "version_minor": 0
      },
      "text/plain": [
       "  0%|          | 0/15803 [00:00<?, ?it/s]"
      ]
     },
     "metadata": {},
     "output_type": "display_data"
    }
   ],
   "source": [
    "import spacy\n",
    "from spacymoji import Emoji\n",
    "from src.text_preparation_07 import clean, add_lemmas_to_df\n",
    "import pandas as pd\n",
    "\n",
    "\n",
    "df = pd.read_csv(\"/Users/robinfeldmann/TopicAnalysisRUWTweets/Data/Language_min_dedupl/de.csv\")\n",
    "df['cleaned_text'] = df['text'].progress_apply(clean)\n",
    "nlp = spacy.load('de_core_news_sm')\n",
    "nlp.add_pipe(\"emoji\", first=True)\n",
    "\n",
    "df = add_lemmas_to_df(df, nlp)\n",
    "\n",
    "df[['tweetid','tweetcreatedts','lemmas','adjs_verbs','nouns', 'entities', 'emojis']].to_csv(\"/Users/robinfeldmann/TopicAnalysisRUWTweets/Data/Lemmas/de.csv\")\n"
   ]
  },
  {
   "cell_type": "code",
   "execution_count": null,
   "metadata": {},
   "outputs": [
    {
     "data": {
      "application/vnd.jupyter.widget-view+json": {
       "model_id": "c63dc92aea954432a92ae6b862baa3d0",
       "version_major": 2,
       "version_minor": 0
      },
      "text/plain": [
       "  0%|          | 0/12116412 [00:00<?, ?it/s]"
      ]
     },
     "metadata": {},
     "output_type": "display_data"
    },
    {
     "data": {
      "application/vnd.jupyter.widget-view+json": {
       "model_id": "db380fa78e31486eac36ad136c818055",
       "version_major": 2,
       "version_minor": 0
      },
      "text/plain": [
       "  0%|          | 0/121165 [00:00<?, ?it/s]"
      ]
     },
     "metadata": {},
     "output_type": "display_data"
    }
   ],
   "source": [
    "import spacy\n",
    "from spacymoji import Emoji\n",
    "from src.text_preparation_07 import clean, add_lemmas_to_df\n",
    "import pandas as pd\n",
    "\n",
    "\n",
    "df = pd.read_csv(\"/Users/robinfeldmann/TopicAnalysisRUWTweets/Data/Language_min_dedupl/en.csv\")\n",
    "df['cleaned_text'] = df['text'].progress_apply(clean)\n",
    "nlp = spacy.load('en_core_web_sm')\n",
    "nlp.add_pipe(\"emoji\", first=True)\n",
    "\n",
    "df = add_lemmas_to_df(df, nlp)\n",
    "\n",
    "df[['tweetid','tweetcreatedts','lemmas','adjs_verbs','nouns', 'entities', 'emojis']].to_csv(\"/Users/robinfeldmann/TopicAnalysisRUWTweets/Data/Lemmas/en.csv\")"
   ]
  },
  {
   "cell_type": "code",
   "execution_count": null,
   "metadata": {},
   "outputs": [
    {
     "data": {
      "text/plain": [
       "Index(['Unnamed: 0', 'text', 'tweetcreatedts', 'tweetid', 'dupl',\n",
       "       'cleaned_text', 'lemmas', 'adjs_verbs', 'nouns', 'entities', 'emojis'],\n",
       "      dtype='object')"
      ]
     },
     "metadata": {},
     "output_type": "display_data"
    }
   ],
   "source": []
  },
  {
   "cell_type": "code",
   "execution_count": null,
   "metadata": {},
   "outputs": [],
   "source": [
    "df_cur = df.sample(100)"
   ]
  },
  {
   "cell_type": "code",
   "execution_count": null,
   "metadata": {},
   "outputs": [
    {
     "data": {
      "text/html": [
       "<div>\n",
       "<style scoped>\n",
       "    .dataframe tbody tr th:only-of-type {\n",
       "        vertical-align: middle;\n",
       "    }\n",
       "\n",
       "    .dataframe tbody tr th {\n",
       "        vertical-align: top;\n",
       "    }\n",
       "\n",
       "    .dataframe thead th {\n",
       "        text-align: right;\n",
       "    }\n",
       "</style>\n",
       "<table border=\"1\" class=\"dataframe tex2jax_ignore\">\n",
       "  <thead>\n",
       "    <tr style=\"text-align: right;\">\n",
       "      <th></th>\n",
       "      <th>text</th>\n",
       "      <th>cleaned_text</th>\n",
       "      <th>adjs_verbs</th>\n",
       "    </tr>\n",
       "  </thead>\n",
       "  <tbody>\n",
       "    <tr>\n",
       "      <th>3874063</th>\n",
       "      <td>@Gerashchenko_en @nytimes Yeah really - #Russian sheeple. Hey, maybe someone could make a fake #Putin video where he orders everyone in Russia to commit suicide. Maybe they'd do it.</td>\n",
       "      <td>yeah really  russian sheeple. hey, maybe someone could make a fake  putin video where he orders everyone in russia to commit suicide. maybe they'd do it.</td>\n",
       "      <td>[russian, make, fake, order, commit, do]</td>\n",
       "    </tr>\n",
       "    <tr>\n",
       "      <th>597154</th>\n",
       "      <td>Some words About the #Russian &amp;amp; the #American #European People.\\n\\n#BayraktarTB2s #UkraineWar #Ukraine #Russia #Lavrov #Putin https://t.co/fSirVD8Tu0</td>\n",
       "      <td>some words about the  russian the  american  european people.  bayraktartb2s  ukrainewar  ukraine  russia  lavrov  putin</td>\n",
       "      <td>[american, european, bayraktartb2s]</td>\n",
       "    </tr>\n",
       "    <tr>\n",
       "      <th>10363461</th>\n",
       "      <td>Great piece by @elliotackerman on lessons from #Ukraine. I'm with @CMC_MarineCorps and @sethmoulton on this: time to abandon the big platforms.\\n https://t.co/huMSEhZuGW</td>\n",
       "      <td>great piece by  on lessons from  ukraine. i'm with  and  on this: time to abandon the big platforms.</td>\n",
       "      <td>[great, abandon, big]</td>\n",
       "    </tr>\n",
       "    <tr>\n",
       "      <th>8608462</th>\n",
       "      <td>#Russians in all their beauty. That's why all European countries should think about their own security when you let Russians in.\\n\\n #visabanforrussians #russiaisateroriststate https://t.co/3nqKfF...</td>\n",
       "      <td>russians in all their beauty. that's why all european countries should think about their own security when you let russians in.  visabanforrussians  russiaisateroriststate</td>\n",
       "      <td>[european, think, own, let]</td>\n",
       "    </tr>\n",
       "    <tr>\n",
       "      <th>667603</th>\n",
       "      <td>@SenWarren \\nUkraine needs weapons and humanitarian aid to defend itself against Putin. Stop the death of innocent civilians. @POTUS, provide #SafeAirliftUkraine #StopPutin</td>\n",
       "      <td>ukraine needs weapons and humanitarian aid to defend itself against putin. stop the death of innocent civilians.  provide  safeairliftukraine  stopputin</td>\n",
       "      <td>[need, humanitarian, defend, stop, innocent, provide]</td>\n",
       "    </tr>\n",
       "    <tr>\n",
       "      <th>3270343</th>\n",
       "      <td>Gunmen Kill About 30 Military Personnel In Niger State https://t.co/HQJuaRHjEf\\n\\n#NEWS #NewsUpdate #crime #Nigeria https://t.co/HxDChAJGU1</td>\n",
       "      <td>gunmen kill about 30 military personnel in niger state    news  newsupdate  crime  nigeria</td>\n",
       "      <td>[kill, military]</td>\n",
       "    </tr>\n",
       "    <tr>\n",
       "      <th>8684298</th>\n",
       "      <td>burned alive people #RussiaIsATerroristState\\n\\nit's still not enough for you people to #ArmUkraineNow, to #SingItForUkraine, to stop paying attention to \"not all r-ssians\"?! HOW LONG should it co...</td>\n",
       "      <td>burned alive people  russiaisaterroriststate it's still not enough for you people to  armukrainenow, to  singitforukraine, to stop paying attention to \"not all r-ssians\"?! how long should it conti...</td>\n",
       "      <td>[burn, alive, russiaisaterroriststate, enough, stop, pay, continue]</td>\n",
       "    </tr>\n",
       "    <tr>\n",
       "      <th>1674111</th>\n",
       "      <td>#Putin has twitter account.\\n#Ukraine</td>\n",
       "      <td>putin has twitter account.  ukraine</td>\n",
       "      <td>[have, ukraine]</td>\n",
       "    </tr>\n",
       "    <tr>\n",
       "      <th>5266853</th>\n",
       "      <td>Totally deranged person. It's an attack of evil against #Ukraine. In human history it was possibly very rarely as clear as in this case who is evil and who is good. Religious nutjobs are all over ...</td>\n",
       "      <td>totally deranged person. it's an attack of evil against  ukraine. in human history it was possibly very rarely as clear as in this case who is evil and who is good. religious nutjobs are all over ...</td>\n",
       "      <td>[derange, human, clear, evil, good, religious]</td>\n",
       "    </tr>\n",
       "    <tr>\n",
       "      <th>66539</th>\n",
       "      <td>@AlexKokcharov #PutinsWar comes to #Moscow🙄</td>\n",
       "      <td>putinswar comes to  moscow🙄</td>\n",
       "      <td>[come]</td>\n",
       "    </tr>\n",
       "    <tr>\n",
       "      <th>8782119</th>\n",
       "      <td>Nothing demonstrates Putin's impotence like @marwanbishara calling the invasion of #Ukraine a \"Russian scare\" for Al Jazeera.\\n\\nhttps://t.co/YFQzw7OhKa</td>\n",
       "      <td>nothing demonstrates putin's impotence like  calling the invasion of  ukraine a \"russian scare\" for al jazeera.</td>\n",
       "      <td>[demonstrate, call, russian]</td>\n",
       "    </tr>\n",
       "    <tr>\n",
       "      <th>10773320</th>\n",
       "      <td>After the call up of some 300,000 troops, Russia has more than enough to achieve whatever they want to. #Russia #Ukraine #Putin https://t.co/K8wBSDWMfS</td>\n",
       "      <td>after the call up of some 300,000 troops, russia has more than enough to achieve whatever they want to.  russia  ukraine  putin</td>\n",
       "      <td>[have, more, enough, achieve, want]</td>\n",
       "    </tr>\n",
       "    <tr>\n",
       "      <th>8576335</th>\n",
       "      <td>#India will increase its exports of consumer goods #Wheat #Sugar  to #Russia  I hope v don’t hv shortage which may lead to inflation !Aam Aadmi is already on brink. Policies r not at all taking #C...</td>\n",
       "      <td>india will increase its exports of consumer goods  wheat  sugar to  russia i hope v don't hv shortage which may lead to inflation !aam aadmi is already on brink. policies r not at all taking  citi...</td>\n",
       "      <td>[increase, hope, hv, lead, take, central, hope, foreign, wise]</td>\n",
       "    </tr>\n",
       "    <tr>\n",
       "      <th>11198084</th>\n",
       "      <td>never forget that: most of the billionaires and CEOs were once like you. \\n\\n#startups \\n#business #investment #CEOs  #financialplanning #entrepreneurs #financialliteracy #investing #stocks</td>\n",
       "      <td>never forget that: most of the billionaires and ceos were once like you.  startups  business  investment  ceos  financialplanning  entrepreneurs  financialliteracy  investing  stocks</td>\n",
       "      <td>[forget, most, ceo, financialplanne, invest]</td>\n",
       "    </tr>\n",
       "    <tr>\n",
       "      <th>3639539</th>\n",
       "      <td>@kylenabecker Sucker, #Brandon. You’re screwing the American People you’re supposed to work for, Joe. #Zelensky must have major dirt on you &amp;amp; Hunter. 🇺🇸 is not paying to keep that under-wraps ...</td>\n",
       "      <td>sucker,  brandon. you're screwing the american people you're supposed to work for, joe.  zelensky must have major dirt on you hunter. 🇺🇸 is not paying to keep that under-wraps for your family😤!!</td>\n",
       "      <td>[screw, american, suppose, work, have, major, pay, keep]</td>\n",
       "    </tr>\n",
       "    <tr>\n",
       "      <th>10110516</th>\n",
       "      <td>The #UkrainianArmy is modifying old M113APCs with turrets &amp;amp; guns from non serviceable BMPs . Pretty interesting IFV that makes . https://t.co/jjQiBfRk23</td>\n",
       "      <td>the  ukrainianarmy is modifying old m113apcs with turrets guns from non serviceable bmps . pretty interesting ifv that makes .</td>\n",
       "      <td>[modify, old, non, serviceable, interesting, make]</td>\n",
       "    </tr>\n",
       "    <tr>\n",
       "      <th>4038574</th>\n",
       "      <td>History made! The Alpine Club of Canada has elected Isabelle Daigneault as the new president and Carine Salvy as the new executive director #rockclimbing #mountains #everest #news \\n\\nhttps://t.co...</td>\n",
       "      <td>history made! the alpine club of canada has elected isabelle daigneault as the new president and carine salvy as the new executive director  rockclimbing  mountains  everest  news</td>\n",
       "      <td>[make, elect, new, carine, new, executive, rockclimbe, ever]</td>\n",
       "    </tr>\n",
       "    <tr>\n",
       "      <th>7173076</th>\n",
       "      <td>It is a shameful act of #Ukraine’s president that he is fighting a war with #Russia. Ukraine president could have banned all the Russian apps like our brave PM Modi ji. 👏</td>\n",
       "      <td>it is a shameful act of  ukraine's president that he is fighting a war with  russia. ukraine president could have banned all the russian apps like our brave pm modi ji. 👏</td>\n",
       "      <td>[shameful, fight, ban, russian, brave, modi]</td>\n",
       "    </tr>\n",
       "    <tr>\n",
       "      <th>1734409</th>\n",
       "      <td>20yrs ago, Putin said Russia should not blame the West for their problems. After 20yrs of absolute power, Putin now blames the West for everything wrong with Russia. Who is fooling who?\\n\\n#Putin ...</td>\n",
       "      <td>20yrs ago, putin said russia should not blame the west for their problems. after 20yrs of absolute power, putin now blames the west for everything wrong with russia. who is fooling who?  putin  uk...</td>\n",
       "      <td>[say, blame, absolute, blame, wrong, fool]</td>\n",
       "    </tr>\n",
       "    <tr>\n",
       "      <th>5003683</th>\n",
       "      <td>With gaining policy shifts and the adoption of digital assets across the world in 2022, crypto and other digital assets are showing positive signs in existing regulatory and legislative frameworks...</td>\n",
       "      <td>with gaining policy shifts and the adoption of digital assets across the world in 2022, crypto and other digital assets are showing positive signs in existing regulatory and legislative frameworks...</td>\n",
       "      <td>[gain, digital, other, digital, show, positive, exist, regulatory, legislative, crypto, bitcoin]</td>\n",
       "    </tr>\n",
       "    <tr>\n",
       "      <th>4830228</th>\n",
       "      <td>A tie worth winning. Germany live to fight another day! 🇩🇪\\n\\nA thrilling ending, Last 15 mins was 🔥 #GERESP    🇪🇸 1-1 🇩🇪\\nIt's a point against Spain that keeps us in the running..\\n\\n #FIFAWorldC...</td>\n",
       "      <td>a tie worth winning. germany live to fight another day! 🇩🇪 a thrilling ending, last 15 mins was 🔥  geresp 🇪🇸 1-1 🇩🇪 it's a point against spain that keeps us in the running..  fifaworldcup  germany...</td>\n",
       "      <td>[worth, win, live, fight, last, geresp, keep, fifaworldcup]</td>\n",
       "    </tr>\n",
       "    <tr>\n",
       "      <th>11903342</th>\n",
       "      <td>🇺🇸【THE REAL COMMANDER IN CHIEF =TRUMP】🇺🇸\\n🇺🇸🇺🇸🇺🇸🇺🇸🇺🇸🇺🇸🇺🇸🇺🇸🇺🇸🇺🇸🇺🇸🇺🇸🇺🇸🇺🇸🇺🇸🗽🗽🗽🗽🗽🗽🗽🗽🗽🗽🗽🗽🗽🗽🦅🦅🦅🦅🦅🦅🦅🦅🦅🦅🦅🦅🦅\\n　#TRUMP2024 #TRUMP2024ToSaveAmerica \\n#TRUMP #USA https://t.co/iy8lWmM7ca</td>\n",
       "      <td>🇺🇸【the real commander in chief =trump】🇺🇸 🇺🇸🇺🇸🇺🇸🇺🇸🇺🇸🇺🇸🇺🇸🇺🇸🇺🇸🇺🇸🇺🇸🇺🇸🇺🇸🇺🇸🇺🇸🗽🗽🗽🗽🗽🗽🗽🗽🗽🗽🗽🗽🗽🗽🦅🦅🦅🦅🦅🦅🦅🦅🦅🦅🦅🦅🦅  trump2024  trump2024tosaveamerica  trump  usa</td>\n",
       "      <td>[real, chief, 】]</td>\n",
       "    </tr>\n",
       "    <tr>\n",
       "      <th>10969252</th>\n",
       "      <td>Surely an attempt at dinking one over  the keeper is the obvious choice there?..#LIVLEE</td>\n",
       "      <td>surely an attempt at dinking one over the keeper is the obvious choice there?.. livlee</td>\n",
       "      <td>[dinke, obvious]</td>\n",
       "    </tr>\n",
       "    <tr>\n",
       "      <th>10925128</th>\n",
       "      <td>Who said being a gamer would never give you an edge in a political debate? #Ukraine\\n\\n(Yes I'm going for the niche references today) https://t.co/EL0PHKAmnN</td>\n",
       "      <td>who said being a gamer would never give you an edge in a political debate?  ukraine (yes i'm going for the niche references today)</td>\n",
       "      <td>[say, give, political, go]</td>\n",
       "    </tr>\n",
       "    <tr>\n",
       "      <th>11581334</th>\n",
       "      <td>Russia is Going Crazy Over German Tanks for Ukraine\\n##UkraineRussianWar ##Ukrainewillwin ##war ##putin ##Ukraine ##ulraine_war\\n'https://t.co/YNJc1p2Dzu</td>\n",
       "      <td>russia is going crazy over german tanks for ukraine   ukrainerussianwar   ukrainewillwin   war   putin   ukraine   ulraine_war '</td>\n",
       "      <td>[go, crazy, german, ukrainewillwin]</td>\n",
       "    </tr>\n",
       "    <tr>\n",
       "      <th>5362231</th>\n",
       "      <td>It is bad but not the worst thing you can watch of the Israeli occupation forces in occupied Jerusalem. #DanSlide #mexicoargentina #تونس_استراليا #WorldcupQatar2022 #WorldCup2022 #UkraineWar #Ukra...</td>\n",
       "      <td>it is bad but not the worst thing you can watch of the israeli occupation forces in occupied jerusalem.  danslide  mexicoargentina  تونس_استراليا  worldcupqatar2022  worldcup2022  ukrainewar  ukra...</td>\n",
       "      <td>[bad, bad, watch, israeli, occupy, danslide, ukrainewar, ukrainerussiawar]</td>\n",
       "    </tr>\n",
       "    <tr>\n",
       "      <th>7138201</th>\n",
       "      <td>Destroyed Russian truck with ZU-23-2 in Kherson direction. #UkraineRussianWar #Ukraine @Rebel44CZ #Херсон #ЗСУ https://t.co/39xbbodcop</td>\n",
       "      <td>destroyed russian truck with zu-23-2 in kherson direction.  ukrainerussianwar  ukraine   херсон  зсу</td>\n",
       "      <td>[destroy, russian]</td>\n",
       "    </tr>\n",
       "    <tr>\n",
       "      <th>6818631</th>\n",
       "      <td>Another ‘Hitler’ of Africa @AbiyAhmedAli, has won the 2019 Noble Peace Prize. 500,000 people have been massacred and 120,000 women and girls were raped in #Tigray upon his order. The irony is that...</td>\n",
       "      <td>another 'hitler' of africa  has won the 2019 noble peace prize. 500,000 people have been massacred and 120,000 women and girls were raped in  tigray upon his order. the irony is that the ic is doi...</td>\n",
       "      <td>[win, noble, massacre, rape, do, stop, stoptigraigenocide]</td>\n",
       "    </tr>\n",
       "    <tr>\n",
       "      <th>2411890</th>\n",
       "      <td>@Nestle the sponsor of the genocide  in Ukraine #WARINUKRAINE #UkraineRussiaWar #StopRussia #Ukraine️ https://t.co/KSqbshO4zM</td>\n",
       "      <td>the sponsor of the genocide in ukraine  warinukraine  ukrainerussiawar  stoprussia  ukraine️</td>\n",
       "      <td>[]</td>\n",
       "    </tr>\n",
       "    <tr>\n",
       "      <th>3081066</th>\n",
       "      <td>Stalin Famine 2.0\\n\\n#SlavaUkraïni #RussianWarCrimes https://t.co/DRuQxMTIoe</td>\n",
       "      <td>stalin famine 2.0  slavaukraïni  russianwarcrimes</td>\n",
       "      <td>[famine]</td>\n",
       "    </tr>\n",
       "  </tbody>\n",
       "</table>\n",
       "</div>"
      ],
      "text/plain": [
       "                                                                                                                                                                                                             text  \\\n",
       "3874063                     @Gerashchenko_en @nytimes Yeah really - #Russian sheeple. Hey, maybe someone could make a fake #Putin video where he orders everyone in Russia to commit suicide. Maybe they'd do it.   \n",
       "597154                                                  Some words About the #Russian &amp; the #American #European People.\\n\\n#BayraktarTB2s #UkraineWar #Ukraine #Russia #Lavrov #Putin https://t.co/fSirVD8Tu0   \n",
       "10363461                                Great piece by @elliotackerman on lessons from #Ukraine. I'm with @CMC_MarineCorps and @sethmoulton on this: time to abandon the big platforms.\\n https://t.co/huMSEhZuGW   \n",
       "8608462   #Russians in all their beauty. That's why all European countries should think about their own security when you let Russians in.\\n\\n #visabanforrussians #russiaisateroriststate https://t.co/3nqKfF...   \n",
       "667603                               @SenWarren \\nUkraine needs weapons and humanitarian aid to defend itself against Putin. Stop the death of innocent civilians. @POTUS, provide #SafeAirliftUkraine #StopPutin   \n",
       "3270343                                                               Gunmen Kill About 30 Military Personnel In Niger State https://t.co/HQJuaRHjEf\\n\\n#NEWS #NewsUpdate #crime #Nigeria https://t.co/HxDChAJGU1   \n",
       "8684298   burned alive people #RussiaIsATerroristState\\n\\nit's still not enough for you people to #ArmUkraineNow, to #SingItForUkraine, to stop paying attention to \"not all r-ssians\"?! HOW LONG should it co...   \n",
       "1674111                                                                                                                                                                     #Putin has twitter account.\\n#Ukraine   \n",
       "5266853   Totally deranged person. It's an attack of evil against #Ukraine. In human history it was possibly very rarely as clear as in this case who is evil and who is good. Religious nutjobs are all over ...   \n",
       "66539                                                                                                                                                                 @AlexKokcharov #PutinsWar comes to #Moscow🙄   \n",
       "8782119                                                  Nothing demonstrates Putin's impotence like @marwanbishara calling the invasion of #Ukraine a \"Russian scare\" for Al Jazeera.\\n\\nhttps://t.co/YFQzw7OhKa   \n",
       "10773320                                                  After the call up of some 300,000 troops, Russia has more than enough to achieve whatever they want to. #Russia #Ukraine #Putin https://t.co/K8wBSDWMfS   \n",
       "8576335   #India will increase its exports of consumer goods #Wheat #Sugar  to #Russia  I hope v don’t hv shortage which may lead to inflation !Aam Aadmi is already on brink. Policies r not at all taking #C...   \n",
       "11198084            never forget that: most of the billionaires and CEOs were once like you. \\n\\n#startups \\n#business #investment #CEOs  #financialplanning #entrepreneurs #financialliteracy #investing #stocks   \n",
       "3639539   @kylenabecker Sucker, #Brandon. You’re screwing the American People you’re supposed to work for, Joe. #Zelensky must have major dirt on you &amp; Hunter. 🇺🇸 is not paying to keep that under-wraps ...   \n",
       "10110516                                             The #UkrainianArmy is modifying old M113APCs with turrets &amp; guns from non serviceable BMPs . Pretty interesting IFV that makes . https://t.co/jjQiBfRk23   \n",
       "4038574   History made! The Alpine Club of Canada has elected Isabelle Daigneault as the new president and Carine Salvy as the new executive director #rockclimbing #mountains #everest #news \\n\\nhttps://t.co...   \n",
       "7173076                                It is a shameful act of #Ukraine’s president that he is fighting a war with #Russia. Ukraine president could have banned all the Russian apps like our brave PM Modi ji. 👏   \n",
       "1734409   20yrs ago, Putin said Russia should not blame the West for their problems. After 20yrs of absolute power, Putin now blames the West for everything wrong with Russia. Who is fooling who?\\n\\n#Putin ...   \n",
       "5003683   With gaining policy shifts and the adoption of digital assets across the world in 2022, crypto and other digital assets are showing positive signs in existing regulatory and legislative frameworks...   \n",
       "4830228   A tie worth winning. Germany live to fight another day! 🇩🇪\\n\\nA thrilling ending, Last 15 mins was 🔥 #GERESP    🇪🇸 1-1 🇩🇪\\nIt's a point against Spain that keeps us in the running..\\n\\n #FIFAWorldC...   \n",
       "11903342                           🇺🇸【THE REAL COMMANDER IN CHIEF =TRUMP】🇺🇸\\n🇺🇸🇺🇸🇺🇸🇺🇸🇺🇸🇺🇸🇺🇸🇺🇸🇺🇸🇺🇸🇺🇸🇺🇸🇺🇸🇺🇸🇺🇸🗽🗽🗽🗽🗽🗽🗽🗽🗽🗽🗽🗽🗽🗽🦅🦅🦅🦅🦅🦅🦅🦅🦅🦅🦅🦅🦅\\n　#TRUMP2024 #TRUMP2024ToSaveAmerica \\n#TRUMP #USA https://t.co/iy8lWmM7ca   \n",
       "10969252                                                                                                                  Surely an attempt at dinking one over  the keeper is the obvious choice there?..#LIVLEE   \n",
       "10925128                                            Who said being a gamer would never give you an edge in a political debate? #Ukraine\\n\\n(Yes I'm going for the niche references today) https://t.co/EL0PHKAmnN   \n",
       "11581334                                                Russia is Going Crazy Over German Tanks for Ukraine\\n##UkraineRussianWar ##Ukrainewillwin ##war ##putin ##Ukraine ##ulraine_war\\n'https://t.co/YNJc1p2Dzu   \n",
       "5362231   It is bad but not the worst thing you can watch of the Israeli occupation forces in occupied Jerusalem. #DanSlide #mexicoargentina #تونس_استراليا #WorldcupQatar2022 #WorldCup2022 #UkraineWar #Ukra...   \n",
       "7138201                                                                    Destroyed Russian truck with ZU-23-2 in Kherson direction. #UkraineRussianWar #Ukraine @Rebel44CZ #Херсон #ЗСУ https://t.co/39xbbodcop   \n",
       "6818631   Another ‘Hitler’ of Africa @AbiyAhmedAli, has won the 2019 Noble Peace Prize. 500,000 people have been massacred and 120,000 women and girls were raped in #Tigray upon his order. The irony is that...   \n",
       "2411890                                                                             @Nestle the sponsor of the genocide  in Ukraine #WARINUKRAINE #UkraineRussiaWar #StopRussia #Ukraine️ https://t.co/KSqbshO4zM   \n",
       "3081066                                                                                                                              Stalin Famine 2.0\\n\\n#SlavaUkraïni #RussianWarCrimes https://t.co/DRuQxMTIoe   \n",
       "\n",
       "                                                                                                                                                                                                     cleaned_text  \\\n",
       "3874063                                                 yeah really  russian sheeple. hey, maybe someone could make a fake  putin video where he orders everyone in russia to commit suicide. maybe they'd do it.   \n",
       "597154                                                                                   some words about the  russian the  american  european people.  bayraktartb2s  ukrainewar  ukraine  russia  lavrov  putin   \n",
       "10363461                                                                                                     great piece by  on lessons from  ukraine. i'm with  and  on this: time to abandon the big platforms.   \n",
       "8608462                               russians in all their beauty. that's why all european countries should think about their own security when you let russians in.  visabanforrussians  russiaisateroriststate   \n",
       "667603                                                   ukraine needs weapons and humanitarian aid to defend itself against putin. stop the death of innocent civilians.  provide  safeairliftukraine  stopputin   \n",
       "3270343                                                                                                                gunmen kill about 30 military personnel in niger state    news  newsupdate  crime  nigeria   \n",
       "8684298   burned alive people  russiaisaterroriststate it's still not enough for you people to  armukrainenow, to  singitforukraine, to stop paying attention to \"not all r-ssians\"?! how long should it conti...   \n",
       "1674111                                                                                                                                                                       putin has twitter account.  ukraine   \n",
       "5266853   totally deranged person. it's an attack of evil against  ukraine. in human history it was possibly very rarely as clear as in this case who is evil and who is good. religious nutjobs are all over ...   \n",
       "66539                                                                                                                                                                                 putinswar comes to  moscow🙄   \n",
       "8782119                                                                                           nothing demonstrates putin's impotence like  calling the invasion of  ukraine a \"russian scare\" for al jazeera.   \n",
       "10773320                                                                          after the call up of some 300,000 troops, russia has more than enough to achieve whatever they want to.  russia  ukraine  putin   \n",
       "8576335   india will increase its exports of consumer goods  wheat  sugar to  russia i hope v don't hv shortage which may lead to inflation !aam aadmi is already on brink. policies r not at all taking  citi...   \n",
       "11198084                   never forget that: most of the billionaires and ceos were once like you.  startups  business  investment  ceos  financialplanning  entrepreneurs  financialliteracy  investing  stocks   \n",
       "3639539        sucker,  brandon. you're screwing the american people you're supposed to work for, joe.  zelensky must have major dirt on you hunter. 🇺🇸 is not paying to keep that under-wraps for your family😤!!   \n",
       "10110516                                                                           the  ukrainianarmy is modifying old m113apcs with turrets guns from non serviceable bmps . pretty interesting ifv that makes .   \n",
       "4038574                       history made! the alpine club of canada has elected isabelle daigneault as the new president and carine salvy as the new executive director  rockclimbing  mountains  everest  news   \n",
       "7173076                                it is a shameful act of  ukraine's president that he is fighting a war with  russia. ukraine president could have banned all the russian apps like our brave pm modi ji. 👏   \n",
       "1734409   20yrs ago, putin said russia should not blame the west for their problems. after 20yrs of absolute power, putin now blames the west for everything wrong with russia. who is fooling who?  putin  uk...   \n",
       "5003683   with gaining policy shifts and the adoption of digital assets across the world in 2022, crypto and other digital assets are showing positive signs in existing regulatory and legislative frameworks...   \n",
       "4830228   a tie worth winning. germany live to fight another day! 🇩🇪 a thrilling ending, last 15 mins was 🔥  geresp 🇪🇸 1-1 🇩🇪 it's a point against spain that keeps us in the running..  fifaworldcup  germany...   \n",
       "11903342                                                        🇺🇸【the real commander in chief =trump】🇺🇸 🇺🇸🇺🇸🇺🇸🇺🇸🇺🇸🇺🇸🇺🇸🇺🇸🇺🇸🇺🇸🇺🇸🇺🇸🇺🇸🇺🇸🇺🇸🗽🗽🗽🗽🗽🗽🗽🗽🗽🗽🗽🗽🗽🗽🦅🦅🦅🦅🦅🦅🦅🦅🦅🦅🦅🦅🦅  trump2024  trump2024tosaveamerica  trump  usa   \n",
       "10969252                                                                                                                   surely an attempt at dinking one over the keeper is the obvious choice there?.. livlee   \n",
       "10925128                                                                       who said being a gamer would never give you an edge in a political debate?  ukraine (yes i'm going for the niche references today)   \n",
       "11581334                                                                         russia is going crazy over german tanks for ukraine   ukrainerussianwar   ukrainewillwin   war   putin   ukraine   ulraine_war '   \n",
       "5362231   it is bad but not the worst thing you can watch of the israeli occupation forces in occupied jerusalem.  danslide  mexicoargentina  تونس_استراليا  worldcupqatar2022  worldcup2022  ukrainewar  ukra...   \n",
       "7138201                                                                                                      destroyed russian truck with zu-23-2 in kherson direction.  ukrainerussianwar  ukraine   херсон  зсу   \n",
       "6818631   another 'hitler' of africa  has won the 2019 noble peace prize. 500,000 people have been massacred and 120,000 women and girls were raped in  tigray upon his order. the irony is that the ic is doi...   \n",
       "2411890                                                                                                              the sponsor of the genocide in ukraine  warinukraine  ukrainerussiawar  stoprussia  ukraine️   \n",
       "3081066                                                                                                                                                         stalin famine 2.0  slavaukraïni  russianwarcrimes   \n",
       "\n",
       "                                                                                                adjs_verbs  \n",
       "3874063                                                           [russian, make, fake, order, commit, do]  \n",
       "597154                                                                 [american, european, bayraktartb2s]  \n",
       "10363461                                                                             [great, abandon, big]  \n",
       "8608462                                                                        [european, think, own, let]  \n",
       "667603                                               [need, humanitarian, defend, stop, innocent, provide]  \n",
       "3270343                                                                                   [kill, military]  \n",
       "8684298                                [burn, alive, russiaisaterroriststate, enough, stop, pay, continue]  \n",
       "1674111                                                                                    [have, ukraine]  \n",
       "5266853                                                     [derange, human, clear, evil, good, religious]  \n",
       "66539                                                                                               [come]  \n",
       "8782119                                                                       [demonstrate, call, russian]  \n",
       "10773320                                                               [have, more, enough, achieve, want]  \n",
       "8576335                                     [increase, hope, hv, lead, take, central, hope, foreign, wise]  \n",
       "11198084                                                      [forget, most, ceo, financialplanne, invest]  \n",
       "3639539                                           [screw, american, suppose, work, have, major, pay, keep]  \n",
       "10110516                                                [modify, old, non, serviceable, interesting, make]  \n",
       "4038574                                       [make, elect, new, carine, new, executive, rockclimbe, ever]  \n",
       "7173076                                                       [shameful, fight, ban, russian, brave, modi]  \n",
       "1734409                                                         [say, blame, absolute, blame, wrong, fool]  \n",
       "5003683   [gain, digital, other, digital, show, positive, exist, regulatory, legislative, crypto, bitcoin]  \n",
       "4830228                                        [worth, win, live, fight, last, geresp, keep, fifaworldcup]  \n",
       "11903342                                                                                  [real, chief, 】]  \n",
       "10969252                                                                                  [dinke, obvious]  \n",
       "10925128                                                                        [say, give, political, go]  \n",
       "11581334                                                               [go, crazy, german, ukrainewillwin]  \n",
       "5362231                         [bad, bad, watch, israeli, occupy, danslide, ukrainewar, ukrainerussiawar]  \n",
       "7138201                                                                                 [destroy, russian]  \n",
       "6818631                                         [win, noble, massacre, rape, do, stop, stoptigraigenocide]  \n",
       "2411890                                                                                                 []  \n",
       "3081066                                                                                           [famine]  "
      ]
     },
     "metadata": {},
     "output_type": "display_data"
    }
   ],
   "source": [
    "df_cur.sample(30)[['text','cleaned_text','adjs_verbs']]"
   ]
  },
  {
   "cell_type": "markdown",
   "metadata": {},
   "source": [
    "# 8 Explorativ Analysis"
   ]
  },
  {
   "cell_type": "code",
   "execution_count": null,
   "metadata": {},
   "outputs": [],
   "source": [
    "df_sample = df"
   ]
  },
  {
   "cell_type": "code",
   "execution_count": null,
   "metadata": {},
   "outputs": [],
   "source": [
    "from collections import Counter\n",
    "\n",
    "counter_nouns = Counter()\n",
    "counter_verbs = Counter()\n",
    "counter_lemmas = Counter()\n",
    "counter_emojis = Counter()\n",
    "for ind, row in df_sample.iterrows():\n",
    "    counter_nouns.update(row['nouns'])\n",
    "    counter_verbs.update(row['adjs_verbs'])\n",
    "    counter_lemmas.update(row['lemmas'])\n",
    "    counter_emojis.update(row['emojis'])\n"
   ]
  },
  {
   "cell_type": "code",
   "execution_count": null,
   "metadata": {},
   "outputs": [
    {
     "data": {
      "text/plain": [
       "9331"
      ]
     },
     "metadata": {},
     "output_type": "display_data"
    }
   ],
   "source": [
    "sum(counter_nouns.values())"
   ]
  },
  {
   "cell_type": "code",
   "execution_count": null,
   "metadata": {},
   "outputs": [
    {
     "data": {
      "text/plain": [
       "[('russia', 303),\n",
       " ('ukraine', 298),\n",
       " ('war', 140),\n",
       " ('putin', 130),\n",
       " ('news', 69),\n",
       " ('people', 66),\n",
       " ('usa', 65),\n",
       " ('nato', 60),\n",
       " ('biden', 47),\n",
       " ('country', 44)]"
      ]
     },
     "metadata": {},
     "output_type": "display_data"
    }
   ],
   "source": [
    "counter_nouns.most_common(10)"
   ]
  },
  {
   "cell_type": "code",
   "execution_count": null,
   "metadata": {},
   "outputs": [
    {
     "data": {
      "text/plain": [
       "[('ukraine', 161),\n",
       " ('russian', 139),\n",
       " ('ukrainian', 84),\n",
       " ('have', 80),\n",
       " ('say', 65),\n",
       " ('go', 50),\n",
       " ('more', 44),\n",
       " ('ukrainewar', 44),\n",
       " ('do', 43),\n",
       " ('new', 42)]"
      ]
     },
     "metadata": {},
     "output_type": "display_data"
    }
   ],
   "source": [
    "counter_verbs.most_common(10)"
   ]
  }
 ],
 "metadata": {
  "language_info": {
   "name": "python"
  }
 },
 "nbformat": 4,
 "nbformat_minor": 2
}
