{
 "cells": [
  {
   "cell_type": "code",
   "execution_count": 8,
   "metadata": {},
   "outputs": [],
   "source": [
    "import pandas as pd\n",
    "from src.utility import load_samples_with_numpy\n",
    "\n",
    "\n",
    "df = load_samples_with_numpy(\n",
    "    \"/Users/robinfeldmann/TopicAnalysisRUWTweets/Data/MinDimEmbeddings\",\n",
    "    loading_func=lambda x: pd.read_csv(x),\n",
    ")[[\"tweetid\", \"min_dim\"]]"
   ]
  },
  {
   "cell_type": "code",
   "execution_count": 9,
   "metadata": {},
   "outputs": [],
   "source": [
    "df_topics = pd.read_csv(\n",
    "    \"/Users/robinfeldmann/TopicAnalysisRUWTweets/Topics_10/topics_10.csv\"\n",
    ")[[\"tweetid\", \"topics_0\"]]"
   ]
  },
  {
   "cell_type": "code",
   "execution_count": 12,
   "metadata": {},
   "outputs": [],
   "source": [
    "df = df.set_index(\"tweetid\").join(df_topics.set_index(\"tweetid\"), on=\"tweetid\")"
   ]
  },
  {
   "cell_type": "code",
   "execution_count": 17,
   "metadata": {},
   "outputs": [],
   "source": [
    "import numpy as np"
   ]
  },
  {
   "cell_type": "code",
   "execution_count": 52,
   "metadata": {},
   "outputs": [
    {
     "name": "stdout",
     "output_type": "stream",
     "text": [
      "5 0.38796849765693336\n",
      "7 0.296152722254847\n",
      "3 0.2613306821982537\n",
      "2 0.36486655927490846\n",
      "6 0.6790662629172936\n",
      "8 0.5275742588995097\n",
      "4 0.6516082896511199\n",
      "1 0.8046796298247453\n",
      "9 0.5171683295411\n",
      "0 0.5366748028921308\n"
     ]
    }
   ],
   "source": [
    "for topic in df[\"topics_0\"].unique():\n",
    "\n",
    "    var = (\n",
    "        np.concatenate(df.query(f\"topics_0=={topic}\")[\"min_dim\"].values)\n",
    "        .reshape((-1, 5))\n",
    "        .var()\n",
    "    )\n",
    "\n",
    "    print(topic, var)"
   ]
  }
 ],
 "metadata": {
  "kernelspec": {
   "display_name": "Python 3",
   "language": "python",
   "name": "python3"
  },
  "language_info": {
   "codemirror_mode": {
    "name": "ipython",
    "version": 3
   },
   "file_extension": ".py",
   "mimetype": "text/x-python",
   "name": "python",
   "nbconvert_exporter": "python",
   "pygments_lexer": "ipython3",
   "version": "3.11.7"
  }
 },
 "nbformat": 4,
 "nbformat_minor": 2
}
