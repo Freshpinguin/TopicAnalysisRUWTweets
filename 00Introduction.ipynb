{
 "cells": [
  {
   "cell_type": "markdown",
   "metadata": {},
   "source": [
    "# Overwiev and Exploration of Dataset\n",
    "Robin Feldmann\n",
    "\n",
    "\n",
    "<hr/>"
   ]
  },
  {
   "cell_type": "markdown",
   "metadata": {},
   "source": [
    "## 00 Introduction "
   ]
  },
  {
   "cell_type": "markdown",
   "metadata": {},
   "source": [
    "This Notebook shows the steps done to prepare and explore the dataset. This aims to make everything reproducible.\n",
    "To see implementation details, see ./src folder. \n",
    "Code that is commented out, should not be run, either because it is very computional heavy or because it has sideeffects that should not be repeated.\n",
    "\n",
    "\n"
   ]
  }
 ],
 "metadata": {
  "language_info": {
   "name": "python"
  }
 },
 "nbformat": 4,
 "nbformat_minor": 2
}
