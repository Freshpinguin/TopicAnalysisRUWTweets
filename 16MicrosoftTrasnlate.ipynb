{
 "cells": [
  {
   "cell_type": "code",
   "execution_count": 12,
   "metadata": {},
   "outputs": [
    {
     "name": "stdout",
     "output_type": "stream",
     "text": [
      "{\n",
      "    \"error\": {\n",
      "        \"code\": \"404\",\n",
      "        \"message\": \"Resource not found\"\n",
      "    }\n",
      "}\n"
     ]
    }
   ],
   "source": [
    "import requests, uuid, json\n",
    "\n",
    "# Add your key and endpoint\n",
    "key = \"f1ed84a8165f480db3980428542f7580\"\n",
    "endpoint = \"https://translate-demo-1234.cognitiveservices.azure.com/\"\n",
    "\n",
    "# location, also known as region.\n",
    "# required if you're using a multi-service or regional (not global) resource. It can be found in the Azure portal on the Keys and Endpoint page.\n",
    "location = \"westeurope\"\n",
    "\n",
    "path = \"/translate\"\n",
    "constructed_url = endpoint + path\n",
    "\n",
    "params = {\"api-version\": \"3.0\", \"from\": \"en\", \"to\": [\"fr\", \"zu\"]}\n",
    "\n",
    "headers = {\n",
    "    \"Ocp-Apim-Subscription-Key\": key,\n",
    "    # location required if you're using a multi-service or regional (not global) resource.\n",
    "    \"Ocp-Apim-Subscription-Region\": location,\n",
    "    \"Content-type\": \"application/json\",\n",
    "    \"X-ClientTraceId\": str(uuid.uuid4()),\n",
    "}\n",
    "\n",
    "# You can pass more than one object in body.\n",
    "body = [{\"text\": \"I would really like to drive your car around the block a few times!\"}]\n",
    "\n",
    "request = requests.post(constructed_url, params=params, headers=headers, json=body)\n",
    "# request = requests.get(endpoint+\"/languages\", params=params, headers=headers)\n",
    "\n",
    "response = request.json()\n",
    "\n",
    "print(\n",
    "    json.dumps(\n",
    "        response, sort_keys=True, ensure_ascii=False, indent=4, separators=(\",\", \": \")\n",
    "    )\n",
    ")"
   ]
  },
  {
   "cell_type": "code",
   "execution_count": 5,
   "metadata": {},
   "outputs": [
    {
     "name": "stdout",
     "output_type": "stream",
     "text": [
      "{\n",
      "    \"error\": {\n",
      "        \"code\": 401001,\n",
      "        \"message\": \"The request is not authorized because credentials are missing or invalid.\"\n",
      "    }\n",
      "}\n"
     ]
    }
   ],
   "source": [
    "import requests, uuid, json\n",
    "\n",
    "# Add your key and endpoint\n",
    "key = \"<your-translator-key>\"\n",
    "endpoint = \"https://api.cognitive.microsofttranslator.com\"\n",
    "\n",
    "# location, also known as region.\n",
    "# required if you're using a multi-service or regional (not global) resource. It can be found in the Azure portal on the Keys and Endpoint page.\n",
    "location = \"<YOUR-RESOURCE-LOCATION>\"\n",
    "\n",
    "path = \"/translate\"\n",
    "constructed_url = endpoint + path\n",
    "\n",
    "params = {\n",
    "    \"api-version\": \"3.0\",\n",
    "    \"from\": \"en\",\n",
    "    \"to\": [\"fr\", \"zu\"],\n",
    "}\n",
    "\n",
    "headers = {\n",
    "    \"Ocp-Apim-Subscription-Key\": key,\n",
    "    # location required if you're using a multi-service or regional (not global) resource.\n",
    "    \"Ocp-Apim-Subscription-Region\": location,\n",
    "    \"Content-type\": \"application/json\",\n",
    "    \"X-ClientTraceId\": str(uuid.uuid4()),\n",
    "}\n",
    "\n",
    "# You can pass more than one object in body.\n",
    "body = [{\"text\": \"I would really like to drive your car around the block a few times!\"}]\n",
    "\n",
    "request = requests.post(constructed_url, params=params, headers=headers, json=body)\n",
    "\n",
    "response = request.json()\n",
    "\n",
    "print(\n",
    "    json.dumps(\n",
    "        response, sort_keys=True, ensure_ascii=False, indent=4, separators=(\",\", \": \")\n",
    "    )\n",
    ")"
   ]
  }
 ],
 "metadata": {
  "kernelspec": {
   "display_name": "Python 3",
   "language": "python",
   "name": "python3"
  },
  "language_info": {
   "codemirror_mode": {
    "name": "ipython",
    "version": 3
   },
   "file_extension": ".py",
   "mimetype": "text/x-python",
   "name": "python",
   "nbconvert_exporter": "python",
   "pygments_lexer": "ipython3",
   "version": "3.11.7"
  }
 },
 "nbformat": 4,
 "nbformat_minor": 2
}
